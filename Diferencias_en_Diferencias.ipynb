{
  "nbformat": 4,
  "nbformat_minor": 0,
  "metadata": {
    "colab": {
      "name": "Diferencias en Diferencias.ipynb",
      "provenance": [],
      "authorship_tag": "ABX9TyP+SXWrEut0IKpFMSWGAPuD",
      "include_colab_link": true
    },
    "kernelspec": {
      "name": "python3",
      "display_name": "Python 3"
    }
  },
  "cells": [
    {
      "cell_type": "markdown",
      "metadata": {
        "id": "view-in-github",
        "colab_type": "text"
      },
      "source": [
        "<a href=\"https://colab.research.google.com/github/rpasquini/econometria-iae/blob/main/Diferencias_en_Diferencias.ipynb\" target=\"_parent\"><img src=\"https://colab.research.google.com/assets/colab-badge.svg\" alt=\"Open In Colab\"/></a>"
      ]
    },
    {
      "cell_type": "code",
      "metadata": {
        "id": "TqV_-YRrQ__N",
        "outputId": "d0c7ca38-911f-47d2-9204-ed134540df16",
        "colab": {
          "base_uri": "https://localhost:8080/"
        }
      },
      "source": [
        "!pip install geopandas==0.8.1"
      ],
      "execution_count": 1,
      "outputs": [
        {
          "output_type": "stream",
          "name": "stdout",
          "text": [
            "Requirement already satisfied: geopandas==0.8.1 in /usr/local/lib/python3.10/dist-packages (0.8.1)\n",
            "Requirement already satisfied: pandas>=0.23.0 in /usr/local/lib/python3.10/dist-packages (from geopandas==0.8.1) (1.5.3)\n",
            "Requirement already satisfied: shapely in /usr/local/lib/python3.10/dist-packages (from geopandas==0.8.1) (2.0.2)\n",
            "Requirement already satisfied: fiona in /usr/local/lib/python3.10/dist-packages (from geopandas==0.8.1) (1.9.5)\n",
            "Requirement already satisfied: pyproj>=2.2.0 in /usr/local/lib/python3.10/dist-packages (from geopandas==0.8.1) (3.6.1)\n",
            "Requirement already satisfied: python-dateutil>=2.8.1 in /usr/local/lib/python3.10/dist-packages (from pandas>=0.23.0->geopandas==0.8.1) (2.8.2)\n",
            "Requirement already satisfied: pytz>=2020.1 in /usr/local/lib/python3.10/dist-packages (from pandas>=0.23.0->geopandas==0.8.1) (2023.3.post1)\n",
            "Requirement already satisfied: numpy>=1.21.0 in /usr/local/lib/python3.10/dist-packages (from pandas>=0.23.0->geopandas==0.8.1) (1.23.5)\n",
            "Requirement already satisfied: certifi in /usr/local/lib/python3.10/dist-packages (from pyproj>=2.2.0->geopandas==0.8.1) (2023.7.22)\n",
            "Requirement already satisfied: attrs>=19.2.0 in /usr/local/lib/python3.10/dist-packages (from fiona->geopandas==0.8.1) (23.1.0)\n",
            "Requirement already satisfied: click~=8.0 in /usr/local/lib/python3.10/dist-packages (from fiona->geopandas==0.8.1) (8.1.7)\n",
            "Requirement already satisfied: click-plugins>=1.0 in /usr/local/lib/python3.10/dist-packages (from fiona->geopandas==0.8.1) (1.1.1)\n",
            "Requirement already satisfied: cligj>=0.5 in /usr/local/lib/python3.10/dist-packages (from fiona->geopandas==0.8.1) (0.7.2)\n",
            "Requirement already satisfied: six in /usr/local/lib/python3.10/dist-packages (from fiona->geopandas==0.8.1) (1.16.0)\n",
            "Requirement already satisfied: setuptools in /usr/local/lib/python3.10/dist-packages (from fiona->geopandas==0.8.1) (67.7.2)\n"
          ]
        }
      ]
    },
    {
      "cell_type": "markdown",
      "metadata": {
        "id": "xmYfGqZpdQBb"
      },
      "source": [
        "# Investigando efectos del COVID en alquileres usando Diferencias en Diferencias\n"
      ]
    },
    {
      "cell_type": "code",
      "metadata": {
        "id": "pO2zmpgUQ4WH"
      },
      "source": [
        "import geopandas as gpd\n",
        "import numpy as np\n",
        "data=gpd.GeoDataFrame.from_file(\"https://github.com/rpasquini/urban-econometrics/blob/master/data/deptos_amba_0519_0520.zip?raw=true\")\n",
        "df=data.loc[data.l2=='Capital Federal'] # vamos a trabajar con la Capital Federal"
      ],
      "execution_count": 2,
      "outputs": []
    },
    {
      "cell_type": "code",
      "metadata": {
        "id": "CP4vO2XJWmNV",
        "outputId": "16a30f76-880f-4a52-be90-ff299cf21b1d",
        "colab": {
          "base_uri": "https://localhost:8080/"
        }
      },
      "source": [
        "df['airelibre']=np.where((df.patio=='1')| (df.terraza=='1'),1,0)"
      ],
      "execution_count": 3,
      "outputs": [
        {
          "output_type": "stream",
          "name": "stderr",
          "text": [
            "/usr/local/lib/python3.10/dist-packages/geopandas/geodataframe.py:853: SettingWithCopyWarning: \n",
            "A value is trying to be set on a copy of a slice from a DataFrame.\n",
            "Try using .loc[row_indexer,col_indexer] = value instead\n",
            "\n",
            "See the caveats in the documentation: https://pandas.pydata.org/pandas-docs/stable/user_guide/indexing.html#returning-a-view-versus-a-copy\n",
            "  super(GeoDataFrame, self).__setitem__(key, value)\n"
          ]
        }
      ]
    },
    {
      "cell_type": "markdown",
      "metadata": {
        "id": "LAutci77gvsl"
      },
      "source": [
        "¿Cuánto fue el alquiler promedio de un departamento tomando el año completo?\n"
      ]
    },
    {
      "cell_type": "code",
      "metadata": {
        "id": "BbygBdRhgqnQ",
        "outputId": "ea2fcec5-2345-43af-9cbd-4d9d43c55883",
        "colab": {
          "base_uri": "https://localhost:8080/"
        }
      },
      "source": [
        "df.price.mean()"
      ],
      "execution_count": 4,
      "outputs": [
        {
          "output_type": "execute_result",
          "data": {
            "text/plain": [
              "25351.83177693887"
            ]
          },
          "metadata": {},
          "execution_count": 4
        }
      ]
    },
    {
      "cell_type": "markdown",
      "metadata": {
        "id": "rpsnXP2_dcly"
      },
      "source": [
        "Exploramos la diferencia en diferencia \\\n",
        "\n",
        "$E[y|t=aire,Post]-E[y|t=aire,Pre]=\\lambda_{POST}+\\beta-\\lambda_{PRE}$\n",
        "$E[y|t=sinaire,Post]-E[y|t=sinaire,Pre]=\\lambda_{POST}-\\lambda_{PRE}$\n"
      ]
    },
    {
      "cell_type": "code",
      "metadata": {
        "id": "vh7zXzmxdAMT",
        "outputId": "b1e845dd-ba3c-4c51-cba9-3b8ac6ee1f6b",
        "colab": {
          "base_uri": "https://localhost:8080/"
        }
      },
      "source": [
        "dif_airelibre=df.loc[(df.postcovid==1)&(df.airelibre==1)].price.mean()-df.loc[(df.postcovid==0)&(df.airelibre==1)].price.mean()\n",
        "dif_airelibre"
      ],
      "execution_count": 5,
      "outputs": [
        {
          "output_type": "execute_result",
          "data": {
            "text/plain": [
              "11670.161339485458"
            ]
          },
          "metadata": {},
          "execution_count": 5
        }
      ]
    },
    {
      "cell_type": "code",
      "metadata": {
        "id": "aHWeVX31a7qh",
        "outputId": "06cd24f4-14f8-400d-ae5a-8e42d95ed5fc",
        "colab": {
          "base_uri": "https://localhost:8080/"
        }
      },
      "source": [
        "dif_sin_airelibre=df.loc[(df.postcovid==1)&(df.airelibre==0)].price.mean()-df.loc[(df.postcovid==0)&(df.airelibre==0)].price.mean()\n",
        "dif_sin_airelibre"
      ],
      "execution_count": 6,
      "outputs": [
        {
          "output_type": "execute_result",
          "data": {
            "text/plain": [
              "8571.756202733664"
            ]
          },
          "metadata": {},
          "execution_count": 6
        }
      ]
    },
    {
      "cell_type": "code",
      "metadata": {
        "id": "_m4oUE1QdKOs",
        "outputId": "a6441fb4-ab16-439b-aa4e-d4f2bed502ed",
        "colab": {
          "base_uri": "https://localhost:8080/"
        }
      },
      "source": [
        "dif_airelibre-dif_sin_airelibre"
      ],
      "execution_count": 7,
      "outputs": [
        {
          "output_type": "execute_result",
          "data": {
            "text/plain": [
              "3098.405136751793"
            ]
          },
          "metadata": {},
          "execution_count": 7
        }
      ]
    },
    {
      "cell_type": "markdown",
      "metadata": {
        "id": "CbqeUGhDfX-d"
      },
      "source": [
        "Misma cuenta en logs"
      ]
    },
    {
      "cell_type": "code",
      "metadata": {
        "id": "MEB01AYhfc3G",
        "outputId": "5ea5bbd7-b00d-4894-ded5-241b3d7038c3",
        "colab": {
          "base_uri": "https://localhost:8080/"
        }
      },
      "source": [
        "df['logprice']=np.log(df.price)\n",
        "df['logpricem2']=np.log(df.price/df.surface_to)"
      ],
      "execution_count": 8,
      "outputs": [
        {
          "output_type": "stream",
          "name": "stderr",
          "text": [
            "/usr/local/lib/python3.10/dist-packages/geopandas/geodataframe.py:853: SettingWithCopyWarning: \n",
            "A value is trying to be set on a copy of a slice from a DataFrame.\n",
            "Try using .loc[row_indexer,col_indexer] = value instead\n",
            "\n",
            "See the caveats in the documentation: https://pandas.pydata.org/pandas-docs/stable/user_guide/indexing.html#returning-a-view-versus-a-copy\n",
            "  super(GeoDataFrame, self).__setitem__(key, value)\n",
            "/usr/local/lib/python3.10/dist-packages/geopandas/geodataframe.py:853: SettingWithCopyWarning: \n",
            "A value is trying to be set on a copy of a slice from a DataFrame.\n",
            "Try using .loc[row_indexer,col_indexer] = value instead\n",
            "\n",
            "See the caveats in the documentation: https://pandas.pydata.org/pandas-docs/stable/user_guide/indexing.html#returning-a-view-versus-a-copy\n",
            "  super(GeoDataFrame, self).__setitem__(key, value)\n"
          ]
        }
      ]
    },
    {
      "cell_type": "code",
      "metadata": {
        "id": "EMIUtWRogKIm",
        "outputId": "10b828cd-ac00-44d0-e274-b973188e7bce",
        "colab": {
          "base_uri": "https://localhost:8080/"
        }
      },
      "source": [
        "dif_airelibre=df.loc[(df.postcovid==1)&(df.airelibre==1)].logprice.mean()-df.loc[(df.postcovid==0)&(df.airelibre==1)].logprice.mean()\n",
        "dif_sin_airelibre=df.loc[(df.postcovid==1)&(df.airelibre==0)].logprice.mean()-df.loc[(df.postcovid==0)&(df.airelibre==0)].logprice.mean()\n",
        "dif_airelibre-dif_sin_airelibre"
      ],
      "execution_count": 9,
      "outputs": [
        {
          "output_type": "execute_result",
          "data": {
            "text/plain": [
              "0.017190559076800227"
            ]
          },
          "metadata": {},
          "execution_count": 9
        }
      ]
    },
    {
      "cell_type": "markdown",
      "metadata": {
        "id": "Wfm3nFcfhKlc"
      },
      "source": [
        "# Utilizando Regresión\n"
      ]
    },
    {
      "cell_type": "code",
      "metadata": {
        "id": "T6fX9nnuhkvI",
        "outputId": "ea7131b8-871e-4222-ad2d-17c71752b97f",
        "colab": {
          "base_uri": "https://localhost:8080/"
        }
      },
      "source": [
        "df['DD']=df.postcovid*df.airelibre"
      ],
      "execution_count": 10,
      "outputs": [
        {
          "output_type": "stream",
          "name": "stderr",
          "text": [
            "/usr/local/lib/python3.10/dist-packages/geopandas/geodataframe.py:853: SettingWithCopyWarning: \n",
            "A value is trying to be set on a copy of a slice from a DataFrame.\n",
            "Try using .loc[row_indexer,col_indexer] = value instead\n",
            "\n",
            "See the caveats in the documentation: https://pandas.pydata.org/pandas-docs/stable/user_guide/indexing.html#returning-a-view-versus-a-copy\n",
            "  super(GeoDataFrame, self).__setitem__(key, value)\n"
          ]
        }
      ]
    },
    {
      "cell_type": "code",
      "metadata": {
        "id": "9bRM2eqOhN9p"
      },
      "source": [
        "import statsmodels.api as sm\n",
        "def regress(lista, data):\n",
        "    \"\"\"\n",
        "    Funcion que realiza la regresion OLS\n",
        "    La primera variable de la lista es la dependiente, el resto son las explicativas\n",
        "    data es la base de datos\n",
        "    \"\"\"\n",
        "    datos=data[lista]\n",
        "    # el metodo dropna() me permite eliminar las filas que tienen algun valor missing\n",
        "    datos=datos.dropna()\n",
        "    Y=datos[lista[0]]\n",
        "    X=datos[lista[1:]]\n",
        "    X=sm.add_constant(X)\n",
        "    modelo=sm.OLS(Y,X)\n",
        "    resultados=modelo.fit()\n",
        "    print(resultados.summary())"
      ],
      "execution_count": 11,
      "outputs": []
    },
    {
      "cell_type": "code",
      "metadata": {
        "id": "gw-iVvJNhZ8X",
        "outputId": "2c2e53d6-0449-4db5-b34f-1b027912d64b",
        "colab": {
          "base_uri": "https://localhost:8080/"
        }
      },
      "source": [
        "regress(['logprice','postcovid','airelibre','DD'],data=df)"
      ],
      "execution_count": 12,
      "outputs": [
        {
          "output_type": "stream",
          "name": "stdout",
          "text": [
            "                            OLS Regression Results                            \n",
            "==============================================================================\n",
            "Dep. Variable:               logprice   R-squared:                       0.038\n",
            "Model:                            OLS   Adj. R-squared:                  0.037\n",
            "Method:                 Least Squares   F-statistic:                     196.4\n",
            "Date:                Mon, 20 Nov 2023   Prob (F-statistic):          5.75e-125\n",
            "Time:                        15:48:52   Log-Likelihood:                -10897.\n",
            "No. Observations:               15099   AIC:                         2.180e+04\n",
            "Df Residuals:                   15095   BIC:                         2.183e+04\n",
            "Df Model:                           3                                         \n",
            "Covariance Type:            nonrobust                                         \n",
            "==============================================================================\n",
            "                 coef    std err          t      P>|t|      [0.025      0.975]\n",
            "------------------------------------------------------------------------------\n",
            "const          9.9326      0.005   2087.057      0.000       9.923       9.942\n",
            "postcovid      0.2837      0.017     16.257      0.000       0.249       0.318\n",
            "airelibre      0.1436      0.010     13.951      0.000       0.123       0.164\n",
            "DD             0.0172      0.035      0.486      0.627      -0.052       0.086\n",
            "==============================================================================\n",
            "Omnibus:                     2254.328   Durbin-Watson:                   1.527\n",
            "Prob(Omnibus):                  0.000   Jarque-Bera (JB):             3676.706\n",
            "Skew:                           1.018   Prob(JB):                         0.00\n",
            "Kurtosis:                       4.305   Cond. No.                         9.34\n",
            "==============================================================================\n",
            "\n",
            "Notes:\n",
            "[1] Standard Errors assume that the covariance matrix of the errors is correctly specified.\n"
          ]
        }
      ]
    },
    {
      "cell_type": "code",
      "metadata": {
        "id": "iq2uTg3ZiGHy",
        "outputId": "4e39d4b8-d6f5-4d38-bdca-9644183bc1d8",
        "colab": {
          "base_uri": "https://localhost:8080/"
        }
      },
      "source": [
        "regress(['price','postcovid','airelibre','DD'],data=df)"
      ],
      "execution_count": 13,
      "outputs": [
        {
          "output_type": "stream",
          "name": "stdout",
          "text": [
            "                            OLS Regression Results                            \n",
            "==============================================================================\n",
            "Dep. Variable:                  price   R-squared:                       0.029\n",
            "Model:                            OLS   Adj. R-squared:                  0.029\n",
            "Method:                 Least Squares   F-statistic:                     151.1\n",
            "Date:                Mon, 20 Nov 2023   Prob (F-statistic):           1.75e-96\n",
            "Time:                        15:48:52   Log-Likelihood:            -1.6955e+05\n",
            "No. Observations:               15099   AIC:                         3.391e+05\n",
            "Df Residuals:                   15095   BIC:                         3.391e+05\n",
            "Df Model:                           3                                         \n",
            "Covariance Type:            nonrobust                                         \n",
            "==============================================================================\n",
            "                 coef    std err          t      P>|t|      [0.025      0.975]\n",
            "------------------------------------------------------------------------------\n",
            "const       2.371e+04    174.158    136.150      0.000    2.34e+04    2.41e+04\n",
            "postcovid   8571.7562    638.577     13.423      0.000    7320.068    9823.444\n",
            "airelibre   4241.3780    376.554     11.264      0.000    3503.287    4979.469\n",
            "DD          3098.4051   1293.275      2.396      0.017     563.430    5633.380\n",
            "==============================================================================\n",
            "Omnibus:                    11414.989   Durbin-Watson:                   1.624\n",
            "Prob(Omnibus):                  0.000   Jarque-Bera (JB):           234514.338\n",
            "Skew:                           3.520   Prob(JB):                         0.00\n",
            "Kurtosis:                      20.978   Cond. No.                         9.34\n",
            "==============================================================================\n",
            "\n",
            "Notes:\n",
            "[1] Standard Errors assume that the covariance matrix of the errors is correctly specified.\n"
          ]
        }
      ]
    },
    {
      "cell_type": "code",
      "metadata": {
        "id": "U0gh-cKw_NIA",
        "outputId": "cfbded72-16ce-4008-b761-3131df94c8e7",
        "colab": {
          "base_uri": "https://localhost:8080/"
        }
      },
      "source": [
        "df.start_date"
      ],
      "execution_count": 14,
      "outputs": [
        {
          "output_type": "execute_result",
          "data": {
            "text/plain": [
              "0        2019-07-28\n",
              "1        2019-07-28\n",
              "2        2019-07-28\n",
              "3        2019-07-28\n",
              "4        2019-07-28\n",
              "            ...    \n",
              "23130    2019-07-31\n",
              "23131    2019-07-31\n",
              "23132    2019-07-31\n",
              "23133    2019-07-31\n",
              "23134    2019-07-31\n",
              "Name: start_date, Length: 15099, dtype: object"
            ]
          },
          "metadata": {},
          "execution_count": 14
        }
      ]
    },
    {
      "cell_type": "markdown",
      "metadata": {
        "id": "xSAVX3VfEXag"
      },
      "source": [
        "# Inspección gráfica del cumplimiento del supuesto de tendencias comunes\n",
        "\n",
        "Vamos a mirar los promedios mensuales y por trimetre. Para eso voy a extraer de la fecha el mes-anio y el trimestre-anio correspondiente.\n"
      ]
    },
    {
      "cell_type": "code",
      "metadata": {
        "id": "kys8h-9I-yir",
        "outputId": "ea072804-5915-45af-f1a3-ca5689fc8604",
        "colab": {
          "base_uri": "https://localhost:8080/"
        }
      },
      "source": [
        "import pandas as pd\n",
        "df['monthyear']=pd.to_datetime(df.start_date).dt.to_period('M')"
      ],
      "execution_count": 15,
      "outputs": [
        {
          "output_type": "stream",
          "name": "stderr",
          "text": [
            "/usr/local/lib/python3.10/dist-packages/geopandas/geodataframe.py:853: SettingWithCopyWarning: \n",
            "A value is trying to be set on a copy of a slice from a DataFrame.\n",
            "Try using .loc[row_indexer,col_indexer] = value instead\n",
            "\n",
            "See the caveats in the documentation: https://pandas.pydata.org/pandas-docs/stable/user_guide/indexing.html#returning-a-view-versus-a-copy\n",
            "  super(GeoDataFrame, self).__setitem__(key, value)\n"
          ]
        }
      ]
    },
    {
      "cell_type": "code",
      "metadata": {
        "id": "ceo4uqgWAWLV",
        "outputId": "84f8f97e-1a5f-4076-dbc2-1696af4929c4",
        "colab": {
          "base_uri": "https://localhost:8080/",
          "height": 483
        }
      },
      "source": [
        "df_months=df.groupby(by=['monthyear','airelibre']).logprice.mean().rename('media').reset_index()\n",
        "ax=df_months.loc[df_months.airelibre==0].plot(x='monthyear',y='media', label='Sin aire libre')\n",
        "df_months.loc[df_months.airelibre==1].plot(x='monthyear',y='media', ax=ax, label='Aire libre')"
      ],
      "execution_count": 16,
      "outputs": [
        {
          "output_type": "execute_result",
          "data": {
            "text/plain": [
              "<Axes: xlabel='monthyear'>"
            ]
          },
          "metadata": {},
          "execution_count": 16
        },
        {
          "output_type": "display_data",
          "data": {
            "text/plain": [
              "<Figure size 640x480 with 1 Axes>"
            ],
            "image/png": "[encoded data removed]"
          },
          "metadata": {}
        }
      ]
    },
    {
      "cell_type": "code",
      "metadata": {
        "id": "_giZTAc9DmA9",
        "outputId": "cc5a06aa-a3ee-446a-a43c-ccadb01e692a",
        "colab": {
          "base_uri": "https://localhost:8080/",
          "height": 588
        }
      },
      "source": [
        "df['quarteryear']=pd.to_datetime(df.start_date).dt.to_period('Q')\n",
        "df_quarters=df.groupby(by=['quarteryear','airelibre']).logprice.mean().rename('media').reset_index()\n",
        "ax=df_quarters.loc[df_quarters.airelibre==0].plot(x='quarteryear',y='media', label='Sin aire libre')\n",
        "df_quarters.loc[df_quarters.airelibre==1].plot(x='quarteryear',y='media', ax=ax, label='Aire libre')"
      ],
      "execution_count": 17,
      "outputs": [
        {
          "output_type": "stream",
          "name": "stderr",
          "text": [
            "/usr/local/lib/python3.10/dist-packages/geopandas/geodataframe.py:853: SettingWithCopyWarning: \n",
            "A value is trying to be set on a copy of a slice from a DataFrame.\n",
            "Try using .loc[row_indexer,col_indexer] = value instead\n",
            "\n",
            "See the caveats in the documentation: https://pandas.pydata.org/pandas-docs/stable/user_guide/indexing.html#returning-a-view-versus-a-copy\n",
            "  super(GeoDataFrame, self).__setitem__(key, value)\n"
          ]
        },
        {
          "output_type": "execute_result",
          "data": {
            "text/plain": [
              "<Axes: xlabel='quarteryear'>"
            ]
          },
          "metadata": {},
          "execution_count": 17
        },
        {
          "output_type": "display_data",
          "data": {
            "text/plain": [
              "<Figure size 640x480 with 1 Axes>"
            ],
            "image/png": "[encoded data removed]"
          },
          "metadata": {}
        }
      ]
    }
  ]
}