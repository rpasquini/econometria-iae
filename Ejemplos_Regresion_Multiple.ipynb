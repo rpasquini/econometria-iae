{
  "nbformat": 4,
  "nbformat_minor": 0,
  "metadata": {
    "colab": {
      "name": "Ejemplos Regresion Multiple.ipynb",
      "provenance": [],
      "toc_visible": true,
      "authorship_tag": "ABX9TyOM5IKs23I7FmGEEVomBOb9",
      "include_colab_link": true
    },
    "kernelspec": {
      "name": "python3",
      "display_name": "Python 3"
    }
  },
  "cells": [
    {
      "cell_type": "markdown",
      "metadata": {
        "id": "view-in-github",
        "colab_type": "text"
      },
      "source": [
        "<a href=\"https://colab.research.google.com/github/rpasquini/herramientas-econometricas/blob/main/Ejemplos_Regresion_Multiple.ipynb\" target=\"_parent\"><img src=\"https://colab.research.google.com/assets/colab-badge.svg\" alt=\"Open In Colab\"/></a>"
      ]
    },
    {
      "cell_type": "code",
      "metadata": {
        "id": "_zCex4wbRiaY",
        "outputId": "f5bb06a2-9ed1-4162-fa28-b8781cda6e76",
        "colab": {
          "base_uri": "https://localhost:8080/",
          "height": 72
        }
      },
      "source": [
        "import pandas as pd\n",
        "import statsmodels.api as sm\n",
        "import matplotlib.pyplot as plt\n",
        "import numpy as np"
      ],
      "execution_count": 2,
      "outputs": [
        {
          "output_type": "stream",
          "text": [
            "/usr/local/lib/python3.6/dist-packages/statsmodels/tools/_testing.py:19: FutureWarning: pandas.util.testing is deprecated. Use the functions in the public API at pandas.testing instead.\n",
            "  import pandas.util.testing as tm\n"
          ],
          "name": "stderr"
        }
      ]
    },
    {
      "cell_type": "code",
      "metadata": {
        "id": "uP68Bf9se7bx"
      },
      "source": [
        "df=pd.read_csv('https://github.com/rpasquini/herramientas-econometricas/blob/main/datos/eah2016_individual.csv?raw=true')"
      ],
      "execution_count": 45,
      "outputs": []
    },
    {
      "cell_type": "code",
      "metadata": {
        "id": "TOWsM0BcZUD7"
      },
      "source": [
        "df=df.loc[df.aesc<20]"
      ],
      "execution_count": 47,
      "outputs": []
    },
    {
      "cell_type": "code",
      "metadata": {
        "id": "ajk2BYR8Vlrm",
        "outputId": "5d5499f5-d139-4ecf-f557-45748f09e803",
        "colab": {
          "base_uri": "https://localhost:8080/",
          "height": 412
        }
      },
      "source": [
        "df.groupby('m1')['logingreso','aesc'].count()"
      ],
      "execution_count": 59,
      "outputs": [
        {
          "output_type": "stream",
          "text": [
            "/usr/local/lib/python3.6/dist-packages/ipykernel_launcher.py:1: FutureWarning: Indexing with multiple keys (implicitly converted to a tuple of keys) will be deprecated, use a list instead.\n",
            "  \"\"\"Entry point for launching an IPython kernel.\n"
          ],
          "name": "stderr"
        },
        {
          "output_type": "execute_result",
          "data": {
            "text/html": [
              "<div>\n",
              "<style scoped>\n",
              "    .dataframe tbody tr th:only-of-type {\n",
              "        vertical-align: middle;\n",
              "    }\n",
              "\n",
              "    .dataframe tbody tr th {\n",
              "        vertical-align: top;\n",
              "    }\n",
              "\n",
              "    .dataframe thead th {\n",
              "        text-align: right;\n",
              "    }\n",
              "</style>\n",
              "<table border=\"1\" class=\"dataframe\">\n",
              "  <thead>\n",
              "    <tr style=\"text-align: right;\">\n",
              "      <th></th>\n",
              "      <th>logingreso</th>\n",
              "      <th>aesc</th>\n",
              "    </tr>\n",
              "    <tr>\n",
              "      <th>m1</th>\n",
              "      <th></th>\n",
              "      <th></th>\n",
              "    </tr>\n",
              "  </thead>\n",
              "  <tbody>\n",
              "    <tr>\n",
              "      <th>0</th>\n",
              "      <td>2</td>\n",
              "      <td>2</td>\n",
              "    </tr>\n",
              "    <tr>\n",
              "      <th>5 País limítrofe</th>\n",
              "      <td>979</td>\n",
              "      <td>1225</td>\n",
              "    </tr>\n",
              "    <tr>\n",
              "      <th>99</th>\n",
              "      <td>2</td>\n",
              "      <td>2</td>\n",
              "    </tr>\n",
              "    <tr>\n",
              "      <th>Ciudad de Bs. As.</th>\n",
              "      <td>5191</td>\n",
              "      <td>8693</td>\n",
              "    </tr>\n",
              "    <tr>\n",
              "      <th>En otra provincia</th>\n",
              "      <td>1688</td>\n",
              "      <td>1899</td>\n",
              "    </tr>\n",
              "    <tr>\n",
              "      <th>Partido del GBA</th>\n",
              "      <td>874</td>\n",
              "      <td>1048</td>\n",
              "    </tr>\n",
              "    <tr>\n",
              "      <th>País no limítrofe</th>\n",
              "      <td>775</td>\n",
              "      <td>963</td>\n",
              "    </tr>\n",
              "    <tr>\n",
              "      <th>Prov. de Bs. As.</th>\n",
              "      <td>566</td>\n",
              "      <td>612</td>\n",
              "    </tr>\n",
              "    <tr>\n",
              "      <th>Prov. de Bs. As. s especif</th>\n",
              "      <td>7</td>\n",
              "      <td>8</td>\n",
              "    </tr>\n",
              "  </tbody>\n",
              "</table>\n",
              "</div>"
            ],
            "text/plain": [
              "                            logingreso  aesc\n",
              "m1                                          \n",
              "0                                    2     2\n",
              "5 País limítrofe                   979  1225\n",
              "99                                   2     2\n",
              "Ciudad de Bs. As.                 5191  8693\n",
              "En otra provincia                 1688  1899\n",
              "Partido del GBA                    874  1048\n",
              "País no limítrofe                  775   963\n",
              "Prov. de Bs. As.                   566   612\n",
              "Prov. de Bs. As. s especif           7     8"
            ]
          },
          "metadata": {
            "tags": []
          },
          "execution_count": 59
        }
      ]
    },
    {
      "cell_type": "code",
      "metadata": {
        "id": "J8mm_3-z9NP1"
      },
      "source": [
        "def regress(lista, data):\n",
        "  \"\"\" \n",
        "  Funcion que realiza la regresion OLS\n",
        "  La primera variable de la lista es la dependiente, el resto son las explicativas\n",
        "  data es la base de datos\n",
        "  \"\"\"\n",
        "  datos=data[lista]\n",
        "  # el metodo dropna() me permite eliminar las filas que tienen algun valor missing\n",
        "  datos=datos.dropna()\n",
        "  Y=datos[lista[0]]\n",
        "  X=datos[lista[1:]]\n",
        "  X=sm.add_constant(X)\n",
        "  modelo=sm.OLS(Y,X)\n",
        "  resultados=modelo.fit()\n",
        "  print(resultados.summary())\n",
        "  return resultados\n"
      ],
      "execution_count": 50,
      "outputs": []
    },
    {
      "cell_type": "markdown",
      "metadata": {
        "id": "06X5RmXWRiik"
      },
      "source": [
        " # Ejemplo multivariado para ver cómo se relacionan las variables\n",
        "Vamos a estimar:\n",
        "\n",
        "$$logingreso_i=\\beta_0+\\beta_1 aesc_i+\\epsilon_i$$\n",
        "\n",
        "Luego evaluaremos agregar dummy inmigrante limitrofe\n",
        "\n",
        "$$logingreso_i=\\beta_0+\\beta_1 aesc_i+\\beta_1 dinmigrantelimit+\\epsilon_i$$"
      ]
    },
    {
      "cell_type": "code",
      "metadata": {
        "id": "xK4sgYB8fEyO",
        "outputId": "9b2c49a4-d7a0-4129-95be-821da5e312ae",
        "colab": {
          "base_uri": "https://localhost:8080/",
          "height": 475
        }
      },
      "source": [
        "regress(['logingreso','aesc'], df)"
      ],
      "execution_count": 51,
      "outputs": [
        {
          "output_type": "stream",
          "text": [
            "                            OLS Regression Results                            \n",
            "==============================================================================\n",
            "Dep. Variable:             logingreso   R-squared:                       0.199\n",
            "Model:                            OLS   Adj. R-squared:                  0.199\n",
            "Method:                 Least Squares   F-statistic:                     2507.\n",
            "Date:                Wed, 14 Oct 2020   Prob (F-statistic):               0.00\n",
            "Time:                        18:36:00   Log-Likelihood:                -11674.\n",
            "No. Observations:               10082   AIC:                         2.335e+04\n",
            "Df Residuals:                   10080   BIC:                         2.337e+04\n",
            "Df Model:                           1                                         \n",
            "Covariance Type:            nonrobust                                         \n",
            "==============================================================================\n",
            "                 coef    std err          t      P>|t|      [0.025      0.975]\n",
            "------------------------------------------------------------------------------\n",
            "const          8.0118      0.027    301.990      0.000       7.960       8.064\n",
            "aesc           0.1011      0.002     50.075      0.000       0.097       0.105\n",
            "==============================================================================\n",
            "Omnibus:                     1714.578   Durbin-Watson:                   1.798\n",
            "Prob(Omnibus):                  0.000   Jarque-Bera (JB):             4442.590\n",
            "Skew:                          -0.935   Prob(JB):                         0.00\n",
            "Kurtosis:                       5.660   Cond. No.                         45.7\n",
            "==============================================================================\n",
            "\n",
            "Warnings:\n",
            "[1] Standard Errors assume that the covariance matrix of the errors is correctly specified.\n"
          ],
          "name": "stdout"
        },
        {
          "output_type": "execute_result",
          "data": {
            "text/plain": [
              "<statsmodels.regression.linear_model.RegressionResultsWrapper at 0x7fd074310e48>"
            ]
          },
          "metadata": {
            "tags": []
          },
          "execution_count": 51
        }
      ]
    },
    {
      "cell_type": "code",
      "metadata": {
        "id": "Dkj1GlGQSFoF"
      },
      "source": [
        "df['dinmigrantelimit']=0\n",
        "df.loc[df.m1=='5 País limítrofe','dinmigrantelimit']=1"
      ],
      "execution_count": 66,
      "outputs": []
    },
    {
      "cell_type": "code",
      "metadata": {
        "id": "YykmAaRyY5RE",
        "outputId": "a007fba5-c50b-477d-808d-3e39b8c1401b",
        "colab": {
          "base_uri": "https://localhost:8080/",
          "height": 492
        }
      },
      "source": [
        "regress(['logingreso','aesc','dinmigrantelimit'], df)"
      ],
      "execution_count": 68,
      "outputs": [
        {
          "output_type": "stream",
          "text": [
            "                            OLS Regression Results                            \n",
            "==============================================================================\n",
            "Dep. Variable:             logingreso   R-squared:                       0.208\n",
            "Model:                            OLS   Adj. R-squared:                  0.208\n",
            "Method:                 Least Squares   F-statistic:                     1325.\n",
            "Date:                Wed, 14 Oct 2020   Prob (F-statistic):               0.00\n",
            "Time:                        18:41:48   Log-Likelihood:                -11734.\n",
            "No. Observations:               10084   AIC:                         2.347e+04\n",
            "Df Residuals:                   10081   BIC:                         2.349e+04\n",
            "Df Model:                           2                                         \n",
            "Covariance Type:            nonrobust                                         \n",
            "====================================================================================\n",
            "                       coef    std err          t      P>|t|      [0.025      0.975]\n",
            "------------------------------------------------------------------------------------\n",
            "const                8.0732      0.028    289.665      0.000       8.019       8.128\n",
            "aesc                 0.0981      0.002     47.259      0.000       0.094       0.102\n",
            "dinmigrantelimit    -0.2631      0.027     -9.863      0.000      -0.315      -0.211\n",
            "==============================================================================\n",
            "Omnibus:                     2515.705   Durbin-Watson:                   1.788\n",
            "Prob(Omnibus):                  0.000   Jarque-Bera (JB):            11865.525\n",
            "Skew:                          -1.134   Prob(JB):                         0.00\n",
            "Kurtosis:                       7.806   Cond. No.                         53.1\n",
            "==============================================================================\n",
            "\n",
            "Warnings:\n",
            "[1] Standard Errors assume that the covariance matrix of the errors is correctly specified.\n"
          ],
          "name": "stdout"
        },
        {
          "output_type": "execute_result",
          "data": {
            "text/plain": [
              "<statsmodels.regression.linear_model.RegressionResultsWrapper at 0x7fd0742efb70>"
            ]
          },
          "metadata": {
            "tags": []
          },
          "execution_count": 68
        }
      ]
    },
    {
      "cell_type": "code",
      "metadata": {
        "id": "ZgnFmPVCYtJc",
        "outputId": "0407951a-fda3-40fe-bcc2-464f81a5fb47",
        "colab": {
          "base_uri": "https://localhost:8080/",
          "height": 70
        }
      },
      "source": [
        "df.m1.unique()"
      ],
      "execution_count": 39,
      "outputs": [
        {
          "output_type": "execute_result",
          "data": {
            "text/plain": [
              "array(['Ciudad de Bs. As.', '5 País limítrofe', 'Partido del GBA',\n",
              "       'En otra provincia', 'Prov. de Bs. As.', '99', 'País no limítrofe',\n",
              "       'Prov. de Bs. As. s especif', 0], dtype=object)"
            ]
          },
          "metadata": {
            "tags": []
          },
          "execution_count": 39
        }
      ]
    },
    {
      "cell_type": "code",
      "metadata": {
        "id": "s7A9AW7dWbBy",
        "outputId": "96f5829f-c6cf-447f-b34f-dde328f439ed",
        "colab": {
          "base_uri": "https://localhost:8080/",
          "height": 110
        }
      },
      "source": [
        "df[['aesc','dinmigrantelimit']].corr()"
      ],
      "execution_count": 69,
      "outputs": [
        {
          "output_type": "execute_result",
          "data": {
            "text/html": [
              "<div>\n",
              "<style scoped>\n",
              "    .dataframe tbody tr th:only-of-type {\n",
              "        vertical-align: middle;\n",
              "    }\n",
              "\n",
              "    .dataframe tbody tr th {\n",
              "        vertical-align: top;\n",
              "    }\n",
              "\n",
              "    .dataframe thead th {\n",
              "        text-align: right;\n",
              "    }\n",
              "</style>\n",
              "<table border=\"1\" class=\"dataframe\">\n",
              "  <thead>\n",
              "    <tr style=\"text-align: right;\">\n",
              "      <th></th>\n",
              "      <th>aesc</th>\n",
              "      <th>dinmigrantelimit</th>\n",
              "    </tr>\n",
              "  </thead>\n",
              "  <tbody>\n",
              "    <tr>\n",
              "      <th>aesc</th>\n",
              "      <td>1.000000</td>\n",
              "      <td>-0.046946</td>\n",
              "    </tr>\n",
              "    <tr>\n",
              "      <th>dinmigrantelimit</th>\n",
              "      <td>-0.046946</td>\n",
              "      <td>1.000000</td>\n",
              "    </tr>\n",
              "  </tbody>\n",
              "</table>\n",
              "</div>"
            ],
            "text/plain": [
              "                      aesc  dinmigrantelimit\n",
              "aesc              1.000000         -0.046946\n",
              "dinmigrantelimit -0.046946          1.000000"
            ]
          },
          "metadata": {
            "tags": []
          },
          "execution_count": 69
        }
      ]
    },
    {
      "cell_type": "code",
      "metadata": {
        "id": "Kp3PxMRNSY-9",
        "outputId": "e79f5ae7-5b48-4cbc-82a6-2622c9c78999",
        "colab": {
          "base_uri": "https://localhost:8080/",
          "height": 475
        }
      },
      "source": [
        "regress(['logingreso', 'dinmigrante'], df)"
      ],
      "execution_count": 20,
      "outputs": [
        {
          "output_type": "stream",
          "text": [
            "                            OLS Regression Results                            \n",
            "==============================================================================\n",
            "Dep. Variable:             logingreso   R-squared:                       0.018\n",
            "Model:                            OLS   Adj. R-squared:                  0.018\n",
            "Method:                 Least Squares   F-statistic:                     189.6\n",
            "Date:                Wed, 14 Oct 2020   Prob (F-statistic):           9.46e-43\n",
            "Time:                        18:18:42   Log-Likelihood:                -12742.\n",
            "No. Observations:               10111   AIC:                         2.549e+04\n",
            "Df Residuals:                   10109   BIC:                         2.550e+04\n",
            "Df Model:                           1                                         \n",
            "Covariance Type:            nonrobust                                         \n",
            "===============================================================================\n",
            "                  coef    std err          t      P>|t|      [0.025      0.975]\n",
            "-------------------------------------------------------------------------------\n",
            "const           9.3516      0.010    947.430      0.000       9.332       9.371\n",
            "dinmigrante    -0.2661      0.019    -13.769      0.000      -0.304      -0.228\n",
            "==============================================================================\n",
            "Omnibus:                     1143.435   Durbin-Watson:                   1.548\n",
            "Prob(Omnibus):                  0.000   Jarque-Bera (JB):             2434.064\n",
            "Skew:                          -0.705   Prob(JB):                         0.00\n",
            "Kurtosis:                       4.947   Cond. No.                         2.47\n",
            "==============================================================================\n",
            "\n",
            "Warnings:\n",
            "[1] Standard Errors assume that the covariance matrix of the errors is correctly specified.\n"
          ],
          "name": "stdout"
        },
        {
          "output_type": "execute_result",
          "data": {
            "text/plain": [
              "<statsmodels.regression.linear_model.RegressionResultsWrapper at 0x7fd07452eb00>"
            ]
          },
          "metadata": {
            "tags": []
          },
          "execution_count": 20
        }
      ]
    },
    {
      "cell_type": "code",
      "metadata": {
        "id": "ZxoAB9RoSdtr",
        "outputId": "6e53151a-bb4d-4bfa-e89a-e7850a229df0",
        "colab": {
          "base_uri": "https://localhost:8080/",
          "height": 492
        }
      },
      "source": [
        "regress(['logingreso', 'dmujer', 'aesc'], df)"
      ],
      "execution_count": 18,
      "outputs": [
        {
          "output_type": "stream",
          "text": [
            "                            OLS Regression Results                            \n",
            "==============================================================================\n",
            "Dep. Variable:             logingreso   R-squared:                       0.095\n",
            "Model:                            OLS   Adj. R-squared:                  0.094\n",
            "Method:                 Least Squares   F-statistic:                     528.6\n",
            "Date:                Wed, 14 Oct 2020   Prob (F-statistic):          4.58e-219\n",
            "Time:                        18:16:07   Log-Likelihood:                -12335.\n",
            "No. Observations:               10113   AIC:                         2.468e+04\n",
            "Df Residuals:                   10110   BIC:                         2.470e+04\n",
            "Df Model:                           2                                         \n",
            "Covariance Type:            nonrobust                                         \n",
            "==============================================================================\n",
            "                 coef    std err          t      P>|t|      [0.025      0.975]\n",
            "------------------------------------------------------------------------------\n",
            "const          8.9839      0.021    427.290      0.000       8.943       9.025\n",
            "dmujer        -0.2972      0.016    -18.202      0.000      -0.329      -0.265\n",
            "aesc           0.0354      0.001     26.488      0.000       0.033       0.038\n",
            "==============================================================================\n",
            "Omnibus:                     2014.180   Durbin-Watson:                   1.626\n",
            "Prob(Omnibus):                  0.000   Jarque-Bera (JB):             6291.756\n",
            "Skew:                          -1.020   Prob(JB):                         0.00\n",
            "Kurtosis:                       6.282   Cond. No.                         40.1\n",
            "==============================================================================\n",
            "\n",
            "Warnings:\n",
            "[1] Standard Errors assume that the covariance matrix of the errors is correctly specified.\n"
          ],
          "name": "stdout"
        },
        {
          "output_type": "execute_result",
          "data": {
            "text/plain": [
              "<statsmodels.regression.linear_model.RegressionResultsWrapper at 0x7fd07452eeb8>"
            ]
          },
          "metadata": {
            "tags": []
          },
          "execution_count": 18
        }
      ]
    },
    {
      "cell_type": "markdown",
      "metadata": {
        "id": "4HbYqws-Xjm_"
      },
      "source": [
        "# Ejemplo OVB\n"
      ]
    },
    {
      "cell_type": "code",
      "metadata": {
        "id": "9yt1pkXzR-yG"
      },
      "source": [
        "datosedu=pd.read_csv('https://raw.githubusercontent.com/rpasquini/urban-econometrics/master/data/estadistica-educativa.csv')"
      ],
      "execution_count": 70,
      "outputs": []
    },
    {
      "cell_type": "code",
      "metadata": {
        "id": "vO0cacNYYR8n"
      },
      "source": [
        "dummiesgestion=pd.get_dummies(datosedu.tipo_gestion)"
      ],
      "execution_count": 71,
      "outputs": []
    },
    {
      "cell_type": "code",
      "metadata": {
        "id": "FiLl_MM7XplM"
      },
      "source": [
        "datosedu=pd.concat([ datosedu, dummiesgestion],axis=1)"
      ],
      "execution_count": 72,
      "outputs": []
    },
    {
      "cell_type": "code",
      "metadata": {
        "id": "-QX5Q3grYaEi",
        "outputId": "57b12a16-0497-4ddf-fb09-d22d4bb43fb1",
        "colab": {
          "base_uri": "https://localhost:8080/",
          "height": 475
        }
      },
      "source": [
        "regress(['iecep', 'Privada'], datosedu)"
      ],
      "execution_count": 73,
      "outputs": [
        {
          "output_type": "stream",
          "text": [
            "                            OLS Regression Results                            \n",
            "==============================================================================\n",
            "Dep. Variable:                  iecep   R-squared:                       0.203\n",
            "Model:                            OLS   Adj. R-squared:                  0.200\n",
            "Method:                 Least Squares   F-statistic:                     77.79\n",
            "Date:                Wed, 14 Oct 2020   Prob (F-statistic):           8.89e-17\n",
            "Time:                        18:43:25   Log-Likelihood:                -487.24\n",
            "No. Observations:                 308   AIC:                             978.5\n",
            "Df Residuals:                     306   BIC:                             985.9\n",
            "Df Model:                           1                                         \n",
            "Covariance Type:            nonrobust                                         \n",
            "==============================================================================\n",
            "                 coef    std err          t      P>|t|      [0.025      0.975]\n",
            "------------------------------------------------------------------------------\n",
            "const          5.2251      0.110     47.656      0.000       5.009       5.441\n",
            "Privada        1.2248      0.139      8.820      0.000       0.952       1.498\n",
            "==============================================================================\n",
            "Omnibus:                       40.664   Durbin-Watson:                   1.866\n",
            "Prob(Omnibus):                  0.000   Jarque-Bera (JB):               53.439\n",
            "Skew:                          -0.924   Prob(JB):                     2.49e-12\n",
            "Kurtosis:                       3.864   Cond. No.                         3.02\n",
            "==============================================================================\n",
            "\n",
            "Warnings:\n",
            "[1] Standard Errors assume that the covariance matrix of the errors is correctly specified.\n"
          ],
          "name": "stdout"
        },
        {
          "output_type": "execute_result",
          "data": {
            "text/plain": [
              "<statsmodels.regression.linear_model.RegressionResultsWrapper at 0x7fd0744829e8>"
            ]
          },
          "metadata": {
            "tags": []
          },
          "execution_count": 73
        }
      ]
    },
    {
      "cell_type": "markdown",
      "metadata": {
        "id": "PSVVqNSrStmm"
      },
      "source": [
        "# Ejemplos Colinealidad\n"
      ]
    },
    {
      "cell_type": "code",
      "metadata": {
        "id": "oCRRO-RuOehL"
      },
      "source": [
        "df['aesc2']=df.aesc**2"
      ],
      "execution_count": 76,
      "outputs": []
    },
    {
      "cell_type": "code",
      "metadata": {
        "id": "OS7b9nr9OxoJ",
        "outputId": "c70ffa29-5789-48ab-9959-e9195f9dbe66",
        "colab": {
          "base_uri": "https://localhost:8080/",
          "height": 527
        }
      },
      "source": [
        "regress(['logingreso', 'aesc', 'aesc2'], df)"
      ],
      "execution_count": 77,
      "outputs": [
        {
          "output_type": "stream",
          "text": [
            "                            OLS Regression Results                            \n",
            "==============================================================================\n",
            "Dep. Variable:             logingreso   R-squared:                       0.217\n",
            "Model:                            OLS   Adj. R-squared:                  0.217\n",
            "Method:                 Least Squares   F-statistic:                     1398.\n",
            "Date:                Wed, 14 Oct 2020   Prob (F-statistic):               0.00\n",
            "Time:                        18:44:40   Log-Likelihood:                -11676.\n",
            "No. Observations:               10084   AIC:                         2.336e+04\n",
            "Df Residuals:                   10081   BIC:                         2.338e+04\n",
            "Df Model:                           2                                         \n",
            "Covariance Type:            nonrobust                                         \n",
            "==============================================================================\n",
            "                 coef    std err          t      P>|t|      [0.025      0.975]\n",
            "------------------------------------------------------------------------------\n",
            "const          8.7384      0.057    152.174      0.000       8.626       8.851\n",
            "aesc          -0.0417      0.010     -4.146      0.000      -0.061      -0.022\n",
            "aesc2          0.0062      0.000     14.635      0.000       0.005       0.007\n",
            "==============================================================================\n",
            "Omnibus:                     2746.043   Durbin-Watson:                   1.782\n",
            "Prob(Omnibus):                  0.000   Jarque-Bera (JB):            15703.763\n",
            "Skew:                          -1.185   Prob(JB):                         0.00\n",
            "Kurtosis:                       8.636   Cond. No.                     1.48e+03\n",
            "==============================================================================\n",
            "\n",
            "Warnings:\n",
            "[1] Standard Errors assume that the covariance matrix of the errors is correctly specified.\n",
            "[2] The condition number is large, 1.48e+03. This might indicate that there are\n",
            "strong multicollinearity or other numerical problems.\n"
          ],
          "name": "stdout"
        },
        {
          "output_type": "execute_result",
          "data": {
            "text/plain": [
              "<statsmodels.regression.linear_model.RegressionResultsWrapper at 0x7fd074476240>"
            ]
          },
          "metadata": {
            "tags": []
          },
          "execution_count": 77
        }
      ]
    },
    {
      "cell_type": "code",
      "metadata": {
        "id": "FzmI1XxabeD7",
        "outputId": "0b4b4918-a981-4c32-a056-d8255c047381",
        "colab": {
          "base_uri": "https://localhost:8080/",
          "height": 475
        }
      },
      "source": [
        "regress(['logingreso', 'aesc'], df)"
      ],
      "execution_count": 78,
      "outputs": [
        {
          "output_type": "stream",
          "text": [
            "                            OLS Regression Results                            \n",
            "==============================================================================\n",
            "Dep. Variable:             logingreso   R-squared:                       0.201\n",
            "Model:                            OLS   Adj. R-squared:                  0.200\n",
            "Method:                 Least Squares   F-statistic:                     2528.\n",
            "Date:                Wed, 14 Oct 2020   Prob (F-statistic):               0.00\n",
            "Time:                        18:44:59   Log-Likelihood:                -11782.\n",
            "No. Observations:               10084   AIC:                         2.357e+04\n",
            "Df Residuals:                   10082   BIC:                         2.358e+04\n",
            "Df Model:                           1                                         \n",
            "Covariance Type:            nonrobust                                         \n",
            "==============================================================================\n",
            "                 coef    std err          t      P>|t|      [0.025      0.975]\n",
            "------------------------------------------------------------------------------\n",
            "const          7.9928      0.027    298.484      0.000       7.940       8.045\n",
            "aesc           0.1025      0.002     50.284      0.000       0.098       0.106\n",
            "==============================================================================\n",
            "Omnibus:                     2443.682   Durbin-Watson:                   1.772\n",
            "Prob(Omnibus):                  0.000   Jarque-Bera (JB):            11043.784\n",
            "Skew:                          -1.113   Prob(JB):                         0.00\n",
            "Kurtosis:                       7.618   Cond. No.                         45.6\n",
            "==============================================================================\n",
            "\n",
            "Warnings:\n",
            "[1] Standard Errors assume that the covariance matrix of the errors is correctly specified.\n"
          ],
          "name": "stdout"
        },
        {
          "output_type": "execute_result",
          "data": {
            "text/plain": [
              "<statsmodels.regression.linear_model.RegressionResultsWrapper at 0x7fd074476ac8>"
            ]
          },
          "metadata": {
            "tags": []
          },
          "execution_count": 78
        }
      ]
    },
    {
      "cell_type": "markdown",
      "metadata": {
        "id": "3Kt0R0BDbo7w"
      },
      "source": [
        "Ejemplo en datos de educacion\n"
      ]
    },
    {
      "cell_type": "code",
      "metadata": {
        "id": "V5HhKlmpSGAt",
        "outputId": "b378fe88-8524-49c5-91ba-5e3119bd7093",
        "colab": {
          "base_uri": "https://localhost:8080/",
          "height": 457
        }
      },
      "source": [
        "regress(['tasa_repeticion_2012', 'one_alto_mat'], datosedu)"
      ],
      "execution_count": null,
      "outputs": [
        {
          "output_type": "stream",
          "text": [
            "                             OLS Regression Results                             \n",
            "================================================================================\n",
            "Dep. Variable:     tasa_repeticion_2012   R-squared:                       0.179\n",
            "Model:                              OLS   Adj. R-squared:                  0.177\n",
            "Method:                   Least Squares   F-statistic:                     66.84\n",
            "Date:                  Thu, 02 Jul 2020   Prob (F-statistic):           7.90e-15\n",
            "Time:                          20:47:44   Log-Likelihood:                -1119.3\n",
            "No. Observations:                   308   AIC:                             2243.\n",
            "Df Residuals:                       306   BIC:                             2250.\n",
            "Df Model:                             1                                         \n",
            "Covariance Type:              nonrobust                                         \n",
            "================================================================================\n",
            "                   coef    std err          t      P>|t|      [0.025      0.975]\n",
            "--------------------------------------------------------------------------------\n",
            "const           15.2180      0.901     16.886      0.000      13.445      16.991\n",
            "one_alto_mat   -23.5385      2.879     -8.176      0.000     -29.204     -17.873\n",
            "==============================================================================\n",
            "Omnibus:                       59.030   Durbin-Watson:                   1.930\n",
            "Prob(Omnibus):                  0.000   Jarque-Bera (JB):               91.831\n",
            "Skew:                           1.147   Prob(JB):                     1.15e-20\n",
            "Kurtosis:                       4.378   Cond. No.                         5.87\n",
            "==============================================================================\n",
            "\n",
            "Warnings:\n",
            "[1] Standard Errors assume that the covariance matrix of the errors is correctly specified.\n"
          ],
          "name": "stdout"
        }
      ]
    },
    {
      "cell_type": "code",
      "metadata": {
        "id": "jqyC3a_KSR-n",
        "outputId": "7b5d367d-8dc9-4d96-cd54-883a66f37eab",
        "colab": {
          "base_uri": "https://localhost:8080/",
          "height": 457
        }
      },
      "source": [
        "regress(['tasa_repeticion_2012', 'one_alto_cs_nat'], datosedu)"
      ],
      "execution_count": null,
      "outputs": [
        {
          "output_type": "stream",
          "text": [
            "                             OLS Regression Results                             \n",
            "================================================================================\n",
            "Dep. Variable:     tasa_repeticion_2012   R-squared:                       0.179\n",
            "Model:                              OLS   Adj. R-squared:                  0.177\n",
            "Method:                   Least Squares   F-statistic:                     66.93\n",
            "Date:                  Thu, 02 Jul 2020   Prob (F-statistic):           7.61e-15\n",
            "Time:                          20:48:03   Log-Likelihood:                -1119.2\n",
            "No. Observations:                   308   AIC:                             2242.\n",
            "Df Residuals:                       306   BIC:                             2250.\n",
            "Df Model:                             1                                         \n",
            "Covariance Type:              nonrobust                                         \n",
            "===================================================================================\n",
            "                      coef    std err          t      P>|t|      [0.025      0.975]\n",
            "-----------------------------------------------------------------------------------\n",
            "const              15.3143      0.910     16.822      0.000      13.523      17.106\n",
            "one_alto_cs_nat   -30.1352      3.683     -8.181      0.000     -37.383     -22.887\n",
            "==============================================================================\n",
            "Omnibus:                       55.703   Durbin-Watson:                   1.985\n",
            "Prob(Omnibus):                  0.000   Jarque-Bera (JB):               84.013\n",
            "Skew:                           1.108   Prob(JB):                     5.71e-19\n",
            "Kurtosis:                       4.281   Cond. No.                         7.33\n",
            "==============================================================================\n",
            "\n",
            "Warnings:\n",
            "[1] Standard Errors assume that the covariance matrix of the errors is correctly specified.\n"
          ],
          "name": "stdout"
        }
      ]
    },
    {
      "cell_type": "code",
      "metadata": {
        "id": "kL8II8X9SWR7",
        "outputId": "6d8762d9-99c4-4655-92b6-97d40142bfc2",
        "colab": {
          "base_uri": "https://localhost:8080/",
          "height": 457
        }
      },
      "source": [
        "regress(['tasa_repeticion_2012', 'one_alto_cs_soc'], datosedu)"
      ],
      "execution_count": null,
      "outputs": [
        {
          "output_type": "stream",
          "text": [
            "                             OLS Regression Results                             \n",
            "================================================================================\n",
            "Dep. Variable:     tasa_repeticion_2012   R-squared:                       0.190\n",
            "Model:                              OLS   Adj. R-squared:                  0.188\n",
            "Method:                   Least Squares   F-statistic:                     71.94\n",
            "Date:                  Thu, 02 Jul 2020   Prob (F-statistic):           9.62e-16\n",
            "Time:                          20:48:21   Log-Likelihood:                -1117.2\n",
            "No. Observations:                   308   AIC:                             2238.\n",
            "Df Residuals:                       306   BIC:                             2246.\n",
            "Df Model:                             1                                         \n",
            "Covariance Type:              nonrobust                                         \n",
            "===================================================================================\n",
            "                      coef    std err          t      P>|t|      [0.025      0.975]\n",
            "-----------------------------------------------------------------------------------\n",
            "const              16.9993      1.054     16.125      0.000      14.925      19.074\n",
            "one_alto_cs_soc   -26.9200      3.174     -8.482      0.000     -33.165     -20.674\n",
            "==============================================================================\n",
            "Omnibus:                       58.859   Durbin-Watson:                   1.989\n",
            "Prob(Omnibus):                  0.000   Jarque-Bera (JB):               92.739\n",
            "Skew:                           1.131   Prob(JB):                     7.28e-21\n",
            "Kurtosis:                       4.453   Cond. No.                         6.62\n",
            "==============================================================================\n",
            "\n",
            "Warnings:\n",
            "[1] Standard Errors assume that the covariance matrix of the errors is correctly specified.\n"
          ],
          "name": "stdout"
        }
      ]
    },
    {
      "cell_type": "code",
      "metadata": {
        "id": "zRH5THsOSaoa",
        "outputId": "905d9e6e-816f-4a11-811f-aee37d9cd0f6",
        "colab": {
          "base_uri": "https://localhost:8080/",
          "height": 492
        }
      },
      "source": [
        "regress(['tasa_repeticion_2012',  'one_alto_mat', 'one_alto_cs_nat', 'one_alto_cs_soc'], datosedu)"
      ],
      "execution_count": null,
      "outputs": [
        {
          "output_type": "stream",
          "text": [
            "                             OLS Regression Results                             \n",
            "================================================================================\n",
            "Dep. Variable:     tasa_repeticion_2012   R-squared:                       0.228\n",
            "Model:                              OLS   Adj. R-squared:                  0.220\n",
            "Method:                   Least Squares   F-statistic:                     29.89\n",
            "Date:                  Thu, 02 Jul 2020   Prob (F-statistic):           5.80e-17\n",
            "Time:                          20:49:03   Log-Likelihood:                -1109.9\n",
            "No. Observations:                   308   AIC:                             2228.\n",
            "Df Residuals:                       304   BIC:                             2243.\n",
            "Df Model:                             3                                         \n",
            "Covariance Type:              nonrobust                                         \n",
            "===================================================================================\n",
            "                      coef    std err          t      P>|t|      [0.025      0.975]\n",
            "-----------------------------------------------------------------------------------\n",
            "const              17.5814      1.044     16.839      0.000      15.527      19.636\n",
            "one_alto_mat       -9.4725      4.373     -2.166      0.031     -18.078      -0.867\n",
            "one_alto_cs_nat   -10.0345      5.878     -1.707      0.089     -21.601       1.531\n",
            "one_alto_cs_soc   -13.5609      4.698     -2.886      0.004     -22.806      -4.316\n",
            "==============================================================================\n",
            "Omnibus:                       53.961   Durbin-Watson:                   1.978\n",
            "Prob(Omnibus):                  0.000   Jarque-Bera (JB):               81.254\n",
            "Skew:                           1.072   Prob(JB):                     2.27e-18\n",
            "Kurtosis:                       4.316   Cond. No.                         14.3\n",
            "==============================================================================\n",
            "\n",
            "Warnings:\n",
            "[1] Standard Errors assume that the covariance matrix of the errors is correctly specified.\n"
          ],
          "name": "stdout"
        }
      ]
    }
  ]
}