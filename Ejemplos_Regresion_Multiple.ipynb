{
  "nbformat": 4,
  "nbformat_minor": 0,
  "metadata": {
    "colab": {
      "name": "Ejemplos Regresion Multiple.ipynb",
      "provenance": [],
      "toc_visible": true,
      "authorship_tag": "ABX9TyMK8jjgrK6Z1M76K4dZHZzK",
      "include_colab_link": true
    },
    "kernelspec": {
      "name": "python3",
      "display_name": "Python 3"
    }
  },
  "cells": [
    {
      "cell_type": "markdown",
      "metadata": {
        "id": "view-in-github",
        "colab_type": "text"
      },
      "source": [
        "<a href=\"https://colab.research.google.com/github/rpasquini/econometria-iae/blob/main/Ejemplos_Regresion_Multiple.ipynb\" target=\"_parent\"><img src=\"https://colab.research.google.com/assets/colab-badge.svg\" alt=\"Open In Colab\"/></a>"
      ]
    },
    {
      "cell_type": "code",
      "metadata": {
        "id": "_zCex4wbRiaY"
      },
      "source": [
        "import pandas as pd\n",
        "import statsmodels.api as sm\n",
        "import matplotlib.pyplot as plt\n",
        "import numpy as np\n",
        "import statsmodels.formula.api as smf"
      ],
      "execution_count": 17,
      "outputs": []
    },
    {
      "cell_type": "markdown",
      "source": [
        "# Modelo de Regresión Múltiple"
      ],
      "metadata": {
        "id": "_1i7D2VHWfSU"
      }
    },
    {
      "cell_type": "markdown",
      "source": [
        "Vamos a analizar la inclusión del sexo del respondiente al modelo donde explicamos el ingreso individual con la escolaridad\n",
        "\n"
      ],
      "metadata": {
        "id": "MnE6fvnOWTm-"
      }
    },
    {
      "cell_type": "code",
      "metadata": {
        "id": "uP68Bf9se7bx"
      },
      "source": [
        "df=pd.read_csv('https://github.com/rpasquini/econometria-iae/blob/main/datos/eah2022_bu_ampliada_ind.txt?raw=true',sep=';')"
      ],
      "execution_count": 2,
      "outputs": []
    },
    {
      "cell_type": "code",
      "source": [
        "df['ingreso']=df['ingtot_2']\n",
        "df['logingreso']=np.where(df['ingtot_2']>0,np.log(df['ingtot_2']),np.nan)\n",
        ""
      ],
      "metadata": {
        "id": "ltzcRTlJXm1y",
        "outputId": "c8653a79-b136-4e19-8440-83e06abce5a5",
        "colab": {
          "base_uri": "https://localhost:8080/"
        }
      },
      "execution_count": 22,
      "outputs": [
        {
          "output_type": "stream",
          "name": "stderr",
          "text": [
            "/usr/local/lib/python3.10/dist-packages/pandas/core/arraylike.py:402: RuntimeWarning: divide by zero encountered in log\n",
            "  result = getattr(ufunc, method)(*inputs, **kwargs)\n"
          ]
        }
      ]
    },
    {
      "cell_type": "code",
      "metadata": {
        "id": "TOWsM0BcZUD7"
      },
      "source": [
        "df=df.loc[df.aesc<20]"
      ],
      "execution_count": 4,
      "outputs": []
    },
    {
      "cell_type": "code",
      "source": [
        "mod = smf.ols(formula='logingreso ~ aesc', data=df)\n",
        "\n",
        "res = mod.fit()\n",
        "\n",
        "print(res.summary())\n"
      ],
      "metadata": {
        "id": "BwMsHPW4XXBq",
        "outputId": "8ff77aeb-2876-4cd0-b712-045cca6a1aa3",
        "colab": {
          "base_uri": "https://localhost:8080/"
        }
      },
      "execution_count": 23,
      "outputs": [
        {
          "output_type": "stream",
          "name": "stdout",
          "text": [
            "                            OLS Regression Results                            \n",
            "==============================================================================\n",
            "Dep. Variable:             logingreso   R-squared:                       0.207\n",
            "Model:                            OLS   Adj. R-squared:                  0.207\n",
            "Method:                 Least Squares   F-statistic:                     2366.\n",
            "Date:                Tue, 24 Oct 2023   Prob (F-statistic):               0.00\n",
            "Time:                        01:53:08   Log-Likelihood:                -10880.\n",
            "No. Observations:                9062   AIC:                         2.176e+04\n",
            "Df Residuals:                    9060   BIC:                         2.178e+04\n",
            "Df Model:                           1                                         \n",
            "Covariance Type:            nonrobust                                         \n",
            "==============================================================================\n",
            "                 coef    std err          t      P>|t|      [0.025      0.975]\n",
            "------------------------------------------------------------------------------\n",
            "Intercept      9.9699      0.031    320.835      0.000       9.909      10.031\n",
            "aesc           0.1104      0.002     48.639      0.000       0.106       0.115\n",
            "==============================================================================\n",
            "Omnibus:                     1489.077   Durbin-Watson:                   1.822\n",
            "Prob(Omnibus):                  0.000   Jarque-Bera (JB):             3561.197\n",
            "Skew:                          -0.933   Prob(JB):                         0.00\n",
            "Kurtosis:                       5.440   Cond. No.                         50.6\n",
            "==============================================================================\n",
            "\n",
            "Notes:\n",
            "[1] Standard Errors assume that the covariance matrix of the errors is correctly specified.\n"
          ]
        }
      ]
    },
    {
      "cell_type": "markdown",
      "source": [
        "La pregunta del sexo está codificada como 1 \"varón\" 2 \"mujer\""
      ],
      "metadata": {
        "id": "BCz4n2hRWLY7"
      }
    },
    {
      "cell_type": "code",
      "source": [
        "df['sexo']"
      ],
      "metadata": {
        "id": "dCG_XzIwWGzS",
        "outputId": "b90f7049-5d64-438b-b89b-381a0f9b2a7b",
        "colab": {
          "base_uri": "https://localhost:8080/"
        }
      },
      "execution_count": 5,
      "outputs": [
        {
          "output_type": "execute_result",
          "data": {
            "text/plain": [
              "0        2\n",
              "1        1\n",
              "2        1\n",
              "3        2\n",
              "4        1\n",
              "        ..\n",
              "12496    2\n",
              "12497    2\n",
              "12498    2\n",
              "12499    2\n",
              "12500    2\n",
              "Name: sexo, Length: 12432, dtype: int64"
            ]
          },
          "metadata": {},
          "execution_count": 5
        }
      ]
    },
    {
      "cell_type": "code",
      "source": [
        "df['dsexo']=0\n",
        "df.loc[df['sexo']==2,'dsexo']=1"
      ],
      "metadata": {
        "id": "3LYqXqPlWklt"
      },
      "execution_count": 8,
      "outputs": []
    },
    {
      "cell_type": "code",
      "source": [
        "df[['sexo','dsexo']]"
      ],
      "metadata": {
        "id": "XKmm6EaBXMD2",
        "outputId": "369b369a-0576-446d-9722-23ffb81bbb07",
        "colab": {
          "base_uri": "https://localhost:8080/",
          "height": 423
        }
      },
      "execution_count": 9,
      "outputs": [
        {
          "output_type": "execute_result",
          "data": {
            "text/plain": [
              "       sexo  dsexo\n",
              "0         2      1\n",
              "1         1      0\n",
              "2         1      0\n",
              "3         2      1\n",
              "4         1      0\n",
              "...     ...    ...\n",
              "12496     2      1\n",
              "12497     2      1\n",
              "12498     2      1\n",
              "12499     2      1\n",
              "12500     2      1\n",
              "\n",
              "[12432 rows x 2 columns]"
            ],
            "text/html": [
              "\n",
              "  <div id=\"df-4cecfbc5-46af-44a3-9193-08eec3c8cb8f\" class=\"colab-df-container\">\n",
              "    <div>\n",
              "<style scoped>\n",
              "    .dataframe tbody tr th:only-of-type {\n",
              "        vertical-align: middle;\n",
              "    }\n",
              "\n",
              "    .dataframe tbody tr th {\n",
              "        vertical-align: top;\n",
              "    }\n",
              "\n",
              "    .dataframe thead th {\n",
              "        text-align: right;\n",
              "    }\n",
              "</style>\n",
              "<table border=\"1\" class=\"dataframe\">\n",
              "  <thead>\n",
              "    <tr style=\"text-align: right;\">\n",
              "      <th></th>\n",
              "      <th>sexo</th>\n",
              "      <th>dsexo</th>\n",
              "    </tr>\n",
              "  </thead>\n",
              "  <tbody>\n",
              "    <tr>\n",
              "      <th>0</th>\n",
              "      <td>2</td>\n",
              "      <td>1</td>\n",
              "    </tr>\n",
              "    <tr>\n",
              "      <th>1</th>\n",
              "      <td>1</td>\n",
              "      <td>0</td>\n",
              "    </tr>\n",
              "    <tr>\n",
              "      <th>2</th>\n",
              "      <td>1</td>\n",
              "      <td>0</td>\n",
              "    </tr>\n",
              "    <tr>\n",
              "      <th>3</th>\n",
              "      <td>2</td>\n",
              "      <td>1</td>\n",
              "    </tr>\n",
              "    <tr>\n",
              "      <th>4</th>\n",
              "      <td>1</td>\n",
              "      <td>0</td>\n",
              "    </tr>\n",
              "    <tr>\n",
              "      <th>...</th>\n",
              "      <td>...</td>\n",
              "      <td>...</td>\n",
              "    </tr>\n",
              "    <tr>\n",
              "      <th>12496</th>\n",
              "      <td>2</td>\n",
              "      <td>1</td>\n",
              "    </tr>\n",
              "    <tr>\n",
              "      <th>12497</th>\n",
              "      <td>2</td>\n",
              "      <td>1</td>\n",
              "    </tr>\n",
              "    <tr>\n",
              "      <th>12498</th>\n",
              "      <td>2</td>\n",
              "      <td>1</td>\n",
              "    </tr>\n",
              "    <tr>\n",
              "      <th>12499</th>\n",
              "      <td>2</td>\n",
              "      <td>1</td>\n",
              "    </tr>\n",
              "    <tr>\n",
              "      <th>12500</th>\n",
              "      <td>2</td>\n",
              "      <td>1</td>\n",
              "    </tr>\n",
              "  </tbody>\n",
              "</table>\n",
              "<p>12432 rows × 2 columns</p>\n",
              "</div>\n",
              "    <div class=\"colab-df-buttons\">\n",
              "\n",
              "  <div class=\"colab-df-container\">\n",
              "    <button class=\"colab-df-convert\" onclick=\"convertToInteractive('df-4cecfbc5-46af-44a3-9193-08eec3c8cb8f')\"\n",
              "            title=\"Convert this dataframe to an interactive table.\"\n",
              "            style=\"display:none;\">\n",
              "\n",
              "  <svg xmlns=\"http://www.w3.org/2000/svg\" height=\"24px\" viewBox=\"0 -960 960 960\">\n",
              "    <path d=\"M120-120v-720h720v720H120Zm60-500h600v-160H180v160Zm220 220h160v-160H400v160Zm0 220h160v-160H400v160ZM180-400h160v-160H180v160Zm440 0h160v-160H620v160ZM180-180h160v-160H180v160Zm440 0h160v-160H620v160Z\"/>\n",
              "  </svg>\n",
              "    </button>\n",
              "\n",
              "  <style>\n",
              "    .colab-df-container {\n",
              "      display:flex;\n",
              "      gap: 12px;\n",
              "    }\n",
              "\n",
              "    .colab-df-convert {\n",
              "      background-color: #E8F0FE;\n",
              "      border: none;\n",
              "      border-radius: 50%;\n",
              "      cursor: pointer;\n",
              "      display: none;\n",
              "      fill: #1967D2;\n",
              "      height: 32px;\n",
              "      padding: 0 0 0 0;\n",
              "      width: 32px;\n",
              "    }\n",
              "\n",
              "    .colab-df-convert:hover {\n",
              "      background-color: #E2EBFA;\n",
              "      box-shadow: 0px 1px 2px rgba(60, 64, 67, 0.3), 0px 1px 3px 1px rgba(60, 64, 67, 0.15);\n",
              "      fill: #174EA6;\n",
              "    }\n",
              "\n",
              "    .colab-df-buttons div {\n",
              "      margin-bottom: 4px;\n",
              "    }\n",
              "\n",
              "    [theme=dark] .colab-df-convert {\n",
              "      background-color: #3B4455;\n",
              "      fill: #D2E3FC;\n",
              "    }\n",
              "\n",
              "    [theme=dark] .colab-df-convert:hover {\n",
              "      background-color: #434B5C;\n",
              "      box-shadow: 0px 1px 3px 1px rgba(0, 0, 0, 0.15);\n",
              "      filter: drop-shadow(0px 1px 2px rgba(0, 0, 0, 0.3));\n",
              "      fill: #FFFFFF;\n",
              "    }\n",
              "  </style>\n",
              "\n",
              "    <script>\n",
              "      const buttonEl =\n",
              "        document.querySelector('#df-4cecfbc5-46af-44a3-9193-08eec3c8cb8f button.colab-df-convert');\n",
              "      buttonEl.style.display =\n",
              "        google.colab.kernel.accessAllowed ? 'block' : 'none';\n",
              "\n",
              "      async function convertToInteractive(key) {\n",
              "        const element = document.querySelector('#df-4cecfbc5-46af-44a3-9193-08eec3c8cb8f');\n",
              "        const dataTable =\n",
              "          await google.colab.kernel.invokeFunction('convertToInteractive',\n",
              "                                                    [key], {});\n",
              "        if (!dataTable) return;\n",
              "\n",
              "        const docLinkHtml = 'Like what you see? Visit the ' +\n",
              "          '<a target=\"_blank\" href=https://colab.research.google.com/notebooks/data_table.ipynb>data table notebook</a>'\n",
              "          + ' to learn more about interactive tables.';\n",
              "        element.innerHTML = '';\n",
              "        dataTable['output_type'] = 'display_data';\n",
              "        await google.colab.output.renderOutput(dataTable, element);\n",
              "        const docLink = document.createElement('div');\n",
              "        docLink.innerHTML = docLinkHtml;\n",
              "        element.appendChild(docLink);\n",
              "      }\n",
              "    </script>\n",
              "  </div>\n",
              "\n",
              "\n",
              "<div id=\"df-de625201-718d-44f2-a517-9ea539f3774f\">\n",
              "  <button class=\"colab-df-quickchart\" onclick=\"quickchart('df-de625201-718d-44f2-a517-9ea539f3774f')\"\n",
              "            title=\"Suggest charts.\"\n",
              "            style=\"display:none;\">\n",
              "\n",
              "<svg xmlns=\"http://www.w3.org/2000/svg\" height=\"24px\"viewBox=\"0 0 24 24\"\n",
              "     width=\"24px\">\n",
              "    <g>\n",
              "        <path d=\"M19 3H5c-1.1 0-2 .9-2 2v14c0 1.1.9 2 2 2h14c1.1 0 2-.9 2-2V5c0-1.1-.9-2-2-2zM9 17H7v-7h2v7zm4 0h-2V7h2v10zm4 0h-2v-4h2v4z\"/>\n",
              "    </g>\n",
              "</svg>\n",
              "  </button>\n",
              "\n",
              "<style>\n",
              "  .colab-df-quickchart {\n",
              "      --bg-color: #E8F0FE;\n",
              "      --fill-color: #1967D2;\n",
              "      --hover-bg-color: #E2EBFA;\n",
              "      --hover-fill-color: #174EA6;\n",
              "      --disabled-fill-color: #AAA;\n",
              "      --disabled-bg-color: #DDD;\n",
              "  }\n",
              "\n",
              "  [theme=dark] .colab-df-quickchart {\n",
              "      --bg-color: #3B4455;\n",
              "      --fill-color: #D2E3FC;\n",
              "      --hover-bg-color: #434B5C;\n",
              "      --hover-fill-color: #FFFFFF;\n",
              "      --disabled-bg-color: #3B4455;\n",
              "      --disabled-fill-color: #666;\n",
              "  }\n",
              "\n",
              "  .colab-df-quickchart {\n",
              "    background-color: var(--bg-color);\n",
              "    border: none;\n",
              "    border-radius: 50%;\n",
              "    cursor: pointer;\n",
              "    display: none;\n",
              "    fill: var(--fill-color);\n",
              "    height: 32px;\n",
              "    padding: 0;\n",
              "    width: 32px;\n",
              "  }\n",
              "\n",
              "  .colab-df-quickchart:hover {\n",
              "    background-color: var(--hover-bg-color);\n",
              "    box-shadow: 0 1px 2px rgba(60, 64, 67, 0.3), 0 1px 3px 1px rgba(60, 64, 67, 0.15);\n",
              "    fill: var(--button-hover-fill-color);\n",
              "  }\n",
              "\n",
              "  .colab-df-quickchart-complete:disabled,\n",
              "  .colab-df-quickchart-complete:disabled:hover {\n",
              "    background-color: var(--disabled-bg-color);\n",
              "    fill: var(--disabled-fill-color);\n",
              "    box-shadow: none;\n",
              "  }\n",
              "\n",
              "  .colab-df-spinner {\n",
              "    border: 2px solid var(--fill-color);\n",
              "    border-color: transparent;\n",
              "    border-bottom-color: var(--fill-color);\n",
              "    animation:\n",
              "      spin 1s steps(1) infinite;\n",
              "  }\n",
              "\n",
              "  @keyframes spin {\n",
              "    0% {\n",
              "      border-color: transparent;\n",
              "      border-bottom-color: var(--fill-color);\n",
              "      border-left-color: var(--fill-color);\n",
              "    }\n",
              "    20% {\n",
              "      border-color: transparent;\n",
              "      border-left-color: var(--fill-color);\n",
              "      border-top-color: var(--fill-color);\n",
              "    }\n",
              "    30% {\n",
              "      border-color: transparent;\n",
              "      border-left-color: var(--fill-color);\n",
              "      border-top-color: var(--fill-color);\n",
              "      border-right-color: var(--fill-color);\n",
              "    }\n",
              "    40% {\n",
              "      border-color: transparent;\n",
              "      border-right-color: var(--fill-color);\n",
              "      border-top-color: var(--fill-color);\n",
              "    }\n",
              "    60% {\n",
              "      border-color: transparent;\n",
              "      border-right-color: var(--fill-color);\n",
              "    }\n",
              "    80% {\n",
              "      border-color: transparent;\n",
              "      border-right-color: var(--fill-color);\n",
              "      border-bottom-color: var(--fill-color);\n",
              "    }\n",
              "    90% {\n",
              "      border-color: transparent;\n",
              "      border-bottom-color: var(--fill-color);\n",
              "    }\n",
              "  }\n",
              "</style>\n",
              "\n",
              "  <script>\n",
              "    async function quickchart(key) {\n",
              "      const quickchartButtonEl =\n",
              "        document.querySelector('#' + key + ' button');\n",
              "      quickchartButtonEl.disabled = true;  // To prevent multiple clicks.\n",
              "      quickchartButtonEl.classList.add('colab-df-spinner');\n",
              "      try {\n",
              "        const charts = await google.colab.kernel.invokeFunction(\n",
              "            'suggestCharts', [key], {});\n",
              "      } catch (error) {\n",
              "        console.error('Error during call to suggestCharts:', error);\n",
              "      }\n",
              "      quickchartButtonEl.classList.remove('colab-df-spinner');\n",
              "      quickchartButtonEl.classList.add('colab-df-quickchart-complete');\n",
              "    }\n",
              "    (() => {\n",
              "      let quickchartButtonEl =\n",
              "        document.querySelector('#df-de625201-718d-44f2-a517-9ea539f3774f button');\n",
              "      quickchartButtonEl.style.display =\n",
              "        google.colab.kernel.accessAllowed ? 'block' : 'none';\n",
              "    })();\n",
              "  </script>\n",
              "</div>\n",
              "    </div>\n",
              "  </div>\n"
            ]
          },
          "metadata": {},
          "execution_count": 9
        }
      ]
    },
    {
      "cell_type": "code",
      "source": [
        "mod = smf.ols(formula='logingreso ~ aesc + dsexo', data=df)\n",
        "\n",
        "res = mod.fit()\n",
        "\n",
        "print(res.summary())"
      ],
      "metadata": {
        "id": "ANXDWcjyXQCN",
        "outputId": "bf7d112b-e954-4740-ba15-c7295dbc7615",
        "colab": {
          "base_uri": "https://localhost:8080/"
        }
      },
      "execution_count": 24,
      "outputs": [
        {
          "output_type": "stream",
          "name": "stdout",
          "text": [
            "                            OLS Regression Results                            \n",
            "==============================================================================\n",
            "Dep. Variable:             logingreso   R-squared:                       0.219\n",
            "Model:                            OLS   Adj. R-squared:                  0.219\n",
            "Method:                 Least Squares   F-statistic:                     1268.\n",
            "Date:                Tue, 24 Oct 2023   Prob (F-statistic):               0.00\n",
            "Time:                        01:53:35   Log-Likelihood:                -10812.\n",
            "No. Observations:                9062   AIC:                         2.163e+04\n",
            "Df Residuals:                    9059   BIC:                         2.165e+04\n",
            "Df Model:                           2                                         \n",
            "Covariance Type:            nonrobust                                         \n",
            "==============================================================================\n",
            "                 coef    std err          t      P>|t|      [0.025      0.975]\n",
            "------------------------------------------------------------------------------\n",
            "Intercept     10.0723      0.032    314.022      0.000      10.009      10.135\n",
            "aesc           0.1105      0.002     49.067      0.000       0.106       0.115\n",
            "dsexo         -0.1956      0.017    -11.640      0.000      -0.229      -0.163\n",
            "==============================================================================\n",
            "Omnibus:                     1574.462   Durbin-Watson:                   1.809\n",
            "Prob(Omnibus):                  0.000   Jarque-Bera (JB):             3898.367\n",
            "Skew:                          -0.969   Prob(JB):                         0.00\n",
            "Kurtosis:                       5.563   Cond. No.                         53.4\n",
            "==============================================================================\n",
            "\n",
            "Notes:\n",
            "[1] Standard Errors assume that the covariance matrix of the errors is correctly specified.\n"
          ]
        }
      ]
    },
    {
      "cell_type": "markdown",
      "source": [
        "Codificacion de pregunta m1 sobre lugar de nacimiento.\n",
        "![image.png](data:image/png;base64,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)"
      ],
      "metadata": {
        "id": "qx-_iiHNZ_hR"
      }
    },
    {
      "cell_type": "code",
      "source": [
        "df['dinmigrantelimit']=0\n",
        "df.loc[df.m1==5,'dinmigrantelimit']=1"
      ],
      "metadata": {
        "id": "YsHTYdhBWGVz"
      },
      "execution_count": 26,
      "outputs": []
    },
    {
      "cell_type": "code",
      "source": [
        "mod = smf.ols(formula='logingreso ~ aesc + dinmigrantelimit', data=df)\n",
        "\n",
        "res = mod.fit()\n",
        "\n",
        "print(res.summary())"
      ],
      "metadata": {
        "id": "qmkdLTiLaeew",
        "outputId": "68a5903a-5ecf-40d5-ec86-29d6406ed3a4",
        "colab": {
          "base_uri": "https://localhost:8080/"
        }
      },
      "execution_count": 29,
      "outputs": [
        {
          "output_type": "stream",
          "name": "stdout",
          "text": [
            "                            OLS Regression Results                            \n",
            "==============================================================================\n",
            "Dep. Variable:             logingreso   R-squared:                       0.211\n",
            "Model:                            OLS   Adj. R-squared:                  0.211\n",
            "Method:                 Least Squares   F-statistic:                     1211.\n",
            "Date:                Tue, 24 Oct 2023   Prob (F-statistic):               0.00\n",
            "Time:                        02:02:23   Log-Likelihood:                -10858.\n",
            "No. Observations:                9062   AIC:                         2.172e+04\n",
            "Df Residuals:                    9059   BIC:                         2.174e+04\n",
            "Df Model:                           2                                         \n",
            "Covariance Type:            nonrobust                                         \n",
            "====================================================================================\n",
            "                       coef    std err          t      P>|t|      [0.025      0.975]\n",
            "------------------------------------------------------------------------------------\n",
            "Intercept           10.0394      0.033    306.834      0.000       9.975      10.103\n",
            "aesc                 0.1066      0.002     45.648      0.000       0.102       0.111\n",
            "dinmigrantelimit    -0.1904      0.029     -6.635      0.000      -0.247      -0.134\n",
            "==============================================================================\n",
            "Omnibus:                     1504.463   Durbin-Watson:                   1.833\n",
            "Prob(Omnibus):                  0.000   Jarque-Bera (JB):             3630.970\n",
            "Skew:                          -0.938   Prob(JB):                         0.00\n",
            "Kurtosis:                       5.469   Cond. No.                         58.2\n",
            "==============================================================================\n",
            "\n",
            "Notes:\n",
            "[1] Standard Errors assume that the covariance matrix of the errors is correctly specified.\n"
          ]
        }
      ]
    },
    {
      "cell_type": "code",
      "metadata": {
        "id": "ajk2BYR8Vlrm",
        "outputId": "c62f0e04-4a1e-42b1-bb59-2cc65cc43eea",
        "colab": {
          "base_uri": "https://localhost:8080/",
          "height": 199
        }
      },
      "source": [
        "df.groupby('dinmigrantelimit')['logingreso','aesc'].count()"
      ],
      "execution_count": 27,
      "outputs": [
        {
          "output_type": "stream",
          "name": "stderr",
          "text": [
            "<ipython-input-27-3cc9305eaa70>:1: FutureWarning: Indexing with multiple keys (implicitly converted to a tuple of keys) will be deprecated, use a list instead.\n",
            "  df.groupby('dinmigrantelimit')['logingreso','aesc'].count()\n"
          ]
        },
        {
          "output_type": "execute_result",
          "data": {
            "text/plain": [
              "                  logingreso   aesc\n",
              "dinmigrantelimit                   \n",
              "0                       8136  11345\n",
              "1                        926   1087"
            ],
            "text/html": [
              "\n",
              "  <div id=\"df-c64fb8db-db64-481c-8531-f87c6e7c0724\" class=\"colab-df-container\">\n",
              "    <div>\n",
              "<style scoped>\n",
              "    .dataframe tbody tr th:only-of-type {\n",
              "        vertical-align: middle;\n",
              "    }\n",
              "\n",
              "    .dataframe tbody tr th {\n",
              "        vertical-align: top;\n",
              "    }\n",
              "\n",
              "    .dataframe thead th {\n",
              "        text-align: right;\n",
              "    }\n",
              "</style>\n",
              "<table border=\"1\" class=\"dataframe\">\n",
              "  <thead>\n",
              "    <tr style=\"text-align: right;\">\n",
              "      <th></th>\n",
              "      <th>logingreso</th>\n",
              "      <th>aesc</th>\n",
              "    </tr>\n",
              "    <tr>\n",
              "      <th>dinmigrantelimit</th>\n",
              "      <th></th>\n",
              "      <th></th>\n",
              "    </tr>\n",
              "  </thead>\n",
              "  <tbody>\n",
              "    <tr>\n",
              "      <th>0</th>\n",
              "      <td>8136</td>\n",
              "      <td>11345</td>\n",
              "    </tr>\n",
              "    <tr>\n",
              "      <th>1</th>\n",
              "      <td>926</td>\n",
              "      <td>1087</td>\n",
              "    </tr>\n",
              "  </tbody>\n",
              "</table>\n",
              "</div>\n",
              "    <div class=\"colab-df-buttons\">\n",
              "\n",
              "  <div class=\"colab-df-container\">\n",
              "    <button class=\"colab-df-convert\" onclick=\"convertToInteractive('df-c64fb8db-db64-481c-8531-f87c6e7c0724')\"\n",
              "            title=\"Convert this dataframe to an interactive table.\"\n",
              "            style=\"display:none;\">\n",
              "\n",
              "  <svg xmlns=\"http://www.w3.org/2000/svg\" height=\"24px\" viewBox=\"0 -960 960 960\">\n",
              "    <path d=\"M120-120v-720h720v720H120Zm60-500h600v-160H180v160Zm220 220h160v-160H400v160Zm0 220h160v-160H400v160ZM180-400h160v-160H180v160Zm440 0h160v-160H620v160ZM180-180h160v-160H180v160Zm440 0h160v-160H620v160Z\"/>\n",
              "  </svg>\n",
              "    </button>\n",
              "\n",
              "  <style>\n",
              "    .colab-df-container {\n",
              "      display:flex;\n",
              "      gap: 12px;\n",
              "    }\n",
              "\n",
              "    .colab-df-convert {\n",
              "      background-color: #E8F0FE;\n",
              "      border: none;\n",
              "      border-radius: 50%;\n",
              "      cursor: pointer;\n",
              "      display: none;\n",
              "      fill: #1967D2;\n",
              "      height: 32px;\n",
              "      padding: 0 0 0 0;\n",
              "      width: 32px;\n",
              "    }\n",
              "\n",
              "    .colab-df-convert:hover {\n",
              "      background-color: #E2EBFA;\n",
              "      box-shadow: 0px 1px 2px rgba(60, 64, 67, 0.3), 0px 1px 3px 1px rgba(60, 64, 67, 0.15);\n",
              "      fill: #174EA6;\n",
              "    }\n",
              "\n",
              "    .colab-df-buttons div {\n",
              "      margin-bottom: 4px;\n",
              "    }\n",
              "\n",
              "    [theme=dark] .colab-df-convert {\n",
              "      background-color: #3B4455;\n",
              "      fill: #D2E3FC;\n",
              "    }\n",
              "\n",
              "    [theme=dark] .colab-df-convert:hover {\n",
              "      background-color: #434B5C;\n",
              "      box-shadow: 0px 1px 3px 1px rgba(0, 0, 0, 0.15);\n",
              "      filter: drop-shadow(0px 1px 2px rgba(0, 0, 0, 0.3));\n",
              "      fill: #FFFFFF;\n",
              "    }\n",
              "  </style>\n",
              "\n",
              "    <script>\n",
              "      const buttonEl =\n",
              "        document.querySelector('#df-c64fb8db-db64-481c-8531-f87c6e7c0724 button.colab-df-convert');\n",
              "      buttonEl.style.display =\n",
              "        google.colab.kernel.accessAllowed ? 'block' : 'none';\n",
              "\n",
              "      async function convertToInteractive(key) {\n",
              "        const element = document.querySelector('#df-c64fb8db-db64-481c-8531-f87c6e7c0724');\n",
              "        const dataTable =\n",
              "          await google.colab.kernel.invokeFunction('convertToInteractive',\n",
              "                                                    [key], {});\n",
              "        if (!dataTable) return;\n",
              "\n",
              "        const docLinkHtml = 'Like what you see? Visit the ' +\n",
              "          '<a target=\"_blank\" href=https://colab.research.google.com/notebooks/data_table.ipynb>data table notebook</a>'\n",
              "          + ' to learn more about interactive tables.';\n",
              "        element.innerHTML = '';\n",
              "        dataTable['output_type'] = 'display_data';\n",
              "        await google.colab.output.renderOutput(dataTable, element);\n",
              "        const docLink = document.createElement('div');\n",
              "        docLink.innerHTML = docLinkHtml;\n",
              "        element.appendChild(docLink);\n",
              "      }\n",
              "    </script>\n",
              "  </div>\n",
              "\n",
              "\n",
              "<div id=\"df-531bccbf-4ff0-4e21-87ec-c729c66cd7af\">\n",
              "  <button class=\"colab-df-quickchart\" onclick=\"quickchart('df-531bccbf-4ff0-4e21-87ec-c729c66cd7af')\"\n",
              "            title=\"Suggest charts.\"\n",
              "            style=\"display:none;\">\n",
              "\n",
              "<svg xmlns=\"http://www.w3.org/2000/svg\" height=\"24px\"viewBox=\"0 0 24 24\"\n",
              "     width=\"24px\">\n",
              "    <g>\n",
              "        <path d=\"M19 3H5c-1.1 0-2 .9-2 2v14c0 1.1.9 2 2 2h14c1.1 0 2-.9 2-2V5c0-1.1-.9-2-2-2zM9 17H7v-7h2v7zm4 0h-2V7h2v10zm4 0h-2v-4h2v4z\"/>\n",
              "    </g>\n",
              "</svg>\n",
              "  </button>\n",
              "\n",
              "<style>\n",
              "  .colab-df-quickchart {\n",
              "      --bg-color: #E8F0FE;\n",
              "      --fill-color: #1967D2;\n",
              "      --hover-bg-color: #E2EBFA;\n",
              "      --hover-fill-color: #174EA6;\n",
              "      --disabled-fill-color: #AAA;\n",
              "      --disabled-bg-color: #DDD;\n",
              "  }\n",
              "\n",
              "  [theme=dark] .colab-df-quickchart {\n",
              "      --bg-color: #3B4455;\n",
              "      --fill-color: #D2E3FC;\n",
              "      --hover-bg-color: #434B5C;\n",
              "      --hover-fill-color: #FFFFFF;\n",
              "      --disabled-bg-color: #3B4455;\n",
              "      --disabled-fill-color: #666;\n",
              "  }\n",
              "\n",
              "  .colab-df-quickchart {\n",
              "    background-color: var(--bg-color);\n",
              "    border: none;\n",
              "    border-radius: 50%;\n",
              "    cursor: pointer;\n",
              "    display: none;\n",
              "    fill: var(--fill-color);\n",
              "    height: 32px;\n",
              "    padding: 0;\n",
              "    width: 32px;\n",
              "  }\n",
              "\n",
              "  .colab-df-quickchart:hover {\n",
              "    background-color: var(--hover-bg-color);\n",
              "    box-shadow: 0 1px 2px rgba(60, 64, 67, 0.3), 0 1px 3px 1px rgba(60, 64, 67, 0.15);\n",
              "    fill: var(--button-hover-fill-color);\n",
              "  }\n",
              "\n",
              "  .colab-df-quickchart-complete:disabled,\n",
              "  .colab-df-quickchart-complete:disabled:hover {\n",
              "    background-color: var(--disabled-bg-color);\n",
              "    fill: var(--disabled-fill-color);\n",
              "    box-shadow: none;\n",
              "  }\n",
              "\n",
              "  .colab-df-spinner {\n",
              "    border: 2px solid var(--fill-color);\n",
              "    border-color: transparent;\n",
              "    border-bottom-color: var(--fill-color);\n",
              "    animation:\n",
              "      spin 1s steps(1) infinite;\n",
              "  }\n",
              "\n",
              "  @keyframes spin {\n",
              "    0% {\n",
              "      border-color: transparent;\n",
              "      border-bottom-color: var(--fill-color);\n",
              "      border-left-color: var(--fill-color);\n",
              "    }\n",
              "    20% {\n",
              "      border-color: transparent;\n",
              "      border-left-color: var(--fill-color);\n",
              "      border-top-color: var(--fill-color);\n",
              "    }\n",
              "    30% {\n",
              "      border-color: transparent;\n",
              "      border-left-color: var(--fill-color);\n",
              "      border-top-color: var(--fill-color);\n",
              "      border-right-color: var(--fill-color);\n",
              "    }\n",
              "    40% {\n",
              "      border-color: transparent;\n",
              "      border-right-color: var(--fill-color);\n",
              "      border-top-color: var(--fill-color);\n",
              "    }\n",
              "    60% {\n",
              "      border-color: transparent;\n",
              "      border-right-color: var(--fill-color);\n",
              "    }\n",
              "    80% {\n",
              "      border-color: transparent;\n",
              "      border-right-color: var(--fill-color);\n",
              "      border-bottom-color: var(--fill-color);\n",
              "    }\n",
              "    90% {\n",
              "      border-color: transparent;\n",
              "      border-bottom-color: var(--fill-color);\n",
              "    }\n",
              "  }\n",
              "</style>\n",
              "\n",
              "  <script>\n",
              "    async function quickchart(key) {\n",
              "      const quickchartButtonEl =\n",
              "        document.querySelector('#' + key + ' button');\n",
              "      quickchartButtonEl.disabled = true;  // To prevent multiple clicks.\n",
              "      quickchartButtonEl.classList.add('colab-df-spinner');\n",
              "      try {\n",
              "        const charts = await google.colab.kernel.invokeFunction(\n",
              "            'suggestCharts', [key], {});\n",
              "      } catch (error) {\n",
              "        console.error('Error during call to suggestCharts:', error);\n",
              "      }\n",
              "      quickchartButtonEl.classList.remove('colab-df-spinner');\n",
              "      quickchartButtonEl.classList.add('colab-df-quickchart-complete');\n",
              "    }\n",
              "    (() => {\n",
              "      let quickchartButtonEl =\n",
              "        document.querySelector('#df-531bccbf-4ff0-4e21-87ec-c729c66cd7af button');\n",
              "      quickchartButtonEl.style.display =\n",
              "        google.colab.kernel.accessAllowed ? 'block' : 'none';\n",
              "    })();\n",
              "  </script>\n",
              "</div>\n",
              "    </div>\n",
              "  </div>\n"
            ]
          },
          "metadata": {},
          "execution_count": 27
        }
      ]
    },
    {
      "cell_type": "markdown",
      "metadata": {
        "id": "4HbYqws-Xjm_"
      },
      "source": [
        "# Ejemplo OVB\n"
      ]
    },
    {
      "cell_type": "code",
      "metadata": {
        "id": "9yt1pkXzR-yG"
      },
      "source": [
        "datosedu=pd.read_csv('https://raw.githubusercontent.com/rpasquini/urban-econometrics/master/data/estadistica-educativa.csv')"
      ],
      "execution_count": 30,
      "outputs": []
    },
    {
      "cell_type": "code",
      "metadata": {
        "id": "vO0cacNYYR8n"
      },
      "source": [
        "dummiesgestion=pd.get_dummies(datosedu.tipo_gestion)"
      ],
      "execution_count": 31,
      "outputs": []
    },
    {
      "cell_type": "code",
      "metadata": {
        "id": "FiLl_MM7XplM"
      },
      "source": [
        "datosedu=pd.concat([ datosedu, dummiesgestion],axis=1)"
      ],
      "execution_count": 32,
      "outputs": []
    },
    {
      "cell_type": "code",
      "source": [
        "mod = smf.ols(formula='iecep ~ Privada', data=datosedu)\n",
        "\n",
        "res = mod.fit()\n",
        "\n",
        "print(res.summary())"
      ],
      "metadata": {
        "id": "yFB6CcI0bj-n",
        "outputId": "78969247-14c5-40b9-d982-be58ba9e5740",
        "colab": {
          "base_uri": "https://localhost:8080/"
        }
      },
      "execution_count": 33,
      "outputs": [
        {
          "output_type": "stream",
          "name": "stdout",
          "text": [
            "                            OLS Regression Results                            \n",
            "==============================================================================\n",
            "Dep. Variable:                  iecep   R-squared:                       0.203\n",
            "Model:                            OLS   Adj. R-squared:                  0.200\n",
            "Method:                 Least Squares   F-statistic:                     77.79\n",
            "Date:                Tue, 24 Oct 2023   Prob (F-statistic):           8.89e-17\n",
            "Time:                        02:05:57   Log-Likelihood:                -487.24\n",
            "No. Observations:                 308   AIC:                             978.5\n",
            "Df Residuals:                     306   BIC:                             985.9\n",
            "Df Model:                           1                                         \n",
            "Covariance Type:            nonrobust                                         \n",
            "==============================================================================\n",
            "                 coef    std err          t      P>|t|      [0.025      0.975]\n",
            "------------------------------------------------------------------------------\n",
            "Intercept      5.2251      0.110     47.656      0.000       5.009       5.441\n",
            "Privada        1.2248      0.139      8.820      0.000       0.952       1.498\n",
            "==============================================================================\n",
            "Omnibus:                       40.664   Durbin-Watson:                   1.866\n",
            "Prob(Omnibus):                  0.000   Jarque-Bera (JB):               53.439\n",
            "Skew:                          -0.924   Prob(JB):                     2.49e-12\n",
            "Kurtosis:                       3.864   Cond. No.                         3.02\n",
            "==============================================================================\n",
            "\n",
            "Notes:\n",
            "[1] Standard Errors assume that the covariance matrix of the errors is correctly specified.\n"
          ]
        }
      ]
    },
    {
      "cell_type": "markdown",
      "metadata": {
        "id": "PSVVqNSrStmm"
      },
      "source": [
        "# Ejemplos Colinealidad\n"
      ]
    },
    {
      "cell_type": "markdown",
      "metadata": {
        "id": "3Kt0R0BDbo7w"
      },
      "source": [
        "Ejemplo en datos de educacion\n"
      ]
    },
    {
      "cell_type": "code",
      "source": [
        "mod = smf.ols(formula='tasa_repeticion_2012 ~ one_alto_mat', data=datosedu)\n",
        "\n",
        "res = mod.fit()\n",
        "\n",
        "print(res.summary())"
      ],
      "metadata": {
        "id": "t_Cx21cecAQD",
        "outputId": "195786aa-5f33-47c8-cfae-fcf8e187d15a",
        "colab": {
          "base_uri": "https://localhost:8080/"
        }
      },
      "execution_count": 34,
      "outputs": [
        {
          "output_type": "stream",
          "name": "stdout",
          "text": [
            "                             OLS Regression Results                             \n",
            "================================================================================\n",
            "Dep. Variable:     tasa_repeticion_2012   R-squared:                       0.179\n",
            "Model:                              OLS   Adj. R-squared:                  0.177\n",
            "Method:                   Least Squares   F-statistic:                     66.84\n",
            "Date:                  Tue, 24 Oct 2023   Prob (F-statistic):           7.90e-15\n",
            "Time:                          02:08:01   Log-Likelihood:                -1119.3\n",
            "No. Observations:                   308   AIC:                             2243.\n",
            "Df Residuals:                       306   BIC:                             2250.\n",
            "Df Model:                             1                                         \n",
            "Covariance Type:              nonrobust                                         \n",
            "================================================================================\n",
            "                   coef    std err          t      P>|t|      [0.025      0.975]\n",
            "--------------------------------------------------------------------------------\n",
            "Intercept       15.2180      0.901     16.886      0.000      13.445      16.991\n",
            "one_alto_mat   -23.5385      2.879     -8.176      0.000     -29.204     -17.873\n",
            "==============================================================================\n",
            "Omnibus:                       59.030   Durbin-Watson:                   1.930\n",
            "Prob(Omnibus):                  0.000   Jarque-Bera (JB):               91.831\n",
            "Skew:                           1.147   Prob(JB):                     1.15e-20\n",
            "Kurtosis:                       4.378   Cond. No.                         5.87\n",
            "==============================================================================\n",
            "\n",
            "Notes:\n",
            "[1] Standard Errors assume that the covariance matrix of the errors is correctly specified.\n"
          ]
        }
      ]
    },
    {
      "cell_type": "code",
      "source": [
        "mod = smf.ols(formula='tasa_repeticion_2012 ~ one_alto_cs_nat', data=datosedu)\n",
        "\n",
        "res = mod.fit()\n",
        "\n",
        "print(res.summary())"
      ],
      "metadata": {
        "id": "xr9JtgAEcHD3",
        "outputId": "ee37d8dc-b351-4d10-db09-021169eb818e",
        "colab": {
          "base_uri": "https://localhost:8080/"
        }
      },
      "execution_count": 35,
      "outputs": [
        {
          "output_type": "stream",
          "name": "stdout",
          "text": [
            "                             OLS Regression Results                             \n",
            "================================================================================\n",
            "Dep. Variable:     tasa_repeticion_2012   R-squared:                       0.179\n",
            "Model:                              OLS   Adj. R-squared:                  0.177\n",
            "Method:                   Least Squares   F-statistic:                     66.93\n",
            "Date:                  Tue, 24 Oct 2023   Prob (F-statistic):           7.61e-15\n",
            "Time:                          02:08:20   Log-Likelihood:                -1119.2\n",
            "No. Observations:                   308   AIC:                             2242.\n",
            "Df Residuals:                       306   BIC:                             2250.\n",
            "Df Model:                             1                                         \n",
            "Covariance Type:              nonrobust                                         \n",
            "===================================================================================\n",
            "                      coef    std err          t      P>|t|      [0.025      0.975]\n",
            "-----------------------------------------------------------------------------------\n",
            "Intercept          15.3143      0.910     16.822      0.000      13.523      17.106\n",
            "one_alto_cs_nat   -30.1352      3.683     -8.181      0.000     -37.383     -22.887\n",
            "==============================================================================\n",
            "Omnibus:                       55.703   Durbin-Watson:                   1.985\n",
            "Prob(Omnibus):                  0.000   Jarque-Bera (JB):               84.013\n",
            "Skew:                           1.108   Prob(JB):                     5.71e-19\n",
            "Kurtosis:                       4.281   Cond. No.                         7.33\n",
            "==============================================================================\n",
            "\n",
            "Notes:\n",
            "[1] Standard Errors assume that the covariance matrix of the errors is correctly specified.\n"
          ]
        }
      ]
    },
    {
      "cell_type": "code",
      "source": [
        "mod = smf.ols(formula='tasa_repeticion_2012 ~ one_alto_mat + one_alto_cs_nat + one_alto_cs_soc', data=datosedu)\n",
        "\n",
        "res = mod.fit()\n",
        "\n",
        "print(res.summary())"
      ],
      "metadata": {
        "id": "ZWFYeAGJcNES",
        "outputId": "63115878-3297-47b2-b212-c4828e4426ab",
        "colab": {
          "base_uri": "https://localhost:8080/"
        }
      },
      "execution_count": 36,
      "outputs": [
        {
          "output_type": "stream",
          "name": "stdout",
          "text": [
            "                             OLS Regression Results                             \n",
            "================================================================================\n",
            "Dep. Variable:     tasa_repeticion_2012   R-squared:                       0.228\n",
            "Model:                              OLS   Adj. R-squared:                  0.220\n",
            "Method:                   Least Squares   F-statistic:                     29.89\n",
            "Date:                  Tue, 24 Oct 2023   Prob (F-statistic):           5.80e-17\n",
            "Time:                          02:09:02   Log-Likelihood:                -1109.9\n",
            "No. Observations:                   308   AIC:                             2228.\n",
            "Df Residuals:                       304   BIC:                             2243.\n",
            "Df Model:                             3                                         \n",
            "Covariance Type:              nonrobust                                         \n",
            "===================================================================================\n",
            "                      coef    std err          t      P>|t|      [0.025      0.975]\n",
            "-----------------------------------------------------------------------------------\n",
            "Intercept          17.5814      1.044     16.839      0.000      15.527      19.636\n",
            "one_alto_mat       -9.4725      4.373     -2.166      0.031     -18.078      -0.867\n",
            "one_alto_cs_nat   -10.0345      5.878     -1.707      0.089     -21.601       1.531\n",
            "one_alto_cs_soc   -13.5609      4.698     -2.886      0.004     -22.806      -4.316\n",
            "==============================================================================\n",
            "Omnibus:                       53.961   Durbin-Watson:                   1.978\n",
            "Prob(Omnibus):                  0.000   Jarque-Bera (JB):               81.254\n",
            "Skew:                           1.072   Prob(JB):                     2.27e-18\n",
            "Kurtosis:                       4.316   Cond. No.                         14.3\n",
            "==============================================================================\n",
            "\n",
            "Notes:\n",
            "[1] Standard Errors assume that the covariance matrix of the errors is correctly specified.\n"
          ]
        }
      ]
    }
  ]
}