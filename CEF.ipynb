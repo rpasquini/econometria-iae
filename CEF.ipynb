{
  "nbformat": 4,
  "nbformat_minor": 0,
  "metadata": {
    "colab": {
      "provenance": [],
      "authorship_tag": "ABX9TyNm/bvKaBdHBqyfIjWlijqJ",
      "include_colab_link": true
    },
    "kernelspec": {
      "name": "python3",
      "display_name": "Python 3"
    }
  },
  "cells": [
    {
      "cell_type": "markdown",
      "metadata": {
        "id": "view-in-github",
        "colab_type": "text"
      },
      "source": [
        "<a href=\"https://colab.research.google.com/github/rpasquini/econometria-iae/blob/main/CEF.ipynb\" target=\"_parent\"><img src=\"https://colab.research.google.com/assets/colab-badge.svg\" alt=\"Open In Colab\"/></a>"
      ]
    },
    {
      "cell_type": "code",
      "metadata": {
        "id": "QKbRffkNpDKO",
        "outputId": "01262349-a556-45a6-c155-edec22897be6",
        "colab": {
          "base_uri": "https://localhost:8080/"
        }
      },
      "source": [
        "print('hola')"
      ],
      "execution_count": null,
      "outputs": [
        {
          "output_type": "stream",
          "name": "stdout",
          "text": [
            "hola\n"
          ]
        }
      ]
    },
    {
      "cell_type": "markdown",
      "source": [
        "# Introducción\n",
        "En este notebook introduciremos algunas de las principales librerías con las que vamos a estar trabajando."
      ],
      "metadata": {
        "id": "56mfRVBzXYiA"
      }
    },
    {
      "cell_type": "markdown",
      "source": [
        "## Donde estamos\n",
        "Nuestro ambiente de trabajo ahora es un notebook que permite correr codigo, procesar datos, imprimir gráficos, etc. Estos notebooks en general se conocen como \"Jupyter notebooks\" y tienen como particularidad que el entorno visual en el que trabajan vive en el navegador. En este momento además, el notebook con el que trabajan \"vive en la nube\" de Google Colaboratory. Utiliza recursos de la nube de Google para procesar los datos, etc. Para trabajar con nuestros propios datos tendremos que hacerlos accesibles a Google Colab (subiendo los datos al Colab o subiendo los datos a otro servidor al cual las librerias que usemos puedan acceder)\n",
        "\n",
        "Comentarios relacionados:\n",
        "\n",
        "* Como dijimos el notebook es solo un entorno visual. En este notebook vamos a trabajar con librerias de análisis cuantitativo construidas sobre el lenguaje Python. Los notebooks de Colab tambien pueden correr código de R.\n",
        "\n",
        "* Trabajar en la nube \"Colab\" es conveniente para una clase. También es posible (y a veces necesario) trabajar con un Jupyter Notebook instalado \"localmente\" en sus computadoras.\n",
        "\n",
        "* El ambiente virtual provisto por Google Colab va a borrar todo el contenido que se aloje en la memoria virtual después de un rato de inactividad. Lo unico que se mantiene es lo que está escrito en el notebook (el codigo y el texto explicativo). Esto implica que el notebook debe contener todo el codigo desde la carga de los datos hasta su resultado final para que pueda ser reproducido en cualquier momento."
      ],
      "metadata": {
        "id": "8V4XhlaJXec-"
      }
    },
    {
      "cell_type": "markdown",
      "source": [
        "# Librerías con las que vamos a trabajar\n",
        "\n",
        "Vamos a arrancar con estas:\n",
        "\n",
        "- Pandas: Una de las principales librerías para trabajar y manipular datos en Python en forma tabular (llamados **dataframes** y usualmente abreviados **df**)\n",
        "- Geopandas: Una libreria que busca ser similar a Pandas pero adaptada adicionalmente a  datos con una dimensión geográfica. A los objetos de geopandas los llamamos **geodataframes**.\n",
        "- StatsModels: Una librería para procesamientos estadísticos.\n",
        "\n",
        "Al respecto del uso de librerías, además debemos tener en cuenta:\n",
        "\n",
        "- En general para usar las librerías tienen que estar *instaladas* y además *importadas * al ambiente de trabajo en el que estemos.\n",
        "- Los Notebooks de Colab vienen con algunas librerías preinstaladas. Solo será necesario importarlas. Para las que no, será necesario instalarlas ( usando un comando de instalacion llamado *pip*)."
      ],
      "metadata": {
        "id": "PpiHrlXwXyTe"
      }
    },
    {
      "cell_type": "code",
      "source": [
        "import pandas as pd"
      ],
      "metadata": {
        "id": "ifdcIBZ-Ykds"
      },
      "execution_count": 2,
      "outputs": []
    },
    {
      "cell_type": "code",
      "source": [
        "df=pd.read_csv('https://github.com/rpasquini/econometria-iae/blob/main/datos/eah2022_bu_ampliada_ind.txt?raw=true',sep=';')"
      ],
      "metadata": {
        "id": "TkrNN7krfK_F"
      },
      "execution_count": 4,
      "outputs": []
    },
    {
      "cell_type": "code",
      "source": [
        "df"
      ],
      "metadata": {
        "colab": {
          "base_uri": "https://localhost:8080/",
          "height": 423
        },
        "id": "AnbsHCANZINF",
        "outputId": "b0c93a4b-0624-485f-b83a-3275cb8b3155"
      },
      "execution_count": 5,
      "outputs": [
        {
          "output_type": "execute_result",
          "data": {
            "text/plain": [
              "         id  nhogar  miembro  comuna  dominio  edad  sexo  parentes_2  p5_2  \\\n",
              "0         1       1        1       8        3    18     2           1     6   \n",
              "1         1       1        2       8        3    22     1           7     6   \n",
              "2         1       1        3       8        3    45     1           6     3   \n",
              "3         2       1        1       5        4    18     2           1     6   \n",
              "4         3       1        1       2        4    18     1           1     6   \n",
              "...     ...     ...      ...     ...      ...   ...   ...         ...   ...   \n",
              "12496  5373       1        1       8        4    95     2           1     4   \n",
              "12497  5374       1        1       7        4    98     2           1     4   \n",
              "12498  5374       1        2       7        4    76     2           7     3   \n",
              "12499  5375       1        1      15        4   100     2           1     4   \n",
              "12500  5375       1        2      15        4    50     2           9     3   \n",
              "\n",
              "       p6_a  ...  t50d_a  t50d_b  t50d_c  t50d_d  t50d_e  t50d_f  t51_d  \\\n",
              "0         3  ...       0       0       0       0       0       0      0   \n",
              "1         3  ...       0       0       0       0       0       0      0   \n",
              "2         0  ...       0       0       0       0       0       0      0   \n",
              "3        95  ...       0       0       0       0       0       0      0   \n",
              "4        95  ...       0       0       0       0       0       0      0   \n",
              "...     ...  ...     ...     ...     ...     ...     ...     ...    ...   \n",
              "12496     0  ...       0       0       0       0       0       0      0   \n",
              "12497     0  ...       0       0       0       0       0       0      0   \n",
              "12498     0  ...       0       0       0       0       0       0      0   \n",
              "12499     0  ...       0       0       0       0       0       0      0   \n",
              "12500     0  ...       0       0       0       0       0       0      0   \n",
              "\n",
              "       t23_1_cod  t24_1_cod  fexp  \n",
              "0              0          0    16  \n",
              "1              0          0    16  \n",
              "2              0          0    16  \n",
              "3              0          0   357  \n",
              "4              0          0   106  \n",
              "...          ...        ...   ...  \n",
              "12496          0          0    40  \n",
              "12497          0          0   205  \n",
              "12498          0          0   205  \n",
              "12499          0          0   165  \n",
              "12500          0          0   165  \n",
              "\n",
              "[12501 rows x 140 columns]"
            ],
            "text/html": [
              "\n",
              "  <div id=\"df-a7629f7f-c20f-4fe2-9759-da2ff8ad3f64\" class=\"colab-df-container\">\n",
              "    <div>\n",
              "<style scoped>\n",
              "    .dataframe tbody tr th:only-of-type {\n",
              "        vertical-align: middle;\n",
              "    }\n",
              "\n",
              "    .dataframe tbody tr th {\n",
              "        vertical-align: top;\n",
              "    }\n",
              "\n",
              "    .dataframe thead th {\n",
              "        text-align: right;\n",
              "    }\n",
              "</style>\n",
              "<table border=\"1\" class=\"dataframe\">\n",
              "  <thead>\n",
              "    <tr style=\"text-align: right;\">\n",
              "      <th></th>\n",
              "      <th>id</th>\n",
              "      <th>nhogar</th>\n",
              "      <th>miembro</th>\n",
              "      <th>comuna</th>\n",
              "      <th>dominio</th>\n",
              "      <th>edad</th>\n",
              "      <th>sexo</th>\n",
              "      <th>parentes_2</th>\n",
              "      <th>p5_2</th>\n",
              "      <th>p6_a</th>\n",
              "      <th>...</th>\n",
              "      <th>t50d_a</th>\n",
              "      <th>t50d_b</th>\n",
              "      <th>t50d_c</th>\n",
              "      <th>t50d_d</th>\n",
              "      <th>t50d_e</th>\n",
              "      <th>t50d_f</th>\n",
              "      <th>t51_d</th>\n",
              "      <th>t23_1_cod</th>\n",
              "      <th>t24_1_cod</th>\n",
              "      <th>fexp</th>\n",
              "    </tr>\n",
              "  </thead>\n",
              "  <tbody>\n",
              "    <tr>\n",
              "      <th>0</th>\n",
              "      <td>1</td>\n",
              "      <td>1</td>\n",
              "      <td>1</td>\n",
              "      <td>8</td>\n",
              "      <td>3</td>\n",
              "      <td>18</td>\n",
              "      <td>2</td>\n",
              "      <td>1</td>\n",
              "      <td>6</td>\n",
              "      <td>3</td>\n",
              "      <td>...</td>\n",
              "      <td>0</td>\n",
              "      <td>0</td>\n",
              "      <td>0</td>\n",
              "      <td>0</td>\n",
              "      <td>0</td>\n",
              "      <td>0</td>\n",
              "      <td>0</td>\n",
              "      <td>0</td>\n",
              "      <td>0</td>\n",
              "      <td>16</td>\n",
              "    </tr>\n",
              "    <tr>\n",
              "      <th>1</th>\n",
              "      <td>1</td>\n",
              "      <td>1</td>\n",
              "      <td>2</td>\n",
              "      <td>8</td>\n",
              "      <td>3</td>\n",
              "      <td>22</td>\n",
              "      <td>1</td>\n",
              "      <td>7</td>\n",
              "      <td>6</td>\n",
              "      <td>3</td>\n",
              "      <td>...</td>\n",
              "      <td>0</td>\n",
              "      <td>0</td>\n",
              "      <td>0</td>\n",
              "      <td>0</td>\n",
              "      <td>0</td>\n",
              "      <td>0</td>\n",
              "      <td>0</td>\n",
              "      <td>0</td>\n",
              "      <td>0</td>\n",
              "      <td>16</td>\n",
              "    </tr>\n",
              "    <tr>\n",
              "      <th>2</th>\n",
              "      <td>1</td>\n",
              "      <td>1</td>\n",
              "      <td>3</td>\n",
              "      <td>8</td>\n",
              "      <td>3</td>\n",
              "      <td>45</td>\n",
              "      <td>1</td>\n",
              "      <td>6</td>\n",
              "      <td>3</td>\n",
              "      <td>0</td>\n",
              "      <td>...</td>\n",
              "      <td>0</td>\n",
              "      <td>0</td>\n",
              "      <td>0</td>\n",
              "      <td>0</td>\n",
              "      <td>0</td>\n",
              "      <td>0</td>\n",
              "      <td>0</td>\n",
              "      <td>0</td>\n",
              "      <td>0</td>\n",
              "      <td>16</td>\n",
              "    </tr>\n",
              "    <tr>\n",
              "      <th>3</th>\n",
              "      <td>2</td>\n",
              "      <td>1</td>\n",
              "      <td>1</td>\n",
              "      <td>5</td>\n",
              "      <td>4</td>\n",
              "      <td>18</td>\n",
              "      <td>2</td>\n",
              "      <td>1</td>\n",
              "      <td>6</td>\n",
              "      <td>95</td>\n",
              "      <td>...</td>\n",
              "      <td>0</td>\n",
              "      <td>0</td>\n",
              "      <td>0</td>\n",
              "      <td>0</td>\n",
              "      <td>0</td>\n",
              "      <td>0</td>\n",
              "      <td>0</td>\n",
              "      <td>0</td>\n",
              "      <td>0</td>\n",
              "      <td>357</td>\n",
              "    </tr>\n",
              "    <tr>\n",
              "      <th>4</th>\n",
              "      <td>3</td>\n",
              "      <td>1</td>\n",
              "      <td>1</td>\n",
              "      <td>2</td>\n",
              "      <td>4</td>\n",
              "      <td>18</td>\n",
              "      <td>1</td>\n",
              "      <td>1</td>\n",
              "      <td>6</td>\n",
              "      <td>95</td>\n",
              "      <td>...</td>\n",
              "      <td>0</td>\n",
              "      <td>0</td>\n",
              "      <td>0</td>\n",
              "      <td>0</td>\n",
              "      <td>0</td>\n",
              "      <td>0</td>\n",
              "      <td>0</td>\n",
              "      <td>0</td>\n",
              "      <td>0</td>\n",
              "      <td>106</td>\n",
              "    </tr>\n",
              "    <tr>\n",
              "      <th>...</th>\n",
              "      <td>...</td>\n",
              "      <td>...</td>\n",
              "      <td>...</td>\n",
              "      <td>...</td>\n",
              "      <td>...</td>\n",
              "      <td>...</td>\n",
              "      <td>...</td>\n",
              "      <td>...</td>\n",
              "      <td>...</td>\n",
              "      <td>...</td>\n",
              "      <td>...</td>\n",
              "      <td>...</td>\n",
              "      <td>...</td>\n",
              "      <td>...</td>\n",
              "      <td>...</td>\n",
              "      <td>...</td>\n",
              "      <td>...</td>\n",
              "      <td>...</td>\n",
              "      <td>...</td>\n",
              "      <td>...</td>\n",
              "      <td>...</td>\n",
              "    </tr>\n",
              "    <tr>\n",
              "      <th>12496</th>\n",
              "      <td>5373</td>\n",
              "      <td>1</td>\n",
              "      <td>1</td>\n",
              "      <td>8</td>\n",
              "      <td>4</td>\n",
              "      <td>95</td>\n",
              "      <td>2</td>\n",
              "      <td>1</td>\n",
              "      <td>4</td>\n",
              "      <td>0</td>\n",
              "      <td>...</td>\n",
              "      <td>0</td>\n",
              "      <td>0</td>\n",
              "      <td>0</td>\n",
              "      <td>0</td>\n",
              "      <td>0</td>\n",
              "      <td>0</td>\n",
              "      <td>0</td>\n",
              "      <td>0</td>\n",
              "      <td>0</td>\n",
              "      <td>40</td>\n",
              "    </tr>\n",
              "    <tr>\n",
              "      <th>12497</th>\n",
              "      <td>5374</td>\n",
              "      <td>1</td>\n",
              "      <td>1</td>\n",
              "      <td>7</td>\n",
              "      <td>4</td>\n",
              "      <td>98</td>\n",
              "      <td>2</td>\n",
              "      <td>1</td>\n",
              "      <td>4</td>\n",
              "      <td>0</td>\n",
              "      <td>...</td>\n",
              "      <td>0</td>\n",
              "      <td>0</td>\n",
              "      <td>0</td>\n",
              "      <td>0</td>\n",
              "      <td>0</td>\n",
              "      <td>0</td>\n",
              "      <td>0</td>\n",
              "      <td>0</td>\n",
              "      <td>0</td>\n",
              "      <td>205</td>\n",
              "    </tr>\n",
              "    <tr>\n",
              "      <th>12498</th>\n",
              "      <td>5374</td>\n",
              "      <td>1</td>\n",
              "      <td>2</td>\n",
              "      <td>7</td>\n",
              "      <td>4</td>\n",
              "      <td>76</td>\n",
              "      <td>2</td>\n",
              "      <td>7</td>\n",
              "      <td>3</td>\n",
              "      <td>0</td>\n",
              "      <td>...</td>\n",
              "      <td>0</td>\n",
              "      <td>0</td>\n",
              "      <td>0</td>\n",
              "      <td>0</td>\n",
              "      <td>0</td>\n",
              "      <td>0</td>\n",
              "      <td>0</td>\n",
              "      <td>0</td>\n",
              "      <td>0</td>\n",
              "      <td>205</td>\n",
              "    </tr>\n",
              "    <tr>\n",
              "      <th>12499</th>\n",
              "      <td>5375</td>\n",
              "      <td>1</td>\n",
              "      <td>1</td>\n",
              "      <td>15</td>\n",
              "      <td>4</td>\n",
              "      <td>100</td>\n",
              "      <td>2</td>\n",
              "      <td>1</td>\n",
              "      <td>4</td>\n",
              "      <td>0</td>\n",
              "      <td>...</td>\n",
              "      <td>0</td>\n",
              "      <td>0</td>\n",
              "      <td>0</td>\n",
              "      <td>0</td>\n",
              "      <td>0</td>\n",
              "      <td>0</td>\n",
              "      <td>0</td>\n",
              "      <td>0</td>\n",
              "      <td>0</td>\n",
              "      <td>165</td>\n",
              "    </tr>\n",
              "    <tr>\n",
              "      <th>12500</th>\n",
              "      <td>5375</td>\n",
              "      <td>1</td>\n",
              "      <td>2</td>\n",
              "      <td>15</td>\n",
              "      <td>4</td>\n",
              "      <td>50</td>\n",
              "      <td>2</td>\n",
              "      <td>9</td>\n",
              "      <td>3</td>\n",
              "      <td>0</td>\n",
              "      <td>...</td>\n",
              "      <td>0</td>\n",
              "      <td>0</td>\n",
              "      <td>0</td>\n",
              "      <td>0</td>\n",
              "      <td>0</td>\n",
              "      <td>0</td>\n",
              "      <td>0</td>\n",
              "      <td>0</td>\n",
              "      <td>0</td>\n",
              "      <td>165</td>\n",
              "    </tr>\n",
              "  </tbody>\n",
              "</table>\n",
              "<p>12501 rows × 140 columns</p>\n",
              "</div>\n",
              "    <div class=\"colab-df-buttons\">\n",
              "\n",
              "  <div class=\"colab-df-container\">\n",
              "    <button class=\"colab-df-convert\" onclick=\"convertToInteractive('df-a7629f7f-c20f-4fe2-9759-da2ff8ad3f64')\"\n",
              "            title=\"Convert this dataframe to an interactive table.\"\n",
              "            style=\"display:none;\">\n",
              "\n",
              "  <svg xmlns=\"http://www.w3.org/2000/svg\" height=\"24px\" viewBox=\"0 -960 960 960\">\n",
              "    <path d=\"M120-120v-720h720v720H120Zm60-500h600v-160H180v160Zm220 220h160v-160H400v160Zm0 220h160v-160H400v160ZM180-400h160v-160H180v160Zm440 0h160v-160H620v160ZM180-180h160v-160H180v160Zm440 0h160v-160H620v160Z\"/>\n",
              "  </svg>\n",
              "    </button>\n",
              "\n",
              "  <style>\n",
              "    .colab-df-container {\n",
              "      display:flex;\n",
              "      gap: 12px;\n",
              "    }\n",
              "\n",
              "    .colab-df-convert {\n",
              "      background-color: #E8F0FE;\n",
              "      border: none;\n",
              "      border-radius: 50%;\n",
              "      cursor: pointer;\n",
              "      display: none;\n",
              "      fill: #1967D2;\n",
              "      height: 32px;\n",
              "      padding: 0 0 0 0;\n",
              "      width: 32px;\n",
              "    }\n",
              "\n",
              "    .colab-df-convert:hover {\n",
              "      background-color: #E2EBFA;\n",
              "      box-shadow: 0px 1px 2px rgba(60, 64, 67, 0.3), 0px 1px 3px 1px rgba(60, 64, 67, 0.15);\n",
              "      fill: #174EA6;\n",
              "    }\n",
              "\n",
              "    .colab-df-buttons div {\n",
              "      margin-bottom: 4px;\n",
              "    }\n",
              "\n",
              "    [theme=dark] .colab-df-convert {\n",
              "      background-color: #3B4455;\n",
              "      fill: #D2E3FC;\n",
              "    }\n",
              "\n",
              "    [theme=dark] .colab-df-convert:hover {\n",
              "      background-color: #434B5C;\n",
              "      box-shadow: 0px 1px 3px 1px rgba(0, 0, 0, 0.15);\n",
              "      filter: drop-shadow(0px 1px 2px rgba(0, 0, 0, 0.3));\n",
              "      fill: #FFFFFF;\n",
              "    }\n",
              "  </style>\n",
              "\n",
              "    <script>\n",
              "      const buttonEl =\n",
              "        document.querySelector('#df-a7629f7f-c20f-4fe2-9759-da2ff8ad3f64 button.colab-df-convert');\n",
              "      buttonEl.style.display =\n",
              "        google.colab.kernel.accessAllowed ? 'block' : 'none';\n",
              "\n",
              "      async function convertToInteractive(key) {\n",
              "        const element = document.querySelector('#df-a7629f7f-c20f-4fe2-9759-da2ff8ad3f64');\n",
              "        const dataTable =\n",
              "          await google.colab.kernel.invokeFunction('convertToInteractive',\n",
              "                                                    [key], {});\n",
              "        if (!dataTable) return;\n",
              "\n",
              "        const docLinkHtml = 'Like what you see? Visit the ' +\n",
              "          '<a target=\"_blank\" href=https://colab.research.google.com/notebooks/data_table.ipynb>data table notebook</a>'\n",
              "          + ' to learn more about interactive tables.';\n",
              "        element.innerHTML = '';\n",
              "        dataTable['output_type'] = 'display_data';\n",
              "        await google.colab.output.renderOutput(dataTable, element);\n",
              "        const docLink = document.createElement('div');\n",
              "        docLink.innerHTML = docLinkHtml;\n",
              "        element.appendChild(docLink);\n",
              "      }\n",
              "    </script>\n",
              "  </div>\n",
              "\n",
              "\n",
              "<div id=\"df-9856f458-6f9c-41bf-8b9d-fb4158e09258\">\n",
              "  <button class=\"colab-df-quickchart\" onclick=\"quickchart('df-9856f458-6f9c-41bf-8b9d-fb4158e09258')\"\n",
              "            title=\"Suggest charts.\"\n",
              "            style=\"display:none;\">\n",
              "\n",
              "<svg xmlns=\"http://www.w3.org/2000/svg\" height=\"24px\"viewBox=\"0 0 24 24\"\n",
              "     width=\"24px\">\n",
              "    <g>\n",
              "        <path d=\"M19 3H5c-1.1 0-2 .9-2 2v14c0 1.1.9 2 2 2h14c1.1 0 2-.9 2-2V5c0-1.1-.9-2-2-2zM9 17H7v-7h2v7zm4 0h-2V7h2v10zm4 0h-2v-4h2v4z\"/>\n",
              "    </g>\n",
              "</svg>\n",
              "  </button>\n",
              "\n",
              "<style>\n",
              "  .colab-df-quickchart {\n",
              "      --bg-color: #E8F0FE;\n",
              "      --fill-color: #1967D2;\n",
              "      --hover-bg-color: #E2EBFA;\n",
              "      --hover-fill-color: #174EA6;\n",
              "      --disabled-fill-color: #AAA;\n",
              "      --disabled-bg-color: #DDD;\n",
              "  }\n",
              "\n",
              "  [theme=dark] .colab-df-quickchart {\n",
              "      --bg-color: #3B4455;\n",
              "      --fill-color: #D2E3FC;\n",
              "      --hover-bg-color: #434B5C;\n",
              "      --hover-fill-color: #FFFFFF;\n",
              "      --disabled-bg-color: #3B4455;\n",
              "      --disabled-fill-color: #666;\n",
              "  }\n",
              "\n",
              "  .colab-df-quickchart {\n",
              "    background-color: var(--bg-color);\n",
              "    border: none;\n",
              "    border-radius: 50%;\n",
              "    cursor: pointer;\n",
              "    display: none;\n",
              "    fill: var(--fill-color);\n",
              "    height: 32px;\n",
              "    padding: 0;\n",
              "    width: 32px;\n",
              "  }\n",
              "\n",
              "  .colab-df-quickchart:hover {\n",
              "    background-color: var(--hover-bg-color);\n",
              "    box-shadow: 0 1px 2px rgba(60, 64, 67, 0.3), 0 1px 3px 1px rgba(60, 64, 67, 0.15);\n",
              "    fill: var(--button-hover-fill-color);\n",
              "  }\n",
              "\n",
              "  .colab-df-quickchart-complete:disabled,\n",
              "  .colab-df-quickchart-complete:disabled:hover {\n",
              "    background-color: var(--disabled-bg-color);\n",
              "    fill: var(--disabled-fill-color);\n",
              "    box-shadow: none;\n",
              "  }\n",
              "\n",
              "  .colab-df-spinner {\n",
              "    border: 2px solid var(--fill-color);\n",
              "    border-color: transparent;\n",
              "    border-bottom-color: var(--fill-color);\n",
              "    animation:\n",
              "      spin 1s steps(1) infinite;\n",
              "  }\n",
              "\n",
              "  @keyframes spin {\n",
              "    0% {\n",
              "      border-color: transparent;\n",
              "      border-bottom-color: var(--fill-color);\n",
              "      border-left-color: var(--fill-color);\n",
              "    }\n",
              "    20% {\n",
              "      border-color: transparent;\n",
              "      border-left-color: var(--fill-color);\n",
              "      border-top-color: var(--fill-color);\n",
              "    }\n",
              "    30% {\n",
              "      border-color: transparent;\n",
              "      border-left-color: var(--fill-color);\n",
              "      border-top-color: var(--fill-color);\n",
              "      border-right-color: var(--fill-color);\n",
              "    }\n",
              "    40% {\n",
              "      border-color: transparent;\n",
              "      border-right-color: var(--fill-color);\n",
              "      border-top-color: var(--fill-color);\n",
              "    }\n",
              "    60% {\n",
              "      border-color: transparent;\n",
              "      border-right-color: var(--fill-color);\n",
              "    }\n",
              "    80% {\n",
              "      border-color: transparent;\n",
              "      border-right-color: var(--fill-color);\n",
              "      border-bottom-color: var(--fill-color);\n",
              "    }\n",
              "    90% {\n",
              "      border-color: transparent;\n",
              "      border-bottom-color: var(--fill-color);\n",
              "    }\n",
              "  }\n",
              "</style>\n",
              "\n",
              "  <script>\n",
              "    async function quickchart(key) {\n",
              "      const quickchartButtonEl =\n",
              "        document.querySelector('#' + key + ' button');\n",
              "      quickchartButtonEl.disabled = true;  // To prevent multiple clicks.\n",
              "      quickchartButtonEl.classList.add('colab-df-spinner');\n",
              "      try {\n",
              "        const charts = await google.colab.kernel.invokeFunction(\n",
              "            'suggestCharts', [key], {});\n",
              "      } catch (error) {\n",
              "        console.error('Error during call to suggestCharts:', error);\n",
              "      }\n",
              "      quickchartButtonEl.classList.remove('colab-df-spinner');\n",
              "      quickchartButtonEl.classList.add('colab-df-quickchart-complete');\n",
              "    }\n",
              "    (() => {\n",
              "      let quickchartButtonEl =\n",
              "        document.querySelector('#df-9856f458-6f9c-41bf-8b9d-fb4158e09258 button');\n",
              "      quickchartButtonEl.style.display =\n",
              "        google.colab.kernel.accessAllowed ? 'block' : 'none';\n",
              "    })();\n",
              "  </script>\n",
              "</div>\n",
              "    </div>\n",
              "  </div>\n"
            ]
          },
          "metadata": {},
          "execution_count": 5
        }
      ]
    },
    {
      "cell_type": "code",
      "source": [
        "df['ingtot_2'].hist()"
      ],
      "metadata": {
        "colab": {
          "base_uri": "https://localhost:8080/",
          "height": 448
        },
        "id": "JJYh5jieZXwn",
        "outputId": "8c461655-13c8-41d3-f602-452ee7d97664"
      },
      "execution_count": null,
      "outputs": [
        {
          "output_type": "execute_result",
          "data": {
            "text/plain": [
              "<Axes: >"
            ]
          },
          "metadata": {},
          "execution_count": 5
        },
        {
          "output_type": "display_data",
          "data": {
            "text/plain": [
              "<Figure size 640x480 with 1 Axes>"
            ],
            "image/png": "[encoded data removed]"
          },
          "metadata": {}
        }
      ]
    },
    {
      "cell_type": "code",
      "source": [
        "import numpy as np"
      ],
      "metadata": {
        "id": "399Xo1Pva2Ny"
      },
      "execution_count": null,
      "outputs": []
    },
    {
      "cell_type": "code",
      "source": [
        "df['logingreso']=np.where(df['ingtot_2']>0,np.log(df['ingtot_2']),np.nan)"
      ],
      "metadata": {
        "colab": {
          "base_uri": "https://localhost:8080/"
        },
        "id": "jjVAODk7a4YM",
        "outputId": "7ffa9a82-f227-4195-8feb-c8b141768338"
      },
      "execution_count": null,
      "outputs": [
        {
          "output_type": "stream",
          "name": "stderr",
          "text": [
            "/usr/local/lib/python3.10/dist-packages/pandas/core/arraylike.py:402: RuntimeWarning: divide by zero encountered in log\n",
            "  result = getattr(ufunc, method)(*inputs, **kwargs)\n"
          ]
        }
      ]
    },
    {
      "cell_type": "code",
      "source": [
        "df['logingreso'].hist()"
      ],
      "metadata": {
        "colab": {
          "base_uri": "https://localhost:8080/",
          "height": 448
        },
        "id": "Vta6OV8AbFgI",
        "outputId": "003f2fe9-1a37-494b-a00d-ae1f8dafa4f6"
      },
      "execution_count": null,
      "outputs": [
        {
          "output_type": "execute_result",
          "data": {
            "text/plain": [
              "<Axes: >"
            ]
          },
          "metadata": {},
          "execution_count": 8
        },
        {
          "output_type": "display_data",
          "data": {
            "text/plain": [
              "<Figure size 640x480 with 1 Axes>"
            ],
            "image/png": "[encoded data removed]"
          },
          "metadata": {}
        }
      ]
    },
    {
      "cell_type": "code",
      "metadata": {
        "id": "jVg9ciQtyMVj",
        "outputId": "9fcd03fc-539c-42cb-fa92-5acaf50c30db",
        "colab": {
          "base_uri": "https://localhost:8080/",
          "height": 235
        }
      },
      "source": [
        "# dataframe\n",
        "df.head()"
      ],
      "execution_count": null,
      "outputs": [
        {
          "output_type": "execute_result",
          "data": {
            "text/plain": [
              "   id  nhogar  miembro  comuna                                 dominio  edad  \\\n",
              "0   1       1        1      13                            resto ciudad    18   \n",
              "1   2       1        1       1                            resto ciudad    18   \n",
              "2   3       1        1       6  inquilinatos hoteles inmuebles tomados    18   \n",
              "3   4       1        1      14                            resto ciudad    18   \n",
              "4   5       1        1       2                            resto ciudad    18   \n",
              "\n",
              "    sexo  parentes_2  p5_2  p6_a  ...  s8 sn14       sn16  s28  s29  fexp  \\\n",
              "0  mujer           1     6    95  ...   2    0  Excelente    2    0   973   \n",
              "1  varon           1     6    95  ...   2    0  Excelente    0    0   115   \n",
              "2  mujer           1     6    95  ...   2    0  Excelente    2    0   223   \n",
              "3  varon           1     6    95  ...   2    0  Excelente    0    0   421   \n",
              "4  varon           1     6    95  ...   2    0      Bueno    0    0   199   \n",
              "\n",
              "   sexotexto  inmigrante  logingreso  dsex  \n",
              "0      mujer  nativo arg    8.384804     1  \n",
              "1      varon  inmigrante    9.104980     0  \n",
              "2      mujer  inmigrante    8.482602     1  \n",
              "3      varon  nativo arg    9.615805     0  \n",
              "4      varon  nativo arg    9.615805     0  \n",
              "\n",
              "[5 rows x 96 columns]"
            ],
            "text/html": [
              "\n",
              "  <div id=\"df-6bd7fbb7-09e3-44ea-bc7f-65a3fc36c221\" class=\"colab-df-container\">\n",
              "    <div>\n",
              "<style scoped>\n",
              "    .dataframe tbody tr th:only-of-type {\n",
              "        vertical-align: middle;\n",
              "    }\n",
              "\n",
              "    .dataframe tbody tr th {\n",
              "        vertical-align: top;\n",
              "    }\n",
              "\n",
              "    .dataframe thead th {\n",
              "        text-align: right;\n",
              "    }\n",
              "</style>\n",
              "<table border=\"1\" class=\"dataframe\">\n",
              "  <thead>\n",
              "    <tr style=\"text-align: right;\">\n",
              "      <th></th>\n",
              "      <th>id</th>\n",
              "      <th>nhogar</th>\n",
              "      <th>miembro</th>\n",
              "      <th>comuna</th>\n",
              "      <th>dominio</th>\n",
              "      <th>edad</th>\n",
              "      <th>sexo</th>\n",
              "      <th>parentes_2</th>\n",
              "      <th>p5_2</th>\n",
              "      <th>p6_a</th>\n",
              "      <th>...</th>\n",
              "      <th>s8</th>\n",
              "      <th>sn14</th>\n",
              "      <th>sn16</th>\n",
              "      <th>s28</th>\n",
              "      <th>s29</th>\n",
              "      <th>fexp</th>\n",
              "      <th>sexotexto</th>\n",
              "      <th>inmigrante</th>\n",
              "      <th>logingreso</th>\n",
              "      <th>dsex</th>\n",
              "    </tr>\n",
              "  </thead>\n",
              "  <tbody>\n",
              "    <tr>\n",
              "      <th>0</th>\n",
              "      <td>1</td>\n",
              "      <td>1</td>\n",
              "      <td>1</td>\n",
              "      <td>13</td>\n",
              "      <td>resto ciudad</td>\n",
              "      <td>18</td>\n",
              "      <td>mujer</td>\n",
              "      <td>1</td>\n",
              "      <td>6</td>\n",
              "      <td>95</td>\n",
              "      <td>...</td>\n",
              "      <td>2</td>\n",
              "      <td>0</td>\n",
              "      <td>Excelente</td>\n",
              "      <td>2</td>\n",
              "      <td>0</td>\n",
              "      <td>973</td>\n",
              "      <td>mujer</td>\n",
              "      <td>nativo arg</td>\n",
              "      <td>8.384804</td>\n",
              "      <td>1</td>\n",
              "    </tr>\n",
              "    <tr>\n",
              "      <th>1</th>\n",
              "      <td>2</td>\n",
              "      <td>1</td>\n",
              "      <td>1</td>\n",
              "      <td>1</td>\n",
              "      <td>resto ciudad</td>\n",
              "      <td>18</td>\n",
              "      <td>varon</td>\n",
              "      <td>1</td>\n",
              "      <td>6</td>\n",
              "      <td>95</td>\n",
              "      <td>...</td>\n",
              "      <td>2</td>\n",
              "      <td>0</td>\n",
              "      <td>Excelente</td>\n",
              "      <td>0</td>\n",
              "      <td>0</td>\n",
              "      <td>115</td>\n",
              "      <td>varon</td>\n",
              "      <td>inmigrante</td>\n",
              "      <td>9.104980</td>\n",
              "      <td>0</td>\n",
              "    </tr>\n",
              "    <tr>\n",
              "      <th>2</th>\n",
              "      <td>3</td>\n",
              "      <td>1</td>\n",
              "      <td>1</td>\n",
              "      <td>6</td>\n",
              "      <td>inquilinatos hoteles inmuebles tomados</td>\n",
              "      <td>18</td>\n",
              "      <td>mujer</td>\n",
              "      <td>1</td>\n",
              "      <td>6</td>\n",
              "      <td>95</td>\n",
              "      <td>...</td>\n",
              "      <td>2</td>\n",
              "      <td>0</td>\n",
              "      <td>Excelente</td>\n",
              "      <td>2</td>\n",
              "      <td>0</td>\n",
              "      <td>223</td>\n",
              "      <td>mujer</td>\n",
              "      <td>inmigrante</td>\n",
              "      <td>8.482602</td>\n",
              "      <td>1</td>\n",
              "    </tr>\n",
              "    <tr>\n",
              "      <th>3</th>\n",
              "      <td>4</td>\n",
              "      <td>1</td>\n",
              "      <td>1</td>\n",
              "      <td>14</td>\n",
              "      <td>resto ciudad</td>\n",
              "      <td>18</td>\n",
              "      <td>varon</td>\n",
              "      <td>1</td>\n",
              "      <td>6</td>\n",
              "      <td>95</td>\n",
              "      <td>...</td>\n",
              "      <td>2</td>\n",
              "      <td>0</td>\n",
              "      <td>Excelente</td>\n",
              "      <td>0</td>\n",
              "      <td>0</td>\n",
              "      <td>421</td>\n",
              "      <td>varon</td>\n",
              "      <td>nativo arg</td>\n",
              "      <td>9.615805</td>\n",
              "      <td>0</td>\n",
              "    </tr>\n",
              "    <tr>\n",
              "      <th>4</th>\n",
              "      <td>5</td>\n",
              "      <td>1</td>\n",
              "      <td>1</td>\n",
              "      <td>2</td>\n",
              "      <td>resto ciudad</td>\n",
              "      <td>18</td>\n",
              "      <td>varon</td>\n",
              "      <td>1</td>\n",
              "      <td>6</td>\n",
              "      <td>95</td>\n",
              "      <td>...</td>\n",
              "      <td>2</td>\n",
              "      <td>0</td>\n",
              "      <td>Bueno</td>\n",
              "      <td>0</td>\n",
              "      <td>0</td>\n",
              "      <td>199</td>\n",
              "      <td>varon</td>\n",
              "      <td>nativo arg</td>\n",
              "      <td>9.615805</td>\n",
              "      <td>0</td>\n",
              "    </tr>\n",
              "  </tbody>\n",
              "</table>\n",
              "<p>5 rows × 96 columns</p>\n",
              "</div>\n",
              "    <div class=\"colab-df-buttons\">\n",
              "\n",
              "  <div class=\"colab-df-container\">\n",
              "    <button class=\"colab-df-convert\" onclick=\"convertToInteractive('df-6bd7fbb7-09e3-44ea-bc7f-65a3fc36c221')\"\n",
              "            title=\"Convert this dataframe to an interactive table.\"\n",
              "            style=\"display:none;\">\n",
              "\n",
              "  <svg xmlns=\"http://www.w3.org/2000/svg\" height=\"24px\" viewBox=\"0 -960 960 960\">\n",
              "    <path d=\"M120-120v-720h720v720H120Zm60-500h600v-160H180v160Zm220 220h160v-160H400v160Zm0 220h160v-160H400v160ZM180-400h160v-160H180v160Zm440 0h160v-160H620v160ZM180-180h160v-160H180v160Zm440 0h160v-160H620v160Z\"/>\n",
              "  </svg>\n",
              "    </button>\n",
              "\n",
              "  <style>\n",
              "    .colab-df-container {\n",
              "      display:flex;\n",
              "      gap: 12px;\n",
              "    }\n",
              "\n",
              "    .colab-df-convert {\n",
              "      background-color: #E8F0FE;\n",
              "      border: none;\n",
              "      border-radius: 50%;\n",
              "      cursor: pointer;\n",
              "      display: none;\n",
              "      fill: #1967D2;\n",
              "      height: 32px;\n",
              "      padding: 0 0 0 0;\n",
              "      width: 32px;\n",
              "    }\n",
              "\n",
              "    .colab-df-convert:hover {\n",
              "      background-color: #E2EBFA;\n",
              "      box-shadow: 0px 1px 2px rgba(60, 64, 67, 0.3), 0px 1px 3px 1px rgba(60, 64, 67, 0.15);\n",
              "      fill: #174EA6;\n",
              "    }\n",
              "\n",
              "    .colab-df-buttons div {\n",
              "      margin-bottom: 4px;\n",
              "    }\n",
              "\n",
              "    [theme=dark] .colab-df-convert {\n",
              "      background-color: #3B4455;\n",
              "      fill: #D2E3FC;\n",
              "    }\n",
              "\n",
              "    [theme=dark] .colab-df-convert:hover {\n",
              "      background-color: #434B5C;\n",
              "      box-shadow: 0px 1px 3px 1px rgba(0, 0, 0, 0.15);\n",
              "      filter: drop-shadow(0px 1px 2px rgba(0, 0, 0, 0.3));\n",
              "      fill: #FFFFFF;\n",
              "    }\n",
              "  </style>\n",
              "\n",
              "    <script>\n",
              "      const buttonEl =\n",
              "        document.querySelector('#df-6bd7fbb7-09e3-44ea-bc7f-65a3fc36c221 button.colab-df-convert');\n",
              "      buttonEl.style.display =\n",
              "        google.colab.kernel.accessAllowed ? 'block' : 'none';\n",
              "\n",
              "      async function convertToInteractive(key) {\n",
              "        const element = document.querySelector('#df-6bd7fbb7-09e3-44ea-bc7f-65a3fc36c221');\n",
              "        const dataTable =\n",
              "          await google.colab.kernel.invokeFunction('convertToInteractive',\n",
              "                                                    [key], {});\n",
              "        if (!dataTable) return;\n",
              "\n",
              "        const docLinkHtml = 'Like what you see? Visit the ' +\n",
              "          '<a target=\"_blank\" href=https://colab.research.google.com/notebooks/data_table.ipynb>data table notebook</a>'\n",
              "          + ' to learn more about interactive tables.';\n",
              "        element.innerHTML = '';\n",
              "        dataTable['output_type'] = 'display_data';\n",
              "        await google.colab.output.renderOutput(dataTable, element);\n",
              "        const docLink = document.createElement('div');\n",
              "        docLink.innerHTML = docLinkHtml;\n",
              "        element.appendChild(docLink);\n",
              "      }\n",
              "    </script>\n",
              "  </div>\n",
              "\n",
              "\n",
              "<div id=\"df-7cce881d-5840-43ea-b52e-3dacaadf5722\">\n",
              "  <button class=\"colab-df-quickchart\" onclick=\"quickchart('df-7cce881d-5840-43ea-b52e-3dacaadf5722')\"\n",
              "            title=\"Suggest charts.\"\n",
              "            style=\"display:none;\">\n",
              "\n",
              "<svg xmlns=\"http://www.w3.org/2000/svg\" height=\"24px\"viewBox=\"0 0 24 24\"\n",
              "     width=\"24px\">\n",
              "    <g>\n",
              "        <path d=\"M19 3H5c-1.1 0-2 .9-2 2v14c0 1.1.9 2 2 2h14c1.1 0 2-.9 2-2V5c0-1.1-.9-2-2-2zM9 17H7v-7h2v7zm4 0h-2V7h2v10zm4 0h-2v-4h2v4z\"/>\n",
              "    </g>\n",
              "</svg>\n",
              "  </button>\n",
              "\n",
              "<style>\n",
              "  .colab-df-quickchart {\n",
              "      --bg-color: #E8F0FE;\n",
              "      --fill-color: #1967D2;\n",
              "      --hover-bg-color: #E2EBFA;\n",
              "      --hover-fill-color: #174EA6;\n",
              "      --disabled-fill-color: #AAA;\n",
              "      --disabled-bg-color: #DDD;\n",
              "  }\n",
              "\n",
              "  [theme=dark] .colab-df-quickchart {\n",
              "      --bg-color: #3B4455;\n",
              "      --fill-color: #D2E3FC;\n",
              "      --hover-bg-color: #434B5C;\n",
              "      --hover-fill-color: #FFFFFF;\n",
              "      --disabled-bg-color: #3B4455;\n",
              "      --disabled-fill-color: #666;\n",
              "  }\n",
              "\n",
              "  .colab-df-quickchart {\n",
              "    background-color: var(--bg-color);\n",
              "    border: none;\n",
              "    border-radius: 50%;\n",
              "    cursor: pointer;\n",
              "    display: none;\n",
              "    fill: var(--fill-color);\n",
              "    height: 32px;\n",
              "    padding: 0;\n",
              "    width: 32px;\n",
              "  }\n",
              "\n",
              "  .colab-df-quickchart:hover {\n",
              "    background-color: var(--hover-bg-color);\n",
              "    box-shadow: 0 1px 2px rgba(60, 64, 67, 0.3), 0 1px 3px 1px rgba(60, 64, 67, 0.15);\n",
              "    fill: var(--button-hover-fill-color);\n",
              "  }\n",
              "\n",
              "  .colab-df-quickchart-complete:disabled,\n",
              "  .colab-df-quickchart-complete:disabled:hover {\n",
              "    background-color: var(--disabled-bg-color);\n",
              "    fill: var(--disabled-fill-color);\n",
              "    box-shadow: none;\n",
              "  }\n",
              "\n",
              "  .colab-df-spinner {\n",
              "    border: 2px solid var(--fill-color);\n",
              "    border-color: transparent;\n",
              "    border-bottom-color: var(--fill-color);\n",
              "    animation:\n",
              "      spin 1s steps(1) infinite;\n",
              "  }\n",
              "\n",
              "  @keyframes spin {\n",
              "    0% {\n",
              "      border-color: transparent;\n",
              "      border-bottom-color: var(--fill-color);\n",
              "      border-left-color: var(--fill-color);\n",
              "    }\n",
              "    20% {\n",
              "      border-color: transparent;\n",
              "      border-left-color: var(--fill-color);\n",
              "      border-top-color: var(--fill-color);\n",
              "    }\n",
              "    30% {\n",
              "      border-color: transparent;\n",
              "      border-left-color: var(--fill-color);\n",
              "      border-top-color: var(--fill-color);\n",
              "      border-right-color: var(--fill-color);\n",
              "    }\n",
              "    40% {\n",
              "      border-color: transparent;\n",
              "      border-right-color: var(--fill-color);\n",
              "      border-top-color: var(--fill-color);\n",
              "    }\n",
              "    60% {\n",
              "      border-color: transparent;\n",
              "      border-right-color: var(--fill-color);\n",
              "    }\n",
              "    80% {\n",
              "      border-color: transparent;\n",
              "      border-right-color: var(--fill-color);\n",
              "      border-bottom-color: var(--fill-color);\n",
              "    }\n",
              "    90% {\n",
              "      border-color: transparent;\n",
              "      border-bottom-color: var(--fill-color);\n",
              "    }\n",
              "  }\n",
              "</style>\n",
              "\n",
              "  <script>\n",
              "    async function quickchart(key) {\n",
              "      const quickchartButtonEl =\n",
              "        document.querySelector('#' + key + ' button');\n",
              "      quickchartButtonEl.disabled = true;  // To prevent multiple clicks.\n",
              "      quickchartButtonEl.classList.add('colab-df-spinner');\n",
              "      try {\n",
              "        const charts = await google.colab.kernel.invokeFunction(\n",
              "            'suggestCharts', [key], {});\n",
              "      } catch (error) {\n",
              "        console.error('Error during call to suggestCharts:', error);\n",
              "      }\n",
              "      quickchartButtonEl.classList.remove('colab-df-spinner');\n",
              "      quickchartButtonEl.classList.add('colab-df-quickchart-complete');\n",
              "    }\n",
              "    (() => {\n",
              "      let quickchartButtonEl =\n",
              "        document.querySelector('#df-7cce881d-5840-43ea-b52e-3dacaadf5722 button');\n",
              "      quickchartButtonEl.style.display =\n",
              "        google.colab.kernel.accessAllowed ? 'block' : 'none';\n",
              "    })();\n",
              "  </script>\n",
              "</div>\n",
              "    </div>\n",
              "  </div>\n"
            ]
          },
          "metadata": {},
          "execution_count": 9
        }
      ]
    },
    {
      "cell_type": "code",
      "metadata": {
        "id": "_Dg-fDZvspaa",
        "outputId": "33e84b10-c106-482f-d862-8d538b3e694e",
        "colab": {
          "base_uri": "https://localhost:8080/"
        }
      },
      "source": [
        "df.shape"
      ],
      "execution_count": null,
      "outputs": [
        {
          "output_type": "execute_result",
          "data": {
            "text/plain": [
              "(14512, 96)"
            ]
          },
          "metadata": {},
          "execution_count": 10
        }
      ]
    },
    {
      "cell_type": "code",
      "metadata": {
        "id": "PRdSl3qaqb4M",
        "outputId": "674e2d25-7343-4acb-a1a1-918f39491ccc",
        "colab": {
          "base_uri": "https://localhost:8080/"
        }
      },
      "source": [
        "df.columns"
      ],
      "execution_count": null,
      "outputs": [
        {
          "output_type": "execute_result",
          "data": {
            "text/plain": [
              "Index(['id', 'nhogar', 'miembro', 'comuna', 'dominio', 'edad', 'sexo',\n",
              "       'parentes_2', 'p5_2', 'p6_a', 'p6_b', 'estado', 'categori', 't13',\n",
              "       't14', 't18', 't28', 't29', 't29a', 't30', 'sem_hs', 't33', 't34',\n",
              "       't35', 't37_cod_2', 't37_coda_2', 't38', 't39', 't40', 't41_cod_2',\n",
              "       't47', 't48', 't51_bis', 'i1', 'i4', 'i6_3', 'i10', 'i11', 'codioph',\n",
              "       'ioph_2', 'codioph_neto', 'ioph_neto_2', 'codios', 'ios_2', 'codioa',\n",
              "       'ioa_2', 'codlab', 'inglab_2', 'codi3_1x', 'i3_1x_2', 'codi3_2x',\n",
              "       'i3_2x_2', 'codi3_8x', 'i3_8x_2', 'codi3_est', 'i3_est_2', 'codi3_otr',\n",
              "       'i3_otr_2', 'codnolab', 'ingnolab_2', 'coding', 'ingtot_2', 'codi_tot',\n",
              "       'itfb_2', 'ipcfb_2', 'e2', 'e4', 'e6', 'e8', 'e12', 'e13', 'e14',\n",
              "       'edad_30', 'nivel', 'aesc', 'm1', 'm1_2', 'm2_anio', 'm3_anio',\n",
              "       'tipcob2_2', 'sn1_1', 'sn1_7', 'sn1_2', 'sn1_3', 'sn1_4', 'sn1_5', 's8',\n",
              "       'sn14', 'sn16', 's28', 's29', 'fexp', 'sexotexto', 'inmigrante',\n",
              "       'logingreso', 'dsex'],\n",
              "      dtype='object')"
            ]
          },
          "metadata": {},
          "execution_count": 11
        }
      ]
    },
    {
      "cell_type": "code",
      "metadata": {
        "id": "J3KSrbYBrs-v",
        "outputId": "fef82771-b0a8-4b73-d7be-21490cd277a0",
        "colab": {
          "base_uri": "https://localhost:8080/"
        }
      },
      "source": [
        "df.logingreso"
      ],
      "execution_count": null,
      "outputs": [
        {
          "output_type": "execute_result",
          "data": {
            "text/plain": [
              "0        8.384804\n",
              "1        9.104980\n",
              "2        8.482602\n",
              "3        9.615805\n",
              "4        9.615805\n",
              "           ...   \n",
              "14507    8.748305\n",
              "14508    9.952278\n",
              "14509    9.210340\n",
              "14510    8.922658\n",
              "14511    9.190138\n",
              "Name: logingreso, Length: 14512, dtype: float64"
            ]
          },
          "metadata": {},
          "execution_count": 12
        }
      ]
    },
    {
      "cell_type": "code",
      "metadata": {
        "id": "V21a44QYtWaO",
        "outputId": "89f7cffd-c82b-4ff3-a401-b4935a83e8fc",
        "colab": {
          "base_uri": "https://localhost:8080/"
        }
      },
      "source": [
        "df['logingreso']"
      ],
      "execution_count": null,
      "outputs": [
        {
          "output_type": "execute_result",
          "data": {
            "text/plain": [
              "0        8.384804\n",
              "1        9.104980\n",
              "2        8.482602\n",
              "3        9.615805\n",
              "4        9.615805\n",
              "           ...   \n",
              "14507    8.748305\n",
              "14508    9.952278\n",
              "14509    9.210340\n",
              "14510    8.922658\n",
              "14511    9.190138\n",
              "Name: logingreso, Length: 14512, dtype: float64"
            ]
          },
          "metadata": {},
          "execution_count": 13
        }
      ]
    },
    {
      "cell_type": "code",
      "metadata": {
        "id": "4qrHGDQbt-nQ",
        "outputId": "f74f3854-3090-436e-e865-0f3447939a78",
        "colab": {
          "base_uri": "https://localhost:8080/",
          "height": 448
        }
      },
      "source": [
        "df.logingreso.hist()"
      ],
      "execution_count": null,
      "outputs": [
        {
          "output_type": "execute_result",
          "data": {
            "text/plain": [
              "<Axes: >"
            ]
          },
          "metadata": {},
          "execution_count": 14
        },
        {
          "output_type": "display_data",
          "data": {
            "text/plain": [
              "<Figure size 640x480 with 1 Axes>"
            ],
            "image/png": "[encoded data removed]"
          },
          "metadata": {}
        }
      ]
    },
    {
      "cell_type": "code",
      "metadata": {
        "id": "gzXSGe89waHl",
        "outputId": "834d4859-28a9-481e-e2a1-507f629d7a89",
        "colab": {
          "base_uri": "https://localhost:8080/",
          "height": 540
        }
      },
      "source": [
        "# pueden agrandar el grafico usando lo siguiente:\n",
        "import matplotlib.pyplot as plt\n",
        "plt.rcParams[\"figure.figsize\"] = (6,6)\n",
        "df.logingreso.hist(bins=20)"
      ],
      "execution_count": null,
      "outputs": [
        {
          "output_type": "execute_result",
          "data": {
            "text/plain": [
              "<Axes: >"
            ]
          },
          "metadata": {},
          "execution_count": 15
        },
        {
          "output_type": "display_data",
          "data": {
            "text/plain": [
              "<Figure size 600x600 with 1 Axes>"
            ],
            "image/png": "[encoded data removed]"
          },
          "metadata": {}
        }
      ]
    },
    {
      "cell_type": "code",
      "metadata": {
        "id": "1xhj015Wy5To",
        "outputId": "354e0334-b05c-402c-dc62-3fd114a8109a",
        "colab": {
          "base_uri": "https://localhost:8080/",
          "height": 540
        }
      },
      "source": [
        "df.logingreso.hist(cumulative=True, density=1, bins=100)"
      ],
      "execution_count": null,
      "outputs": [
        {
          "output_type": "execute_result",
          "data": {
            "text/plain": [
              "<Axes: >"
            ]
          },
          "metadata": {},
          "execution_count": 16
        },
        {
          "output_type": "display_data",
          "data": {
            "text/plain": [
              "<Figure size 600x600 with 1 Axes>"
            ],
            "image/png": "[encoded data removed]"
          },
          "metadata": {}
        }
      ]
    },
    {
      "cell_type": "code",
      "metadata": {
        "id": "ljsKuF_otptd",
        "outputId": "e04320a2-e64f-439b-da42-8710aab41102",
        "colab": {
          "base_uri": "https://localhost:8080/"
        }
      },
      "source": [
        "df.logingreso.mean()"
      ],
      "execution_count": null,
      "outputs": [
        {
          "output_type": "execute_result",
          "data": {
            "text/plain": [
              "9.282120426552103"
            ]
          },
          "metadata": {},
          "execution_count": 17
        }
      ]
    },
    {
      "cell_type": "code",
      "metadata": {
        "id": "hNWVZaPzuQx8",
        "outputId": "09c226ec-31b0-4255-b8aa-9e122ea7912b",
        "colab": {
          "base_uri": "https://localhost:8080/"
        }
      },
      "source": [
        "df.sexo.unique()"
      ],
      "execution_count": null,
      "outputs": [
        {
          "output_type": "execute_result",
          "data": {
            "text/plain": [
              "array(['mujer', 'varon'], dtype=object)"
            ]
          },
          "metadata": {},
          "execution_count": 18
        }
      ]
    },
    {
      "cell_type": "markdown",
      "metadata": {
        "id": "X1JUfBK01C_X"
      },
      "source": [
        "# \"Filtrando\" el Dataframe\n",
        "Seleccionamos las filas del dataframe en base a una condicion logica usando el método .loc \\\\\n",
        "Dentro del .loc tenemos que especificar una condición lógica\n"
      ]
    },
    {
      "cell_type": "markdown",
      "metadata": {
        "id": "eU8hNrV40014"
      },
      "source": [
        "Aqui van algunos ejemplos mas sobre como filtrar el dataframe"
      ]
    },
    {
      "cell_type": "code",
      "metadata": {
        "id": "9e-8kinTxgNS",
        "outputId": "8c80b913-5b42-49a3-d396-b2e5ee1c39df",
        "colab": {
          "base_uri": "https://localhost:8080/"
        }
      },
      "source": [
        "# Ejemplo: promedio de logingreso de personas mayores a 40 años\n",
        "\n",
        "df.loc[df.edad>=40].logingreso.mean()"
      ],
      "execution_count": null,
      "outputs": [
        {
          "output_type": "execute_result",
          "data": {
            "text/plain": [
              "9.35795335849025"
            ]
          },
          "metadata": {},
          "execution_count": 19
        }
      ]
    },
    {
      "cell_type": "code",
      "metadata": {
        "id": "33waEOd6yC2p",
        "outputId": "33e6f82e-bfca-4ad8-9b04-86119bd6c635",
        "colab": {
          "base_uri": "https://localhost:8080/"
        }
      },
      "source": [
        "# Ejemplo: promedio de logingreso de varones y mayores a 40 años\n",
        "\n",
        "df.loc[(df.sexo=='varon') & (df.edad>=40)].logingreso.mean()"
      ],
      "execution_count": null,
      "outputs": [
        {
          "output_type": "execute_result",
          "data": {
            "text/plain": [
              "9.55083188191198"
            ]
          },
          "metadata": {},
          "execution_count": 20
        }
      ]
    },
    {
      "cell_type": "code",
      "metadata": {
        "id": "H3j6zSw4zW1O",
        "outputId": "746c516d-6472-4f99-9a94-d0b41c281bfa",
        "colab": {
          "base_uri": "https://localhost:8080/"
        }
      },
      "source": [
        "# Ejemplo: promedio de logingreso de varones o mayores a 40 años\n",
        "df.loc[(df.sexo=='varon') | (df.edad>=40) ].logingreso.mean()"
      ],
      "execution_count": null,
      "outputs": [
        {
          "output_type": "execute_result",
          "data": {
            "text/plain": [
              "9.343912623487704"
            ]
          },
          "metadata": {},
          "execution_count": 21
        }
      ]
    },
    {
      "cell_type": "markdown",
      "metadata": {
        "id": "YnSuc-vkcgmU"
      },
      "source": [
        "## Filtrando el dataframe\n",
        "\n",
        "\n",
        "Para escribir una condicion recuerden que pueden utilizar los siguientes lógicos:\n",
        "\n",
        "==    para chequear la  condicion \"equivale a\" o \"igual a\" va doble igual\n",
        "\n",
        "!= distinto a\n",
        "\n",
        "\\> mayor a \\\\\n",
        "\n",
        "\\> = mayor o igual a\n",
        "\n",
        "< menor a\n",
        "\n",
        "<= menor o igual a\n",
        "\n",
        "En el caso de querer usar dos condiciones o más:\n",
        "\n",
        "(esta condicion) & (esta condicion) Se cumple esta condicion Y esta otra\n",
        "\n",
        "(esta condicion) | (esta condicion) Se cumple esta condicion O esta otra\n",
        "\n",
        "Recuerden que las condiciones tiene que ir en parentesis!\n",
        "\n",
        "\n",
        "\n"
      ]
    },
    {
      "cell_type": "markdown",
      "metadata": {
        "id": "pImuoa1auWgA"
      },
      "source": [
        "# Aplicando el CEF\n",
        "\n",
        "Vamos a explorar ahore el ingreso esperado de varones y mujeres. Usando el modelo CEF tendríamos:\n",
        "\n",
        "$$E[y|sexo=\\text{varon}]$$\n",
        "\n",
        "y\n",
        "\n",
        "$$E[y|sexo=\\text{mujer}]$$\n"
      ]
    },
    {
      "cell_type": "code",
      "metadata": {
        "id": "34G8nX_ow5ve",
        "outputId": "05d7db36-5d9e-4732-ae8d-19eb5e07200b",
        "colab": {
          "base_uri": "https://localhost:8080/"
        }
      },
      "source": [
        "df.loc[df.sexo=='varon'].logingreso.mean()"
      ],
      "execution_count": null,
      "outputs": [
        {
          "output_type": "execute_result",
          "data": {
            "text/plain": [
              "9.444136001549921"
            ]
          },
          "metadata": {},
          "execution_count": 22
        }
      ]
    },
    {
      "cell_type": "code",
      "metadata": {
        "id": "iKqmxGt0uces",
        "outputId": "34739cb1-783e-484c-dc2c-4f31bbe76d97",
        "colab": {
          "base_uri": "https://localhost:8080/"
        }
      },
      "source": [
        "df.loc[df.sexo=='mujer'].logingreso.mean()"
      ],
      "execution_count": null,
      "outputs": [
        {
          "output_type": "execute_result",
          "data": {
            "text/plain": [
              "9.136385530108724"
            ]
          },
          "metadata": {},
          "execution_count": 23
        }
      ]
    },
    {
      "cell_type": "code",
      "metadata": {
        "id": "OE5iOwkA2-bN"
      },
      "source": [],
      "execution_count": null,
      "outputs": []
    },
    {
      "cell_type": "markdown",
      "metadata": {
        "id": "EveVpZBc3Aq1"
      },
      "source": [
        "# Un metodo alternativo para contruir medias por grupos usando groupby"
      ]
    },
    {
      "cell_type": "code",
      "metadata": {
        "id": "YKqzX__JrjxC",
        "outputId": "f70a8bb8-93ae-41bd-88ee-a7b0efbba067",
        "colab": {
          "base_uri": "https://localhost:8080/",
          "height": 228
        }
      },
      "source": [
        "df.groupby(by='sexo').mean()"
      ],
      "execution_count": null,
      "outputs": [
        {
          "output_type": "stream",
          "name": "stderr",
          "text": [
            "<ipython-input-24-42d1897ee6f6>:1: FutureWarning: The default value of numeric_only in DataFrameGroupBy.mean is deprecated. In a future version, numeric_only will default to False. Either specify numeric_only or select only columns which should be valid for the function.\n",
            "  df.groupby(by='sexo').mean()\n"
          ]
        },
        {
          "output_type": "execute_result",
          "data": {
            "text/plain": [
              "                id    nhogar   miembro    comuna       edad  parentes_2  \\\n",
              "sexo                                                                      \n",
              "mujer  2852.964830  1.009248  2.151101  7.184317  40.325257    2.296340   \n",
              "varon  2673.230139  1.010534  2.113826  7.274177  36.435845    2.152451   \n",
              "\n",
              "           p5_2       p6_a      p6_b  categori  ...     sn1_3     sn1_4  \\\n",
              "sexo                                            ...                       \n",
              "mujer  2.876254  12.131041  5.372932  1.252573  ...  1.853849  1.989188   \n",
              "varon  2.696562  12.881200  5.168691  1.544843  ...  1.860424  1.988588   \n",
              "\n",
              "          sn1_5        s8      sn14      s28       s29       fexp  logingreso  \\\n",
              "sexo                                                                            \n",
              "mujer  1.978116  1.908949  0.175980  1.16061  1.293213  212.14094    9.136386   \n",
              "varon  1.981273  1.932114  0.123482  0.00000  0.000000  209.30256    9.444136   \n",
              "\n",
              "       dsex  \n",
              "sexo         \n",
              "mujer   1.0  \n",
              "varon   0.0  \n",
              "\n",
              "[2 rows x 87 columns]"
            ],
            "text/html": [
              "\n",
              "  <div id=\"df-37c1cdf8-e962-470e-afa2-0d04ada7128d\" class=\"colab-df-container\">\n",
              "    <div>\n",
              "<style scoped>\n",
              "    .dataframe tbody tr th:only-of-type {\n",
              "        vertical-align: middle;\n",
              "    }\n",
              "\n",
              "    .dataframe tbody tr th {\n",
              "        vertical-align: top;\n",
              "    }\n",
              "\n",
              "    .dataframe thead th {\n",
              "        text-align: right;\n",
              "    }\n",
              "</style>\n",
              "<table border=\"1\" class=\"dataframe\">\n",
              "  <thead>\n",
              "    <tr style=\"text-align: right;\">\n",
              "      <th></th>\n",
              "      <th>id</th>\n",
              "      <th>nhogar</th>\n",
              "      <th>miembro</th>\n",
              "      <th>comuna</th>\n",
              "      <th>edad</th>\n",
              "      <th>parentes_2</th>\n",
              "      <th>p5_2</th>\n",
              "      <th>p6_a</th>\n",
              "      <th>p6_b</th>\n",
              "      <th>categori</th>\n",
              "      <th>...</th>\n",
              "      <th>sn1_3</th>\n",
              "      <th>sn1_4</th>\n",
              "      <th>sn1_5</th>\n",
              "      <th>s8</th>\n",
              "      <th>sn14</th>\n",
              "      <th>s28</th>\n",
              "      <th>s29</th>\n",
              "      <th>fexp</th>\n",
              "      <th>logingreso</th>\n",
              "      <th>dsex</th>\n",
              "    </tr>\n",
              "    <tr>\n",
              "      <th>sexo</th>\n",
              "      <th></th>\n",
              "      <th></th>\n",
              "      <th></th>\n",
              "      <th></th>\n",
              "      <th></th>\n",
              "      <th></th>\n",
              "      <th></th>\n",
              "      <th></th>\n",
              "      <th></th>\n",
              "      <th></th>\n",
              "      <th></th>\n",
              "      <th></th>\n",
              "      <th></th>\n",
              "      <th></th>\n",
              "      <th></th>\n",
              "      <th></th>\n",
              "      <th></th>\n",
              "      <th></th>\n",
              "      <th></th>\n",
              "      <th></th>\n",
              "      <th></th>\n",
              "    </tr>\n",
              "  </thead>\n",
              "  <tbody>\n",
              "    <tr>\n",
              "      <th>mujer</th>\n",
              "      <td>2852.964830</td>\n",
              "      <td>1.009248</td>\n",
              "      <td>2.151101</td>\n",
              "      <td>7.184317</td>\n",
              "      <td>40.325257</td>\n",
              "      <td>2.296340</td>\n",
              "      <td>2.876254</td>\n",
              "      <td>12.131041</td>\n",
              "      <td>5.372932</td>\n",
              "      <td>1.252573</td>\n",
              "      <td>...</td>\n",
              "      <td>1.853849</td>\n",
              "      <td>1.989188</td>\n",
              "      <td>1.978116</td>\n",
              "      <td>1.908949</td>\n",
              "      <td>0.175980</td>\n",
              "      <td>1.16061</td>\n",
              "      <td>1.293213</td>\n",
              "      <td>212.14094</td>\n",
              "      <td>9.136386</td>\n",
              "      <td>1.0</td>\n",
              "    </tr>\n",
              "    <tr>\n",
              "      <th>varon</th>\n",
              "      <td>2673.230139</td>\n",
              "      <td>1.010534</td>\n",
              "      <td>2.113826</td>\n",
              "      <td>7.274177</td>\n",
              "      <td>36.435845</td>\n",
              "      <td>2.152451</td>\n",
              "      <td>2.696562</td>\n",
              "      <td>12.881200</td>\n",
              "      <td>5.168691</td>\n",
              "      <td>1.544843</td>\n",
              "      <td>...</td>\n",
              "      <td>1.860424</td>\n",
              "      <td>1.988588</td>\n",
              "      <td>1.981273</td>\n",
              "      <td>1.932114</td>\n",
              "      <td>0.123482</td>\n",
              "      <td>0.00000</td>\n",
              "      <td>0.000000</td>\n",
              "      <td>209.30256</td>\n",
              "      <td>9.444136</td>\n",
              "      <td>0.0</td>\n",
              "    </tr>\n",
              "  </tbody>\n",
              "</table>\n",
              "<p>2 rows × 87 columns</p>\n",
              "</div>\n",
              "    <div class=\"colab-df-buttons\">\n",
              "\n",
              "  <div class=\"colab-df-container\">\n",
              "    <button class=\"colab-df-convert\" onclick=\"convertToInteractive('df-37c1cdf8-e962-470e-afa2-0d04ada7128d')\"\n",
              "            title=\"Convert this dataframe to an interactive table.\"\n",
              "            style=\"display:none;\">\n",
              "\n",
              "  <svg xmlns=\"http://www.w3.org/2000/svg\" height=\"24px\" viewBox=\"0 -960 960 960\">\n",
              "    <path d=\"M120-120v-720h720v720H120Zm60-500h600v-160H180v160Zm220 220h160v-160H400v160Zm0 220h160v-160H400v160ZM180-400h160v-160H180v160Zm440 0h160v-160H620v160ZM180-180h160v-160H180v160Zm440 0h160v-160H620v160Z\"/>\n",
              "  </svg>\n",
              "    </button>\n",
              "\n",
              "  <style>\n",
              "    .colab-df-container {\n",
              "      display:flex;\n",
              "      gap: 12px;\n",
              "    }\n",
              "\n",
              "    .colab-df-convert {\n",
              "      background-color: #E8F0FE;\n",
              "      border: none;\n",
              "      border-radius: 50%;\n",
              "      cursor: pointer;\n",
              "      display: none;\n",
              "      fill: #1967D2;\n",
              "      height: 32px;\n",
              "      padding: 0 0 0 0;\n",
              "      width: 32px;\n",
              "    }\n",
              "\n",
              "    .colab-df-convert:hover {\n",
              "      background-color: #E2EBFA;\n",
              "      box-shadow: 0px 1px 2px rgba(60, 64, 67, 0.3), 0px 1px 3px 1px rgba(60, 64, 67, 0.15);\n",
              "      fill: #174EA6;\n",
              "    }\n",
              "\n",
              "    .colab-df-buttons div {\n",
              "      margin-bottom: 4px;\n",
              "    }\n",
              "\n",
              "    [theme=dark] .colab-df-convert {\n",
              "      background-color: #3B4455;\n",
              "      fill: #D2E3FC;\n",
              "    }\n",
              "\n",
              "    [theme=dark] .colab-df-convert:hover {\n",
              "      background-color: #434B5C;\n",
              "      box-shadow: 0px 1px 3px 1px rgba(0, 0, 0, 0.15);\n",
              "      filter: drop-shadow(0px 1px 2px rgba(0, 0, 0, 0.3));\n",
              "      fill: #FFFFFF;\n",
              "    }\n",
              "  </style>\n",
              "\n",
              "    <script>\n",
              "      const buttonEl =\n",
              "        document.querySelector('#df-37c1cdf8-e962-470e-afa2-0d04ada7128d button.colab-df-convert');\n",
              "      buttonEl.style.display =\n",
              "        google.colab.kernel.accessAllowed ? 'block' : 'none';\n",
              "\n",
              "      async function convertToInteractive(key) {\n",
              "        const element = document.querySelector('#df-37c1cdf8-e962-470e-afa2-0d04ada7128d');\n",
              "        const dataTable =\n",
              "          await google.colab.kernel.invokeFunction('convertToInteractive',\n",
              "                                                    [key], {});\n",
              "        if (!dataTable) return;\n",
              "\n",
              "        const docLinkHtml = 'Like what you see? Visit the ' +\n",
              "          '<a target=\"_blank\" href=https://colab.research.google.com/notebooks/data_table.ipynb>data table notebook</a>'\n",
              "          + ' to learn more about interactive tables.';\n",
              "        element.innerHTML = '';\n",
              "        dataTable['output_type'] = 'display_data';\n",
              "        await google.colab.output.renderOutput(dataTable, element);\n",
              "        const docLink = document.createElement('div');\n",
              "        docLink.innerHTML = docLinkHtml;\n",
              "        element.appendChild(docLink);\n",
              "      }\n",
              "    </script>\n",
              "  </div>\n",
              "\n",
              "\n",
              "<div id=\"df-04d9aa29-3c14-4cc0-bbe1-99a7e7015d61\">\n",
              "  <button class=\"colab-df-quickchart\" onclick=\"quickchart('df-04d9aa29-3c14-4cc0-bbe1-99a7e7015d61')\"\n",
              "            title=\"Suggest charts.\"\n",
              "            style=\"display:none;\">\n",
              "\n",
              "<svg xmlns=\"http://www.w3.org/2000/svg\" height=\"24px\"viewBox=\"0 0 24 24\"\n",
              "     width=\"24px\">\n",
              "    <g>\n",
              "        <path d=\"M19 3H5c-1.1 0-2 .9-2 2v14c0 1.1.9 2 2 2h14c1.1 0 2-.9 2-2V5c0-1.1-.9-2-2-2zM9 17H7v-7h2v7zm4 0h-2V7h2v10zm4 0h-2v-4h2v4z\"/>\n",
              "    </g>\n",
              "</svg>\n",
              "  </button>\n",
              "\n",
              "<style>\n",
              "  .colab-df-quickchart {\n",
              "      --bg-color: #E8F0FE;\n",
              "      --fill-color: #1967D2;\n",
              "      --hover-bg-color: #E2EBFA;\n",
              "      --hover-fill-color: #174EA6;\n",
              "      --disabled-fill-color: #AAA;\n",
              "      --disabled-bg-color: #DDD;\n",
              "  }\n",
              "\n",
              "  [theme=dark] .colab-df-quickchart {\n",
              "      --bg-color: #3B4455;\n",
              "      --fill-color: #D2E3FC;\n",
              "      --hover-bg-color: #434B5C;\n",
              "      --hover-fill-color: #FFFFFF;\n",
              "      --disabled-bg-color: #3B4455;\n",
              "      --disabled-fill-color: #666;\n",
              "  }\n",
              "\n",
              "  .colab-df-quickchart {\n",
              "    background-color: var(--bg-color);\n",
              "    border: none;\n",
              "    border-radius: 50%;\n",
              "    cursor: pointer;\n",
              "    display: none;\n",
              "    fill: var(--fill-color);\n",
              "    height: 32px;\n",
              "    padding: 0;\n",
              "    width: 32px;\n",
              "  }\n",
              "\n",
              "  .colab-df-quickchart:hover {\n",
              "    background-color: var(--hover-bg-color);\n",
              "    box-shadow: 0 1px 2px rgba(60, 64, 67, 0.3), 0 1px 3px 1px rgba(60, 64, 67, 0.15);\n",
              "    fill: var(--button-hover-fill-color);\n",
              "  }\n",
              "\n",
              "  .colab-df-quickchart-complete:disabled,\n",
              "  .colab-df-quickchart-complete:disabled:hover {\n",
              "    background-color: var(--disabled-bg-color);\n",
              "    fill: var(--disabled-fill-color);\n",
              "    box-shadow: none;\n",
              "  }\n",
              "\n",
              "  .colab-df-spinner {\n",
              "    border: 2px solid var(--fill-color);\n",
              "    border-color: transparent;\n",
              "    border-bottom-color: var(--fill-color);\n",
              "    animation:\n",
              "      spin 1s steps(1) infinite;\n",
              "  }\n",
              "\n",
              "  @keyframes spin {\n",
              "    0% {\n",
              "      border-color: transparent;\n",
              "      border-bottom-color: var(--fill-color);\n",
              "      border-left-color: var(--fill-color);\n",
              "    }\n",
              "    20% {\n",
              "      border-color: transparent;\n",
              "      border-left-color: var(--fill-color);\n",
              "      border-top-color: var(--fill-color);\n",
              "    }\n",
              "    30% {\n",
              "      border-color: transparent;\n",
              "      border-left-color: var(--fill-color);\n",
              "      border-top-color: var(--fill-color);\n",
              "      border-right-color: var(--fill-color);\n",
              "    }\n",
              "    40% {\n",
              "      border-color: transparent;\n",
              "      border-right-color: var(--fill-color);\n",
              "      border-top-color: var(--fill-color);\n",
              "    }\n",
              "    60% {\n",
              "      border-color: transparent;\n",
              "      border-right-color: var(--fill-color);\n",
              "    }\n",
              "    80% {\n",
              "      border-color: transparent;\n",
              "      border-right-color: var(--fill-color);\n",
              "      border-bottom-color: var(--fill-color);\n",
              "    }\n",
              "    90% {\n",
              "      border-color: transparent;\n",
              "      border-bottom-color: var(--fill-color);\n",
              "    }\n",
              "  }\n",
              "</style>\n",
              "\n",
              "  <script>\n",
              "    async function quickchart(key) {\n",
              "      const quickchartButtonEl =\n",
              "        document.querySelector('#' + key + ' button');\n",
              "      quickchartButtonEl.disabled = true;  // To prevent multiple clicks.\n",
              "      quickchartButtonEl.classList.add('colab-df-spinner');\n",
              "      try {\n",
              "        const charts = await google.colab.kernel.invokeFunction(\n",
              "            'suggestCharts', [key], {});\n",
              "      } catch (error) {\n",
              "        console.error('Error during call to suggestCharts:', error);\n",
              "      }\n",
              "      quickchartButtonEl.classList.remove('colab-df-spinner');\n",
              "      quickchartButtonEl.classList.add('colab-df-quickchart-complete');\n",
              "    }\n",
              "    (() => {\n",
              "      let quickchartButtonEl =\n",
              "        document.querySelector('#df-04d9aa29-3c14-4cc0-bbe1-99a7e7015d61 button');\n",
              "      quickchartButtonEl.style.display =\n",
              "        google.colab.kernel.accessAllowed ? 'block' : 'none';\n",
              "    })();\n",
              "  </script>\n",
              "</div>\n",
              "    </div>\n",
              "  </div>\n"
            ]
          },
          "metadata": {},
          "execution_count": 24
        }
      ]
    },
    {
      "cell_type": "code",
      "metadata": {
        "id": "RCC1p-dMq9Jl",
        "outputId": "b482c502-221e-4eb1-f493-071d9346ff85",
        "colab": {
          "base_uri": "https://localhost:8080/"
        }
      },
      "source": [
        "df.groupby(by='sexo')['logingreso'].mean()"
      ],
      "execution_count": null,
      "outputs": [
        {
          "output_type": "execute_result",
          "data": {
            "text/plain": [
              "sexo\n",
              "mujer    9.136386\n",
              "varon    9.444136\n",
              "Name: logingreso, dtype: float64"
            ]
          },
          "metadata": {},
          "execution_count": 25
        }
      ]
    },
    {
      "cell_type": "code",
      "metadata": {
        "id": "3WaR7abA3LN3"
      },
      "source": [],
      "execution_count": null,
      "outputs": []
    },
    {
      "cell_type": "markdown",
      "metadata": {
        "id": "doYyzTOr3Omu"
      },
      "source": [
        "# Ejemplo más avanzado: creando una tabla de promedios y luego grafico las funciones CEF segun sexo y escolaridad"
      ]
    },
    {
      "cell_type": "code",
      "metadata": {
        "id": "Ebv_DeCasS-W"
      },
      "source": [
        "df_means=df.groupby(['sexo','aesc'],as_index=False)['logingreso'].mean()\n",
        "df_means=df_means.loc[df_means.aesc<20]\n",
        "#.plot(x='aesc',y='logingreso')"
      ],
      "execution_count": null,
      "outputs": []
    },
    {
      "cell_type": "code",
      "metadata": {
        "id": "5iC3AfX7r1Ks",
        "outputId": "cdfdb591-7061-4293-9980-3d2b34d27736",
        "colab": {
          "base_uri": "https://localhost:8080/",
          "height": 560
        }
      },
      "source": [
        "import matplotlib.pyplot as plt\n",
        "base=df_means.loc[df_means.sexo=='varon'].plot(x='aesc',y='logingreso', style='o', label='varon')\n",
        "df_means.loc[df_means.sexo=='mujer'].plot(x='aesc',y='logingreso', style='o', ax=base, label='mujer')"
      ],
      "execution_count": null,
      "outputs": [
        {
          "output_type": "execute_result",
          "data": {
            "text/plain": [
              "<Axes: xlabel='aesc'>"
            ]
          },
          "metadata": {},
          "execution_count": 27
        },
        {
          "output_type": "display_data",
          "data": {
            "text/plain": [
              "<Figure size 600x600 with 1 Axes>"
            ],
            "image/png": "[encoded data removed]"
          },
          "metadata": {}
        }
      ]
    },
    {
      "cell_type": "markdown",
      "metadata": {
        "id": "jpLKXlWw3xCg"
      },
      "source": [
        "Creando una variable dummy"
      ]
    },
    {
      "cell_type": "code",
      "metadata": {
        "id": "5wPIwFnCfa4W"
      },
      "source": [
        "df.loc[df['sexo'] == 'varon', 'dmujer'] = 0\n",
        "df.loc[df['sexo'] == 'mujer', 'dmujer'] = 1"
      ],
      "execution_count": null,
      "outputs": []
    },
    {
      "cell_type": "markdown",
      "metadata": {
        "id": "rr2sfj-UdQQ2"
      },
      "source": [
        "## OLS\n",
        "\n",
        "Statsmodels es la librería de operaciones estadísticas que usaremos para estimar OLS"
      ]
    },
    {
      "cell_type": "code",
      "metadata": {
        "id": "I9qvql6adR-y"
      },
      "source": [
        "import statsmodels.api as sm"
      ],
      "execution_count": null,
      "outputs": []
    },
    {
      "cell_type": "markdown",
      "metadata": {
        "id": "1KwGkaLFdiqt"
      },
      "source": [
        "Estimar la regresion va a requerir varios pasos que voy a resumir en una funcion.\n",
        "\n",
        "Asegurarme de que los datos (las filas en cuestion) que voy a estar usando no tienen datos missing en ninguna variable. \\\\\n",
        "Separar a la variable a explicar (dependiente) de la(s) explicativas \\\\\n",
        "Si la regresión va a tener una constante, como en nuestro caso, agregar a las variables explicativas una columna de 1s (unos). \\\\\n",
        "Asignar a una variable el nombre del modelo y las especificaciones del mismo  \\\\\n",
        "Correr el modelo con el metodo fit() y guardar los resultados en otra variable\n",
        "Imprimir los resultados en pantalla (imprimir los contenidos de la variable del paso anterior)"
      ]
    },
    {
      "cell_type": "code",
      "metadata": {
        "id": "0DoC3j5ZdpJ_"
      },
      "source": [
        "def regress(lista, data):\n",
        "  \"\"\"\n",
        "  Funcion que realiza la regresion OLS\n",
        "  La primera variable de la lista es la dependiente, el resto son las explicativas\n",
        "  data es la base de datos\n",
        "  \"\"\"\n",
        "  datos=data[lista]\n",
        "  # el metodo dropna() me permite eliminar las filas que tienen algun valor missing\n",
        "  datos=datos.dropna()\n",
        "  Y=datos[lista[0]]\n",
        "  X=datos[lista[1:]]\n",
        "  X=sm.add_constant(X)\n",
        "  modelo=sm.OLS(Y,X)\n",
        "  resultados=modelo.fit()\n",
        "  print(resultados.summary())"
      ],
      "execution_count": null,
      "outputs": []
    },
    {
      "cell_type": "code",
      "metadata": {
        "id": "my9f8-_keMlw",
        "outputId": "be18a03d-36dc-4615-b6f3-59f1b1878dd1",
        "colab": {
          "base_uri": "https://localhost:8080/"
        }
      },
      "source": [
        "regress(['logingreso','dmujer'],data=df)"
      ],
      "execution_count": null,
      "outputs": [
        {
          "output_type": "stream",
          "name": "stdout",
          "text": [
            "                            OLS Regression Results                            \n",
            "==============================================================================\n",
            "Dep. Variable:             logingreso   R-squared:                       0.032\n",
            "Model:                            OLS   Adj. R-squared:                  0.032\n",
            "Method:                 Least Squares   F-statistic:                     332.5\n",
            "Date:                Tue, 10 Oct 2023   Prob (F-statistic):           4.01e-73\n",
            "Time:                        02:49:29   Log-Likelihood:                -12674.\n",
            "No. Observations:               10113   AIC:                         2.535e+04\n",
            "Df Residuals:                   10111   BIC:                         2.537e+04\n",
            "Df Model:                           1                                         \n",
            "Covariance Type:            nonrobust                                         \n",
            "==============================================================================\n",
            "                 coef    std err          t      P>|t|      [0.025      0.975]\n",
            "------------------------------------------------------------------------------\n",
            "const          9.4441      0.012    771.247      0.000       9.420       9.468\n",
            "dmujer        -0.3078      0.017    -18.235      0.000      -0.341      -0.275\n",
            "==============================================================================\n",
            "Omnibus:                     1137.319   Durbin-Watson:                   1.487\n",
            "Prob(Omnibus):                  0.000   Jarque-Bera (JB):             2488.274\n",
            "Skew:                          -0.693   Prob(JB):                         0.00\n",
            "Kurtosis:                       4.996   Cond. No.                         2.68\n",
            "==============================================================================\n",
            "\n",
            "Notes:\n",
            "[1] Standard Errors assume that the covariance matrix of the errors is correctly specified.\n"
          ]
        }
      ]
    },
    {
      "cell_type": "code",
      "metadata": {
        "id": "9FjGWMny0FHN"
      },
      "source": [
        "df['dinmigrante'] = 0\n",
        "df.loc[df['inmigrante'] == 'inmigrante', 'dinmigrante'] = 1"
      ],
      "execution_count": null,
      "outputs": []
    },
    {
      "cell_type": "code",
      "metadata": {
        "id": "hwNzJjVP_tGL",
        "outputId": "a31ad841-8ac0-4ee0-e167-d8e043d816f9",
        "colab": {
          "base_uri": "https://localhost:8080/"
        }
      },
      "source": [
        "df.loc[(df['sexo'] == 'varon')&(df['inmigrante'] != 'inmigrante')].logingreso.mean()"
      ],
      "execution_count": null,
      "outputs": [
        {
          "output_type": "execute_result",
          "data": {
            "text/plain": [
              "9.505091706288352"
            ]
          },
          "metadata": {},
          "execution_count": 33
        }
      ]
    },
    {
      "cell_type": "code",
      "metadata": {
        "id": "EadC4C6r7Lnx",
        "outputId": "e0ae0878-28ad-4416-9854-c4476c8a0b6b",
        "colab": {
          "base_uri": "https://localhost:8080/"
        }
      },
      "source": [
        "df.loc[(df['sexo'] == 'mujer')&(df['inmigrante'] != 'inmigrante')].logingreso.mean()"
      ],
      "execution_count": null,
      "outputs": [
        {
          "output_type": "execute_result",
          "data": {
            "text/plain": [
              "9.209591040354109"
            ]
          },
          "metadata": {},
          "execution_count": 34
        }
      ]
    },
    {
      "cell_type": "code",
      "metadata": {
        "id": "xIMQoTDtAI64",
        "outputId": "d72d02fe-eaef-4a78-ba4f-f59dcc2bc1b8",
        "colab": {
          "base_uri": "https://localhost:8080/"
        }
      },
      "source": [
        "df.loc[(df['sexo'] == 'varon')&(df['inmigrante'] == 'inmigrante')].logingreso.mean()"
      ],
      "execution_count": null,
      "outputs": [
        {
          "output_type": "execute_result",
          "data": {
            "text/plain": [
              "9.261624758838526"
            ]
          },
          "metadata": {},
          "execution_count": 35
        }
      ]
    },
    {
      "cell_type": "code",
      "metadata": {
        "id": "uVJ6T42vAdKF",
        "outputId": "2627e327-a65c-4368-bde8-a486ba4081de",
        "colab": {
          "base_uri": "https://localhost:8080/"
        }
      },
      "source": [
        "df.loc[(df['sexo'] == 'mujer')&(df['inmigrante'] == 'inmigrante')].logingreso.mean()"
      ],
      "execution_count": null,
      "outputs": [
        {
          "output_type": "execute_result",
          "data": {
            "text/plain": [
              "8.9385575657043"
            ]
          },
          "metadata": {},
          "execution_count": 36
        }
      ]
    },
    {
      "cell_type": "code",
      "metadata": {
        "id": "f-z0lrzC7vAY",
        "outputId": "05522a62-d1dd-44f7-ebb3-0dd49defa952",
        "colab": {
          "base_uri": "https://localhost:8080/"
        }
      },
      "source": [
        "regress(['logingreso','dmujer','dinmigrante'],data=df)"
      ],
      "execution_count": null,
      "outputs": [
        {
          "output_type": "stream",
          "name": "stdout",
          "text": [
            "                            OLS Regression Results                            \n",
            "==============================================================================\n",
            "Dep. Variable:             logingreso   R-squared:                       0.049\n",
            "Model:                            OLS   Adj. R-squared:                  0.049\n",
            "Method:                 Least Squares   F-statistic:                     261.4\n",
            "Date:                Tue, 10 Oct 2023   Prob (F-statistic):          1.98e-111\n",
            "Time:                        02:49:29   Log-Likelihood:                -12583.\n",
            "No. Observations:               10113   AIC:                         2.517e+04\n",
            "Df Residuals:                   10110   BIC:                         2.519e+04\n",
            "Df Model:                           2                                         \n",
            "Covariance Type:            nonrobust                                         \n",
            "===============================================================================\n",
            "                  coef    std err          t      P>|t|      [0.025      0.975]\n",
            "-------------------------------------------------------------------------------\n",
            "const           9.5088      0.013    729.363      0.000       9.483       9.534\n",
            "dmujer         -0.3027      0.017    -18.090      0.000      -0.335      -0.270\n",
            "dinmigrante    -0.2583      0.019    -13.577      0.000      -0.296      -0.221\n",
            "==============================================================================\n",
            "Omnibus:                     1165.681   Durbin-Watson:                   1.519\n",
            "Prob(Omnibus):                  0.000   Jarque-Bera (JB):             2615.035\n",
            "Skew:                          -0.700   Prob(JB):                         0.00\n",
            "Kurtosis:                       5.061   Cond. No.                         2.94\n",
            "==============================================================================\n",
            "\n",
            "Notes:\n",
            "[1] Standard Errors assume that the covariance matrix of the errors is correctly specified.\n"
          ]
        }
      ]
    },
    {
      "cell_type": "code",
      "metadata": {
        "id": "gGsJRBhWCK07",
        "outputId": "5bd1ba67-52b3-4893-88dc-d4f35691ede8",
        "colab": {
          "base_uri": "https://localhost:8080/"
        }
      },
      "source": [
        "#prediccion para la mujer inmigrante\n",
        "9.5088-0.3027-0.2583"
      ],
      "execution_count": null,
      "outputs": [
        {
          "output_type": "execute_result",
          "data": {
            "text/plain": [
              "8.9478"
            ]
          },
          "metadata": {},
          "execution_count": 38
        }
      ]
    },
    {
      "cell_type": "code",
      "metadata": {
        "id": "zZgN9vI_BYBi"
      },
      "source": [
        "df['dmujerinmigrante'] =df['dmujer']*df['dinmigrante']"
      ],
      "execution_count": null,
      "outputs": []
    },
    {
      "cell_type": "code",
      "metadata": {
        "id": "DyHpuOfHBgbm",
        "outputId": "b142f044-750e-421a-b719-e79a18fd5a1f",
        "colab": {
          "base_uri": "https://localhost:8080/"
        }
      },
      "source": [
        "regress(['logingreso','dmujer','dinmigrante','dmujerinmigrante' ],data=df)\n",
        "# me permite computar directamente el diferencial de la mujer inmigrante, que de otra manera quedaria resumido en el promedio"
      ],
      "execution_count": null,
      "outputs": [
        {
          "output_type": "stream",
          "name": "stdout",
          "text": [
            "                            OLS Regression Results                            \n",
            "==============================================================================\n",
            "Dep. Variable:             logingreso   R-squared:                       0.049\n",
            "Model:                            OLS   Adj. R-squared:                  0.049\n",
            "Method:                 Least Squares   F-statistic:                     174.5\n",
            "Date:                Tue, 10 Oct 2023   Prob (F-statistic):          2.78e-110\n",
            "Time:                        02:49:30   Log-Likelihood:                -12583.\n",
            "No. Observations:               10113   AIC:                         2.517e+04\n",
            "Df Residuals:                   10109   BIC:                         2.520e+04\n",
            "Df Model:                           3                                         \n",
            "Covariance Type:            nonrobust                                         \n",
            "====================================================================================\n",
            "                       coef    std err          t      P>|t|      [0.025      0.975]\n",
            "------------------------------------------------------------------------------------\n",
            "const                9.5051      0.014    678.116      0.000       9.478       9.533\n",
            "dmujer              -0.2955      0.019    -15.199      0.000      -0.334      -0.257\n",
            "dinmigrante         -0.2435      0.028     -8.691      0.000      -0.298      -0.189\n",
            "dmujerinmigrante    -0.0276      0.038     -0.722      0.470      -0.102       0.047\n",
            "==============================================================================\n",
            "Omnibus:                     1163.411   Durbin-Watson:                   1.519\n",
            "Prob(Omnibus):                  0.000   Jarque-Bera (JB):             2609.900\n",
            "Skew:                          -0.699   Prob(JB):                         0.00\n",
            "Kurtosis:                       5.059   Cond. No.                         6.67\n",
            "==============================================================================\n",
            "\n",
            "Notes:\n",
            "[1] Standard Errors assume that the covariance matrix of the errors is correctly specified.\n"
          ]
        }
      ]
    },
    {
      "cell_type": "code",
      "metadata": {
        "id": "MhZcfrJkCZD2",
        "outputId": "1b0b7cea-9f24-47d0-fc7e-b58ebac45c7d",
        "colab": {
          "base_uri": "https://localhost:8080/"
        }
      },
      "source": [
        "9.5051-0.2955-0.2435-0.0276"
      ],
      "execution_count": null,
      "outputs": [
        {
          "output_type": "execute_result",
          "data": {
            "text/plain": [
              "8.938500000000001"
            ]
          },
          "metadata": {},
          "execution_count": 41
        }
      ]
    }
  ]
}