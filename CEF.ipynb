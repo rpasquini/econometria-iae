{
  "nbformat": 4,
  "nbformat_minor": 0,
  "metadata": {
    "colab": {
      "name": "CEF.ipynb",
      "provenance": [],
      "authorship_tag": "ABX9TyMD7F3Yd1OFvgcrK1akoLdO",
      "include_colab_link": true
    },
    "kernelspec": {
      "name": "python3",
      "display_name": "Python 3"
    }
  },
  "cells": [
    {
      "cell_type": "markdown",
      "metadata": {
        "id": "view-in-github",
        "colab_type": "text"
      },
      "source": [
        "<a href=\"https://colab.research.google.com/github/rpasquini/herramientas-econometricas/blob/main/CEF.ipynb\" target=\"_parent\"><img src=\"https://colab.research.google.com/assets/colab-badge.svg\" alt=\"Open In Colab\"/></a>"
      ]
    },
    {
      "cell_type": "code",
      "metadata": {
        "id": "QKbRffkNpDKO",
        "outputId": "e7308a4f-e155-4a59-f3a6-01f9ae8a1a24",
        "colab": {
          "base_uri": "https://localhost:8080/",
          "height": 35
        }
      },
      "source": [
        "print('hola')"
      ],
      "execution_count": 1,
      "outputs": [
        {
          "output_type": "stream",
          "text": [
            "hola\n"
          ],
          "name": "stdout"
        }
      ]
    },
    {
      "cell_type": "code",
      "metadata": {
        "id": "nT3bTu57i3qV"
      },
      "source": [
        "import pandas as pd\n",
        "df=pd.read_csv('https://github.com/rpasquini/herramientas-econometricas/blob/main/datos/eah2016_individual.csv?raw=true')"
      ],
      "execution_count": 2,
      "outputs": []
    },
    {
      "cell_type": "code",
      "metadata": {
        "id": "jVg9ciQtyMVj",
        "outputId": "c71ebb04-baab-489b-fe24-2c733a58758a",
        "colab": {
          "base_uri": "https://localhost:8080/",
          "height": 389
        }
      },
      "source": [
        "# dataframe\n",
        "df.head()"
      ],
      "execution_count": 2,
      "outputs": [
        {
          "output_type": "execute_result",
          "data": {
            "text/html": [
              "<div>\n",
              "<style scoped>\n",
              "    .dataframe tbody tr th:only-of-type {\n",
              "        vertical-align: middle;\n",
              "    }\n",
              "\n",
              "    .dataframe tbody tr th {\n",
              "        vertical-align: top;\n",
              "    }\n",
              "\n",
              "    .dataframe thead th {\n",
              "        text-align: right;\n",
              "    }\n",
              "</style>\n",
              "<table border=\"1\" class=\"dataframe\">\n",
              "  <thead>\n",
              "    <tr style=\"text-align: right;\">\n",
              "      <th></th>\n",
              "      <th>id</th>\n",
              "      <th>nhogar</th>\n",
              "      <th>miembro</th>\n",
              "      <th>comuna</th>\n",
              "      <th>dominio</th>\n",
              "      <th>edad</th>\n",
              "      <th>sexo</th>\n",
              "      <th>parentes_2</th>\n",
              "      <th>p5_2</th>\n",
              "      <th>p6_a</th>\n",
              "      <th>p6_b</th>\n",
              "      <th>estado</th>\n",
              "      <th>categori</th>\n",
              "      <th>t13</th>\n",
              "      <th>t14</th>\n",
              "      <th>t18</th>\n",
              "      <th>t28</th>\n",
              "      <th>t29</th>\n",
              "      <th>t29a</th>\n",
              "      <th>t30</th>\n",
              "      <th>sem_hs</th>\n",
              "      <th>t33</th>\n",
              "      <th>t34</th>\n",
              "      <th>t35</th>\n",
              "      <th>t37_cod_2</th>\n",
              "      <th>t37_coda_2</th>\n",
              "      <th>t38</th>\n",
              "      <th>t39</th>\n",
              "      <th>t40</th>\n",
              "      <th>t41_cod_2</th>\n",
              "      <th>t47</th>\n",
              "      <th>t48</th>\n",
              "      <th>t51_bis</th>\n",
              "      <th>i1</th>\n",
              "      <th>i4</th>\n",
              "      <th>i6_3</th>\n",
              "      <th>i10</th>\n",
              "      <th>i11</th>\n",
              "      <th>codioph</th>\n",
              "      <th>ioph_2</th>\n",
              "      <th>...</th>\n",
              "      <th>codi3_otr</th>\n",
              "      <th>i3_otr_2</th>\n",
              "      <th>codnolab</th>\n",
              "      <th>ingnolab_2</th>\n",
              "      <th>coding</th>\n",
              "      <th>ingtot_2</th>\n",
              "      <th>codi_tot</th>\n",
              "      <th>itfb_2</th>\n",
              "      <th>ipcfb_2</th>\n",
              "      <th>e2</th>\n",
              "      <th>e4</th>\n",
              "      <th>e6</th>\n",
              "      <th>e8</th>\n",
              "      <th>e12</th>\n",
              "      <th>e13</th>\n",
              "      <th>e14</th>\n",
              "      <th>edad_30</th>\n",
              "      <th>nivel</th>\n",
              "      <th>aesc</th>\n",
              "      <th>m1</th>\n",
              "      <th>m1_2</th>\n",
              "      <th>m2_anio</th>\n",
              "      <th>m3_anio</th>\n",
              "      <th>tipcob2_2</th>\n",
              "      <th>sn1_1</th>\n",
              "      <th>sn1_7</th>\n",
              "      <th>sn1_2</th>\n",
              "      <th>sn1_3</th>\n",
              "      <th>sn1_4</th>\n",
              "      <th>sn1_5</th>\n",
              "      <th>s8</th>\n",
              "      <th>sn14</th>\n",
              "      <th>sn16</th>\n",
              "      <th>s28</th>\n",
              "      <th>s29</th>\n",
              "      <th>fexp</th>\n",
              "      <th>sexotexto</th>\n",
              "      <th>inmigrante</th>\n",
              "      <th>logingreso</th>\n",
              "      <th>dsex</th>\n",
              "    </tr>\n",
              "  </thead>\n",
              "  <tbody>\n",
              "    <tr>\n",
              "      <th>0</th>\n",
              "      <td>1</td>\n",
              "      <td>1</td>\n",
              "      <td>1</td>\n",
              "      <td>13</td>\n",
              "      <td>resto ciudad</td>\n",
              "      <td>18</td>\n",
              "      <td>mujer</td>\n",
              "      <td>1</td>\n",
              "      <td>6</td>\n",
              "      <td>95</td>\n",
              "      <td>95</td>\n",
              "      <td>ocupado</td>\n",
              "      <td>3</td>\n",
              "      <td>0</td>\n",
              "      <td>0</td>\n",
              "      <td>0</td>\n",
              "      <td>0</td>\n",
              "      <td>0</td>\n",
              "      <td>0</td>\n",
              "      <td>2</td>\n",
              "      <td>8.0</td>\n",
              "      <td>1</td>\n",
              "      <td>1</td>\n",
              "      <td>2</td>\n",
              "      <td>9700</td>\n",
              "      <td>9</td>\n",
              "      <td>0</td>\n",
              "      <td>0</td>\n",
              "      <td>0</td>\n",
              "      <td>57314</td>\n",
              "      <td>0</td>\n",
              "      <td>0</td>\n",
              "      <td>3</td>\n",
              "      <td>1</td>\n",
              "      <td>0</td>\n",
              "      <td>2</td>\n",
              "      <td>0</td>\n",
              "      <td>0</td>\n",
              "      <td>1</td>\n",
              "      <td>1200</td>\n",
              "      <td>...</td>\n",
              "      <td>2</td>\n",
              "      <td>0</td>\n",
              "      <td>1</td>\n",
              "      <td>3000</td>\n",
              "      <td>1</td>\n",
              "      <td>4380</td>\n",
              "      <td>1</td>\n",
              "      <td>4380</td>\n",
              "      <td>4380</td>\n",
              "      <td>asiste</td>\n",
              "      <td>1</td>\n",
              "      <td>12</td>\n",
              "      <td>1</td>\n",
              "      <td>No corresponde</td>\n",
              "      <td>0</td>\n",
              "      <td>0</td>\n",
              "      <td>18</td>\n",
              "      <td>6</td>\n",
              "      <td>12</td>\n",
              "      <td>Ciudad de Bs. As.</td>\n",
              "      <td>1</td>\n",
              "      <td>0</td>\n",
              "      <td>2016</td>\n",
              "      <td>4</td>\n",
              "      <td>2</td>\n",
              "      <td>2</td>\n",
              "      <td>2</td>\n",
              "      <td>1</td>\n",
              "      <td>2</td>\n",
              "      <td>2</td>\n",
              "      <td>2</td>\n",
              "      <td>0</td>\n",
              "      <td>Excelente</td>\n",
              "      <td>2</td>\n",
              "      <td>0</td>\n",
              "      <td>973</td>\n",
              "      <td>mujer</td>\n",
              "      <td>nativo arg</td>\n",
              "      <td>8.384804</td>\n",
              "      <td>1</td>\n",
              "    </tr>\n",
              "    <tr>\n",
              "      <th>1</th>\n",
              "      <td>2</td>\n",
              "      <td>1</td>\n",
              "      <td>1</td>\n",
              "      <td>1</td>\n",
              "      <td>resto ciudad</td>\n",
              "      <td>18</td>\n",
              "      <td>varon</td>\n",
              "      <td>1</td>\n",
              "      <td>6</td>\n",
              "      <td>95</td>\n",
              "      <td>95</td>\n",
              "      <td>inactivo</td>\n",
              "      <td>0</td>\n",
              "      <td>2</td>\n",
              "      <td>2</td>\n",
              "      <td>0</td>\n",
              "      <td>0</td>\n",
              "      <td>0</td>\n",
              "      <td>0</td>\n",
              "      <td>0</td>\n",
              "      <td>0.0</td>\n",
              "      <td>0</td>\n",
              "      <td>0</td>\n",
              "      <td>0</td>\n",
              "      <td>0</td>\n",
              "      <td>0</td>\n",
              "      <td>0</td>\n",
              "      <td>0</td>\n",
              "      <td>0</td>\n",
              "      <td>0</td>\n",
              "      <td>0</td>\n",
              "      <td>0</td>\n",
              "      <td>0</td>\n",
              "      <td>0</td>\n",
              "      <td>0</td>\n",
              "      <td>0</td>\n",
              "      <td>0</td>\n",
              "      <td>0</td>\n",
              "      <td>0</td>\n",
              "      <td>0</td>\n",
              "      <td>...</td>\n",
              "      <td>2</td>\n",
              "      <td>0</td>\n",
              "      <td>1</td>\n",
              "      <td>9000</td>\n",
              "      <td>1</td>\n",
              "      <td>9000</td>\n",
              "      <td>1</td>\n",
              "      <td>9000</td>\n",
              "      <td>9000</td>\n",
              "      <td>asiste</td>\n",
              "      <td>3</td>\n",
              "      <td>13</td>\n",
              "      <td>1</td>\n",
              "      <td>No corresponde</td>\n",
              "      <td>0</td>\n",
              "      <td>0</td>\n",
              "      <td>17</td>\n",
              "      <td>6</td>\n",
              "      <td>12</td>\n",
              "      <td>5 País limítrofe</td>\n",
              "      <td>5</td>\n",
              "      <td>2016</td>\n",
              "      <td>2016</td>\n",
              "      <td>4</td>\n",
              "      <td>2</td>\n",
              "      <td>2</td>\n",
              "      <td>2</td>\n",
              "      <td>1</td>\n",
              "      <td>2</td>\n",
              "      <td>2</td>\n",
              "      <td>2</td>\n",
              "      <td>0</td>\n",
              "      <td>Excelente</td>\n",
              "      <td>0</td>\n",
              "      <td>0</td>\n",
              "      <td>115</td>\n",
              "      <td>varon</td>\n",
              "      <td>inmigrante</td>\n",
              "      <td>9.104980</td>\n",
              "      <td>0</td>\n",
              "    </tr>\n",
              "    <tr>\n",
              "      <th>2</th>\n",
              "      <td>3</td>\n",
              "      <td>1</td>\n",
              "      <td>1</td>\n",
              "      <td>6</td>\n",
              "      <td>inquilinatos hoteles inmuebles tomados</td>\n",
              "      <td>18</td>\n",
              "      <td>mujer</td>\n",
              "      <td>1</td>\n",
              "      <td>6</td>\n",
              "      <td>95</td>\n",
              "      <td>95</td>\n",
              "      <td>ocupado</td>\n",
              "      <td>3</td>\n",
              "      <td>0</td>\n",
              "      <td>0</td>\n",
              "      <td>0</td>\n",
              "      <td>0</td>\n",
              "      <td>0</td>\n",
              "      <td>0</td>\n",
              "      <td>2</td>\n",
              "      <td>32.0</td>\n",
              "      <td>1</td>\n",
              "      <td>1</td>\n",
              "      <td>1</td>\n",
              "      <td>9700</td>\n",
              "      <td>9</td>\n",
              "      <td>0</td>\n",
              "      <td>0</td>\n",
              "      <td>0</td>\n",
              "      <td>57314</td>\n",
              "      <td>0</td>\n",
              "      <td>0</td>\n",
              "      <td>3</td>\n",
              "      <td>1</td>\n",
              "      <td>0</td>\n",
              "      <td>2</td>\n",
              "      <td>0</td>\n",
              "      <td>0</td>\n",
              "      <td>1</td>\n",
              "      <td>1650</td>\n",
              "      <td>...</td>\n",
              "      <td>2</td>\n",
              "      <td>0</td>\n",
              "      <td>1</td>\n",
              "      <td>780</td>\n",
              "      <td>1</td>\n",
              "      <td>4830</td>\n",
              "      <td>1</td>\n",
              "      <td>4830</td>\n",
              "      <td>4830</td>\n",
              "      <td>asiste</td>\n",
              "      <td>1</td>\n",
              "      <td>13</td>\n",
              "      <td>11</td>\n",
              "      <td>No corresponde</td>\n",
              "      <td>0</td>\n",
              "      <td>0</td>\n",
              "      <td>18</td>\n",
              "      <td>6</td>\n",
              "      <td>12</td>\n",
              "      <td>Partido del GBA</td>\n",
              "      <td>6</td>\n",
              "      <td>0</td>\n",
              "      <td>2016</td>\n",
              "      <td>1</td>\n",
              "      <td>2</td>\n",
              "      <td>2</td>\n",
              "      <td>2</td>\n",
              "      <td>2</td>\n",
              "      <td>2</td>\n",
              "      <td>2</td>\n",
              "      <td>2</td>\n",
              "      <td>0</td>\n",
              "      <td>Excelente</td>\n",
              "      <td>2</td>\n",
              "      <td>0</td>\n",
              "      <td>223</td>\n",
              "      <td>mujer</td>\n",
              "      <td>inmigrante</td>\n",
              "      <td>8.482602</td>\n",
              "      <td>1</td>\n",
              "    </tr>\n",
              "    <tr>\n",
              "      <th>3</th>\n",
              "      <td>4</td>\n",
              "      <td>1</td>\n",
              "      <td>1</td>\n",
              "      <td>14</td>\n",
              "      <td>resto ciudad</td>\n",
              "      <td>18</td>\n",
              "      <td>varon</td>\n",
              "      <td>1</td>\n",
              "      <td>6</td>\n",
              "      <td>95</td>\n",
              "      <td>95</td>\n",
              "      <td>inactivo</td>\n",
              "      <td>0</td>\n",
              "      <td>2</td>\n",
              "      <td>2</td>\n",
              "      <td>0</td>\n",
              "      <td>0</td>\n",
              "      <td>0</td>\n",
              "      <td>0</td>\n",
              "      <td>0</td>\n",
              "      <td>0.0</td>\n",
              "      <td>0</td>\n",
              "      <td>0</td>\n",
              "      <td>0</td>\n",
              "      <td>0</td>\n",
              "      <td>0</td>\n",
              "      <td>0</td>\n",
              "      <td>0</td>\n",
              "      <td>0</td>\n",
              "      <td>0</td>\n",
              "      <td>0</td>\n",
              "      <td>0</td>\n",
              "      <td>0</td>\n",
              "      <td>0</td>\n",
              "      <td>0</td>\n",
              "      <td>0</td>\n",
              "      <td>0</td>\n",
              "      <td>0</td>\n",
              "      <td>0</td>\n",
              "      <td>0</td>\n",
              "      <td>...</td>\n",
              "      <td>2</td>\n",
              "      <td>0</td>\n",
              "      <td>9</td>\n",
              "      <td>15000</td>\n",
              "      <td>9</td>\n",
              "      <td>15000</td>\n",
              "      <td>9</td>\n",
              "      <td>15000</td>\n",
              "      <td>15000</td>\n",
              "      <td>asiste</td>\n",
              "      <td>2</td>\n",
              "      <td>13</td>\n",
              "      <td>1</td>\n",
              "      <td>No corresponde</td>\n",
              "      <td>0</td>\n",
              "      <td>0</td>\n",
              "      <td>18</td>\n",
              "      <td>6</td>\n",
              "      <td>12</td>\n",
              "      <td>En otra provincia</td>\n",
              "      <td>3</td>\n",
              "      <td>0</td>\n",
              "      <td>2016</td>\n",
              "      <td>4</td>\n",
              "      <td>2</td>\n",
              "      <td>2</td>\n",
              "      <td>2</td>\n",
              "      <td>1</td>\n",
              "      <td>2</td>\n",
              "      <td>2</td>\n",
              "      <td>2</td>\n",
              "      <td>0</td>\n",
              "      <td>Excelente</td>\n",
              "      <td>0</td>\n",
              "      <td>0</td>\n",
              "      <td>421</td>\n",
              "      <td>varon</td>\n",
              "      <td>nativo arg</td>\n",
              "      <td>9.615806</td>\n",
              "      <td>0</td>\n",
              "    </tr>\n",
              "    <tr>\n",
              "      <th>4</th>\n",
              "      <td>5</td>\n",
              "      <td>1</td>\n",
              "      <td>1</td>\n",
              "      <td>2</td>\n",
              "      <td>resto ciudad</td>\n",
              "      <td>18</td>\n",
              "      <td>varon</td>\n",
              "      <td>1</td>\n",
              "      <td>6</td>\n",
              "      <td>95</td>\n",
              "      <td>95</td>\n",
              "      <td>inactivo</td>\n",
              "      <td>0</td>\n",
              "      <td>2</td>\n",
              "      <td>2</td>\n",
              "      <td>0</td>\n",
              "      <td>0</td>\n",
              "      <td>0</td>\n",
              "      <td>0</td>\n",
              "      <td>0</td>\n",
              "      <td>0.0</td>\n",
              "      <td>0</td>\n",
              "      <td>0</td>\n",
              "      <td>0</td>\n",
              "      <td>0</td>\n",
              "      <td>0</td>\n",
              "      <td>0</td>\n",
              "      <td>0</td>\n",
              "      <td>0</td>\n",
              "      <td>0</td>\n",
              "      <td>0</td>\n",
              "      <td>0</td>\n",
              "      <td>0</td>\n",
              "      <td>0</td>\n",
              "      <td>0</td>\n",
              "      <td>0</td>\n",
              "      <td>0</td>\n",
              "      <td>0</td>\n",
              "      <td>0</td>\n",
              "      <td>0</td>\n",
              "      <td>...</td>\n",
              "      <td>2</td>\n",
              "      <td>0</td>\n",
              "      <td>1</td>\n",
              "      <td>15000</td>\n",
              "      <td>1</td>\n",
              "      <td>15000</td>\n",
              "      <td>1</td>\n",
              "      <td>15000</td>\n",
              "      <td>15000</td>\n",
              "      <td>asiste</td>\n",
              "      <td>3</td>\n",
              "      <td>13</td>\n",
              "      <td>1</td>\n",
              "      <td>No corresponde</td>\n",
              "      <td>0</td>\n",
              "      <td>0</td>\n",
              "      <td>18</td>\n",
              "      <td>6</td>\n",
              "      <td>12</td>\n",
              "      <td>Prov. de Bs. As.</td>\n",
              "      <td>2</td>\n",
              "      <td>0</td>\n",
              "      <td>2016</td>\n",
              "      <td>4</td>\n",
              "      <td>2</td>\n",
              "      <td>2</td>\n",
              "      <td>2</td>\n",
              "      <td>1</td>\n",
              "      <td>2</td>\n",
              "      <td>2</td>\n",
              "      <td>2</td>\n",
              "      <td>0</td>\n",
              "      <td>Bueno</td>\n",
              "      <td>0</td>\n",
              "      <td>0</td>\n",
              "      <td>199</td>\n",
              "      <td>varon</td>\n",
              "      <td>nativo arg</td>\n",
              "      <td>9.615806</td>\n",
              "      <td>0</td>\n",
              "    </tr>\n",
              "  </tbody>\n",
              "</table>\n",
              "<p>5 rows × 96 columns</p>\n",
              "</div>"
            ],
            "text/plain": [
              "   id  nhogar  miembro  comuna  ... sexotexto  inmigrante logingreso  dsex\n",
              "0   1       1        1      13  ...     mujer  nativo arg   8.384804     1\n",
              "1   2       1        1       1  ...     varon  inmigrante   9.104980     0\n",
              "2   3       1        1       6  ...     mujer  inmigrante   8.482602     1\n",
              "3   4       1        1      14  ...     varon  nativo arg   9.615806     0\n",
              "4   5       1        1       2  ...     varon  nativo arg   9.615806     0\n",
              "\n",
              "[5 rows x 96 columns]"
            ]
          },
          "metadata": {
            "tags": []
          },
          "execution_count": 2
        }
      ]
    },
    {
      "cell_type": "code",
      "metadata": {
        "id": "_Dg-fDZvspaa",
        "outputId": "01e13480-14c9-4971-e331-f09d48e98c67",
        "colab": {
          "base_uri": "https://localhost:8080/",
          "height": 35
        }
      },
      "source": [
        "df.shape"
      ],
      "execution_count": 12,
      "outputs": [
        {
          "output_type": "execute_result",
          "data": {
            "text/plain": [
              "(14512, 96)"
            ]
          },
          "metadata": {
            "tags": []
          },
          "execution_count": 12
        }
      ]
    },
    {
      "cell_type": "code",
      "metadata": {
        "id": "PRdSl3qaqb4M",
        "outputId": "2dd53424-7aaf-4209-8680-3780a899f99f",
        "colab": {
          "base_uri": "https://localhost:8080/",
          "height": 281
        }
      },
      "source": [
        "df.columns"
      ],
      "execution_count": 11,
      "outputs": [
        {
          "output_type": "execute_result",
          "data": {
            "text/plain": [
              "Index(['id', 'nhogar', 'miembro', 'comuna', 'dominio', 'edad', 'sexo',\n",
              "       'parentes_2', 'p5_2', 'p6_a', 'p6_b', 'estado', 'categori', 't13',\n",
              "       't14', 't18', 't28', 't29', 't29a', 't30', 'sem_hs', 't33', 't34',\n",
              "       't35', 't37_cod_2', 't37_coda_2', 't38', 't39', 't40', 't41_cod_2',\n",
              "       't47', 't48', 't51_bis', 'i1', 'i4', 'i6_3', 'i10', 'i11', 'codioph',\n",
              "       'ioph_2', 'codioph_neto', 'ioph_neto_2', 'codios', 'ios_2', 'codioa',\n",
              "       'ioa_2', 'codlab', 'inglab_2', 'codi3_1x', 'i3_1x_2', 'codi3_2x',\n",
              "       'i3_2x_2', 'codi3_8x', 'i3_8x_2', 'codi3_est', 'i3_est_2', 'codi3_otr',\n",
              "       'i3_otr_2', 'codnolab', 'ingnolab_2', 'coding', 'ingtot_2', 'codi_tot',\n",
              "       'itfb_2', 'ipcfb_2', 'e2', 'e4', 'e6', 'e8', 'e12', 'e13', 'e14',\n",
              "       'edad_30', 'nivel', 'aesc', 'm1', 'm1_2', 'm2_anio', 'm3_anio',\n",
              "       'tipcob2_2', 'sn1_1', 'sn1_7', 'sn1_2', 'sn1_3', 'sn1_4', 'sn1_5', 's8',\n",
              "       'sn14', 'sn16', 's28', 's29', 'fexp', 'sexotexto', 'inmigrante',\n",
              "       'logingreso', 'dsex'],\n",
              "      dtype='object')"
            ]
          },
          "metadata": {
            "tags": []
          },
          "execution_count": 11
        }
      ]
    },
    {
      "cell_type": "code",
      "metadata": {
        "id": "J3KSrbYBrs-v",
        "outputId": "7c388c38-8845-438f-f69a-9b6551bdac94",
        "colab": {
          "base_uri": "https://localhost:8080/",
          "height": 228
        }
      },
      "source": [
        "df.logingreso"
      ],
      "execution_count": 13,
      "outputs": [
        {
          "output_type": "execute_result",
          "data": {
            "text/plain": [
              "0        8.384804\n",
              "1        9.104980\n",
              "2        8.482602\n",
              "3        9.615806\n",
              "4        9.615806\n",
              "           ...   \n",
              "14507    8.748305\n",
              "14508    9.952278\n",
              "14509    9.210340\n",
              "14510    8.922658\n",
              "14511    9.190138\n",
              "Name: logingreso, Length: 14512, dtype: float64"
            ]
          },
          "metadata": {
            "tags": []
          },
          "execution_count": 13
        }
      ]
    },
    {
      "cell_type": "code",
      "metadata": {
        "id": "V21a44QYtWaO",
        "outputId": "b572acc1-ff85-426d-9f68-ed28de6e0bd9",
        "colab": {
          "base_uri": "https://localhost:8080/",
          "height": 228
        }
      },
      "source": [
        "df['logingreso']"
      ],
      "execution_count": 14,
      "outputs": [
        {
          "output_type": "execute_result",
          "data": {
            "text/plain": [
              "0        8.384804\n",
              "1        9.104980\n",
              "2        8.482602\n",
              "3        9.615806\n",
              "4        9.615806\n",
              "           ...   \n",
              "14507    8.748305\n",
              "14508    9.952278\n",
              "14509    9.210340\n",
              "14510    8.922658\n",
              "14511    9.190138\n",
              "Name: logingreso, Length: 14512, dtype: float64"
            ]
          },
          "metadata": {
            "tags": []
          },
          "execution_count": 14
        }
      ]
    },
    {
      "cell_type": "code",
      "metadata": {
        "id": "4qrHGDQbt-nQ",
        "outputId": "e9ad1d95-2c28-4aaf-de6c-6755602b9ecb",
        "colab": {
          "base_uri": "https://localhost:8080/",
          "height": 283
        }
      },
      "source": [
        "df.logingreso.hist()"
      ],
      "execution_count": 16,
      "outputs": [
        {
          "output_type": "execute_result",
          "data": {
            "text/plain": [
              "<matplotlib.axes._subplots.AxesSubplot at 0x7f283643e6a0>"
            ]
          },
          "metadata": {
            "tags": []
          },
          "execution_count": 16
        },
        {
          "output_type": "display_data",
          "data": {
            "image/png": "[encoded data removed]",
            "text/plain": [
              "<Figure size 432x288 with 1 Axes>"
            ]
          },
          "metadata": {
            "tags": [],
            "needs_background": "light"
          }
        }
      ]
    },
    {
      "cell_type": "code",
      "metadata": {
        "id": "gzXSGe89waHl",
        "outputId": "1c593061-9ef6-43b0-a2ae-e6a009fe54cb",
        "colab": {
          "base_uri": "https://localhost:8080/",
          "height": 391
        }
      },
      "source": [
        "# pueden agrandar el grafico usando lo siguiente:\n",
        "import matplotlib.pyplot as plt\n",
        "plt.rcParams[\"figure.figsize\"] = (6,6)\n",
        "df.logingreso.hist(bins=20)"
      ],
      "execution_count": 4,
      "outputs": [
        {
          "output_type": "execute_result",
          "data": {
            "text/plain": [
              "<matplotlib.axes._subplots.AxesSubplot at 0x7f4a784fe4a8>"
            ]
          },
          "metadata": {
            "tags": []
          },
          "execution_count": 4
        },
        {
          "output_type": "display_data",
          "data": {
            "image/png": "[encoded data removed]",
            "text/plain": [
              "<Figure size 432x432 with 1 Axes>"
            ]
          },
          "metadata": {
            "tags": [],
            "needs_background": "light"
          }
        }
      ]
    },
    {
      "cell_type": "code",
      "metadata": {
        "id": "1xhj015Wy5To",
        "outputId": "38412a65-8983-42ce-fa7c-29b1f316ccb5",
        "colab": {
          "base_uri": "https://localhost:8080/",
          "height": 391
        }
      },
      "source": [
        "df.logingreso.hist(cumulative=True, density=1, bins=100)"
      ],
      "execution_count": 5,
      "outputs": [
        {
          "output_type": "execute_result",
          "data": {
            "text/plain": [
              "<matplotlib.axes._subplots.AxesSubplot at 0x7f4a784740f0>"
            ]
          },
          "metadata": {
            "tags": []
          },
          "execution_count": 5
        },
        {
          "output_type": "display_data",
          "data": {
            "image/png": "[encoded data removed]",
            "text/plain": [
              "<Figure size 432x432 with 1 Axes>"
            ]
          },
          "metadata": {
            "tags": [],
            "needs_background": "light"
          }
        }
      ]
    },
    {
      "cell_type": "code",
      "metadata": {
        "id": "ljsKuF_otptd",
        "outputId": "36ad239a-d7c8-4de0-cb3f-52e93a6c9d04",
        "colab": {
          "base_uri": "https://localhost:8080/",
          "height": 35
        }
      },
      "source": [
        "df.logingreso.mean()"
      ],
      "execution_count": 15,
      "outputs": [
        {
          "output_type": "execute_result",
          "data": {
            "text/plain": [
              "9.282120370355067"
            ]
          },
          "metadata": {
            "tags": []
          },
          "execution_count": 15
        }
      ]
    },
    {
      "cell_type": "code",
      "metadata": {
        "id": "hNWVZaPzuQx8",
        "outputId": "c0f67cae-767e-43d0-93cc-325863ed7383",
        "colab": {
          "base_uri": "https://localhost:8080/",
          "height": 228
        }
      },
      "source": [
        "df.sexo=='mujer'"
      ],
      "execution_count": 17,
      "outputs": [
        {
          "output_type": "execute_result",
          "data": {
            "text/plain": [
              "0         True\n",
              "1        False\n",
              "2         True\n",
              "3        False\n",
              "4        False\n",
              "         ...  \n",
              "14507     True\n",
              "14508     True\n",
              "14509     True\n",
              "14510    False\n",
              "14511     True\n",
              "Name: sexo, Length: 14512, dtype: bool"
            ]
          },
          "metadata": {
            "tags": []
          },
          "execution_count": 17
        }
      ]
    },
    {
      "cell_type": "markdown",
      "metadata": {
        "id": "X1JUfBK01C_X"
      },
      "source": [
        "# \"Filtrando\" el Dataframe \n",
        "Seleccionamos las filas del dataframe en base a una condicion logica usando el método .loc \\\\\n",
        "Dentro del .loc tenemos que especificar una condición lógica\n"
      ]
    },
    {
      "cell_type": "markdown",
      "metadata": {
        "id": "eU8hNrV40014"
      },
      "source": [
        "Aqui van algunos ejemplos mas sobre como filtrar el dataframe"
      ]
    },
    {
      "cell_type": "code",
      "metadata": {
        "id": "9e-8kinTxgNS",
        "outputId": "669102b7-d03d-4889-ad47-e56b8c1a36c9",
        "colab": {
          "base_uri": "https://localhost:8080/",
          "height": 35
        }
      },
      "source": [
        "# Ejemplo: promedio de logingreso de personas mayores a 40 años\n",
        "\n",
        "df.loc[df.edad>=40].logingreso.mean()"
      ],
      "execution_count": 6,
      "outputs": [
        {
          "output_type": "execute_result",
          "data": {
            "text/plain": [
              "9.357953288566216"
            ]
          },
          "metadata": {
            "tags": []
          },
          "execution_count": 6
        }
      ]
    },
    {
      "cell_type": "code",
      "metadata": {
        "id": "33waEOd6yC2p",
        "outputId": "870ad2a9-2d8b-402d-d6f2-51b4278ef276",
        "colab": {
          "base_uri": "https://localhost:8080/",
          "height": 35
        }
      },
      "source": [
        "# Ejemplo: promedio de logingreso de varones y mayores a 40 años\n",
        "\n",
        "df.loc[(df.sexo=='varon') & (df.edad>=40)].logingreso.mean()"
      ],
      "execution_count": 5,
      "outputs": [
        {
          "output_type": "execute_result",
          "data": {
            "text/plain": [
              "9.550831808509894"
            ]
          },
          "metadata": {
            "tags": []
          },
          "execution_count": 5
        }
      ]
    },
    {
      "cell_type": "code",
      "metadata": {
        "id": "H3j6zSw4zW1O",
        "outputId": "e2c0cf5f-5422-4409-8a43-3f86b6ad4b07",
        "colab": {
          "base_uri": "https://localhost:8080/",
          "height": 35
        }
      },
      "source": [
        "# Ejemplo: promedio de logingreso de varones o mayores a 40 años\n",
        "df.loc[(df.sexo=='varon') | (df.edad>=40) ].logingreso.mean()"
      ],
      "execution_count": 4,
      "outputs": [
        {
          "output_type": "execute_result",
          "data": {
            "text/plain": [
              "9.34391256149445"
            ]
          },
          "metadata": {
            "tags": []
          },
          "execution_count": 4
        }
      ]
    },
    {
      "cell_type": "markdown",
      "metadata": {
        "id": "YnSuc-vkcgmU"
      },
      "source": [
        "## Filtrando el dataframe\n",
        "\n",
        "\n",
        "Para escribir una condicion recuerden que pueden utilizar los siguientes lógicos:\n",
        "\n",
        "==    para chequear la  condicion \"equivale a\" o \"igual a\" va doble igual\n",
        "\n",
        "!= distinto a\n",
        " \n",
        "\\> mayor a \\\\\n",
        "\n",
        "\\> = mayor o igual a\n",
        "\n",
        "< menor a\n",
        "\n",
        "<= menor o igual a\n",
        "\n",
        "En el caso de querer usar dos condiciones o más:\n",
        "\n",
        "(esta condicion) & (esta condicion) Se cumple esta condicion Y esta otra\n",
        "\n",
        "(esta condicion) | (esta condicion) Se cumple esta condicion O esta otra\n",
        "\n",
        "Recuerden que las condiciones tiene que ir en parentesis!\n",
        "\n",
        "\n",
        "\n"
      ]
    },
    {
      "cell_type": "markdown",
      "metadata": {
        "id": "pImuoa1auWgA"
      },
      "source": [
        "# Aplicando el CEF\n",
        "\n",
        "Vamos a explorar ahore el ingreso esperado de varones y mujeres. Usando el modelo CEF tendríamos:\n",
        "\n",
        "$$E[y|sexo=\\text{varon}]$$\n",
        "\n",
        "y\n",
        "\n",
        "$$E[y|sexo=\\text{mujer}]$$\n"
      ]
    },
    {
      "cell_type": "code",
      "metadata": {
        "id": "34G8nX_ow5ve",
        "outputId": "fc6d578a-df2b-4b14-bd7d-395740bfa7d0",
        "colab": {
          "base_uri": "https://localhost:8080/",
          "height": 35
        }
      },
      "source": [
        "df.loc[df.sexo=='varon'].logingreso.mean()"
      ],
      "execution_count": 21,
      "outputs": [
        {
          "output_type": "execute_result",
          "data": {
            "text/plain": [
              "9.444135943244891"
            ]
          },
          "metadata": {
            "tags": []
          },
          "execution_count": 21
        }
      ]
    },
    {
      "cell_type": "code",
      "metadata": {
        "id": "iKqmxGt0uces",
        "outputId": "fee3ac69-49e5-43f9-8b3f-0c53972ddc14",
        "colab": {
          "base_uri": "https://localhost:8080/",
          "height": 35
        }
      },
      "source": [
        "df.loc[df.sexo=='mujer'].logingreso.mean()"
      ],
      "execution_count": 20,
      "outputs": [
        {
          "output_type": "execute_result",
          "data": {
            "text/plain": [
              "9.136385475807575"
            ]
          },
          "metadata": {
            "tags": []
          },
          "execution_count": 20
        }
      ]
    },
    {
      "cell_type": "code",
      "metadata": {
        "id": "OE5iOwkA2-bN"
      },
      "source": [
        ""
      ],
      "execution_count": null,
      "outputs": []
    },
    {
      "cell_type": "markdown",
      "metadata": {
        "id": "EveVpZBc3Aq1"
      },
      "source": [
        "# Un metodo alternativo para contruir medias por grupos usando groupby"
      ]
    },
    {
      "cell_type": "code",
      "metadata": {
        "id": "YKqzX__JrjxC",
        "outputId": "48a2d732-fc6a-411f-b5de-8f39e3116474",
        "colab": {
          "base_uri": "https://localhost:8080/",
          "height": 190
        }
      },
      "source": [
        "df.groupby(by='sexo').mean()"
      ],
      "execution_count": 8,
      "outputs": [
        {
          "output_type": "execute_result",
          "data": {
            "text/html": [
              "<div>\n",
              "<style scoped>\n",
              "    .dataframe tbody tr th:only-of-type {\n",
              "        vertical-align: middle;\n",
              "    }\n",
              "\n",
              "    .dataframe tbody tr th {\n",
              "        vertical-align: top;\n",
              "    }\n",
              "\n",
              "    .dataframe thead th {\n",
              "        text-align: right;\n",
              "    }\n",
              "</style>\n",
              "<table border=\"1\" class=\"dataframe\">\n",
              "  <thead>\n",
              "    <tr style=\"text-align: right;\">\n",
              "      <th></th>\n",
              "      <th>id</th>\n",
              "      <th>nhogar</th>\n",
              "      <th>miembro</th>\n",
              "      <th>comuna</th>\n",
              "      <th>edad</th>\n",
              "      <th>parentes_2</th>\n",
              "      <th>p5_2</th>\n",
              "      <th>p6_a</th>\n",
              "      <th>p6_b</th>\n",
              "      <th>categori</th>\n",
              "      <th>t13</th>\n",
              "      <th>t14</th>\n",
              "      <th>t18</th>\n",
              "      <th>t28</th>\n",
              "      <th>t29</th>\n",
              "      <th>t29a</th>\n",
              "      <th>t30</th>\n",
              "      <th>sem_hs</th>\n",
              "      <th>t33</th>\n",
              "      <th>t34</th>\n",
              "      <th>t35</th>\n",
              "      <th>t37_cod_2</th>\n",
              "      <th>t37_coda_2</th>\n",
              "      <th>t38</th>\n",
              "      <th>t39</th>\n",
              "      <th>t40</th>\n",
              "      <th>t41_cod_2</th>\n",
              "      <th>t47</th>\n",
              "      <th>t48</th>\n",
              "      <th>t51_bis</th>\n",
              "      <th>i1</th>\n",
              "      <th>i4</th>\n",
              "      <th>i6_3</th>\n",
              "      <th>i10</th>\n",
              "      <th>i11</th>\n",
              "      <th>codioph</th>\n",
              "      <th>ioph_2</th>\n",
              "      <th>codioph_neto</th>\n",
              "      <th>ioph_neto_2</th>\n",
              "      <th>codios</th>\n",
              "      <th>...</th>\n",
              "      <th>codi3_2x</th>\n",
              "      <th>i3_2x_2</th>\n",
              "      <th>codi3_8x</th>\n",
              "      <th>i3_8x_2</th>\n",
              "      <th>codi3_est</th>\n",
              "      <th>i3_est_2</th>\n",
              "      <th>codi3_otr</th>\n",
              "      <th>i3_otr_2</th>\n",
              "      <th>codnolab</th>\n",
              "      <th>ingnolab_2</th>\n",
              "      <th>coding</th>\n",
              "      <th>ingtot_2</th>\n",
              "      <th>codi_tot</th>\n",
              "      <th>itfb_2</th>\n",
              "      <th>ipcfb_2</th>\n",
              "      <th>e4</th>\n",
              "      <th>e6</th>\n",
              "      <th>e8</th>\n",
              "      <th>e13</th>\n",
              "      <th>e14</th>\n",
              "      <th>edad_30</th>\n",
              "      <th>nivel</th>\n",
              "      <th>aesc</th>\n",
              "      <th>m1_2</th>\n",
              "      <th>m2_anio</th>\n",
              "      <th>m3_anio</th>\n",
              "      <th>tipcob2_2</th>\n",
              "      <th>sn1_1</th>\n",
              "      <th>sn1_7</th>\n",
              "      <th>sn1_2</th>\n",
              "      <th>sn1_3</th>\n",
              "      <th>sn1_4</th>\n",
              "      <th>sn1_5</th>\n",
              "      <th>s8</th>\n",
              "      <th>sn14</th>\n",
              "      <th>s28</th>\n",
              "      <th>s29</th>\n",
              "      <th>fexp</th>\n",
              "      <th>logingreso</th>\n",
              "      <th>dsex</th>\n",
              "    </tr>\n",
              "    <tr>\n",
              "      <th>sexo</th>\n",
              "      <th></th>\n",
              "      <th></th>\n",
              "      <th></th>\n",
              "      <th></th>\n",
              "      <th></th>\n",
              "      <th></th>\n",
              "      <th></th>\n",
              "      <th></th>\n",
              "      <th></th>\n",
              "      <th></th>\n",
              "      <th></th>\n",
              "      <th></th>\n",
              "      <th></th>\n",
              "      <th></th>\n",
              "      <th></th>\n",
              "      <th></th>\n",
              "      <th></th>\n",
              "      <th></th>\n",
              "      <th></th>\n",
              "      <th></th>\n",
              "      <th></th>\n",
              "      <th></th>\n",
              "      <th></th>\n",
              "      <th></th>\n",
              "      <th></th>\n",
              "      <th></th>\n",
              "      <th></th>\n",
              "      <th></th>\n",
              "      <th></th>\n",
              "      <th></th>\n",
              "      <th></th>\n",
              "      <th></th>\n",
              "      <th></th>\n",
              "      <th></th>\n",
              "      <th></th>\n",
              "      <th></th>\n",
              "      <th></th>\n",
              "      <th></th>\n",
              "      <th></th>\n",
              "      <th></th>\n",
              "      <th></th>\n",
              "      <th></th>\n",
              "      <th></th>\n",
              "      <th></th>\n",
              "      <th></th>\n",
              "      <th></th>\n",
              "      <th></th>\n",
              "      <th></th>\n",
              "      <th></th>\n",
              "      <th></th>\n",
              "      <th></th>\n",
              "      <th></th>\n",
              "      <th></th>\n",
              "      <th></th>\n",
              "      <th></th>\n",
              "      <th></th>\n",
              "      <th></th>\n",
              "      <th></th>\n",
              "      <th></th>\n",
              "      <th></th>\n",
              "      <th></th>\n",
              "      <th></th>\n",
              "      <th></th>\n",
              "      <th></th>\n",
              "      <th></th>\n",
              "      <th></th>\n",
              "      <th></th>\n",
              "      <th></th>\n",
              "      <th></th>\n",
              "      <th></th>\n",
              "      <th></th>\n",
              "      <th></th>\n",
              "      <th></th>\n",
              "      <th></th>\n",
              "      <th></th>\n",
              "      <th></th>\n",
              "      <th></th>\n",
              "      <th></th>\n",
              "      <th></th>\n",
              "      <th></th>\n",
              "      <th></th>\n",
              "    </tr>\n",
              "  </thead>\n",
              "  <tbody>\n",
              "    <tr>\n",
              "      <th>mujer</th>\n",
              "      <td>2852.964830</td>\n",
              "      <td>1.009248</td>\n",
              "      <td>2.151101</td>\n",
              "      <td>7.184317</td>\n",
              "      <td>40.325257</td>\n",
              "      <td>2.296340</td>\n",
              "      <td>2.876254</td>\n",
              "      <td>12.131041</td>\n",
              "      <td>5.372932</td>\n",
              "      <td>1.252573</td>\n",
              "      <td>0.753550</td>\n",
              "      <td>0.750944</td>\n",
              "      <td>0.058747</td>\n",
              "      <td>0.015371</td>\n",
              "      <td>0.025270</td>\n",
              "      <td>0.024358</td>\n",
              "      <td>0.497851</td>\n",
              "      <td>15.728484</td>\n",
              "      <td>0.785984</td>\n",
              "      <td>0.101602</td>\n",
              "      <td>0.831445</td>\n",
              "      <td>3247.782728</td>\n",
              "      <td>2.544484</td>\n",
              "      <td>0.728149</td>\n",
              "      <td>0.825062</td>\n",
              "      <td>1.157483</td>\n",
              "      <td>17033.082715</td>\n",
              "      <td>0.189527</td>\n",
              "      <td>0.006513</td>\n",
              "      <td>0.546047</td>\n",
              "      <td>0.364465</td>\n",
              "      <td>0.034128</td>\n",
              "      <td>0.684382</td>\n",
              "      <td>0.187834</td>\n",
              "      <td>0.008858</td>\n",
              "      <td>1.144457</td>\n",
              "      <td>5934.236681</td>\n",
              "      <td>1.145500</td>\n",
              "      <td>5916.877817</td>\n",
              "      <td>0.151361</td>\n",
              "      <td>...</td>\n",
              "      <td>1.803699</td>\n",
              "      <td>208.336590</td>\n",
              "      <td>1.815813</td>\n",
              "      <td>284.288654</td>\n",
              "      <td>1.733620</td>\n",
              "      <td>104.275889</td>\n",
              "      <td>1.777778</td>\n",
              "      <td>160.779862</td>\n",
              "      <td>1.801876</td>\n",
              "      <td>2777.207242</td>\n",
              "      <td>2.124007</td>\n",
              "      <td>9041.541748</td>\n",
              "      <td>3.129738</td>\n",
              "      <td>27140.678390</td>\n",
              "      <td>10171.174026</td>\n",
              "      <td>0.446268</td>\n",
              "      <td>2.471669</td>\n",
              "      <td>0.849551</td>\n",
              "      <td>0.880031</td>\n",
              "      <td>0.661587</td>\n",
              "      <td>53.503061</td>\n",
              "      <td>4.914289</td>\n",
              "      <td>10.969519</td>\n",
              "      <td>2.381790</td>\n",
              "      <td>330.392601</td>\n",
              "      <td>1003.777387</td>\n",
              "      <td>2.345317</td>\n",
              "      <td>1.511788</td>\n",
              "      <td>1.827928</td>\n",
              "      <td>1.996744</td>\n",
              "      <td>1.853849</td>\n",
              "      <td>1.989188</td>\n",
              "      <td>1.978116</td>\n",
              "      <td>1.908949</td>\n",
              "      <td>0.175980</td>\n",
              "      <td>1.16061</td>\n",
              "      <td>1.293213</td>\n",
              "      <td>212.14094</td>\n",
              "      <td>9.136385</td>\n",
              "      <td>1.0</td>\n",
              "    </tr>\n",
              "    <tr>\n",
              "      <th>varon</th>\n",
              "      <td>2673.230139</td>\n",
              "      <td>1.010534</td>\n",
              "      <td>2.113826</td>\n",
              "      <td>7.274177</td>\n",
              "      <td>36.435845</td>\n",
              "      <td>2.152451</td>\n",
              "      <td>2.696562</td>\n",
              "      <td>12.881200</td>\n",
              "      <td>5.168691</td>\n",
              "      <td>1.544843</td>\n",
              "      <td>0.482516</td>\n",
              "      <td>0.475640</td>\n",
              "      <td>0.049744</td>\n",
              "      <td>0.014484</td>\n",
              "      <td>0.031163</td>\n",
              "      <td>0.026335</td>\n",
              "      <td>0.615069</td>\n",
              "      <td>24.057230</td>\n",
              "      <td>1.015069</td>\n",
              "      <td>0.118069</td>\n",
              "      <td>1.066423</td>\n",
              "      <td>3464.552012</td>\n",
              "      <td>2.537527</td>\n",
              "      <td>1.080176</td>\n",
              "      <td>1.322312</td>\n",
              "      <td>1.624579</td>\n",
              "      <td>24341.018581</td>\n",
              "      <td>0.308705</td>\n",
              "      <td>0.007315</td>\n",
              "      <td>0.613606</td>\n",
              "      <td>0.425896</td>\n",
              "      <td>0.025750</td>\n",
              "      <td>0.814338</td>\n",
              "      <td>0.297879</td>\n",
              "      <td>0.028530</td>\n",
              "      <td>1.517337</td>\n",
              "      <td>9459.430139</td>\n",
              "      <td>1.518508</td>\n",
              "      <td>9431.658815</td>\n",
              "      <td>0.145867</td>\n",
              "      <td>...</td>\n",
              "      <td>1.747037</td>\n",
              "      <td>225.749817</td>\n",
              "      <td>1.767228</td>\n",
              "      <td>206.244916</td>\n",
              "      <td>1.726554</td>\n",
              "      <td>21.884565</td>\n",
              "      <td>1.745574</td>\n",
              "      <td>118.383321</td>\n",
              "      <td>1.805999</td>\n",
              "      <td>1972.872860</td>\n",
              "      <td>2.215801</td>\n",
              "      <td>11897.529042</td>\n",
              "      <td>3.104462</td>\n",
              "      <td>29581.746891</td>\n",
              "      <td>10715.490124</td>\n",
              "      <td>0.488076</td>\n",
              "      <td>2.659839</td>\n",
              "      <td>1.007169</td>\n",
              "      <td>0.886028</td>\n",
              "      <td>0.879298</td>\n",
              "      <td>48.963424</td>\n",
              "      <td>4.808632</td>\n",
              "      <td>10.874177</td>\n",
              "      <td>2.208339</td>\n",
              "      <td>285.290856</td>\n",
              "      <td>911.318654</td>\n",
              "      <td>2.316752</td>\n",
              "      <td>1.532260</td>\n",
              "      <td>1.817410</td>\n",
              "      <td>1.997366</td>\n",
              "      <td>1.860424</td>\n",
              "      <td>1.988588</td>\n",
              "      <td>1.981273</td>\n",
              "      <td>1.932114</td>\n",
              "      <td>0.123482</td>\n",
              "      <td>0.00000</td>\n",
              "      <td>0.000000</td>\n",
              "      <td>209.30256</td>\n",
              "      <td>9.444136</td>\n",
              "      <td>0.0</td>\n",
              "    </tr>\n",
              "  </tbody>\n",
              "</table>\n",
              "<p>2 rows × 87 columns</p>\n",
              "</div>"
            ],
            "text/plain": [
              "                id    nhogar   miembro  ...       fexp  logingreso  dsex\n",
              "sexo                                    ...                             \n",
              "mujer  2852.964830  1.009248  2.151101  ...  212.14094    9.136385   1.0\n",
              "varon  2673.230139  1.010534  2.113826  ...  209.30256    9.444136   0.0\n",
              "\n",
              "[2 rows x 87 columns]"
            ]
          },
          "metadata": {
            "tags": []
          },
          "execution_count": 8
        }
      ]
    },
    {
      "cell_type": "code",
      "metadata": {
        "id": "RCC1p-dMq9Jl",
        "outputId": "b9189a4a-2e74-45f9-c2e3-ce86aa71cbbe",
        "colab": {
          "base_uri": "https://localhost:8080/",
          "height": 87
        }
      },
      "source": [
        "df.groupby(by='sexo')['logingreso'].mean()"
      ],
      "execution_count": 9,
      "outputs": [
        {
          "output_type": "execute_result",
          "data": {
            "text/plain": [
              "sexo\n",
              "mujer    9.136385\n",
              "varon    9.444136\n",
              "Name: logingreso, dtype: float64"
            ]
          },
          "metadata": {
            "tags": []
          },
          "execution_count": 9
        }
      ]
    },
    {
      "cell_type": "code",
      "metadata": {
        "id": "3WaR7abA3LN3"
      },
      "source": [
        ""
      ],
      "execution_count": null,
      "outputs": []
    },
    {
      "cell_type": "markdown",
      "metadata": {
        "id": "doYyzTOr3Omu"
      },
      "source": [
        "# Ejemplo más avanzado: creando una tabla de promedios y luego grafico las funciones CEF segun sexo y escolaridad"
      ]
    },
    {
      "cell_type": "code",
      "metadata": {
        "id": "Ebv_DeCasS-W"
      },
      "source": [
        "df_means=df.groupby(['sexo','aesc'],as_index=False)['logingreso'].mean()\n",
        "df_means=df_means.loc[df_means.aesc<20]\n",
        "#.plot(x='aesc',y='logingreso')"
      ],
      "execution_count": 10,
      "outputs": []
    },
    {
      "cell_type": "code",
      "metadata": {
        "id": "5iC3AfX7r1Ks",
        "outputId": "e66e3cd5-4831-41dd-c58c-a57b11f03c6f",
        "colab": {
          "base_uri": "https://localhost:8080/",
          "height": 405
        }
      },
      "source": [
        "import matplotlib.pyplot as plt\n",
        "base=df_means.loc[df_means.sexo=='varon'].plot(x='aesc',y='logingreso', style='o', label='varon')\n",
        "df_means.loc[df_means.sexo=='mujer'].plot(x='aesc',y='logingreso', style='o', ax=base, label='mujer')"
      ],
      "execution_count": 11,
      "outputs": [
        {
          "output_type": "execute_result",
          "data": {
            "text/plain": [
              "<matplotlib.axes._subplots.AxesSubplot at 0x7f4a77df3860>"
            ]
          },
          "metadata": {
            "tags": []
          },
          "execution_count": 11
        },
        {
          "output_type": "display_data",
          "data": {
            "image/png": "[encoded data removed]",
            "text/plain": [
              "<Figure size 432x432 with 1 Axes>"
            ]
          },
          "metadata": {
            "tags": [],
            "needs_background": "light"
          }
        }
      ]
    },
    {
      "cell_type": "markdown",
      "metadata": {
        "id": "jpLKXlWw3xCg"
      },
      "source": [
        "Creando una variable dummy"
      ]
    },
    {
      "cell_type": "code",
      "metadata": {
        "id": "5wPIwFnCfa4W"
      },
      "source": [
        "df.loc[df['sexo'] == 'varon', 'dmujer'] = 0\n",
        "df.loc[df['sexo'] == 'mujer', 'dmujer'] = 1"
      ],
      "execution_count": 13,
      "outputs": []
    },
    {
      "cell_type": "markdown",
      "metadata": {
        "id": "rr2sfj-UdQQ2"
      },
      "source": [
        "## OLS\n",
        "\n",
        "Statsmodels es la librería de operaciones estadísticas que usaremos para estimar OLS"
      ]
    },
    {
      "cell_type": "code",
      "metadata": {
        "id": "I9qvql6adR-y",
        "outputId": "42c96daf-25d0-4450-aaa3-771161e37c88",
        "colab": {
          "base_uri": "https://localhost:8080/",
          "height": 72
        }
      },
      "source": [
        "import statsmodels.api as sm"
      ],
      "execution_count": 15,
      "outputs": [
        {
          "output_type": "stream",
          "text": [
            "/usr/local/lib/python3.6/dist-packages/statsmodels/tools/_testing.py:19: FutureWarning: pandas.util.testing is deprecated. Use the functions in the public API at pandas.testing instead.\n",
            "  import pandas.util.testing as tm\n"
          ],
          "name": "stderr"
        }
      ]
    },
    {
      "cell_type": "markdown",
      "metadata": {
        "id": "1KwGkaLFdiqt"
      },
      "source": [
        "Estimar la regresion va a requerir varios pasos que voy a resumir en una funcion.\n",
        "\n",
        "Asegurarme de que los datos (las filas en cuestion) que voy a estar usando no tienen datos missing en ninguna variable. \\\\\n",
        "Separar a la variable a explicar (dependiente) de la(s) explicativas \\\\\n",
        "Si la regresión va a tener una constante, como en nuestro caso, agregar a las variables explicativas una columna de 1s (unos). \\\\\n",
        "Asignar a una variable el nombre del modelo y las especificaciones del mismo  \\\\\n",
        "Correr el modelo con el metodo fit() y guardar los resultados en otra variable\n",
        "Imprimir los resultados en pantalla (imprimir los contenidos de la variable del paso anterior)"
      ]
    },
    {
      "cell_type": "code",
      "metadata": {
        "id": "0DoC3j5ZdpJ_"
      },
      "source": [
        "def regress(lista, data):\n",
        "  \"\"\" \n",
        "  Funcion que realiza la regresion OLS\n",
        "  La primera variable de la lista es la dependiente, el resto son las explicativas\n",
        "  data es la base de datos\n",
        "  \"\"\"\n",
        "  datos=data[lista]\n",
        "  # el metodo dropna() me permite eliminar las filas que tienen algun valor missing\n",
        "  datos=datos.dropna()\n",
        "  Y=datos[lista[0]]\n",
        "  X=datos[lista[1:]]\n",
        "  X=sm.add_constant(X)\n",
        "  modelo=sm.OLS(Y,X)\n",
        "  resultados=modelo.fit()\n",
        "  print(resultados.summary())"
      ],
      "execution_count": 11,
      "outputs": []
    },
    {
      "cell_type": "code",
      "metadata": {
        "id": "my9f8-_keMlw",
        "outputId": "79714af0-e10d-4e8e-f455-77cbae49ab4a",
        "colab": {
          "base_uri": "https://localhost:8080/",
          "height": 457
        }
      },
      "source": [
        "regress(['logingreso','dmujer'],data=df)"
      ],
      "execution_count": 19,
      "outputs": [
        {
          "output_type": "stream",
          "text": [
            "                            OLS Regression Results                            \n",
            "==============================================================================\n",
            "Dep. Variable:             logingreso   R-squared:                       0.032\n",
            "Model:                            OLS   Adj. R-squared:                  0.032\n",
            "Method:                 Least Squares   F-statistic:                     332.5\n",
            "Date:                Fri, 09 Oct 2020   Prob (F-statistic):           4.01e-73\n",
            "Time:                        22:34:04   Log-Likelihood:                -12674.\n",
            "No. Observations:               10113   AIC:                         2.535e+04\n",
            "Df Residuals:                   10111   BIC:                         2.537e+04\n",
            "Df Model:                           1                                         \n",
            "Covariance Type:            nonrobust                                         \n",
            "==============================================================================\n",
            "                 coef    std err          t      P>|t|      [0.025      0.975]\n",
            "------------------------------------------------------------------------------\n",
            "const          9.4441      0.012    771.247      0.000       9.420       9.468\n",
            "dmujer        -0.3078      0.017    -18.235      0.000      -0.341      -0.275\n",
            "==============================================================================\n",
            "Omnibus:                     1137.319   Durbin-Watson:                   1.487\n",
            "Prob(Omnibus):                  0.000   Jarque-Bera (JB):             2488.273\n",
            "Skew:                          -0.693   Prob(JB):                         0.00\n",
            "Kurtosis:                       4.996   Cond. No.                         2.68\n",
            "==============================================================================\n",
            "\n",
            "Warnings:\n",
            "[1] Standard Errors assume that the covariance matrix of the errors is correctly specified.\n"
          ],
          "name": "stdout"
        }
      ]
    },
    {
      "cell_type": "code",
      "metadata": {
        "id": "9FjGWMny0FHN"
      },
      "source": [
        "df['dinmigrante'] = 0\n",
        "df.loc[df['inmigrante'] == 'inmigrante', 'dinmigrante'] = 1"
      ],
      "execution_count": 7,
      "outputs": []
    },
    {
      "cell_type": "code",
      "metadata": {
        "id": "hwNzJjVP_tGL",
        "outputId": "9b3604cc-3460-428f-c537-b895dba4c544",
        "colab": {
          "base_uri": "https://localhost:8080/",
          "height": 35
        }
      },
      "source": [
        "df.loc[(df['sexo'] == 'varon')&(df['inmigrante'] != 'inmigrante')].logingreso.mean()"
      ],
      "execution_count": 17,
      "outputs": [
        {
          "output_type": "execute_result",
          "data": {
            "text/plain": [
              "9.505091647158798"
            ]
          },
          "metadata": {
            "tags": []
          },
          "execution_count": 17
        }
      ]
    },
    {
      "cell_type": "code",
      "metadata": {
        "id": "EadC4C6r7Lnx",
        "outputId": "3795f2dd-2231-4543-aafd-eee86a150168",
        "colab": {
          "base_uri": "https://localhost:8080/",
          "height": 35
        }
      },
      "source": [
        "df.loc[(df['sexo'] == 'mujer')&(df['inmigrante'] != 'inmigrante')].logingreso.mean()"
      ],
      "execution_count": 18,
      "outputs": [
        {
          "output_type": "execute_result",
          "data": {
            "text/plain": [
              "9.209590982449868"
            ]
          },
          "metadata": {
            "tags": []
          },
          "execution_count": 18
        }
      ]
    },
    {
      "cell_type": "code",
      "metadata": {
        "id": "xIMQoTDtAI64",
        "outputId": "44899244-3e77-4518-d99d-7bbb4aa7475a",
        "colab": {
          "base_uri": "https://localhost:8080/",
          "height": 35
        }
      },
      "source": [
        "df.loc[(df['sexo'] == 'varon')&(df['inmigrante'] == 'inmigrante')].logingreso.mean()"
      ],
      "execution_count": 19,
      "outputs": [
        {
          "output_type": "execute_result",
          "data": {
            "text/plain": [
              "9.261624703002457"
            ]
          },
          "metadata": {
            "tags": []
          },
          "execution_count": 19
        }
      ]
    },
    {
      "cell_type": "code",
      "metadata": {
        "id": "uVJ6T42vAdKF",
        "outputId": "52d448d2-3014-43f8-b9ee-456e88ed5389",
        "colab": {
          "base_uri": "https://localhost:8080/",
          "height": 35
        }
      },
      "source": [
        "df.loc[(df['sexo'] == 'mujer')&(df['inmigrante'] == 'inmigrante')].logingreso.mean()"
      ],
      "execution_count": 20,
      "outputs": [
        {
          "output_type": "execute_result",
          "data": {
            "text/plain": [
              "8.938557521140432"
            ]
          },
          "metadata": {
            "tags": []
          },
          "execution_count": 20
        }
      ]
    },
    {
      "cell_type": "code",
      "metadata": {
        "id": "f-z0lrzC7vAY",
        "outputId": "4b3c8b9c-8e90-4b19-f043-90a5a7a076bd",
        "colab": {
          "base_uri": "https://localhost:8080/",
          "height": 475
        }
      },
      "source": [
        "regress(['logingreso','dmujer','dinmigrante'],data=df)"
      ],
      "execution_count": 16,
      "outputs": [
        {
          "output_type": "stream",
          "text": [
            "                            OLS Regression Results                            \n",
            "==============================================================================\n",
            "Dep. Variable:             logingreso   R-squared:                       0.049\n",
            "Model:                            OLS   Adj. R-squared:                  0.049\n",
            "Method:                 Least Squares   F-statistic:                     261.4\n",
            "Date:                Tue, 13 Oct 2020   Prob (F-statistic):          1.98e-111\n",
            "Time:                        21:48:33   Log-Likelihood:                -12583.\n",
            "No. Observations:               10113   AIC:                         2.517e+04\n",
            "Df Residuals:                   10110   BIC:                         2.519e+04\n",
            "Df Model:                           2                                         \n",
            "Covariance Type:            nonrobust                                         \n",
            "===============================================================================\n",
            "                  coef    std err          t      P>|t|      [0.025      0.975]\n",
            "-------------------------------------------------------------------------------\n",
            "const           9.5088      0.013    729.363      0.000       9.483       9.534\n",
            "dmujer         -0.3027      0.017    -18.090      0.000      -0.335      -0.270\n",
            "dinmigrante    -0.2583      0.019    -13.577      0.000      -0.296      -0.221\n",
            "==============================================================================\n",
            "Omnibus:                     1165.681   Durbin-Watson:                   1.519\n",
            "Prob(Omnibus):                  0.000   Jarque-Bera (JB):             2615.035\n",
            "Skew:                          -0.700   Prob(JB):                         0.00\n",
            "Kurtosis:                       5.061   Cond. No.                         2.94\n",
            "==============================================================================\n",
            "\n",
            "Warnings:\n",
            "[1] Standard Errors assume that the covariance matrix of the errors is correctly specified.\n"
          ],
          "name": "stdout"
        }
      ]
    },
    {
      "cell_type": "code",
      "metadata": {
        "id": "gGsJRBhWCK07",
        "outputId": "42ad29ed-44e8-457f-9632-ff54149ec624",
        "colab": {
          "base_uri": "https://localhost:8080/",
          "height": 35
        }
      },
      "source": [
        "#prediccion para la mujer inmigrante\n",
        "9.5088-0.3027-0.2583"
      ],
      "execution_count": 29,
      "outputs": [
        {
          "output_type": "execute_result",
          "data": {
            "text/plain": [
              "8.9478"
            ]
          },
          "metadata": {
            "tags": []
          },
          "execution_count": 29
        }
      ]
    },
    {
      "cell_type": "code",
      "metadata": {
        "id": "zZgN9vI_BYBi"
      },
      "source": [
        "df['dmujerinmigrante'] =df['dmujer']*df['dinmigrante'] "
      ],
      "execution_count": 21,
      "outputs": []
    },
    {
      "cell_type": "code",
      "metadata": {
        "id": "DyHpuOfHBgbm",
        "outputId": "a2bd9b92-5714-4f5d-8388-bb6aa9dcc774",
        "colab": {
          "base_uri": "https://localhost:8080/",
          "height": 492
        }
      },
      "source": [
        "regress(['logingreso','dmujer','dinmigrante','dmujerinmigrante' ],data=df)\n",
        "# me permite computar directamente el diferencial de la mujer inmigrante, que de otra manera quedaria resumido en el promedio"
      ],
      "execution_count": 22,
      "outputs": [
        {
          "output_type": "stream",
          "text": [
            "                            OLS Regression Results                            \n",
            "==============================================================================\n",
            "Dep. Variable:             logingreso   R-squared:                       0.049\n",
            "Model:                            OLS   Adj. R-squared:                  0.049\n",
            "Method:                 Least Squares   F-statistic:                     174.5\n",
            "Date:                Tue, 13 Oct 2020   Prob (F-statistic):          2.78e-110\n",
            "Time:                        22:13:12   Log-Likelihood:                -12583.\n",
            "No. Observations:               10113   AIC:                         2.517e+04\n",
            "Df Residuals:                   10109   BIC:                         2.520e+04\n",
            "Df Model:                           3                                         \n",
            "Covariance Type:            nonrobust                                         \n",
            "====================================================================================\n",
            "                       coef    std err          t      P>|t|      [0.025      0.975]\n",
            "------------------------------------------------------------------------------------\n",
            "const                9.5051      0.014    678.116      0.000       9.478       9.533\n",
            "dmujer              -0.2955      0.019    -15.199      0.000      -0.334      -0.257\n",
            "dinmigrante         -0.2435      0.028     -8.691      0.000      -0.298      -0.189\n",
            "dmujerinmigrante    -0.0276      0.038     -0.722      0.470      -0.102       0.047\n",
            "==============================================================================\n",
            "Omnibus:                     1163.410   Durbin-Watson:                   1.519\n",
            "Prob(Omnibus):                  0.000   Jarque-Bera (JB):             2609.900\n",
            "Skew:                          -0.699   Prob(JB):                         0.00\n",
            "Kurtosis:                       5.059   Cond. No.                         6.67\n",
            "==============================================================================\n",
            "\n",
            "Warnings:\n",
            "[1] Standard Errors assume that the covariance matrix of the errors is correctly specified.\n"
          ],
          "name": "stdout"
        }
      ]
    },
    {
      "cell_type": "code",
      "metadata": {
        "id": "MhZcfrJkCZD2",
        "outputId": "4005fc5e-165a-413b-b47d-dec2f84df6cc",
        "colab": {
          "base_uri": "https://localhost:8080/",
          "height": 35
        }
      },
      "source": [
        "9.5051-0.2955-0.2435-0.0276"
      ],
      "execution_count": 26,
      "outputs": [
        {
          "output_type": "execute_result",
          "data": {
            "text/plain": [
              "8.938500000000001"
            ]
          },
          "metadata": {
            "tags": []
          },
          "execution_count": 26
        }
      ]
    }
  ]
}