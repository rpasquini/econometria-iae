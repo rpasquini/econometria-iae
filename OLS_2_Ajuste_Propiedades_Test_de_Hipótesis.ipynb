{
  "nbformat": 4,
  "nbformat_minor": 0,
  "metadata": {
    "colab": {
      "name": "OLS 2 Ajuste Propiedades Test de Hipótesis.ipynb",
      "provenance": [],
      "authorship_tag": "ABX9TyMNyKMqsewf+asbzYlyT41y",
      "include_colab_link": true
    },
    "kernelspec": {
      "name": "python3",
      "display_name": "Python 3"
    }
  },
  "cells": [
    {
      "cell_type": "markdown",
      "metadata": {
        "id": "view-in-github",
        "colab_type": "text"
      },
      "source": [
        "<a href=\"https://colab.research.google.com/github/rpasquini/econometria-iae/blob/main/OLS_2_Ajuste_Propiedades_Test_de_Hip%C3%B3tesis.ipynb\" target=\"_parent\"><img src=\"https://colab.research.google.com/assets/colab-badge.svg\" alt=\"Open In Colab\"/></a>"
      ]
    },
    {
      "cell_type": "code",
      "metadata": {
        "id": "NNmORTIw0Z_t"
      },
      "source": [
        "import statsmodels.api as sm\n",
        "import matplotlib.pyplot as plt\n",
        "import numpy as np\n",
        "import pandas as pd"
      ],
      "execution_count": 40,
      "outputs": []
    },
    {
      "cell_type": "markdown",
      "source": [
        "El objetivo de este notebook es introducir a la estimación del modelo de regresión lineal, y aplicar conceptos relacionados con predicción y análisis de residuos estimados"
      ],
      "metadata": {
        "id": "B5EmVVIGBnzZ"
      }
    },
    {
      "cell_type": "markdown",
      "source": [
        "Nuestro primer objetivo será estimar el modelo:\n",
        "\n",
        "$$ ingreso_i=\\beta_0+\\beta_1 aesc_i+\\epsilon_i $$\n",
        "\n",
        "donde ingreso es el ingreso total individual y aesc son los años de escolaridad.\n"
      ],
      "metadata": {
        "id": "GvVNPeIkCFrl"
      }
    },
    {
      "cell_type": "code",
      "metadata": {
        "id": "OTliy8gp0cuf"
      },
      "source": [
        "df=pd.read_csv('https://github.com/rpasquini/econometria-iae/blob/main/datos/eah2022_bu_ampliada_ind.txt?raw=true',sep=';')"
      ],
      "execution_count": 41,
      "outputs": []
    },
    {
      "cell_type": "code",
      "source": [
        "df"
      ],
      "metadata": {
        "colab": {
          "base_uri": "https://localhost:8080/",
          "height": 423
        },
        "id": "gnEnavpyAvuG",
        "outputId": "bfe8f04c-72a1-4e45-bce3-8a117242140b"
      },
      "execution_count": 42,
      "outputs": [
        {
          "output_type": "execute_result",
          "data": {
            "text/plain": [
              "         id  nhogar  miembro  comuna  dominio  edad  sexo  parentes_2  p5_2  \\\n",
              "0         1       1        1       8        3    18     2           1     6   \n",
              "1         1       1        2       8        3    22     1           7     6   \n",
              "2         1       1        3       8        3    45     1           6     3   \n",
              "3         2       1        1       5        4    18     2           1     6   \n",
              "4         3       1        1       2        4    18     1           1     6   \n",
              "...     ...     ...      ...     ...      ...   ...   ...         ...   ...   \n",
              "12496  5373       1        1       8        4    95     2           1     4   \n",
              "12497  5374       1        1       7        4    98     2           1     4   \n",
              "12498  5374       1        2       7        4    76     2           7     3   \n",
              "12499  5375       1        1      15        4   100     2           1     4   \n",
              "12500  5375       1        2      15        4    50     2           9     3   \n",
              "\n",
              "       p6_a  ...  t50d_a  t50d_b  t50d_c  t50d_d  t50d_e  t50d_f  t51_d  \\\n",
              "0         3  ...       0       0       0       0       0       0      0   \n",
              "1         3  ...       0       0       0       0       0       0      0   \n",
              "2         0  ...       0       0       0       0       0       0      0   \n",
              "3        95  ...       0       0       0       0       0       0      0   \n",
              "4        95  ...       0       0       0       0       0       0      0   \n",
              "...     ...  ...     ...     ...     ...     ...     ...     ...    ...   \n",
              "12496     0  ...       0       0       0       0       0       0      0   \n",
              "12497     0  ...       0       0       0       0       0       0      0   \n",
              "12498     0  ...       0       0       0       0       0       0      0   \n",
              "12499     0  ...       0       0       0       0       0       0      0   \n",
              "12500     0  ...       0       0       0       0       0       0      0   \n",
              "\n",
              "       t23_1_cod  t24_1_cod  fexp  \n",
              "0              0          0    16  \n",
              "1              0          0    16  \n",
              "2              0          0    16  \n",
              "3              0          0   357  \n",
              "4              0          0   106  \n",
              "...          ...        ...   ...  \n",
              "12496          0          0    40  \n",
              "12497          0          0   205  \n",
              "12498          0          0   205  \n",
              "12499          0          0   165  \n",
              "12500          0          0   165  \n",
              "\n",
              "[12501 rows x 140 columns]"
            ],
            "text/html": [
              "\n",
              "  <div id=\"df-7918c078-e684-4edc-beef-2527c8d73326\" class=\"colab-df-container\">\n",
              "    <div>\n",
              "<style scoped>\n",
              "    .dataframe tbody tr th:only-of-type {\n",
              "        vertical-align: middle;\n",
              "    }\n",
              "\n",
              "    .dataframe tbody tr th {\n",
              "        vertical-align: top;\n",
              "    }\n",
              "\n",
              "    .dataframe thead th {\n",
              "        text-align: right;\n",
              "    }\n",
              "</style>\n",
              "<table border=\"1\" class=\"dataframe\">\n",
              "  <thead>\n",
              "    <tr style=\"text-align: right;\">\n",
              "      <th></th>\n",
              "      <th>id</th>\n",
              "      <th>nhogar</th>\n",
              "      <th>miembro</th>\n",
              "      <th>comuna</th>\n",
              "      <th>dominio</th>\n",
              "      <th>edad</th>\n",
              "      <th>sexo</th>\n",
              "      <th>parentes_2</th>\n",
              "      <th>p5_2</th>\n",
              "      <th>p6_a</th>\n",
              "      <th>...</th>\n",
              "      <th>t50d_a</th>\n",
              "      <th>t50d_b</th>\n",
              "      <th>t50d_c</th>\n",
              "      <th>t50d_d</th>\n",
              "      <th>t50d_e</th>\n",
              "      <th>t50d_f</th>\n",
              "      <th>t51_d</th>\n",
              "      <th>t23_1_cod</th>\n",
              "      <th>t24_1_cod</th>\n",
              "      <th>fexp</th>\n",
              "    </tr>\n",
              "  </thead>\n",
              "  <tbody>\n",
              "    <tr>\n",
              "      <th>0</th>\n",
              "      <td>1</td>\n",
              "      <td>1</td>\n",
              "      <td>1</td>\n",
              "      <td>8</td>\n",
              "      <td>3</td>\n",
              "      <td>18</td>\n",
              "      <td>2</td>\n",
              "      <td>1</td>\n",
              "      <td>6</td>\n",
              "      <td>3</td>\n",
              "      <td>...</td>\n",
              "      <td>0</td>\n",
              "      <td>0</td>\n",
              "      <td>0</td>\n",
              "      <td>0</td>\n",
              "      <td>0</td>\n",
              "      <td>0</td>\n",
              "      <td>0</td>\n",
              "      <td>0</td>\n",
              "      <td>0</td>\n",
              "      <td>16</td>\n",
              "    </tr>\n",
              "    <tr>\n",
              "      <th>1</th>\n",
              "      <td>1</td>\n",
              "      <td>1</td>\n",
              "      <td>2</td>\n",
              "      <td>8</td>\n",
              "      <td>3</td>\n",
              "      <td>22</td>\n",
              "      <td>1</td>\n",
              "      <td>7</td>\n",
              "      <td>6</td>\n",
              "      <td>3</td>\n",
              "      <td>...</td>\n",
              "      <td>0</td>\n",
              "      <td>0</td>\n",
              "      <td>0</td>\n",
              "      <td>0</td>\n",
              "      <td>0</td>\n",
              "      <td>0</td>\n",
              "      <td>0</td>\n",
              "      <td>0</td>\n",
              "      <td>0</td>\n",
              "      <td>16</td>\n",
              "    </tr>\n",
              "    <tr>\n",
              "      <th>2</th>\n",
              "      <td>1</td>\n",
              "      <td>1</td>\n",
              "      <td>3</td>\n",
              "      <td>8</td>\n",
              "      <td>3</td>\n",
              "      <td>45</td>\n",
              "      <td>1</td>\n",
              "      <td>6</td>\n",
              "      <td>3</td>\n",
              "      <td>0</td>\n",
              "      <td>...</td>\n",
              "      <td>0</td>\n",
              "      <td>0</td>\n",
              "      <td>0</td>\n",
              "      <td>0</td>\n",
              "      <td>0</td>\n",
              "      <td>0</td>\n",
              "      <td>0</td>\n",
              "      <td>0</td>\n",
              "      <td>0</td>\n",
              "      <td>16</td>\n",
              "    </tr>\n",
              "    <tr>\n",
              "      <th>3</th>\n",
              "      <td>2</td>\n",
              "      <td>1</td>\n",
              "      <td>1</td>\n",
              "      <td>5</td>\n",
              "      <td>4</td>\n",
              "      <td>18</td>\n",
              "      <td>2</td>\n",
              "      <td>1</td>\n",
              "      <td>6</td>\n",
              "      <td>95</td>\n",
              "      <td>...</td>\n",
              "      <td>0</td>\n",
              "      <td>0</td>\n",
              "      <td>0</td>\n",
              "      <td>0</td>\n",
              "      <td>0</td>\n",
              "      <td>0</td>\n",
              "      <td>0</td>\n",
              "      <td>0</td>\n",
              "      <td>0</td>\n",
              "      <td>357</td>\n",
              "    </tr>\n",
              "    <tr>\n",
              "      <th>4</th>\n",
              "      <td>3</td>\n",
              "      <td>1</td>\n",
              "      <td>1</td>\n",
              "      <td>2</td>\n",
              "      <td>4</td>\n",
              "      <td>18</td>\n",
              "      <td>1</td>\n",
              "      <td>1</td>\n",
              "      <td>6</td>\n",
              "      <td>95</td>\n",
              "      <td>...</td>\n",
              "      <td>0</td>\n",
              "      <td>0</td>\n",
              "      <td>0</td>\n",
              "      <td>0</td>\n",
              "      <td>0</td>\n",
              "      <td>0</td>\n",
              "      <td>0</td>\n",
              "      <td>0</td>\n",
              "      <td>0</td>\n",
              "      <td>106</td>\n",
              "    </tr>\n",
              "    <tr>\n",
              "      <th>...</th>\n",
              "      <td>...</td>\n",
              "      <td>...</td>\n",
              "      <td>...</td>\n",
              "      <td>...</td>\n",
              "      <td>...</td>\n",
              "      <td>...</td>\n",
              "      <td>...</td>\n",
              "      <td>...</td>\n",
              "      <td>...</td>\n",
              "      <td>...</td>\n",
              "      <td>...</td>\n",
              "      <td>...</td>\n",
              "      <td>...</td>\n",
              "      <td>...</td>\n",
              "      <td>...</td>\n",
              "      <td>...</td>\n",
              "      <td>...</td>\n",
              "      <td>...</td>\n",
              "      <td>...</td>\n",
              "      <td>...</td>\n",
              "      <td>...</td>\n",
              "    </tr>\n",
              "    <tr>\n",
              "      <th>12496</th>\n",
              "      <td>5373</td>\n",
              "      <td>1</td>\n",
              "      <td>1</td>\n",
              "      <td>8</td>\n",
              "      <td>4</td>\n",
              "      <td>95</td>\n",
              "      <td>2</td>\n",
              "      <td>1</td>\n",
              "      <td>4</td>\n",
              "      <td>0</td>\n",
              "      <td>...</td>\n",
              "      <td>0</td>\n",
              "      <td>0</td>\n",
              "      <td>0</td>\n",
              "      <td>0</td>\n",
              "      <td>0</td>\n",
              "      <td>0</td>\n",
              "      <td>0</td>\n",
              "      <td>0</td>\n",
              "      <td>0</td>\n",
              "      <td>40</td>\n",
              "    </tr>\n",
              "    <tr>\n",
              "      <th>12497</th>\n",
              "      <td>5374</td>\n",
              "      <td>1</td>\n",
              "      <td>1</td>\n",
              "      <td>7</td>\n",
              "      <td>4</td>\n",
              "      <td>98</td>\n",
              "      <td>2</td>\n",
              "      <td>1</td>\n",
              "      <td>4</td>\n",
              "      <td>0</td>\n",
              "      <td>...</td>\n",
              "      <td>0</td>\n",
              "      <td>0</td>\n",
              "      <td>0</td>\n",
              "      <td>0</td>\n",
              "      <td>0</td>\n",
              "      <td>0</td>\n",
              "      <td>0</td>\n",
              "      <td>0</td>\n",
              "      <td>0</td>\n",
              "      <td>205</td>\n",
              "    </tr>\n",
              "    <tr>\n",
              "      <th>12498</th>\n",
              "      <td>5374</td>\n",
              "      <td>1</td>\n",
              "      <td>2</td>\n",
              "      <td>7</td>\n",
              "      <td>4</td>\n",
              "      <td>76</td>\n",
              "      <td>2</td>\n",
              "      <td>7</td>\n",
              "      <td>3</td>\n",
              "      <td>0</td>\n",
              "      <td>...</td>\n",
              "      <td>0</td>\n",
              "      <td>0</td>\n",
              "      <td>0</td>\n",
              "      <td>0</td>\n",
              "      <td>0</td>\n",
              "      <td>0</td>\n",
              "      <td>0</td>\n",
              "      <td>0</td>\n",
              "      <td>0</td>\n",
              "      <td>205</td>\n",
              "    </tr>\n",
              "    <tr>\n",
              "      <th>12499</th>\n",
              "      <td>5375</td>\n",
              "      <td>1</td>\n",
              "      <td>1</td>\n",
              "      <td>15</td>\n",
              "      <td>4</td>\n",
              "      <td>100</td>\n",
              "      <td>2</td>\n",
              "      <td>1</td>\n",
              "      <td>4</td>\n",
              "      <td>0</td>\n",
              "      <td>...</td>\n",
              "      <td>0</td>\n",
              "      <td>0</td>\n",
              "      <td>0</td>\n",
              "      <td>0</td>\n",
              "      <td>0</td>\n",
              "      <td>0</td>\n",
              "      <td>0</td>\n",
              "      <td>0</td>\n",
              "      <td>0</td>\n",
              "      <td>165</td>\n",
              "    </tr>\n",
              "    <tr>\n",
              "      <th>12500</th>\n",
              "      <td>5375</td>\n",
              "      <td>1</td>\n",
              "      <td>2</td>\n",
              "      <td>15</td>\n",
              "      <td>4</td>\n",
              "      <td>50</td>\n",
              "      <td>2</td>\n",
              "      <td>9</td>\n",
              "      <td>3</td>\n",
              "      <td>0</td>\n",
              "      <td>...</td>\n",
              "      <td>0</td>\n",
              "      <td>0</td>\n",
              "      <td>0</td>\n",
              "      <td>0</td>\n",
              "      <td>0</td>\n",
              "      <td>0</td>\n",
              "      <td>0</td>\n",
              "      <td>0</td>\n",
              "      <td>0</td>\n",
              "      <td>165</td>\n",
              "    </tr>\n",
              "  </tbody>\n",
              "</table>\n",
              "<p>12501 rows × 140 columns</p>\n",
              "</div>\n",
              "    <div class=\"colab-df-buttons\">\n",
              "\n",
              "  <div class=\"colab-df-container\">\n",
              "    <button class=\"colab-df-convert\" onclick=\"convertToInteractive('df-7918c078-e684-4edc-beef-2527c8d73326')\"\n",
              "            title=\"Convert this dataframe to an interactive table.\"\n",
              "            style=\"display:none;\">\n",
              "\n",
              "  <svg xmlns=\"http://www.w3.org/2000/svg\" height=\"24px\" viewBox=\"0 -960 960 960\">\n",
              "    <path d=\"M120-120v-720h720v720H120Zm60-500h600v-160H180v160Zm220 220h160v-160H400v160Zm0 220h160v-160H400v160ZM180-400h160v-160H180v160Zm440 0h160v-160H620v160ZM180-180h160v-160H180v160Zm440 0h160v-160H620v160Z\"/>\n",
              "  </svg>\n",
              "    </button>\n",
              "\n",
              "  <style>\n",
              "    .colab-df-container {\n",
              "      display:flex;\n",
              "      gap: 12px;\n",
              "    }\n",
              "\n",
              "    .colab-df-convert {\n",
              "      background-color: #E8F0FE;\n",
              "      border: none;\n",
              "      border-radius: 50%;\n",
              "      cursor: pointer;\n",
              "      display: none;\n",
              "      fill: #1967D2;\n",
              "      height: 32px;\n",
              "      padding: 0 0 0 0;\n",
              "      width: 32px;\n",
              "    }\n",
              "\n",
              "    .colab-df-convert:hover {\n",
              "      background-color: #E2EBFA;\n",
              "      box-shadow: 0px 1px 2px rgba(60, 64, 67, 0.3), 0px 1px 3px 1px rgba(60, 64, 67, 0.15);\n",
              "      fill: #174EA6;\n",
              "    }\n",
              "\n",
              "    .colab-df-buttons div {\n",
              "      margin-bottom: 4px;\n",
              "    }\n",
              "\n",
              "    [theme=dark] .colab-df-convert {\n",
              "      background-color: #3B4455;\n",
              "      fill: #D2E3FC;\n",
              "    }\n",
              "\n",
              "    [theme=dark] .colab-df-convert:hover {\n",
              "      background-color: #434B5C;\n",
              "      box-shadow: 0px 1px 3px 1px rgba(0, 0, 0, 0.15);\n",
              "      filter: drop-shadow(0px 1px 2px rgba(0, 0, 0, 0.3));\n",
              "      fill: #FFFFFF;\n",
              "    }\n",
              "  </style>\n",
              "\n",
              "    <script>\n",
              "      const buttonEl =\n",
              "        document.querySelector('#df-7918c078-e684-4edc-beef-2527c8d73326 button.colab-df-convert');\n",
              "      buttonEl.style.display =\n",
              "        google.colab.kernel.accessAllowed ? 'block' : 'none';\n",
              "\n",
              "      async function convertToInteractive(key) {\n",
              "        const element = document.querySelector('#df-7918c078-e684-4edc-beef-2527c8d73326');\n",
              "        const dataTable =\n",
              "          await google.colab.kernel.invokeFunction('convertToInteractive',\n",
              "                                                    [key], {});\n",
              "        if (!dataTable) return;\n",
              "\n",
              "        const docLinkHtml = 'Like what you see? Visit the ' +\n",
              "          '<a target=\"_blank\" href=https://colab.research.google.com/notebooks/data_table.ipynb>data table notebook</a>'\n",
              "          + ' to learn more about interactive tables.';\n",
              "        element.innerHTML = '';\n",
              "        dataTable['output_type'] = 'display_data';\n",
              "        await google.colab.output.renderOutput(dataTable, element);\n",
              "        const docLink = document.createElement('div');\n",
              "        docLink.innerHTML = docLinkHtml;\n",
              "        element.appendChild(docLink);\n",
              "      }\n",
              "    </script>\n",
              "  </div>\n",
              "\n",
              "\n",
              "<div id=\"df-a62a3062-2d75-43a5-8df2-713f2715fa7b\">\n",
              "  <button class=\"colab-df-quickchart\" onclick=\"quickchart('df-a62a3062-2d75-43a5-8df2-713f2715fa7b')\"\n",
              "            title=\"Suggest charts.\"\n",
              "            style=\"display:none;\">\n",
              "\n",
              "<svg xmlns=\"http://www.w3.org/2000/svg\" height=\"24px\"viewBox=\"0 0 24 24\"\n",
              "     width=\"24px\">\n",
              "    <g>\n",
              "        <path d=\"M19 3H5c-1.1 0-2 .9-2 2v14c0 1.1.9 2 2 2h14c1.1 0 2-.9 2-2V5c0-1.1-.9-2-2-2zM9 17H7v-7h2v7zm4 0h-2V7h2v10zm4 0h-2v-4h2v4z\"/>\n",
              "    </g>\n",
              "</svg>\n",
              "  </button>\n",
              "\n",
              "<style>\n",
              "  .colab-df-quickchart {\n",
              "      --bg-color: #E8F0FE;\n",
              "      --fill-color: #1967D2;\n",
              "      --hover-bg-color: #E2EBFA;\n",
              "      --hover-fill-color: #174EA6;\n",
              "      --disabled-fill-color: #AAA;\n",
              "      --disabled-bg-color: #DDD;\n",
              "  }\n",
              "\n",
              "  [theme=dark] .colab-df-quickchart {\n",
              "      --bg-color: #3B4455;\n",
              "      --fill-color: #D2E3FC;\n",
              "      --hover-bg-color: #434B5C;\n",
              "      --hover-fill-color: #FFFFFF;\n",
              "      --disabled-bg-color: #3B4455;\n",
              "      --disabled-fill-color: #666;\n",
              "  }\n",
              "\n",
              "  .colab-df-quickchart {\n",
              "    background-color: var(--bg-color);\n",
              "    border: none;\n",
              "    border-radius: 50%;\n",
              "    cursor: pointer;\n",
              "    display: none;\n",
              "    fill: var(--fill-color);\n",
              "    height: 32px;\n",
              "    padding: 0;\n",
              "    width: 32px;\n",
              "  }\n",
              "\n",
              "  .colab-df-quickchart:hover {\n",
              "    background-color: var(--hover-bg-color);\n",
              "    box-shadow: 0 1px 2px rgba(60, 64, 67, 0.3), 0 1px 3px 1px rgba(60, 64, 67, 0.15);\n",
              "    fill: var(--button-hover-fill-color);\n",
              "  }\n",
              "\n",
              "  .colab-df-quickchart-complete:disabled,\n",
              "  .colab-df-quickchart-complete:disabled:hover {\n",
              "    background-color: var(--disabled-bg-color);\n",
              "    fill: var(--disabled-fill-color);\n",
              "    box-shadow: none;\n",
              "  }\n",
              "\n",
              "  .colab-df-spinner {\n",
              "    border: 2px solid var(--fill-color);\n",
              "    border-color: transparent;\n",
              "    border-bottom-color: var(--fill-color);\n",
              "    animation:\n",
              "      spin 1s steps(1) infinite;\n",
              "  }\n",
              "\n",
              "  @keyframes spin {\n",
              "    0% {\n",
              "      border-color: transparent;\n",
              "      border-bottom-color: var(--fill-color);\n",
              "      border-left-color: var(--fill-color);\n",
              "    }\n",
              "    20% {\n",
              "      border-color: transparent;\n",
              "      border-left-color: var(--fill-color);\n",
              "      border-top-color: var(--fill-color);\n",
              "    }\n",
              "    30% {\n",
              "      border-color: transparent;\n",
              "      border-left-color: var(--fill-color);\n",
              "      border-top-color: var(--fill-color);\n",
              "      border-right-color: var(--fill-color);\n",
              "    }\n",
              "    40% {\n",
              "      border-color: transparent;\n",
              "      border-right-color: var(--fill-color);\n",
              "      border-top-color: var(--fill-color);\n",
              "    }\n",
              "    60% {\n",
              "      border-color: transparent;\n",
              "      border-right-color: var(--fill-color);\n",
              "    }\n",
              "    80% {\n",
              "      border-color: transparent;\n",
              "      border-right-color: var(--fill-color);\n",
              "      border-bottom-color: var(--fill-color);\n",
              "    }\n",
              "    90% {\n",
              "      border-color: transparent;\n",
              "      border-bottom-color: var(--fill-color);\n",
              "    }\n",
              "  }\n",
              "</style>\n",
              "\n",
              "  <script>\n",
              "    async function quickchart(key) {\n",
              "      const quickchartButtonEl =\n",
              "        document.querySelector('#' + key + ' button');\n",
              "      quickchartButtonEl.disabled = true;  // To prevent multiple clicks.\n",
              "      quickchartButtonEl.classList.add('colab-df-spinner');\n",
              "      try {\n",
              "        const charts = await google.colab.kernel.invokeFunction(\n",
              "            'suggestCharts', [key], {});\n",
              "      } catch (error) {\n",
              "        console.error('Error during call to suggestCharts:', error);\n",
              "      }\n",
              "      quickchartButtonEl.classList.remove('colab-df-spinner');\n",
              "      quickchartButtonEl.classList.add('colab-df-quickchart-complete');\n",
              "    }\n",
              "    (() => {\n",
              "      let quickchartButtonEl =\n",
              "        document.querySelector('#df-a62a3062-2d75-43a5-8df2-713f2715fa7b button');\n",
              "      quickchartButtonEl.style.display =\n",
              "        google.colab.kernel.accessAllowed ? 'block' : 'none';\n",
              "    })();\n",
              "  </script>\n",
              "</div>\n",
              "    </div>\n",
              "  </div>\n"
            ]
          },
          "metadata": {},
          "execution_count": 42
        }
      ]
    },
    {
      "cell_type": "code",
      "source": [
        "df.columns"
      ],
      "metadata": {
        "colab": {
          "base_uri": "https://localhost:8080/"
        },
        "id": "A2djnzeh2ZKi",
        "outputId": "9d7fe6b5-d07d-4391-9181-0307b11ac7aa"
      },
      "execution_count": 43,
      "outputs": [
        {
          "output_type": "execute_result",
          "data": {
            "text/plain": [
              "Index(['id', 'nhogar', 'miembro', 'comuna', 'dominio', 'edad', 'sexo',\n",
              "       'parentes_2', 'p5_2', 'p6_a',\n",
              "       ...\n",
              "       't50d_a', 't50d_b', 't50d_c', 't50d_d', 't50d_e', 't50d_f', 't51_d',\n",
              "       't23_1_cod', 't24_1_cod', 'fexp'],\n",
              "      dtype='object', length=140)"
            ]
          },
          "metadata": {},
          "execution_count": 43
        }
      ]
    },
    {
      "cell_type": "code",
      "source": [
        "df['ingreso']=df['ingtot_2']"
      ],
      "metadata": {
        "id": "2SxzcPBT8ffC"
      },
      "execution_count": 44,
      "outputs": []
    },
    {
      "cell_type": "code",
      "source": [
        "df=df[df['ingreso']>0]"
      ],
      "metadata": {
        "id": "hWsI8i1B_A2R"
      },
      "execution_count": 45,
      "outputs": []
    },
    {
      "cell_type": "code",
      "source": [
        "df['ingreso'].describe()"
      ],
      "metadata": {
        "colab": {
          "base_uri": "https://localhost:8080/"
        },
        "id": "LhPsAJKQ80k6",
        "outputId": "9a881cd1-3acf-4901-f82a-0a9ab7e8b0d7"
      },
      "execution_count": 46,
      "outputs": [
        {
          "output_type": "execute_result",
          "data": {
            "text/plain": [
              "count    9.105000e+03\n",
              "mean     1.294673e+05\n",
              "std      1.175164e+05\n",
              "min      5.000000e+02\n",
              "25%      5.030000e+04\n",
              "50%      1.000000e+05\n",
              "75%      1.700000e+05\n",
              "max      2.000000e+06\n",
              "Name: ingreso, dtype: float64"
            ]
          },
          "metadata": {},
          "execution_count": 46
        }
      ]
    },
    {
      "cell_type": "code",
      "source": [
        "df['ingreso'].hist()"
      ],
      "metadata": {
        "colab": {
          "base_uri": "https://localhost:8080/",
          "height": 470
        },
        "id": "C6P675cr9xqe",
        "outputId": "7db61aeb-a591-4be6-9634-aac39318aca2"
      },
      "execution_count": 47,
      "outputs": [
        {
          "output_type": "execute_result",
          "data": {
            "text/plain": [
              "<Axes: >"
            ]
          },
          "metadata": {},
          "execution_count": 47
        },
        {
          "output_type": "display_data",
          "data": {
            "text/plain": [
              "<Figure size 640x480 with 1 Axes>"
            ],
            "image/png": "[encoded data removed]"
          },
          "metadata": {}
        }
      ]
    },
    {
      "cell_type": "code",
      "source": [
        "df['aesc']"
      ],
      "metadata": {
        "colab": {
          "base_uri": "https://localhost:8080/"
        },
        "id": "Oj9doxS_ApWi",
        "outputId": "d1d4220a-889b-4eb7-f598-199f0a21855b"
      },
      "execution_count": 48,
      "outputs": [
        {
          "output_type": "execute_result",
          "data": {
            "text/plain": [
              "0        11\n",
              "1        12\n",
              "2         9\n",
              "3        12\n",
              "4        12\n",
              "         ..\n",
              "12496     0\n",
              "12497     3\n",
              "12498     3\n",
              "12499     7\n",
              "12500    12\n",
              "Name: aesc, Length: 9105, dtype: int64"
            ]
          },
          "metadata": {},
          "execution_count": 48
        }
      ]
    },
    {
      "cell_type": "code",
      "source": [
        "df['aesc'].describe()"
      ],
      "metadata": {
        "colab": {
          "base_uri": "https://localhost:8080/"
        },
        "id": "wngx4OdUACwE",
        "outputId": "4c101a2a-653a-49a3-bb74-46eb0050fb32"
      },
      "execution_count": 49,
      "outputs": [
        {
          "output_type": "execute_result",
          "data": {
            "text/plain": [
              "count    9105.000000\n",
              "mean       13.584734\n",
              "std         6.957779\n",
              "min         0.000000\n",
              "25%        12.000000\n",
              "50%        13.000000\n",
              "75%        17.000000\n",
              "max        99.000000\n",
              "Name: aesc, dtype: float64"
            ]
          },
          "metadata": {},
          "execution_count": 49
        }
      ]
    },
    {
      "cell_type": "code",
      "metadata": {
        "id": "qVD7lheoveIN"
      },
      "source": [
        "df=df.loc[df.aesc<90]"
      ],
      "execution_count": 50,
      "outputs": []
    },
    {
      "cell_type": "code",
      "metadata": {
        "id": "X2MRv2sjvlKK",
        "outputId": "1ad7cb2b-c3d8-4428-b89f-1dec454aaa72",
        "colab": {
          "base_uri": "https://localhost:8080/",
          "height": 448
        }
      },
      "source": [
        "df.aesc.hist(bins=40)"
      ],
      "execution_count": 51,
      "outputs": [
        {
          "output_type": "execute_result",
          "data": {
            "text/plain": [
              "<Axes: >"
            ]
          },
          "metadata": {},
          "execution_count": 51
        },
        {
          "output_type": "display_data",
          "data": {
            "text/plain": [
              "<Figure size 640x480 with 1 Axes>"
            ],
            "image/png": "[encoded data removed]"
          },
          "metadata": {}
        }
      ]
    },
    {
      "cell_type": "markdown",
      "source": [
        "Estimar la regresion va a requerir varios pasos que me tengo que asegurar que se cumplan:\n",
        "\n",
        "1. Asegurarme de que los datos (las filas en cuestion) que voy a estar usando no tienen datos missing en ninguna variable.\n",
        "2. Separar a la variable a explicar (dependiente) de la(s) explicativas\n",
        "3. Si la regresión va a tener una constante, como en nuestro caso, agregar a las variables explicativas una columna de 1s (unos).\n",
        "4. Definir el modelo en una variable sm.OLS\n",
        "5. Correr el modelo con el metodo fit() y guardar los resultados en otra variable\n",
        "6. Imprimir los resultados en pantalla (imprimir los contenidos de la variable del paso anterior)"
      ],
      "metadata": {
        "id": "bwXTZnxgCyfd"
      }
    },
    {
      "cell_type": "markdown",
      "source": [
        "# Altenativa 1:\n",
        "Defino el modelo con sm.OLS\n",
        "Agrego la constante usando sm.add_constant\n",
        "Uso la opción \"drop\" para eliminar filas con missing values"
      ],
      "metadata": {
        "id": "CpkVU_sCEooE"
      }
    },
    {
      "cell_type": "code",
      "source": [
        "modelo=sm.OLS(df['ingreso'],sm.add_constant(df['aesc']), missing='drop')\n"
      ],
      "metadata": {
        "id": "95pSPoz5C61f"
      },
      "execution_count": 52,
      "outputs": []
    },
    {
      "cell_type": "code",
      "source": [
        "resultados=modelo.fit()\n",
        "print(resultados.summary())"
      ],
      "metadata": {
        "colab": {
          "base_uri": "https://localhost:8080/"
        },
        "id": "7Z1Ewo4iEPwL",
        "outputId": "9fbb9d23-26aa-46d7-eb36-57ad0f6a3399"
      },
      "execution_count": 53,
      "outputs": [
        {
          "output_type": "stream",
          "name": "stdout",
          "text": [
            "                            OLS Regression Results                            \n",
            "==============================================================================\n",
            "Dep. Variable:                ingreso   R-squared:                       0.176\n",
            "Model:                            OLS   Adj. R-squared:                  0.176\n",
            "Method:                 Least Squares   F-statistic:                     1930.\n",
            "Date:                Mon, 23 Oct 2023   Prob (F-statistic):               0.00\n",
            "Time:                        20:42:38   Log-Likelihood:            -1.1779e+05\n",
            "No. Observations:                9062   AIC:                         2.356e+05\n",
            "Df Residuals:                    9060   BIC:                         2.356e+05\n",
            "Df Model:                           1                                         \n",
            "Covariance Type:            nonrobust                                         \n",
            "==============================================================================\n",
            "                 coef    std err          t      P>|t|      [0.025      0.975]\n",
            "------------------------------------------------------------------------------\n",
            "const      -4.489e+04   4129.920    -10.868      0.000    -5.3e+04   -3.68e+04\n",
            "aesc        1.325e+04    301.567     43.937      0.000    1.27e+04    1.38e+04\n",
            "==============================================================================\n",
            "Omnibus:                     7371.512   Durbin-Watson:                   1.790\n",
            "Prob(Omnibus):                  0.000   Jarque-Bera (JB):           361472.985\n",
            "Skew:                           3.555   Prob(JB):                         0.00\n",
            "Kurtosis:                      33.113   Cond. No.                         50.6\n",
            "==============================================================================\n",
            "\n",
            "Notes:\n",
            "[1] Standard Errors assume that the covariance matrix of the errors is correctly specified.\n"
          ]
        }
      ]
    },
    {
      "cell_type": "markdown",
      "source": [
        "# Alternativa 2: Usando sintaxis de estilo R\n",
        "* Por default agrega la constante\n",
        "* Por defaul elimina los missing"
      ],
      "metadata": {
        "id": "jDONsgMyFEwt"
      }
    },
    {
      "cell_type": "code",
      "source": [
        "import statsmodels.formula.api as smf"
      ],
      "metadata": {
        "id": "d-eZcfgwE78M"
      },
      "execution_count": 54,
      "outputs": []
    },
    {
      "cell_type": "code",
      "source": [
        "mod = smf.ols(formula='ingreso ~ aesc', data=df, )\n",
        "\n",
        "res = mod.fit()\n",
        "\n",
        "print(res.summary())\n",
        "\n"
      ],
      "metadata": {
        "colab": {
          "base_uri": "https://localhost:8080/"
        },
        "id": "V7oLYfSXErRO",
        "outputId": "ab92974e-8852-44ed-d746-bc435a9494d2"
      },
      "execution_count": 55,
      "outputs": [
        {
          "output_type": "stream",
          "name": "stdout",
          "text": [
            "                            OLS Regression Results                            \n",
            "==============================================================================\n",
            "Dep. Variable:                ingreso   R-squared:                       0.176\n",
            "Model:                            OLS   Adj. R-squared:                  0.176\n",
            "Method:                 Least Squares   F-statistic:                     1930.\n",
            "Date:                Mon, 23 Oct 2023   Prob (F-statistic):               0.00\n",
            "Time:                        20:42:38   Log-Likelihood:            -1.1779e+05\n",
            "No. Observations:                9062   AIC:                         2.356e+05\n",
            "Df Residuals:                    9060   BIC:                         2.356e+05\n",
            "Df Model:                           1                                         \n",
            "Covariance Type:            nonrobust                                         \n",
            "==============================================================================\n",
            "                 coef    std err          t      P>|t|      [0.025      0.975]\n",
            "------------------------------------------------------------------------------\n",
            "Intercept  -4.489e+04   4129.920    -10.868      0.000    -5.3e+04   -3.68e+04\n",
            "aesc        1.325e+04    301.567     43.937      0.000    1.27e+04    1.38e+04\n",
            "==============================================================================\n",
            "Omnibus:                     7371.512   Durbin-Watson:                   1.790\n",
            "Prob(Omnibus):                  0.000   Jarque-Bera (JB):           361472.985\n",
            "Skew:                           3.555   Prob(JB):                         0.00\n",
            "Kurtosis:                      33.113   Cond. No.                         50.6\n",
            "==============================================================================\n",
            "\n",
            "Notes:\n",
            "[1] Standard Errors assume that the covariance matrix of the errors is correctly specified.\n"
          ]
        }
      ]
    },
    {
      "cell_type": "code",
      "metadata": {
        "id": "4jyDpmY40I8-",
        "outputId": "d5b69ecf-627a-4f93-bda1-8d0188afbaa0",
        "colab": {
          "base_uri": "https://localhost:8080/"
        }
      },
      "source": [
        "resultados.params['aesc']"
      ],
      "execution_count": 56,
      "outputs": [
        {
          "output_type": "execute_result",
          "data": {
            "text/plain": [
              "13249.928839499735"
            ]
          },
          "metadata": {},
          "execution_count": 56
        }
      ]
    },
    {
      "cell_type": "markdown",
      "source": [
        "### Missing values"
      ],
      "metadata": {
        "id": "rzDQ8b852JNR"
      }
    },
    {
      "cell_type": "markdown",
      "source": [
        "Una manera alternativa de eliminar filas con missing values es utilizando el metodo dropna()"
      ],
      "metadata": {
        "id": "McDc67rs18zj"
      }
    },
    {
      "cell_type": "code",
      "source": [
        "dfmodel=df[['ingreso','aesc']].dropna()"
      ],
      "metadata": {
        "id": "-7i9PZzg08CT"
      },
      "execution_count": 57,
      "outputs": []
    },
    {
      "cell_type": "markdown",
      "metadata": {
        "id": "S9dlbmRICHfI"
      },
      "source": [
        "# Predicción"
      ]
    },
    {
      "cell_type": "markdown",
      "metadata": {
        "id": "ONHB57OpCWiR"
      },
      "source": [
        "$\\hat{Y}=\\hat{\\beta_0}+\\hat{\\beta_1}*X$"
      ]
    },
    {
      "cell_type": "code",
      "metadata": {
        "id": "la4qtvGUCNgJ",
        "outputId": "8dcd6537-4d7a-4562-8892-a9f06548874c",
        "colab": {
          "base_uri": "https://localhost:8080/"
        }
      },
      "source": [
        "# 10 años de escolaridad\n",
        "-4.489e+04+1.325e+04*10"
      ],
      "execution_count": 58,
      "outputs": [
        {
          "output_type": "execute_result",
          "data": {
            "text/plain": [
              "87610.0"
            ]
          },
          "metadata": {},
          "execution_count": 58
        }
      ]
    },
    {
      "cell_type": "code",
      "metadata": {
        "id": "G60RKQOvCrW5",
        "outputId": "0e4c1c45-8565-4f12-8dbb-cd51c2ae954b",
        "colab": {
          "base_uri": "https://localhost:8080/"
        }
      },
      "source": [
        "# 10 años de escolaridad levantando los parametros de los resultados del ajuste\n",
        "resultados.params['const']+resultados.params['aesc']*10"
      ],
      "execution_count": 59,
      "outputs": [
        {
          "output_type": "execute_result",
          "data": {
            "text/plain": [
              "87614.1083950932"
            ]
          },
          "metadata": {},
          "execution_count": 59
        }
      ]
    },
    {
      "cell_type": "code",
      "metadata": {
        "id": "8PzA4iHtDLSw",
        "outputId": "008044a6-cd8e-41f4-8b2b-34eb8623f60c",
        "colab": {
          "base_uri": "https://localhost:8080/"
        }
      },
      "source": [
        "# Predicciones para observaciones en la data\n",
        "resultados.params['const']+resultados.params['aesc']*dfmodel.aesc"
      ],
      "execution_count": 60,
      "outputs": [
        {
          "output_type": "execute_result",
          "data": {
            "text/plain": [
              "0        100864.037235\n",
              "1        114113.966074\n",
              "2         74364.179556\n",
              "3        114113.966074\n",
              "4        114113.966074\n",
              "             ...      \n",
              "12496    -44885.180000\n",
              "12497     -5135.393481\n",
              "12498     -5135.393481\n",
              "12499     47864.321877\n",
              "12500    114113.966074\n",
              "Name: aesc, Length: 9062, dtype: float64"
            ]
          },
          "metadata": {},
          "execution_count": 60
        }
      ]
    },
    {
      "cell_type": "code",
      "metadata": {
        "id": "mahOOQFj0Thc",
        "outputId": "3956c1ef-c947-4b44-fd31-cb373e258240",
        "colab": {
          "base_uri": "https://localhost:8080/"
        }
      },
      "source": [
        "resultados.predict()"
      ],
      "execution_count": 61,
      "outputs": [
        {
          "output_type": "execute_result",
          "data": {
            "text/plain": [
              "array([100864.03723459, 114113.96607409,  74364.17955559, ...,\n",
              "        -5135.3934814 ,  47864.32187659, 114113.96607409])"
            ]
          },
          "metadata": {},
          "execution_count": 61
        }
      ]
    },
    {
      "cell_type": "code",
      "metadata": {
        "id": "NWU5mDsvDhBf",
        "outputId": "a07f7e7e-f283-4bc3-8250-f22f00f91389",
        "colab": {
          "base_uri": "https://localhost:8080/"
        }
      },
      "source": [
        "resultados.predict()"
      ],
      "execution_count": 62,
      "outputs": [
        {
          "output_type": "execute_result",
          "data": {
            "text/plain": [
              "array([100864.03723459, 114113.96607409,  74364.17955559, ...,\n",
              "        -5135.3934814 ,  47864.32187659, 114113.96607409])"
            ]
          },
          "metadata": {},
          "execution_count": 62
        }
      ]
    },
    {
      "cell_type": "code",
      "metadata": {
        "id": "iMdWCqIh1Lm4",
        "outputId": "5c0e721b-3e04-4ada-c035-d6dad2782ad6",
        "colab": {
          "base_uri": "https://localhost:8080/"
        }
      },
      "source": [
        "dfmodel.ingreso-resultados.predict()"
      ],
      "execution_count": 63,
      "outputs": [
        {
          "output_type": "execute_result",
          "data": {
            "text/plain": [
              "0        -77364.037235\n",
              "1       -106113.966074\n",
              "2         15635.820444\n",
              "3        -74113.966074\n",
              "4        -94113.966074\n",
              "             ...      \n",
              "12496    130885.180000\n",
              "12497     86135.393481\n",
              "12498     49635.393481\n",
              "12499     62135.678123\n",
              "12500    -39113.966074\n",
              "Name: ingreso, Length: 9062, dtype: float64"
            ]
          },
          "metadata": {},
          "execution_count": 63
        }
      ]
    },
    {
      "cell_type": "code",
      "metadata": {
        "id": "Cw17S2gYDrhp",
        "outputId": "c61937e1-70e6-4e22-804c-d49d0b8d5674",
        "colab": {
          "base_uri": "https://localhost:8080/",
          "height": 448
        }
      },
      "source": [
        "# Ploteamos prediccion con matplolib\n",
        "plt.scatter(dfmodel.aesc, resultados.predict())"
      ],
      "execution_count": 64,
      "outputs": [
        {
          "output_type": "execute_result",
          "data": {
            "text/plain": [
              "<matplotlib.collections.PathCollection at 0x7eae4ce5a140>"
            ]
          },
          "metadata": {},
          "execution_count": 64
        },
        {
          "output_type": "display_data",
          "data": {
            "text/plain": [
              "<Figure size 640x480 with 1 Axes>"
            ],
            "image/png": "[encoded data removed]"
          },
          "metadata": {}
        }
      ]
    },
    {
      "cell_type": "code",
      "metadata": {
        "id": "MIFvCC4syPnZ",
        "outputId": "d196bc18-5db5-4fd7-fcc9-ec93a16f1820",
        "colab": {
          "base_uri": "https://localhost:8080/",
          "height": 490
        }
      },
      "source": [
        "plt.scatter(dfmodel.aesc, dfmodel.ingreso, color='green')\n",
        "\n",
        "plt.plot(dfmodel.aesc, resultados.predict(), color= \"red\", marker='.', linestyle=':')\n",
        "\n",
        "plt.xlabel('Escolaridad')\n",
        "\n",
        "plt.ylabel('Ingreso')\n",
        "\n",
        "plt.title('Data y valores ajustados')\n",
        "\n",
        "#plt.ylim(0,15)\n"
      ],
      "execution_count": 65,
      "outputs": [
        {
          "output_type": "execute_result",
          "data": {
            "text/plain": [
              "Text(0.5, 1.0, 'Data y valores ajustados')"
            ]
          },
          "metadata": {},
          "execution_count": 65
        },
        {
          "output_type": "display_data",
          "data": {
            "text/plain": [
              "<Figure size 640x480 with 1 Axes>"
            ],
            "image/png": "[encoded data removed]"
          },
          "metadata": {}
        }
      ]
    },
    {
      "cell_type": "code",
      "metadata": {
        "id": "QuoymAZp3_tU",
        "outputId": "a259e19b-80f5-4233-bc19-167e3d16f9ab",
        "colab": {
          "base_uri": "https://localhost:8080/"
        }
      },
      "source": [
        "resultados.predict()"
      ],
      "execution_count": 66,
      "outputs": [
        {
          "output_type": "execute_result",
          "data": {
            "text/plain": [
              "array([100864.03723459, 114113.96607409,  74364.17955559, ...,\n",
              "        -5135.3934814 ,  47864.32187659, 114113.96607409])"
            ]
          },
          "metadata": {},
          "execution_count": 66
        }
      ]
    },
    {
      "cell_type": "markdown",
      "metadata": {
        "id": "QZRn9Kqu4Kyf"
      },
      "source": [
        "# Error Cuadrático Medio\n"
      ]
    },
    {
      "cell_type": "code",
      "metadata": {
        "id": "kF_enYAB1f8Z",
        "outputId": "2c150fca-1375-48e6-f6eb-08c3b9fc0355",
        "colab": {
          "base_uri": "https://localhost:8080/"
        }
      },
      "source": [
        "resultados.mse_resid"
      ],
      "execution_count": 67,
      "outputs": [
        {
          "output_type": "execute_result",
          "data": {
            "text/plain": [
              "11415526141.572683"
            ]
          },
          "metadata": {},
          "execution_count": 67
        }
      ]
    },
    {
      "cell_type": "markdown",
      "metadata": {
        "id": "hl56Qpf43A49"
      },
      "source": [
        "Error Cuadrático Medio (MSE) a mano\n",
        "\n",
        "$MSE=\\sqrt{\\frac{\\sum^n_{i=1} e_i^2}{n-2}}$ donde\n",
        "\n",
        "$e=y-\\hat{y}$\n",
        "\n"
      ]
    },
    {
      "cell_type": "code",
      "metadata": {
        "id": "uQngrpST12tx",
        "outputId": "c8550df7-8a3c-4db2-e3a8-00acb742d0bb",
        "colab": {
          "base_uri": "https://localhost:8080/"
        }
      },
      "source": [
        "ypred = resultados.predict()\n",
        "residuos=dfmodel['ingreso']-ypred\n",
        "rss=np.sum(residuos**2)\n",
        "MSE=(rss/(resultados.nobs-2))\n",
        "MSE"
      ],
      "execution_count": 68,
      "outputs": [
        {
          "output_type": "execute_result",
          "data": {
            "text/plain": [
              "11415526141.57268"
            ]
          },
          "metadata": {},
          "execution_count": 68
        }
      ]
    },
    {
      "cell_type": "code",
      "metadata": {
        "id": "MLzHND1dJzv8",
        "outputId": "2d4fa023-1ce2-4e25-9127-d61770a28648",
        "colab": {
          "base_uri": "https://localhost:8080/"
        }
      },
      "source": [
        "MSE**0.5"
      ],
      "execution_count": 69,
      "outputs": [
        {
          "output_type": "execute_result",
          "data": {
            "text/plain": [
              "106843.46560072206"
            ]
          },
          "metadata": {},
          "execution_count": 69
        }
      ]
    },
    {
      "cell_type": "markdown",
      "metadata": {
        "id": "l8MelTxsLrzq"
      },
      "source": [
        "# Cómo son los residuos (errores estimados) en mis datos?\n"
      ]
    },
    {
      "cell_type": "code",
      "metadata": {
        "id": "n4sZ7Av3LnnM",
        "outputId": "bb59622b-a9bd-4998-8e4e-982ed73ccfd7",
        "colab": {
          "base_uri": "https://localhost:8080/",
          "height": 467
        }
      },
      "source": [
        "residuos.hist()"
      ],
      "execution_count": 70,
      "outputs": [
        {
          "output_type": "execute_result",
          "data": {
            "text/plain": [
              "<Axes: >"
            ]
          },
          "metadata": {},
          "execution_count": 70
        },
        {
          "output_type": "display_data",
          "data": {
            "text/plain": [
              "<Figure size 640x480 with 1 Axes>"
            ],
            "image/png": "[encoded data removed]"
          },
          "metadata": {}
        }
      ]
    },
    {
      "cell_type": "code",
      "source": [
        "import matplotlib.pyplot as plt\n",
        "import statsmodels.api as sm\n"
      ],
      "metadata": {
        "id": "vV4FGZ-PK2Gm"
      },
      "execution_count": 71,
      "outputs": []
    },
    {
      "cell_type": "code",
      "source": [
        "# Assuming 'res' is your fitted regression model\n",
        "residuals = res.resid\n",
        "fitted_values = res.fittedvalues\n",
        "\n",
        "plt.scatter(fitted_values, residuals)\n",
        "plt.xlabel('Fitted Values')\n",
        "plt.ylabel('Residuals')\n",
        "plt.title('Residuals vs Fitted Values')\n",
        "plt.axhline(y=0, color='gray', linestyle='--')  # Add horizontal line at y=0\n",
        "plt.show()"
      ],
      "metadata": {
        "id": "S12oRq0WKlc6",
        "outputId": "f3c6bd7c-d06f-486b-ebca-62492b2ddada",
        "colab": {
          "base_uri": "https://localhost:8080/",
          "height": 472
        }
      },
      "execution_count": 72,
      "outputs": [
        {
          "output_type": "display_data",
          "data": {
            "text/plain": [
              "<Figure size 640x480 with 1 Axes>"
            ],
            "image/png": "[encoded data removed]"
          },
          "metadata": {}
        }
      ]
    },
    {
      "cell_type": "markdown",
      "source": [
        "## Test de White\n",
        "Utilizamos p-value del LM-Test  que es el  p-value para la hipotesis nula de que la varianza del error es homocedastica\n"
      ],
      "metadata": {
        "id": "bJ-naTj4L9QV"
      }
    },
    {
      "cell_type": "code",
      "source": [
        "from statsmodels.stats.diagnostic import het_white\n",
        "from statsmodels.compat import lzip\n",
        "\n",
        "# Assuming 'model' is your fitted regression model\n",
        "white_test_results = het_white(res.resid, res.model.exog)\n",
        "\n",
        "print(\"White Test Results:\")\n",
        "print(\"LM Statistic:\", white_test_results[0])\n",
        "print(\"LM-Test p-value:\", white_test_results[1])\n"
      ],
      "metadata": {
        "id": "F6QPyK4ILaKZ",
        "outputId": "a5a85994-ac4c-4c44-cc13-b952fb0d120b",
        "colab": {
          "base_uri": "https://localhost:8080/"
        }
      },
      "execution_count": 73,
      "outputs": [
        {
          "output_type": "stream",
          "name": "stdout",
          "text": [
            "White Test Results:\n",
            "LM Statistic: 150.3665607670011\n",
            "LM-Test p-value: 2.2300582033825483e-33\n"
          ]
        }
      ]
    },
    {
      "cell_type": "markdown",
      "source": [
        "# Estimación Regresion con varianza robusta\n",
        "\n",
        "Para los ajustes a los errores estándares por heterocedasticidad, usamos los errores robustos tipicamente denotados HC0-HC3\n",
        "https://jslsoc.sitehost.iu.edu/files_research/testing_tests/hccm/00TAS.pdf"
      ],
      "metadata": {
        "id": "bHl2quhBJzmi"
      }
    },
    {
      "cell_type": "code",
      "source": [
        "mod = smf.ols(formula='ingreso ~ aesc', data=df, )\n",
        "\n",
        "res = mod.fit(cov_type='HC0')\n",
        "\n",
        "print(res.summary())\n"
      ],
      "metadata": {
        "id": "DR8pXlMiJEm3",
        "outputId": "feb4d8ae-5a50-46e3-f5a0-21d29e52d8c1",
        "colab": {
          "base_uri": "https://localhost:8080/"
        }
      },
      "execution_count": 74,
      "outputs": [
        {
          "output_type": "stream",
          "name": "stdout",
          "text": [
            "                            OLS Regression Results                            \n",
            "==============================================================================\n",
            "Dep. Variable:                ingreso   R-squared:                       0.176\n",
            "Model:                            OLS   Adj. R-squared:                  0.176\n",
            "Method:                 Least Squares   F-statistic:                     1609.\n",
            "Date:                Mon, 23 Oct 2023   Prob (F-statistic):          4.94e-324\n",
            "Time:                        20:42:39   Log-Likelihood:            -1.1779e+05\n",
            "No. Observations:                9062   AIC:                         2.356e+05\n",
            "Df Residuals:                    9060   BIC:                         2.356e+05\n",
            "Df Model:                           1                                         \n",
            "Covariance Type:                  HC0                                         \n",
            "==============================================================================\n",
            "                 coef    std err          z      P>|z|      [0.025      0.975]\n",
            "------------------------------------------------------------------------------\n",
            "Intercept  -4.489e+04   3867.026    -11.607      0.000   -5.25e+04   -3.73e+04\n",
            "aesc        1.325e+04    330.296     40.115      0.000    1.26e+04    1.39e+04\n",
            "==============================================================================\n",
            "Omnibus:                     7371.512   Durbin-Watson:                   1.790\n",
            "Prob(Omnibus):                  0.000   Jarque-Bera (JB):           361472.985\n",
            "Skew:                           3.555   Prob(JB):                         0.00\n",
            "Kurtosis:                      33.113   Cond. No.                         50.6\n",
            "==============================================================================\n",
            "\n",
            "Notes:\n",
            "[1] Standard Errors are heteroscedasticity robust (HC0)\n"
          ]
        }
      ]
    },
    {
      "cell_type": "code",
      "source": [
        "mod = smf.ols(formula='ingreso ~ aesc', data=df, )\n",
        "\n",
        "res = mod.fit(cov_type='HC1')\n",
        "\n",
        "print(res.summary())"
      ],
      "metadata": {
        "colab": {
          "base_uri": "https://localhost:8080/"
        },
        "id": "HYH-44nR4UE1",
        "outputId": "5f656246-7010-49ee-dd3e-d878912fc3a7"
      },
      "execution_count": 75,
      "outputs": [
        {
          "output_type": "stream",
          "name": "stdout",
          "text": [
            "                            OLS Regression Results                            \n",
            "==============================================================================\n",
            "Dep. Variable:                ingreso   R-squared:                       0.176\n",
            "Model:                            OLS   Adj. R-squared:                  0.176\n",
            "Method:                 Least Squares   F-statistic:                     1609.\n",
            "Date:                Mon, 23 Oct 2023   Prob (F-statistic):          4.94e-324\n",
            "Time:                        20:42:40   Log-Likelihood:            -1.1779e+05\n",
            "No. Observations:                9062   AIC:                         2.356e+05\n",
            "Df Residuals:                    9060   BIC:                         2.356e+05\n",
            "Df Model:                           1                                         \n",
            "Covariance Type:                  HC1                                         \n",
            "==============================================================================\n",
            "                 coef    std err          z      P>|z|      [0.025      0.975]\n",
            "------------------------------------------------------------------------------\n",
            "Intercept  -4.489e+04   3867.453    -11.606      0.000   -5.25e+04   -3.73e+04\n",
            "aesc        1.325e+04    330.333     40.111      0.000    1.26e+04    1.39e+04\n",
            "==============================================================================\n",
            "Omnibus:                     7371.512   Durbin-Watson:                   1.790\n",
            "Prob(Omnibus):                  0.000   Jarque-Bera (JB):           361472.985\n",
            "Skew:                           3.555   Prob(JB):                         0.00\n",
            "Kurtosis:                      33.113   Cond. No.                         50.6\n",
            "==============================================================================\n",
            "\n",
            "Notes:\n",
            "[1] Standard Errors are heteroscedasticity robust (HC1)\n"
          ]
        }
      ]
    },
    {
      "cell_type": "markdown",
      "source": [
        "# Revisamos el supuesto de normalidad"
      ],
      "metadata": {
        "id": "wWf7HRVFCCin"
      }
    },
    {
      "cell_type": "code",
      "source": [
        "residuos.hist()"
      ],
      "metadata": {
        "colab": {
          "base_uri": "https://localhost:8080/",
          "height": 467
        },
        "id": "9VmIWAFMCFqg",
        "outputId": "49e912f1-2d3b-40e2-cc81-af2cc08f6340"
      },
      "execution_count": 76,
      "outputs": [
        {
          "output_type": "execute_result",
          "data": {
            "text/plain": [
              "<Axes: >"
            ]
          },
          "metadata": {},
          "execution_count": 76
        },
        {
          "output_type": "display_data",
          "data": {
            "text/plain": [
              "<Figure size 640x480 with 1 Axes>"
            ],
            "image/png": "[encoded data removed]"
          },
          "metadata": {}
        }
      ]
    },
    {
      "cell_type": "code",
      "source": [
        "import scipy.stats as stats\n",
        "fig, ax = plt.subplots(figsize=(8, 6))\n",
        "stats.probplot(residuals, dist=\"norm\", plot=ax)\n",
        "ax.set_title('QQ Plot of Residuals')\n",
        "plt.show()"
      ],
      "metadata": {
        "colab": {
          "base_uri": "https://localhost:8080/",
          "height": 564
        },
        "id": "koLlaHJBC3Js",
        "outputId": "c57e8334-4841-47ee-82d3-7da9f819e744"
      },
      "execution_count": 77,
      "outputs": [
        {
          "output_type": "display_data",
          "data": {
            "text/plain": [
              "<Figure size 800x600 with 1 Axes>"
            ],
            "image/png": "[encoded data removed]"
          },
          "metadata": {}
        }
      ]
    },
    {
      "cell_type": "markdown",
      "source": [
        "### Shapiro-Wilk Normality Test\n",
        "La hipótesis nula es la normalidad de la distribución\n"
      ],
      "metadata": {
        "id": "zKI7wfk-E5L6"
      }
    },
    {
      "cell_type": "code",
      "source": [
        "from scipy.stats import shapiro\n",
        "\n",
        "# Perform the Shapiro-Wilk test\n",
        "stat, p = shapiro(residuals)\n",
        "\n",
        "# Print the test statistic and the p-value\n",
        "print(\"Test Statistic:\", stat)\n",
        "print(\"P-Value:\", p)\n",
        "\n",
        "# Interpret the result\n",
        "alpha = 0.05  # Significance level\n",
        "if p > alpha:\n",
        "    print(\"Sample looks Gaussian (fail to reject H0)\")\n",
        "else:\n",
        "    print(\"Sample does not look Gaussian (reject H0)\")"
      ],
      "metadata": {
        "colab": {
          "base_uri": "https://localhost:8080/"
        },
        "id": "qJkSAtRiDY2a",
        "outputId": "7220702d-4be3-4ecc-bc57-c486e651f816"
      },
      "execution_count": 78,
      "outputs": [
        {
          "output_type": "stream",
          "name": "stdout",
          "text": [
            "Test Statistic: 0.7791448831558228\n",
            "P-Value: 0.0\n",
            "Sample does not look Gaussian (reject H0)\n"
          ]
        },
        {
          "output_type": "stream",
          "name": "stderr",
          "text": [
            "/usr/local/lib/python3.10/dist-packages/scipy/stats/_morestats.py:1882: UserWarning: p-value may not be accurate for N > 5000.\n",
            "  warnings.warn(\"p-value may not be accurate for N > 5000.\")\n"
          ]
        }
      ]
    },
    {
      "cell_type": "markdown",
      "source": [
        "Vamos a probar la transformación logarítmica al modelo\n",
        "\n",
        "$$ log(ingreso_i)=\\beta_0+\\beta_1 aesc_i+\\epsilon_i $$"
      ],
      "metadata": {
        "id": "TTDKpRVaUunQ"
      }
    },
    {
      "cell_type": "code",
      "source": [
        "df['logingreso']=np.where(df['ingtot_2']>0,np.log(df['ingtot_2']),np.nan)"
      ],
      "metadata": {
        "id": "F9RTKEcLM_ef"
      },
      "execution_count": 80,
      "outputs": []
    },
    {
      "cell_type": "code",
      "source": [
        "mod = smf.ols(formula='logingreso ~ aesc', data=df, )\n",
        "\n",
        "res = mod.fit(cov_type='HC1')\n",
        "\n",
        "print(res.summary())"
      ],
      "metadata": {
        "colab": {
          "base_uri": "https://localhost:8080/"
        },
        "id": "hbkVnmxASKcn",
        "outputId": "4a954caf-e99d-4ee5-9534-497500cf51e2"
      },
      "execution_count": 81,
      "outputs": [
        {
          "output_type": "stream",
          "name": "stdout",
          "text": [
            "                            OLS Regression Results                            \n",
            "==============================================================================\n",
            "Dep. Variable:             logingreso   R-squared:                       0.207\n",
            "Model:                            OLS   Adj. R-squared:                  0.207\n",
            "Method:                 Least Squares   F-statistic:                     2373.\n",
            "Date:                Mon, 23 Oct 2023   Prob (F-statistic):               0.00\n",
            "Time:                        20:45:16   Log-Likelihood:                -10880.\n",
            "No. Observations:                9062   AIC:                         2.176e+04\n",
            "Df Residuals:                    9060   BIC:                         2.178e+04\n",
            "Df Model:                           1                                         \n",
            "Covariance Type:                  HC1                                         \n",
            "==============================================================================\n",
            "                 coef    std err          z      P>|z|      [0.025      0.975]\n",
            "------------------------------------------------------------------------------\n",
            "Intercept      9.9699      0.032    310.331      0.000       9.907      10.033\n",
            "aesc           0.1104      0.002     48.710      0.000       0.106       0.115\n",
            "==============================================================================\n",
            "Omnibus:                     1489.077   Durbin-Watson:                   1.822\n",
            "Prob(Omnibus):                  0.000   Jarque-Bera (JB):             3561.197\n",
            "Skew:                          -0.933   Prob(JB):                         0.00\n",
            "Kurtosis:                       5.440   Cond. No.                         50.6\n",
            "==============================================================================\n",
            "\n",
            "Notes:\n",
            "[1] Standard Errors are heteroscedasticity robust (HC1)\n"
          ]
        }
      ]
    },
    {
      "cell_type": "code",
      "source": [
        "res.resid.hist()"
      ],
      "metadata": {
        "colab": {
          "base_uri": "https://localhost:8080/",
          "height": 448
        },
        "id": "cf7fzBfxSOst",
        "outputId": "1f6915f3-fc82-414a-8b66-28a5626672d4"
      },
      "execution_count": 83,
      "outputs": [
        {
          "output_type": "execute_result",
          "data": {
            "text/plain": [
              "<Axes: >"
            ]
          },
          "metadata": {},
          "execution_count": 83
        },
        {
          "output_type": "display_data",
          "data": {
            "text/plain": [
              "<Figure size 640x480 with 1 Axes>"
            ],
            "image/png": "[encoded data removed]"
          },
          "metadata": {}
        }
      ]
    },
    {
      "cell_type": "code",
      "source": [
        "from scipy.stats import shapiro\n",
        "\n",
        "# Perform the Shapiro-Wilk test\n",
        "stat, p = shapiro(res.resid)\n",
        "\n",
        "# Print the test statistic and the p-value\n",
        "print(\"Test Statistic:\", stat)\n",
        "print(\"P-Value:\", p)\n",
        "\n",
        "# Interpret the result\n",
        "alpha = 0.05  # Significance level\n",
        "if p > alpha:\n",
        "    print(\"Sample looks Gaussian (fail to reject H0)\")\n",
        "else:\n",
        "    print(\"Sample does not look Gaussian (reject H0)\")"
      ],
      "metadata": {
        "colab": {
          "base_uri": "https://localhost:8080/"
        },
        "id": "tzgJPCdETSwO",
        "outputId": "710d369a-0ee1-4d7b-9b1a-6116fefddcfe"
      },
      "execution_count": 85,
      "outputs": [
        {
          "output_type": "stream",
          "name": "stdout",
          "text": [
            "Test Statistic: 0.9568549394607544\n",
            "P-Value: 1.401298464324817e-45\n",
            "Sample does not look Gaussian (reject H0)\n"
          ]
        },
        {
          "output_type": "stream",
          "name": "stderr",
          "text": [
            "/usr/local/lib/python3.10/dist-packages/scipy/stats/_morestats.py:1882: UserWarning: p-value may not be accurate for N > 5000.\n",
            "  warnings.warn(\"p-value may not be accurate for N > 5000.\")\n"
          ]
        }
      ]
    },
    {
      "cell_type": "code",
      "source": [
        "import scipy.stats as stats\n",
        "fig, ax = plt.subplots(figsize=(8, 6))\n",
        "stats.probplot(res.resid, dist=\"norm\", plot=ax)\n",
        "ax.set_title('QQ Plot of Residuals')\n",
        "plt.show()"
      ],
      "metadata": {
        "colab": {
          "base_uri": "https://localhost:8080/",
          "height": 564
        },
        "id": "7HoThDSzTAMq",
        "outputId": "f7806eb3-81e1-4b09-ed74-b005a9edf88d"
      },
      "execution_count": 84,
      "outputs": [
        {
          "output_type": "display_data",
          "data": {
            "text/plain": [
              "<Figure size 800x600 with 1 Axes>"
            ],
            "image/png": "[encoded data removed]"
          },
          "metadata": {}
        }
      ]
    }
  ]
}