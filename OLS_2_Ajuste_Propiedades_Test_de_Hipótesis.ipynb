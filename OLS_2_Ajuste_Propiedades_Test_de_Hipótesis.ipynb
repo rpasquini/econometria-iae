{
  "nbformat": 4,
  "nbformat_minor": 0,
  "metadata": {
    "colab": {
      "name": "OLS 2 Ajuste Propiedades Test de Hipótesis.ipynb",
      "provenance": [],
      "authorship_tag": "ABX9TyMh+VjfiPAn6ZhwDMlzuPA2",
      "include_colab_link": true
    },
    "kernelspec": {
      "name": "python3",
      "display_name": "Python 3"
    }
  },
  "cells": [
    {
      "cell_type": "markdown",
      "metadata": {
        "id": "view-in-github",
        "colab_type": "text"
      },
      "source": [
        "<a href=\"https://colab.research.google.com/github/rpasquini/econometria-iae/blob/main/OLS_2_Ajuste_Propiedades_Test_de_Hip%C3%B3tesis.ipynb\" target=\"_parent\"><img src=\"https://colab.research.google.com/assets/colab-badge.svg\" alt=\"Open In Colab\"/></a>"
      ]
    },
    {
      "cell_type": "code",
      "metadata": {
        "id": "NNmORTIw0Z_t"
      },
      "source": [
        "import statsmodels.api as sm\n",
        "import matplotlib.pyplot as plt\n",
        "import numpy as np\n",
        "import pandas as pd"
      ],
      "execution_count": 1,
      "outputs": []
    },
    {
      "cell_type": "markdown",
      "source": [
        "El objetivo de este notebook es introducir a la estimación del modelo de regresión lineal, y aplicar conceptos relacionados con predicción y análisis de residuos estimados"
      ],
      "metadata": {
        "id": "B5EmVVIGBnzZ"
      }
    },
    {
      "cell_type": "markdown",
      "source": [
        "Nuestro primer objetivo será estimar el modelo\n",
        "$$ log(ingreso_i)=\\beta_0+\\beta_1 aesc_i+\\epsilon_i $$\n",
        "\n",
        "donde ingreso es el ingreso total individual y aesc son los años de escolaridad.\n"
      ],
      "metadata": {
        "id": "GvVNPeIkCFrl"
      }
    },
    {
      "cell_type": "code",
      "metadata": {
        "id": "OTliy8gp0cuf"
      },
      "source": [
        "df=pd.read_csv('https://github.com/rpasquini/econometria-iae/blob/main/datos/eah2022_bu_ampliada_ind.txt?raw=true',sep=';')"
      ],
      "execution_count": 9,
      "outputs": []
    },
    {
      "cell_type": "code",
      "source": [
        "df"
      ],
      "metadata": {
        "colab": {
          "base_uri": "https://localhost:8080/",
          "height": 423
        },
        "id": "gnEnavpyAvuG",
        "outputId": "2fc05409-38a2-4047-e6ea-6ae2e0af1796"
      },
      "execution_count": 10,
      "outputs": [
        {
          "output_type": "execute_result",
          "data": {
            "text/plain": [
              "         id  nhogar  miembro  comuna  dominio  edad  sexo  parentes_2  p5_2  \\\n",
              "0         1       1        1       8        3    18     2           1     6   \n",
              "1         1       1        2       8        3    22     1           7     6   \n",
              "2         1       1        3       8        3    45     1           6     3   \n",
              "3         2       1        1       5        4    18     2           1     6   \n",
              "4         3       1        1       2        4    18     1           1     6   \n",
              "...     ...     ...      ...     ...      ...   ...   ...         ...   ...   \n",
              "12496  5373       1        1       8        4    95     2           1     4   \n",
              "12497  5374       1        1       7        4    98     2           1     4   \n",
              "12498  5374       1        2       7        4    76     2           7     3   \n",
              "12499  5375       1        1      15        4   100     2           1     4   \n",
              "12500  5375       1        2      15        4    50     2           9     3   \n",
              "\n",
              "       p6_a  ...  t50d_a  t50d_b  t50d_c  t50d_d  t50d_e  t50d_f  t51_d  \\\n",
              "0         3  ...       0       0       0       0       0       0      0   \n",
              "1         3  ...       0       0       0       0       0       0      0   \n",
              "2         0  ...       0       0       0       0       0       0      0   \n",
              "3        95  ...       0       0       0       0       0       0      0   \n",
              "4        95  ...       0       0       0       0       0       0      0   \n",
              "...     ...  ...     ...     ...     ...     ...     ...     ...    ...   \n",
              "12496     0  ...       0       0       0       0       0       0      0   \n",
              "12497     0  ...       0       0       0       0       0       0      0   \n",
              "12498     0  ...       0       0       0       0       0       0      0   \n",
              "12499     0  ...       0       0       0       0       0       0      0   \n",
              "12500     0  ...       0       0       0       0       0       0      0   \n",
              "\n",
              "       t23_1_cod  t24_1_cod  fexp  \n",
              "0              0          0    16  \n",
              "1              0          0    16  \n",
              "2              0          0    16  \n",
              "3              0          0   357  \n",
              "4              0          0   106  \n",
              "...          ...        ...   ...  \n",
              "12496          0          0    40  \n",
              "12497          0          0   205  \n",
              "12498          0          0   205  \n",
              "12499          0          0   165  \n",
              "12500          0          0   165  \n",
              "\n",
              "[12501 rows x 140 columns]"
            ],
            "text/html": [
              "\n",
              "  <div id=\"df-be95834c-c715-4043-99b0-72974e25586c\" class=\"colab-df-container\">\n",
              "    <div>\n",
              "<style scoped>\n",
              "    .dataframe tbody tr th:only-of-type {\n",
              "        vertical-align: middle;\n",
              "    }\n",
              "\n",
              "    .dataframe tbody tr th {\n",
              "        vertical-align: top;\n",
              "    }\n",
              "\n",
              "    .dataframe thead th {\n",
              "        text-align: right;\n",
              "    }\n",
              "</style>\n",
              "<table border=\"1\" class=\"dataframe\">\n",
              "  <thead>\n",
              "    <tr style=\"text-align: right;\">\n",
              "      <th></th>\n",
              "      <th>id</th>\n",
              "      <th>nhogar</th>\n",
              "      <th>miembro</th>\n",
              "      <th>comuna</th>\n",
              "      <th>dominio</th>\n",
              "      <th>edad</th>\n",
              "      <th>sexo</th>\n",
              "      <th>parentes_2</th>\n",
              "      <th>p5_2</th>\n",
              "      <th>p6_a</th>\n",
              "      <th>...</th>\n",
              "      <th>t50d_a</th>\n",
              "      <th>t50d_b</th>\n",
              "      <th>t50d_c</th>\n",
              "      <th>t50d_d</th>\n",
              "      <th>t50d_e</th>\n",
              "      <th>t50d_f</th>\n",
              "      <th>t51_d</th>\n",
              "      <th>t23_1_cod</th>\n",
              "      <th>t24_1_cod</th>\n",
              "      <th>fexp</th>\n",
              "    </tr>\n",
              "  </thead>\n",
              "  <tbody>\n",
              "    <tr>\n",
              "      <th>0</th>\n",
              "      <td>1</td>\n",
              "      <td>1</td>\n",
              "      <td>1</td>\n",
              "      <td>8</td>\n",
              "      <td>3</td>\n",
              "      <td>18</td>\n",
              "      <td>2</td>\n",
              "      <td>1</td>\n",
              "      <td>6</td>\n",
              "      <td>3</td>\n",
              "      <td>...</td>\n",
              "      <td>0</td>\n",
              "      <td>0</td>\n",
              "      <td>0</td>\n",
              "      <td>0</td>\n",
              "      <td>0</td>\n",
              "      <td>0</td>\n",
              "      <td>0</td>\n",
              "      <td>0</td>\n",
              "      <td>0</td>\n",
              "      <td>16</td>\n",
              "    </tr>\n",
              "    <tr>\n",
              "      <th>1</th>\n",
              "      <td>1</td>\n",
              "      <td>1</td>\n",
              "      <td>2</td>\n",
              "      <td>8</td>\n",
              "      <td>3</td>\n",
              "      <td>22</td>\n",
              "      <td>1</td>\n",
              "      <td>7</td>\n",
              "      <td>6</td>\n",
              "      <td>3</td>\n",
              "      <td>...</td>\n",
              "      <td>0</td>\n",
              "      <td>0</td>\n",
              "      <td>0</td>\n",
              "      <td>0</td>\n",
              "      <td>0</td>\n",
              "      <td>0</td>\n",
              "      <td>0</td>\n",
              "      <td>0</td>\n",
              "      <td>0</td>\n",
              "      <td>16</td>\n",
              "    </tr>\n",
              "    <tr>\n",
              "      <th>2</th>\n",
              "      <td>1</td>\n",
              "      <td>1</td>\n",
              "      <td>3</td>\n",
              "      <td>8</td>\n",
              "      <td>3</td>\n",
              "      <td>45</td>\n",
              "      <td>1</td>\n",
              "      <td>6</td>\n",
              "      <td>3</td>\n",
              "      <td>0</td>\n",
              "      <td>...</td>\n",
              "      <td>0</td>\n",
              "      <td>0</td>\n",
              "      <td>0</td>\n",
              "      <td>0</td>\n",
              "      <td>0</td>\n",
              "      <td>0</td>\n",
              "      <td>0</td>\n",
              "      <td>0</td>\n",
              "      <td>0</td>\n",
              "      <td>16</td>\n",
              "    </tr>\n",
              "    <tr>\n",
              "      <th>3</th>\n",
              "      <td>2</td>\n",
              "      <td>1</td>\n",
              "      <td>1</td>\n",
              "      <td>5</td>\n",
              "      <td>4</td>\n",
              "      <td>18</td>\n",
              "      <td>2</td>\n",
              "      <td>1</td>\n",
              "      <td>6</td>\n",
              "      <td>95</td>\n",
              "      <td>...</td>\n",
              "      <td>0</td>\n",
              "      <td>0</td>\n",
              "      <td>0</td>\n",
              "      <td>0</td>\n",
              "      <td>0</td>\n",
              "      <td>0</td>\n",
              "      <td>0</td>\n",
              "      <td>0</td>\n",
              "      <td>0</td>\n",
              "      <td>357</td>\n",
              "    </tr>\n",
              "    <tr>\n",
              "      <th>4</th>\n",
              "      <td>3</td>\n",
              "      <td>1</td>\n",
              "      <td>1</td>\n",
              "      <td>2</td>\n",
              "      <td>4</td>\n",
              "      <td>18</td>\n",
              "      <td>1</td>\n",
              "      <td>1</td>\n",
              "      <td>6</td>\n",
              "      <td>95</td>\n",
              "      <td>...</td>\n",
              "      <td>0</td>\n",
              "      <td>0</td>\n",
              "      <td>0</td>\n",
              "      <td>0</td>\n",
              "      <td>0</td>\n",
              "      <td>0</td>\n",
              "      <td>0</td>\n",
              "      <td>0</td>\n",
              "      <td>0</td>\n",
              "      <td>106</td>\n",
              "    </tr>\n",
              "    <tr>\n",
              "      <th>...</th>\n",
              "      <td>...</td>\n",
              "      <td>...</td>\n",
              "      <td>...</td>\n",
              "      <td>...</td>\n",
              "      <td>...</td>\n",
              "      <td>...</td>\n",
              "      <td>...</td>\n",
              "      <td>...</td>\n",
              "      <td>...</td>\n",
              "      <td>...</td>\n",
              "      <td>...</td>\n",
              "      <td>...</td>\n",
              "      <td>...</td>\n",
              "      <td>...</td>\n",
              "      <td>...</td>\n",
              "      <td>...</td>\n",
              "      <td>...</td>\n",
              "      <td>...</td>\n",
              "      <td>...</td>\n",
              "      <td>...</td>\n",
              "      <td>...</td>\n",
              "    </tr>\n",
              "    <tr>\n",
              "      <th>12496</th>\n",
              "      <td>5373</td>\n",
              "      <td>1</td>\n",
              "      <td>1</td>\n",
              "      <td>8</td>\n",
              "      <td>4</td>\n",
              "      <td>95</td>\n",
              "      <td>2</td>\n",
              "      <td>1</td>\n",
              "      <td>4</td>\n",
              "      <td>0</td>\n",
              "      <td>...</td>\n",
              "      <td>0</td>\n",
              "      <td>0</td>\n",
              "      <td>0</td>\n",
              "      <td>0</td>\n",
              "      <td>0</td>\n",
              "      <td>0</td>\n",
              "      <td>0</td>\n",
              "      <td>0</td>\n",
              "      <td>0</td>\n",
              "      <td>40</td>\n",
              "    </tr>\n",
              "    <tr>\n",
              "      <th>12497</th>\n",
              "      <td>5374</td>\n",
              "      <td>1</td>\n",
              "      <td>1</td>\n",
              "      <td>7</td>\n",
              "      <td>4</td>\n",
              "      <td>98</td>\n",
              "      <td>2</td>\n",
              "      <td>1</td>\n",
              "      <td>4</td>\n",
              "      <td>0</td>\n",
              "      <td>...</td>\n",
              "      <td>0</td>\n",
              "      <td>0</td>\n",
              "      <td>0</td>\n",
              "      <td>0</td>\n",
              "      <td>0</td>\n",
              "      <td>0</td>\n",
              "      <td>0</td>\n",
              "      <td>0</td>\n",
              "      <td>0</td>\n",
              "      <td>205</td>\n",
              "    </tr>\n",
              "    <tr>\n",
              "      <th>12498</th>\n",
              "      <td>5374</td>\n",
              "      <td>1</td>\n",
              "      <td>2</td>\n",
              "      <td>7</td>\n",
              "      <td>4</td>\n",
              "      <td>76</td>\n",
              "      <td>2</td>\n",
              "      <td>7</td>\n",
              "      <td>3</td>\n",
              "      <td>0</td>\n",
              "      <td>...</td>\n",
              "      <td>0</td>\n",
              "      <td>0</td>\n",
              "      <td>0</td>\n",
              "      <td>0</td>\n",
              "      <td>0</td>\n",
              "      <td>0</td>\n",
              "      <td>0</td>\n",
              "      <td>0</td>\n",
              "      <td>0</td>\n",
              "      <td>205</td>\n",
              "    </tr>\n",
              "    <tr>\n",
              "      <th>12499</th>\n",
              "      <td>5375</td>\n",
              "      <td>1</td>\n",
              "      <td>1</td>\n",
              "      <td>15</td>\n",
              "      <td>4</td>\n",
              "      <td>100</td>\n",
              "      <td>2</td>\n",
              "      <td>1</td>\n",
              "      <td>4</td>\n",
              "      <td>0</td>\n",
              "      <td>...</td>\n",
              "      <td>0</td>\n",
              "      <td>0</td>\n",
              "      <td>0</td>\n",
              "      <td>0</td>\n",
              "      <td>0</td>\n",
              "      <td>0</td>\n",
              "      <td>0</td>\n",
              "      <td>0</td>\n",
              "      <td>0</td>\n",
              "      <td>165</td>\n",
              "    </tr>\n",
              "    <tr>\n",
              "      <th>12500</th>\n",
              "      <td>5375</td>\n",
              "      <td>1</td>\n",
              "      <td>2</td>\n",
              "      <td>15</td>\n",
              "      <td>4</td>\n",
              "      <td>50</td>\n",
              "      <td>2</td>\n",
              "      <td>9</td>\n",
              "      <td>3</td>\n",
              "      <td>0</td>\n",
              "      <td>...</td>\n",
              "      <td>0</td>\n",
              "      <td>0</td>\n",
              "      <td>0</td>\n",
              "      <td>0</td>\n",
              "      <td>0</td>\n",
              "      <td>0</td>\n",
              "      <td>0</td>\n",
              "      <td>0</td>\n",
              "      <td>0</td>\n",
              "      <td>165</td>\n",
              "    </tr>\n",
              "  </tbody>\n",
              "</table>\n",
              "<p>12501 rows × 140 columns</p>\n",
              "</div>\n",
              "    <div class=\"colab-df-buttons\">\n",
              "\n",
              "  <div class=\"colab-df-container\">\n",
              "    <button class=\"colab-df-convert\" onclick=\"convertToInteractive('df-be95834c-c715-4043-99b0-72974e25586c')\"\n",
              "            title=\"Convert this dataframe to an interactive table.\"\n",
              "            style=\"display:none;\">\n",
              "\n",
              "  <svg xmlns=\"http://www.w3.org/2000/svg\" height=\"24px\" viewBox=\"0 -960 960 960\">\n",
              "    <path d=\"M120-120v-720h720v720H120Zm60-500h600v-160H180v160Zm220 220h160v-160H400v160Zm0 220h160v-160H400v160ZM180-400h160v-160H180v160Zm440 0h160v-160H620v160ZM180-180h160v-160H180v160Zm440 0h160v-160H620v160Z\"/>\n",
              "  </svg>\n",
              "    </button>\n",
              "\n",
              "  <style>\n",
              "    .colab-df-container {\n",
              "      display:flex;\n",
              "      gap: 12px;\n",
              "    }\n",
              "\n",
              "    .colab-df-convert {\n",
              "      background-color: #E8F0FE;\n",
              "      border: none;\n",
              "      border-radius: 50%;\n",
              "      cursor: pointer;\n",
              "      display: none;\n",
              "      fill: #1967D2;\n",
              "      height: 32px;\n",
              "      padding: 0 0 0 0;\n",
              "      width: 32px;\n",
              "    }\n",
              "\n",
              "    .colab-df-convert:hover {\n",
              "      background-color: #E2EBFA;\n",
              "      box-shadow: 0px 1px 2px rgba(60, 64, 67, 0.3), 0px 1px 3px 1px rgba(60, 64, 67, 0.15);\n",
              "      fill: #174EA6;\n",
              "    }\n",
              "\n",
              "    .colab-df-buttons div {\n",
              "      margin-bottom: 4px;\n",
              "    }\n",
              "\n",
              "    [theme=dark] .colab-df-convert {\n",
              "      background-color: #3B4455;\n",
              "      fill: #D2E3FC;\n",
              "    }\n",
              "\n",
              "    [theme=dark] .colab-df-convert:hover {\n",
              "      background-color: #434B5C;\n",
              "      box-shadow: 0px 1px 3px 1px rgba(0, 0, 0, 0.15);\n",
              "      filter: drop-shadow(0px 1px 2px rgba(0, 0, 0, 0.3));\n",
              "      fill: #FFFFFF;\n",
              "    }\n",
              "  </style>\n",
              "\n",
              "    <script>\n",
              "      const buttonEl =\n",
              "        document.querySelector('#df-be95834c-c715-4043-99b0-72974e25586c button.colab-df-convert');\n",
              "      buttonEl.style.display =\n",
              "        google.colab.kernel.accessAllowed ? 'block' : 'none';\n",
              "\n",
              "      async function convertToInteractive(key) {\n",
              "        const element = document.querySelector('#df-be95834c-c715-4043-99b0-72974e25586c');\n",
              "        const dataTable =\n",
              "          await google.colab.kernel.invokeFunction('convertToInteractive',\n",
              "                                                    [key], {});\n",
              "        if (!dataTable) return;\n",
              "\n",
              "        const docLinkHtml = 'Like what you see? Visit the ' +\n",
              "          '<a target=\"_blank\" href=https://colab.research.google.com/notebooks/data_table.ipynb>data table notebook</a>'\n",
              "          + ' to learn more about interactive tables.';\n",
              "        element.innerHTML = '';\n",
              "        dataTable['output_type'] = 'display_data';\n",
              "        await google.colab.output.renderOutput(dataTable, element);\n",
              "        const docLink = document.createElement('div');\n",
              "        docLink.innerHTML = docLinkHtml;\n",
              "        element.appendChild(docLink);\n",
              "      }\n",
              "    </script>\n",
              "  </div>\n",
              "\n",
              "\n",
              "<div id=\"df-f0f39ac1-a6d2-472a-b90f-3260387a471b\">\n",
              "  <button class=\"colab-df-quickchart\" onclick=\"quickchart('df-f0f39ac1-a6d2-472a-b90f-3260387a471b')\"\n",
              "            title=\"Suggest charts.\"\n",
              "            style=\"display:none;\">\n",
              "\n",
              "<svg xmlns=\"http://www.w3.org/2000/svg\" height=\"24px\"viewBox=\"0 0 24 24\"\n",
              "     width=\"24px\">\n",
              "    <g>\n",
              "        <path d=\"M19 3H5c-1.1 0-2 .9-2 2v14c0 1.1.9 2 2 2h14c1.1 0 2-.9 2-2V5c0-1.1-.9-2-2-2zM9 17H7v-7h2v7zm4 0h-2V7h2v10zm4 0h-2v-4h2v4z\"/>\n",
              "    </g>\n",
              "</svg>\n",
              "  </button>\n",
              "\n",
              "<style>\n",
              "  .colab-df-quickchart {\n",
              "      --bg-color: #E8F0FE;\n",
              "      --fill-color: #1967D2;\n",
              "      --hover-bg-color: #E2EBFA;\n",
              "      --hover-fill-color: #174EA6;\n",
              "      --disabled-fill-color: #AAA;\n",
              "      --disabled-bg-color: #DDD;\n",
              "  }\n",
              "\n",
              "  [theme=dark] .colab-df-quickchart {\n",
              "      --bg-color: #3B4455;\n",
              "      --fill-color: #D2E3FC;\n",
              "      --hover-bg-color: #434B5C;\n",
              "      --hover-fill-color: #FFFFFF;\n",
              "      --disabled-bg-color: #3B4455;\n",
              "      --disabled-fill-color: #666;\n",
              "  }\n",
              "\n",
              "  .colab-df-quickchart {\n",
              "    background-color: var(--bg-color);\n",
              "    border: none;\n",
              "    border-radius: 50%;\n",
              "    cursor: pointer;\n",
              "    display: none;\n",
              "    fill: var(--fill-color);\n",
              "    height: 32px;\n",
              "    padding: 0;\n",
              "    width: 32px;\n",
              "  }\n",
              "\n",
              "  .colab-df-quickchart:hover {\n",
              "    background-color: var(--hover-bg-color);\n",
              "    box-shadow: 0 1px 2px rgba(60, 64, 67, 0.3), 0 1px 3px 1px rgba(60, 64, 67, 0.15);\n",
              "    fill: var(--button-hover-fill-color);\n",
              "  }\n",
              "\n",
              "  .colab-df-quickchart-complete:disabled,\n",
              "  .colab-df-quickchart-complete:disabled:hover {\n",
              "    background-color: var(--disabled-bg-color);\n",
              "    fill: var(--disabled-fill-color);\n",
              "    box-shadow: none;\n",
              "  }\n",
              "\n",
              "  .colab-df-spinner {\n",
              "    border: 2px solid var(--fill-color);\n",
              "    border-color: transparent;\n",
              "    border-bottom-color: var(--fill-color);\n",
              "    animation:\n",
              "      spin 1s steps(1) infinite;\n",
              "  }\n",
              "\n",
              "  @keyframes spin {\n",
              "    0% {\n",
              "      border-color: transparent;\n",
              "      border-bottom-color: var(--fill-color);\n",
              "      border-left-color: var(--fill-color);\n",
              "    }\n",
              "    20% {\n",
              "      border-color: transparent;\n",
              "      border-left-color: var(--fill-color);\n",
              "      border-top-color: var(--fill-color);\n",
              "    }\n",
              "    30% {\n",
              "      border-color: transparent;\n",
              "      border-left-color: var(--fill-color);\n",
              "      border-top-color: var(--fill-color);\n",
              "      border-right-color: var(--fill-color);\n",
              "    }\n",
              "    40% {\n",
              "      border-color: transparent;\n",
              "      border-right-color: var(--fill-color);\n",
              "      border-top-color: var(--fill-color);\n",
              "    }\n",
              "    60% {\n",
              "      border-color: transparent;\n",
              "      border-right-color: var(--fill-color);\n",
              "    }\n",
              "    80% {\n",
              "      border-color: transparent;\n",
              "      border-right-color: var(--fill-color);\n",
              "      border-bottom-color: var(--fill-color);\n",
              "    }\n",
              "    90% {\n",
              "      border-color: transparent;\n",
              "      border-bottom-color: var(--fill-color);\n",
              "    }\n",
              "  }\n",
              "</style>\n",
              "\n",
              "  <script>\n",
              "    async function quickchart(key) {\n",
              "      const quickchartButtonEl =\n",
              "        document.querySelector('#' + key + ' button');\n",
              "      quickchartButtonEl.disabled = true;  // To prevent multiple clicks.\n",
              "      quickchartButtonEl.classList.add('colab-df-spinner');\n",
              "      try {\n",
              "        const charts = await google.colab.kernel.invokeFunction(\n",
              "            'suggestCharts', [key], {});\n",
              "      } catch (error) {\n",
              "        console.error('Error during call to suggestCharts:', error);\n",
              "      }\n",
              "      quickchartButtonEl.classList.remove('colab-df-spinner');\n",
              "      quickchartButtonEl.classList.add('colab-df-quickchart-complete');\n",
              "    }\n",
              "    (() => {\n",
              "      let quickchartButtonEl =\n",
              "        document.querySelector('#df-f0f39ac1-a6d2-472a-b90f-3260387a471b button');\n",
              "      quickchartButtonEl.style.display =\n",
              "        google.colab.kernel.accessAllowed ? 'block' : 'none';\n",
              "    })();\n",
              "  </script>\n",
              "</div>\n",
              "    </div>\n",
              "  </div>\n"
            ]
          },
          "metadata": {},
          "execution_count": 10
        }
      ]
    },
    {
      "cell_type": "markdown",
      "source": [
        "Vamos a generar una variable del ingreso total individual tomado en logaritmo, pero con el cuidado de no aplicar logaritmo a valores 0"
      ],
      "metadata": {
        "id": "yrce0xh8B1p5"
      }
    },
    {
      "cell_type": "code",
      "metadata": {
        "id": "ymxAvnv7vXrV",
        "outputId": "0bebced5-ce06-40fc-8856-fbe61fe8dc2d",
        "colab": {
          "base_uri": "https://localhost:8080/"
        }
      },
      "source": [
        "df['logingreso']=np.where(df['ingtot_2']>0,np.log(df['ingtot_2']),np.nan)"
      ],
      "execution_count": 14,
      "outputs": [
        {
          "output_type": "stream",
          "name": "stderr",
          "text": [
            "/usr/local/lib/python3.10/dist-packages/pandas/core/arraylike.py:402: RuntimeWarning: divide by zero encountered in log\n",
            "  result = getattr(ufunc, method)(*inputs, **kwargs)\n"
          ]
        }
      ]
    },
    {
      "cell_type": "code",
      "source": [
        "df['aesc']"
      ],
      "metadata": {
        "colab": {
          "base_uri": "https://localhost:8080/"
        },
        "id": "Oj9doxS_ApWi",
        "outputId": "b288d28b-3b60-44c0-a774-828f9b42d42f"
      },
      "execution_count": 11,
      "outputs": [
        {
          "output_type": "execute_result",
          "data": {
            "text/plain": [
              "0        11\n",
              "1        12\n",
              "2         9\n",
              "3        12\n",
              "4        12\n",
              "         ..\n",
              "12496     0\n",
              "12497     3\n",
              "12498     3\n",
              "12499     7\n",
              "12500    12\n",
              "Name: aesc, Length: 12501, dtype: int64"
            ]
          },
          "metadata": {},
          "execution_count": 11
        }
      ]
    },
    {
      "cell_type": "code",
      "source": [
        "df['ingtot_2']"
      ],
      "metadata": {
        "colab": {
          "base_uri": "https://localhost:8080/"
        },
        "id": "dzrmnVOkBH6I",
        "outputId": "b287624b-7bcc-44e2-ac24-bf8f95a3742c"
      },
      "execution_count": 13,
      "outputs": [
        {
          "output_type": "execute_result",
          "data": {
            "text/plain": [
              "0         23500\n",
              "1          8000\n",
              "2         90000\n",
              "3         40000\n",
              "4         20000\n",
              "          ...  \n",
              "12496     86000\n",
              "12497     81000\n",
              "12498     44500\n",
              "12499    110000\n",
              "12500     75000\n",
              "Name: ingtot_2, Length: 12501, dtype: int64"
            ]
          },
          "metadata": {},
          "execution_count": 13
        }
      ]
    },
    {
      "cell_type": "code",
      "metadata": {
        "id": "qVD7lheoveIN"
      },
      "source": [
        "df=df.loc[df.aesc<20]"
      ],
      "execution_count": null,
      "outputs": []
    },
    {
      "cell_type": "code",
      "metadata": {
        "id": "4ZcVS617w1kt",
        "outputId": "be0f55dc-0781-4967-94e0-92b5b589b9bb",
        "colab": {
          "base_uri": "https://localhost:8080/",
          "height": 417
        }
      },
      "source": [
        "# dropna elimina filas que para algun valor hay un missing\n",
        "df[['aesc','logingreso']].dropna()"
      ],
      "execution_count": null,
      "outputs": [
        {
          "output_type": "execute_result",
          "data": {
            "text/html": [
              "<div>\n",
              "<style scoped>\n",
              "    .dataframe tbody tr th:only-of-type {\n",
              "        vertical-align: middle;\n",
              "    }\n",
              "\n",
              "    .dataframe tbody tr th {\n",
              "        vertical-align: top;\n",
              "    }\n",
              "\n",
              "    .dataframe thead th {\n",
              "        text-align: right;\n",
              "    }\n",
              "</style>\n",
              "<table border=\"1\" class=\"dataframe\">\n",
              "  <thead>\n",
              "    <tr style=\"text-align: right;\">\n",
              "      <th></th>\n",
              "      <th>aesc</th>\n",
              "      <th>logingreso</th>\n",
              "    </tr>\n",
              "  </thead>\n",
              "  <tbody>\n",
              "    <tr>\n",
              "      <th>0</th>\n",
              "      <td>12</td>\n",
              "      <td>8.384804</td>\n",
              "    </tr>\n",
              "    <tr>\n",
              "      <th>1</th>\n",
              "      <td>12</td>\n",
              "      <td>9.104980</td>\n",
              "    </tr>\n",
              "    <tr>\n",
              "      <th>2</th>\n",
              "      <td>12</td>\n",
              "      <td>8.482602</td>\n",
              "    </tr>\n",
              "    <tr>\n",
              "      <th>3</th>\n",
              "      <td>12</td>\n",
              "      <td>9.615806</td>\n",
              "    </tr>\n",
              "    <tr>\n",
              "      <th>4</th>\n",
              "      <td>12</td>\n",
              "      <td>9.615806</td>\n",
              "    </tr>\n",
              "    <tr>\n",
              "      <th>...</th>\n",
              "      <td>...</td>\n",
              "      <td>...</td>\n",
              "    </tr>\n",
              "    <tr>\n",
              "      <th>14507</th>\n",
              "      <td>8</td>\n",
              "      <td>8.748305</td>\n",
              "    </tr>\n",
              "    <tr>\n",
              "      <th>14508</th>\n",
              "      <td>15</td>\n",
              "      <td>9.952278</td>\n",
              "    </tr>\n",
              "    <tr>\n",
              "      <th>14509</th>\n",
              "      <td>4</td>\n",
              "      <td>9.210340</td>\n",
              "    </tr>\n",
              "    <tr>\n",
              "      <th>14510</th>\n",
              "      <td>12</td>\n",
              "      <td>8.922658</td>\n",
              "    </tr>\n",
              "    <tr>\n",
              "      <th>14511</th>\n",
              "      <td>11</td>\n",
              "      <td>9.190138</td>\n",
              "    </tr>\n",
              "  </tbody>\n",
              "</table>\n",
              "<p>10082 rows × 2 columns</p>\n",
              "</div>"
            ],
            "text/plain": [
              "       aesc  logingreso\n",
              "0        12    8.384804\n",
              "1        12    9.104980\n",
              "2        12    8.482602\n",
              "3        12    9.615806\n",
              "4        12    9.615806\n",
              "...     ...         ...\n",
              "14507     8    8.748305\n",
              "14508    15    9.952278\n",
              "14509     4    9.210340\n",
              "14510    12    8.922658\n",
              "14511    11    9.190138\n",
              "\n",
              "[10082 rows x 2 columns]"
            ]
          },
          "metadata": {
            "tags": []
          },
          "execution_count": 29
        }
      ]
    },
    {
      "cell_type": "code",
      "metadata": {
        "id": "X2MRv2sjvlKK",
        "outputId": "46cbab79-1500-47f2-b06a-2eec04e02bcb",
        "colab": {
          "base_uri": "https://localhost:8080/",
          "height": 448
        }
      },
      "source": [
        "df.aesc.hist(bins=40)"
      ],
      "execution_count": 35,
      "outputs": [
        {
          "output_type": "execute_result",
          "data": {
            "text/plain": [
              "<Axes: >"
            ]
          },
          "metadata": {},
          "execution_count": 35
        },
        {
          "output_type": "display_data",
          "data": {
            "text/plain": [
              "<Figure size 640x480 with 1 Axes>"
            ],
            "image/png": "[encoded data removed]"
          },
          "metadata": {}
        }
      ]
    },
    {
      "cell_type": "code",
      "source": [
        "df=df[df.aesc<99]"
      ],
      "metadata": {
        "id": "rmeKPzFaLEpb"
      },
      "execution_count": 37,
      "outputs": []
    },
    {
      "cell_type": "markdown",
      "source": [
        "Estimar la regresion va a requerir varios pasos que me tengo que asegurar que se cumplan:\n",
        "\n",
        "1. Asegurarme de que los datos (las filas en cuestion) que voy a estar usando no tienen datos missing en ninguna variable.\n",
        "2. Separar a la variable a explicar (dependiente) de la(s) explicativas\n",
        "3. Si la regresión va a tener una constante, como en nuestro caso, agregar a las variables explicativas una columna de 1s (unos).\n",
        "4. Definir el modelo en una variable sm.OLS\n",
        "5. Correr el modelo con el metodo fit() y guardar los resultados en otra variable\n",
        "6. Imprimir los resultados en pantalla (imprimir los contenidos de la variable del paso anterior)"
      ],
      "metadata": {
        "id": "bwXTZnxgCyfd"
      }
    },
    {
      "cell_type": "markdown",
      "source": [
        "# Altenativa 1:\n",
        "Defino el modelo con sm.OLS\n",
        "Agrego la constante usando sm.add_constant\n",
        "Uso la opción \"drop\" para eliminar filas con missing values"
      ],
      "metadata": {
        "id": "CpkVU_sCEooE"
      }
    },
    {
      "cell_type": "code",
      "source": [
        "modelo=sm.OLS(df['logingreso'],sm.add_constant(df['aesc']), missing='drop')\n"
      ],
      "metadata": {
        "colab": {
          "base_uri": "https://localhost:8080/"
        },
        "id": "95pSPoz5C61f",
        "outputId": "cbaae096-d2aa-4033-be6e-fc9358976f81"
      },
      "execution_count": 29,
      "outputs": [
        {
          "output_type": "stream",
          "name": "stderr",
          "text": [
            "/usr/local/lib/python3.10/dist-packages/statsmodels/base/model.py:130: ValueWarning: unknown kwargs ['cov_type']\n",
            "  warnings.warn(msg, ValueWarning)\n"
          ]
        }
      ]
    },
    {
      "cell_type": "code",
      "source": [
        "resultados=modelo.fit()\n",
        "print(resultados.summary())"
      ],
      "metadata": {
        "colab": {
          "base_uri": "https://localhost:8080/"
        },
        "id": "7Z1Ewo4iEPwL",
        "outputId": "a943bff7-43b8-4822-f389-0d44a30608c3"
      },
      "execution_count": 40,
      "outputs": [
        {
          "output_type": "stream",
          "name": "stdout",
          "text": [
            "                            OLS Regression Results                            \n",
            "==============================================================================\n",
            "Dep. Variable:             logingreso   R-squared:                       0.043\n",
            "Model:                            OLS   Adj. R-squared:                  0.043\n",
            "Method:                 Least Squares   F-statistic:                     411.1\n",
            "Date:                Tue, 17 Oct 2023   Prob (F-statistic):           1.94e-89\n",
            "Time:                        01:08:05   Log-Likelihood:                -11789.\n",
            "No. Observations:                9105   AIC:                         2.358e+04\n",
            "Df Residuals:                    9103   BIC:                         2.360e+04\n",
            "Df Model:                           1                                         \n",
            "Covariance Type:            nonrobust                                         \n",
            "==============================================================================\n",
            "                 coef    std err          t      P>|t|      [0.025      0.975]\n",
            "------------------------------------------------------------------------------\n",
            "const         11.0555      0.020    544.366      0.000      11.016      11.095\n",
            "aesc           0.0270      0.001     20.276      0.000       0.024       0.030\n",
            "==============================================================================\n",
            "Omnibus:                     1434.685   Durbin-Watson:                   1.586\n",
            "Prob(Omnibus):                  0.000   Jarque-Bera (JB):             3194.002\n",
            "Skew:                          -0.923   Prob(JB):                         0.00\n",
            "Kurtosis:                       5.239   Cond. No.                         33.6\n",
            "==============================================================================\n",
            "\n",
            "Notes:\n",
            "[1] Standard Errors assume that the covariance matrix of the errors is correctly specified.\n"
          ]
        }
      ]
    },
    {
      "cell_type": "markdown",
      "source": [
        "# Alternativa 2: Usando sintaxis de estilo R\n",
        "* Por default agrega la constante\n",
        "* Por defaul elimina los missing"
      ],
      "metadata": {
        "id": "jDONsgMyFEwt"
      }
    },
    {
      "cell_type": "code",
      "source": [
        "import statsmodels.formula.api as smf"
      ],
      "metadata": {
        "id": "d-eZcfgwE78M"
      },
      "execution_count": 38,
      "outputs": []
    },
    {
      "cell_type": "code",
      "source": [
        "mod = smf.ols(formula='logingreso ~ aesc', data=df, )\n",
        "\n",
        "res = mod.fit()\n",
        "\n",
        "print(res.summary())\n",
        "\n"
      ],
      "metadata": {
        "colab": {
          "base_uri": "https://localhost:8080/"
        },
        "id": "V7oLYfSXErRO",
        "outputId": "3ccf70ec-05d7-4ae8-fc59-065ef58c24f8"
      },
      "execution_count": 39,
      "outputs": [
        {
          "output_type": "stream",
          "name": "stdout",
          "text": [
            "                            OLS Regression Results                            \n",
            "==============================================================================\n",
            "Dep. Variable:             logingreso   R-squared:                       0.207\n",
            "Model:                            OLS   Adj. R-squared:                  0.207\n",
            "Method:                 Least Squares   F-statistic:                     2366.\n",
            "Date:                Tue, 17 Oct 2023   Prob (F-statistic):               0.00\n",
            "Time:                        01:08:03   Log-Likelihood:                -10880.\n",
            "No. Observations:                9062   AIC:                         2.176e+04\n",
            "Df Residuals:                    9060   BIC:                         2.178e+04\n",
            "Df Model:                           1                                         \n",
            "Covariance Type:            nonrobust                                         \n",
            "==============================================================================\n",
            "                 coef    std err          t      P>|t|      [0.025      0.975]\n",
            "------------------------------------------------------------------------------\n",
            "Intercept      9.9699      0.031    320.835      0.000       9.909      10.031\n",
            "aesc           0.1104      0.002     48.639      0.000       0.106       0.115\n",
            "==============================================================================\n",
            "Omnibus:                     1489.077   Durbin-Watson:                   1.822\n",
            "Prob(Omnibus):                  0.000   Jarque-Bera (JB):             3561.197\n",
            "Skew:                          -0.933   Prob(JB):                         0.00\n",
            "Kurtosis:                       5.440   Cond. No.                         50.6\n",
            "==============================================================================\n",
            "\n",
            "Notes:\n",
            "[1] Standard Errors assume that the covariance matrix of the errors is correctly specified.\n"
          ]
        }
      ]
    },
    {
      "cell_type": "code",
      "metadata": {
        "id": "4jyDpmY40I8-",
        "outputId": "742b67b3-cb40-427f-860b-b2f2011c5859",
        "colab": {
          "base_uri": "https://localhost:8080/"
        }
      },
      "source": [
        "resultados.params['aesc']"
      ],
      "execution_count": 21,
      "outputs": [
        {
          "output_type": "execute_result",
          "data": {
            "text/plain": [
              "0.026979629094634364"
            ]
          },
          "metadata": {},
          "execution_count": 21
        }
      ]
    },
    {
      "cell_type": "markdown",
      "metadata": {
        "id": "S9dlbmRICHfI"
      },
      "source": [
        "# Predicción"
      ]
    },
    {
      "cell_type": "markdown",
      "metadata": {
        "id": "ONHB57OpCWiR"
      },
      "source": [
        "$\\hat{Y}=\\hat{\\beta_0}+\\hat{\\beta_1}*X$"
      ]
    },
    {
      "cell_type": "code",
      "metadata": {
        "id": "la4qtvGUCNgJ",
        "outputId": "2d3b9244-a362-40fa-9621-620e667e1ef4",
        "colab": {
          "base_uri": "https://localhost:8080/",
          "height": 35
        }
      },
      "source": [
        "# 10 años de escolaridad\n",
        "8.0118+0.1011*10"
      ],
      "execution_count": null,
      "outputs": [
        {
          "output_type": "execute_result",
          "data": {
            "text/plain": [
              "9.022799999999998"
            ]
          },
          "metadata": {
            "tags": []
          },
          "execution_count": 9
        }
      ]
    },
    {
      "cell_type": "code",
      "metadata": {
        "id": "G60RKQOvCrW5",
        "outputId": "2425377a-ba95-411b-bcc7-46b42192d237",
        "colab": {
          "base_uri": "https://localhost:8080/",
          "height": 35
        }
      },
      "source": [
        "# 10 años de escolaridad levantando los parametros de los resultados del ajuste\n",
        "resultados.params['const']+resultados.params['aesc']*10"
      ],
      "execution_count": null,
      "outputs": [
        {
          "output_type": "execute_result",
          "data": {
            "text/plain": [
              "9.022579730303121"
            ]
          },
          "metadata": {
            "tags": []
          },
          "execution_count": 10
        }
      ]
    },
    {
      "cell_type": "code",
      "metadata": {
        "id": "8PzA4iHtDLSw",
        "outputId": "55cc4d44-64bd-4351-cd6a-80cdc2c2e510",
        "colab": {
          "base_uri": "https://localhost:8080/",
          "height": 228
        }
      },
      "source": [
        "# Predicciones para observaciones en la data\n",
        "resultados.params['const']+resultados.params['aesc']*df.aesc"
      ],
      "execution_count": null,
      "outputs": [
        {
          "output_type": "execute_result",
          "data": {
            "text/plain": [
              "0        9.224745\n",
              "1        9.224745\n",
              "2        9.224745\n",
              "3        9.224745\n",
              "4        9.224745\n",
              "           ...   \n",
              "14507    8.820414\n",
              "14508    9.527993\n",
              "14509    8.416084\n",
              "14510    9.224745\n",
              "14511    9.123662\n",
              "Name: aesc, Length: 10082, dtype: float64"
            ]
          },
          "metadata": {
            "tags": []
          },
          "execution_count": 11
        }
      ]
    },
    {
      "cell_type": "code",
      "metadata": {
        "id": "mahOOQFj0Thc",
        "outputId": "91232cf0-3007-43e8-8612-272b33a909aa",
        "colab": {
          "base_uri": "https://localhost:8080/"
        }
      },
      "source": [
        "resultados.predict()"
      ],
      "execution_count": 22,
      "outputs": [
        {
          "output_type": "execute_result",
          "data": {
            "text/plain": [
              "array([11.35225733, 11.37923696, 11.29829807, ..., 11.13642029,\n",
              "       11.24433881, 11.37923696])"
            ]
          },
          "metadata": {},
          "execution_count": 22
        }
      ]
    },
    {
      "cell_type": "code",
      "metadata": {
        "id": "NWU5mDsvDhBf",
        "outputId": "d69031d7-8e3d-4d77-b57b-cbbd8c26082d",
        "colab": {
          "base_uri": "https://localhost:8080/",
          "height": 52
        }
      },
      "source": [
        "resultados.predict()"
      ],
      "execution_count": null,
      "outputs": [
        {
          "output_type": "execute_result",
          "data": {
            "text/plain": [
              "array([9.22474501, 9.22474501, 9.22474501, ..., 8.41608388, 9.22474501,\n",
              "       9.12366237])"
            ]
          },
          "metadata": {
            "tags": []
          },
          "execution_count": 37
        }
      ]
    },
    {
      "cell_type": "code",
      "metadata": {
        "id": "iMdWCqIh1Lm4",
        "outputId": "8076aa8e-64d4-4bce-d816-8c4d396fe760",
        "colab": {
          "base_uri": "https://localhost:8080/",
          "height": 228
        }
      },
      "source": [
        "df.logingreso-resultados.predict()"
      ],
      "execution_count": null,
      "outputs": [
        {
          "output_type": "execute_result",
          "data": {
            "text/plain": [
              "0       -0.839941\n",
              "1       -0.119766\n",
              "2       -0.742143\n",
              "3        0.391061\n",
              "4        0.391061\n",
              "           ...   \n",
              "14507   -0.072109\n",
              "14508    0.424285\n",
              "14509    0.794257\n",
              "14510   -0.302087\n",
              "14511    0.066476\n",
              "Name: logingreso, Length: 10082, dtype: float64"
            ]
          },
          "metadata": {
            "tags": []
          },
          "execution_count": 39
        }
      ]
    },
    {
      "cell_type": "code",
      "metadata": {
        "id": "Cw17S2gYDrhp",
        "outputId": "45110c3b-b8d8-445d-801f-e340a5b044b8",
        "colab": {
          "base_uri": "https://localhost:8080/",
          "height": 283
        }
      },
      "source": [
        "# Ploteamos prediccion con matplolib\n",
        "plt.scatter(df.aesc, resultados.predict())"
      ],
      "execution_count": null,
      "outputs": [
        {
          "output_type": "execute_result",
          "data": {
            "text/plain": [
              "<matplotlib.collections.PathCollection at 0x7fade4459320>"
            ]
          },
          "metadata": {
            "tags": []
          },
          "execution_count": 13
        },
        {
          "output_type": "display_data",
          "data": {
            "image/png": "[encoded data removed]",
            "text/plain": [
              "<Figure size 432x288 with 1 Axes>"
            ]
          },
          "metadata": {
            "tags": [],
            "needs_background": "light"
          }
        }
      ]
    },
    {
      "cell_type": "code",
      "metadata": {
        "id": "MIFvCC4syPnZ",
        "outputId": "45eff591-3785-427a-d47f-d0f8082af0d1",
        "colab": {
          "base_uri": "https://localhost:8080/",
          "height": 283
        }
      },
      "source": [
        "plt.scatter(df.aesc, df.logingreso, color='green')\n",
        "\n",
        "plt.plot(df.aesc, resultados.predict(), color= \"red\", marker='.', linestyle=':')\n",
        "\n",
        "plt.ylim(0,15)\n"
      ],
      "execution_count": null,
      "outputs": [
        {
          "output_type": "execute_result",
          "data": {
            "text/plain": [
              "(0.0, 15.0)"
            ]
          },
          "metadata": {
            "tags": []
          },
          "execution_count": 53
        },
        {
          "output_type": "display_data",
          "data": {
            "image/png": "[encoded data removed]",
            "text/plain": [
              "<Figure size 432x288 with 1 Axes>"
            ]
          },
          "metadata": {
            "tags": [],
            "needs_background": "light"
          }
        }
      ]
    },
    {
      "cell_type": "code",
      "metadata": {
        "id": "QuoymAZp3_tU",
        "outputId": "bb35e055-aa45-4670-d291-4a78139ef79e",
        "colab": {
          "base_uri": "https://localhost:8080/",
          "height": 52
        }
      },
      "source": [
        "resultados.predict()"
      ],
      "execution_count": null,
      "outputs": [
        {
          "output_type": "execute_result",
          "data": {
            "text/plain": [
              "array([9.22474501, 9.22474501, 9.22474501, ..., 8.41608388, 9.22474501,\n",
              "       9.12366237])"
            ]
          },
          "metadata": {
            "tags": []
          },
          "execution_count": 45
        }
      ]
    },
    {
      "cell_type": "markdown",
      "metadata": {
        "id": "QZRn9Kqu4Kyf"
      },
      "source": [
        "# Error Cuadrático Medio\n"
      ]
    },
    {
      "cell_type": "code",
      "metadata": {
        "id": "kF_enYAB1f8Z",
        "outputId": "cafb11a4-e2bb-49ab-98af-37c33b73b6fe",
        "colab": {
          "base_uri": "https://localhost:8080/",
          "height": 35
        }
      },
      "source": [
        "resultados.mse_resid"
      ],
      "execution_count": null,
      "outputs": [
        {
          "output_type": "execute_result",
          "data": {
            "text/plain": [
              "0.5933965875175048"
            ]
          },
          "metadata": {
            "tags": []
          },
          "execution_count": 15
        }
      ]
    },
    {
      "cell_type": "markdown",
      "metadata": {
        "id": "hl56Qpf43A49"
      },
      "source": [
        "Error Cuadrático Medio (MSE) a mano\n",
        "\n",
        "$MSE=\\sqrt{\\frac{\\sum^n_{i=1} e_i^2}{n-2}}$ donde\n",
        "\n",
        "$e=y-\\hat{y}$\n",
        "\n"
      ]
    },
    {
      "cell_type": "code",
      "metadata": {
        "id": "uQngrpST12tx",
        "outputId": "37fafcda-cffe-4648-e325-d5b3dcf0623d",
        "colab": {
          "base_uri": "https://localhost:8080/",
          "height": 35
        }
      },
      "source": [
        "ypred = resultados.predict()\n",
        "residuos=df.logingreso-ypred\n",
        "rss=np.sum(residuos**2)\n",
        "MSE=(rss/(resultados.nobs-2))\n",
        "MSE"
      ],
      "execution_count": null,
      "outputs": [
        {
          "output_type": "execute_result",
          "data": {
            "text/plain": [
              "0.5933965875175049"
            ]
          },
          "metadata": {
            "tags": []
          },
          "execution_count": 16
        }
      ]
    },
    {
      "cell_type": "code",
      "metadata": {
        "id": "MLzHND1dJzv8",
        "outputId": "f35d0ef8-d26d-4fbf-daf5-c823d1a92960",
        "colab": {
          "base_uri": "https://localhost:8080/",
          "height": 35
        }
      },
      "source": [
        "MSE**0.5"
      ],
      "execution_count": null,
      "outputs": [
        {
          "output_type": "execute_result",
          "data": {
            "text/plain": [
              "0.7703223919356784"
            ]
          },
          "metadata": {
            "tags": []
          },
          "execution_count": 17
        }
      ]
    },
    {
      "cell_type": "code",
      "metadata": {
        "id": "7327gR3F4X0e",
        "outputId": "6e2dc426-a199-4e08-ec34-db259c97fe5d",
        "colab": {
          "base_uri": "https://localhost:8080/",
          "height": 175
        }
      },
      "source": [
        "residuos2=residuos*residuos\n",
        "residuos2.describe()"
      ],
      "execution_count": null,
      "outputs": [
        {
          "output_type": "execute_result",
          "data": {
            "text/plain": [
              "count    1.008200e+04\n",
              "mean     5.932789e-01\n",
              "std      1.280786e+00\n",
              "min      6.906205e-10\n",
              "25%      3.775540e-02\n",
              "50%      1.961224e-01\n",
              "75%      5.991571e-01\n",
              "max      3.779512e+01\n",
              "Name: logingreso, dtype: float64"
            ]
          },
          "metadata": {
            "tags": []
          },
          "execution_count": 18
        }
      ]
    },
    {
      "cell_type": "code",
      "metadata": {
        "id": "BDcE_OXPE3gM",
        "outputId": "a34b90c3-4b8b-4787-83c9-78c5c17c50a7",
        "colab": {
          "base_uri": "https://localhost:8080/",
          "height": 175
        }
      },
      "source": [
        "residuos.describe()"
      ],
      "execution_count": null,
      "outputs": [
        {
          "output_type": "execute_result",
          "data": {
            "text/plain": [
              "count    1.008200e+04\n",
              "mean    -2.794740e-15\n",
              "std      7.702842e-01\n",
              "min     -6.147774e+00\n",
              "25%     -3.715081e-01\n",
              "50%      8.090569e-02\n",
              "75%      4.910087e-01\n",
              "max      2.984093e+00\n",
              "Name: logingreso, dtype: float64"
            ]
          },
          "metadata": {
            "tags": []
          },
          "execution_count": 19
        }
      ]
    },
    {
      "cell_type": "markdown",
      "metadata": {
        "id": "l8MelTxsLrzq"
      },
      "source": [
        "# Cómo son los residuos (errores estimados) en mis datos?\n"
      ]
    },
    {
      "cell_type": "code",
      "metadata": {
        "id": "n4sZ7Av3LnnM",
        "outputId": "5c988d9f-efd8-43b7-977f-bfc6864bc4e5",
        "colab": {
          "base_uri": "https://localhost:8080/",
          "height": 283
        }
      },
      "source": [
        "residuos.hist()"
      ],
      "execution_count": null,
      "outputs": [
        {
          "output_type": "execute_result",
          "data": {
            "text/plain": [
              "<matplotlib.axes._subplots.AxesSubplot at 0x7fade41c3390>"
            ]
          },
          "metadata": {
            "tags": []
          },
          "execution_count": 25
        },
        {
          "output_type": "display_data",
          "data": {
            "image/png": "[encoded data removed]",
            "text/plain": [
              "<Figure size 432x288 with 1 Axes>"
            ]
          },
          "metadata": {
            "tags": [],
            "needs_background": "light"
          }
        }
      ]
    },
    {
      "cell_type": "markdown",
      "source": [
        "# Generando dummies\n",
        "\n"
      ],
      "metadata": {
        "id": "FWdEKErkHfuG"
      }
    },
    {
      "cell_type": "code",
      "source": [
        "\n",
        "#Metodo 1: Indico 0 para todos y luego reemplazo para mujer\n",
        "df['dmujer']=0\n",
        "# sintaxis para reemplazar conjunto de observaciones\n",
        "df.loc[df['sexo']=='mujer','dmujer']=1"
      ],
      "metadata": {
        "id": "9GFA8BWdHRUp"
      },
      "execution_count": null,
      "outputs": []
    },
    {
      "cell_type": "code",
      "source": [
        "res.fittedvalues"
      ],
      "metadata": {
        "id": "3CRpPLZQKmbG",
        "outputId": "6a19e45a-434e-41e5-8a89-d6ffc662570d",
        "colab": {
          "base_uri": "https://localhost:8080/"
        }
      },
      "execution_count": 33,
      "outputs": [
        {
          "output_type": "execute_result",
          "data": {
            "text/plain": [
              "0        11.352257\n",
              "1        11.379237\n",
              "2        11.298298\n",
              "3        11.379237\n",
              "4        11.379237\n",
              "           ...    \n",
              "12496    11.055481\n",
              "12497    11.136420\n",
              "12498    11.136420\n",
              "12499    11.244339\n",
              "12500    11.379237\n",
              "Length: 9105, dtype: float64"
            ]
          },
          "metadata": {},
          "execution_count": 33
        }
      ]
    },
    {
      "cell_type": "code",
      "source": [
        "import matplotlib.pyplot as plt\n",
        "import statsmodels.api as sm\n"
      ],
      "metadata": {
        "id": "vV4FGZ-PK2Gm"
      },
      "execution_count": null,
      "outputs": []
    },
    {
      "cell_type": "code",
      "source": [
        "# Assuming 'res' is your fitted regression model\n",
        "residuals = res.resid\n",
        "fitted_values = res.fittedvalues\n",
        "\n",
        "plt.scatter(fitted_values, residuals)\n",
        "plt.xlabel('Fitted Values')\n",
        "plt.ylabel('Residuals')\n",
        "plt.title('Residuals vs Fitted Values')\n",
        "plt.axhline(y=0, color='gray', linestyle='--')  # Add horizontal line at y=0\n",
        "plt.show()"
      ],
      "metadata": {
        "id": "S12oRq0WKlc6",
        "outputId": "1b8eb159-abac-4a5b-dd34-e7545e4a8860",
        "colab": {
          "base_uri": "https://localhost:8080/",
          "height": 472
        }
      },
      "execution_count": 41,
      "outputs": [
        {
          "output_type": "display_data",
          "data": {
            "text/plain": [
              "<Figure size 640x480 with 1 Axes>"
            ],
            "image/png": "[encoded data removed]"
          },
          "metadata": {}
        }
      ]
    },
    {
      "cell_type": "markdown",
      "source": [
        "## Test de White\n",
        "Utilizamos p-value del LM-Test  que es el  p-value para la hipotesis nula de que la varianza del error es homocedastica\n"
      ],
      "metadata": {
        "id": "bJ-naTj4L9QV"
      }
    },
    {
      "cell_type": "code",
      "source": [
        "from statsmodels.stats.diagnostic import het_white\n",
        "from statsmodels.compat import lzip\n",
        "\n",
        "# Assuming 'model' is your fitted regression model\n",
        "white_test_results = het_white(res.resid, res.model.exog)\n",
        "\n",
        "print(\"White Test Results:\")\n",
        "print(\"LM Statistic:\", white_test_results[0])\n",
        "print(\"LM-Test p-value:\", white_test_results[1])\n"
      ],
      "metadata": {
        "id": "F6QPyK4ILaKZ",
        "outputId": "90cba9cb-6963-4c13-9440-3f238101d8f0",
        "colab": {
          "base_uri": "https://localhost:8080/"
        }
      },
      "execution_count": 43,
      "outputs": [
        {
          "output_type": "stream",
          "name": "stdout",
          "text": [
            "White Test Results:\n",
            "LM Statistic: 47.45738589877808\n",
            "LM-Test p-value: 4.951760022798933e-11\n",
            "F-Test p-value: 23.84571670805163\n"
          ]
        }
      ]
    },
    {
      "cell_type": "markdown",
      "source": [
        "# Heterocedasticidad\n",
        "\n",
        "Para los ajustes a los errores estándares por heterocedasticidad, usamos los errores robustos tipicamente denotados HC0-HC3\n"
      ],
      "metadata": {
        "id": "bHl2quhBJzmi"
      }
    },
    {
      "cell_type": "code",
      "source": [
        "https://jslsoc.sitehost.iu.edu/files_research/testing_tests/hccm/00TAS.pdf"
      ],
      "metadata": {
        "id": "ANPvGmq0Jtgj"
      },
      "execution_count": null,
      "outputs": []
    },
    {
      "cell_type": "code",
      "source": [
        "mod = smf.ols(formula='logingreso ~ aesc', data=df, )\n",
        "\n",
        "res = mod.fit(cov_type='HC0')\n",
        "\n",
        "print(res.summary())\n"
      ],
      "metadata": {
        "id": "DR8pXlMiJEm3",
        "outputId": "e3e205ba-3d22-4a6b-eeb3-4411fe16220a",
        "colab": {
          "base_uri": "https://localhost:8080/"
        }
      },
      "execution_count": 32,
      "outputs": [
        {
          "output_type": "stream",
          "name": "stdout",
          "text": [
            "                            OLS Regression Results                            \n",
            "==============================================================================\n",
            "Dep. Variable:             logingreso   R-squared:                       0.043\n",
            "Model:                            OLS   Adj. R-squared:                  0.043\n",
            "Method:                 Least Squares   F-statistic:                     50.11\n",
            "Date:                Tue, 17 Oct 2023   Prob (F-statistic):           1.56e-12\n",
            "Time:                        01:02:50   Log-Likelihood:                -11789.\n",
            "No. Observations:                9105   AIC:                         2.358e+04\n",
            "Df Residuals:                    9103   BIC:                         2.360e+04\n",
            "Df Model:                           1                                         \n",
            "Covariance Type:                  HC0                                         \n",
            "==============================================================================\n",
            "                 coef    std err          z      P>|z|      [0.025      0.975]\n",
            "------------------------------------------------------------------------------\n",
            "Intercept     11.0555      0.051    217.827      0.000      10.956      11.155\n",
            "aesc           0.0270      0.004      7.079      0.000       0.020       0.034\n",
            "==============================================================================\n",
            "Omnibus:                     1434.685   Durbin-Watson:                   1.586\n",
            "Prob(Omnibus):                  0.000   Jarque-Bera (JB):             3194.002\n",
            "Skew:                          -0.923   Prob(JB):                         0.00\n",
            "Kurtosis:                       5.239   Cond. No.                         33.6\n",
            "==============================================================================\n",
            "\n",
            "Notes:\n",
            "[1] Standard Errors are heteroscedasticity robust (HC0)\n"
          ]
        }
      ]
    }
  ]
}