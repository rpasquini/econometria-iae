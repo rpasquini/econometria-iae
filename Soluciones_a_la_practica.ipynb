{
  "nbformat": 4,
  "nbformat_minor": 0,
  "metadata": {
    "colab": {
      "name": "Soluciones a la practica.ipynb",
      "provenance": [],
      "include_colab_link": true
    },
    "kernelspec": {
      "name": "python3",
      "display_name": "Python 3"
    }
  },
  "cells": [
    {
      "cell_type": "markdown",
      "metadata": {
        "id": "view-in-github",
        "colab_type": "text"
      },
      "source": [
        "<a href=\"https://colab.research.google.com/github/rpasquini/herramientas-econometricas/blob/main/Soluciones_a_la_practica.ipynb\" target=\"_parent\"><img src=\"https://colab.research.google.com/assets/colab-badge.svg\" alt=\"Open In Colab\"/></a>"
      ]
    },
    {
      "cell_type": "markdown",
      "metadata": {
        "id": "fBSdH6zkVjbj"
      },
      "source": [
        "## Soluciones Guía de Ejercicios Práctica\n",
        "\n",
        "\n"
      ]
    },
    {
      "cell_type": "code",
      "metadata": {
        "id": "_qh-8X7Lbx15",
        "colab": {
          "base_uri": "https://localhost:8080/"
        },
        "outputId": "cee1cba0-cfb0-4ed0-d84a-6949802ef4e4"
      },
      "source": [
        "!pip install geopandas\n",
        "import geopandas as gpd"
      ],
      "execution_count": 3,
      "outputs": [
        {
          "output_type": "stream",
          "text": [
            "Collecting geopandas\n",
            "\u001b[?25l  Downloading https://files.pythonhosted.org/packages/f7/a4/e66aafbefcbb717813bf3a355c8c4fc3ed04ea1dd7feb2920f2f4f868921/geopandas-0.8.1-py2.py3-none-any.whl (962kB)\n",
            "\u001b[K     |████████████████████████████████| 972kB 11.5MB/s \n",
            "\u001b[?25hCollecting pyproj>=2.2.0\n",
            "\u001b[?25l  Downloading https://files.pythonhosted.org/packages/e4/ab/280e80a67cfc109d15428c0ec56391fc03a65857b7727cf4e6e6f99a4204/pyproj-3.0.0.post1-cp36-cp36m-manylinux2010_x86_64.whl (6.4MB)\n",
            "\u001b[K     |████████████████████████████████| 6.5MB 50.2MB/s \n",
            "\u001b[?25hRequirement already satisfied: pandas>=0.23.0 in /usr/local/lib/python3.6/dist-packages (from geopandas) (1.1.4)\n",
            "Requirement already satisfied: shapely in /usr/local/lib/python3.6/dist-packages (from geopandas) (1.7.1)\n",
            "Collecting fiona\n",
            "\u001b[?25l  Downloading https://files.pythonhosted.org/packages/37/94/4910fd55246c1d963727b03885ead6ef1cd3748a465f7b0239ab25dfc9a3/Fiona-1.8.18-cp36-cp36m-manylinux1_x86_64.whl (14.8MB)\n",
            "\u001b[K     |████████████████████████████████| 14.8MB 43.4MB/s \n",
            "\u001b[?25hRequirement already satisfied: certifi in /usr/local/lib/python3.6/dist-packages (from pyproj>=2.2.0->geopandas) (2020.11.8)\n",
            "Requirement already satisfied: pytz>=2017.2 in /usr/local/lib/python3.6/dist-packages (from pandas>=0.23.0->geopandas) (2018.9)\n",
            "Requirement already satisfied: python-dateutil>=2.7.3 in /usr/local/lib/python3.6/dist-packages (from pandas>=0.23.0->geopandas) (2.8.1)\n",
            "Requirement already satisfied: numpy>=1.15.4 in /usr/local/lib/python3.6/dist-packages (from pandas>=0.23.0->geopandas) (1.18.5)\n",
            "Collecting munch\n",
            "  Downloading https://files.pythonhosted.org/packages/cc/ab/85d8da5c9a45e072301beb37ad7f833cd344e04c817d97e0cc75681d248f/munch-2.5.0-py2.py3-none-any.whl\n",
            "Collecting cligj>=0.5\n",
            "  Downloading https://files.pythonhosted.org/packages/42/1e/947eadf10d6804bf276eb8a038bd5307996dceaaa41cfd21b7a15ec62f5d/cligj-0.7.1-py3-none-any.whl\n",
            "Requirement already satisfied: click<8,>=4.0 in /usr/local/lib/python3.6/dist-packages (from fiona->geopandas) (7.1.2)\n",
            "Requirement already satisfied: attrs>=17 in /usr/local/lib/python3.6/dist-packages (from fiona->geopandas) (20.3.0)\n",
            "Requirement already satisfied: six>=1.7 in /usr/local/lib/python3.6/dist-packages (from fiona->geopandas) (1.15.0)\n",
            "Collecting click-plugins>=1.0\n",
            "  Downloading https://files.pythonhosted.org/packages/e9/da/824b92d9942f4e472702488857914bdd50f73021efea15b4cad9aca8ecef/click_plugins-1.1.1-py2.py3-none-any.whl\n",
            "Installing collected packages: pyproj, munch, cligj, click-plugins, fiona, geopandas\n",
            "Successfully installed click-plugins-1.1.1 cligj-0.7.1 fiona-1.8.18 geopandas-0.8.1 munch-2.5.0 pyproj-3.0.0.post1\n"
          ],
          "name": "stdout"
        }
      ]
    },
    {
      "cell_type": "markdown",
      "metadata": {
        "id": "DVt0_yTm1LNg"
      },
      "source": [
        "# Cargando los datos de departamentos\n",
        "Los datos a analizar son los datos de anuncios de alquiler para el período mayo-2019 mayo2020. Provienen de [Properati data](https://www.properati.com.ar/data/)"
      ]
    },
    {
      "cell_type": "code",
      "metadata": {
        "id": "xCDRkwNVVjGS"
      },
      "source": [
        "data=gpd.GeoDataFrame.from_file(\"https://github.com/rpasquini/urban-econometrics/blob/master/data/deptos_amba_0519_0520.zip?raw=true\")"
      ],
      "execution_count": 5,
      "outputs": []
    },
    {
      "cell_type": "markdown",
      "metadata": {
        "id": "6X0tXx2KVtKZ"
      },
      "source": [
        "# Descripción de los datos que utilizará en el trabajo\n",
        "\n",
        "\n",
        "\n",
        "*price*: alquiler mensual en pesos. \\\n",
        "*balcon*: True si tiene anuncio menciona que el departamento tiene balcón. \\\n",
        "*terraza*:\tTrue si tiene anuncio menciona que el departamento tiene terraza. \\\n",
        "*amenities*: True si tiene anuncio menciona que el departamento tiene amenities (SUM, pileta, parrilla). \\\n",
        "*distanciaCBD*: Distancia al Obelisco en metros. \\\n",
        "*adjustedprice*: Alquier mensual a valores de Mayo 2019 (ajustado por inflación) \\\n",
        "*postcovid*: Dummy igual a 1 si el dato es posterior a 15 de Marzo 2020 \\\n",
        "*l2*: Variable categórica de macro regiones, incluye: 'Capital Federal', 'Bs.As. G.B.A. Zona Norte', 'Bs.As. G.B.A. Zona Sur', 'Bs.As. G.B.A. Zona Oeste', 'Buenos Aires Interior'\n"
      ]
    },
    {
      "cell_type": "code",
      "metadata": {
        "id": "Mz2voUZkqJxm",
        "colab": {
          "base_uri": "https://localhost:8080/",
          "height": 609
        },
        "outputId": "40220cd8-d6f0-4d33-91be-3a216fdccb48"
      },
      "source": [
        "\n",
        "# Podemos ver que los datos se corresponden con el AMBA\n",
        "data.plot(alpha=0.2, figsize=(20, 10))"
      ],
      "execution_count": 6,
      "outputs": [
        {
          "output_type": "execute_result",
          "data": {
            "text/plain": [
              "<matplotlib.axes._subplots.AxesSubplot at 0x7f8ac07385c0>"
            ]
          },
          "metadata": {
            "tags": []
          },
          "execution_count": 6
        },
        {
          "output_type": "display_data",
          "data": {
            "image/png": "[encoded data removed]",
            "text/plain": [
              "<Figure size 1440x720 with 1 Axes>"
            ]
          },
          "metadata": {
            "tags": [],
            "needs_background": "light"
          }
        }
      ]
    },
    {
      "cell_type": "code",
      "metadata": {
        "colab": {
          "base_uri": "https://localhost:8080/"
        },
        "id": "6ipPEdGMdqnU",
        "outputId": "093ccdb6-d403-4f97-d1b8-4ecdd635507c"
      },
      "source": [
        "data.columns"
      ],
      "execution_count": 8,
      "outputs": [
        {
          "output_type": "execute_result",
          "data": {
            "text/plain": [
              "Index(['Unnamed_ 0', 'type', 'type_i18n', 'country', 'id', 'start_date',\n",
              "       'end_date', 'created_on', 'place', 'developmen', 'operation',\n",
              "       'operation_', 'type.1', 'type_i18n.', 'rooms', 'bedrooms', 'bathrooms',\n",
              "       'surface_to', 'surface_co', 'price', 'currency', 'price_peri', 'title',\n",
              "       'descriptio', 'lat', 'lon', 'l1', 'l2', 'l3', 'l4', 'l5', 'l6',\n",
              "       'balcon', 'terraza', 'amenities', 'patio', 'distanciaC', 'adjustedpr',\n",
              "       'postcovid', 'geometry'],\n",
              "      dtype='object')"
            ]
          },
          "metadata": {
            "tags": []
          },
          "execution_count": 8
        }
      ]
    },
    {
      "cell_type": "markdown",
      "metadata": {
        "id": "owQX-KE8Wb5m"
      },
      "source": [
        "# Pregunta 1\n",
        "Vamos a indagar una de las proposiciones de la teoría de la aglomeración, en este caso que la cercanía al centro de negocios del aglomerado estará relacionado al precio del alquiler.  Propondremos un modelo econométrico.  \n",
        "\n",
        "Estime el siguiente modelo de regresión simple: \n",
        "\n",
        "$$price=\\beta_0+\\beta_1 distanciaCBD_i+\\epsilon_i$$\n",
        "\n",
        "\\\n",
        "1. ¿Qué valor obtuvo para los coeficientes $\\beta_0$ y $\\beta_1$? ¿Qué significan estos valores? Interprete.\n"
      ]
    },
    {
      "cell_type": "code",
      "metadata": {
        "id": "NXmGEhzZofoH",
        "colab": {
          "base_uri": "https://localhost:8080/"
        },
        "outputId": "fb6af94e-1e8c-4b52-92fd-e714f9cd7a21"
      },
      "source": [
        "import statsmodels.api as sm\n",
        "def regress(lista, data):\n",
        "  \"\"\" \n",
        "  Funcion que realiza la regresion OLS\n",
        "  La primera variable de la lista es la dependiente, el resto son las explicativas\n",
        "  data es la base de datos\n",
        "  \"\"\"\n",
        "  datos=data[lista]\n",
        "  # el metodo dropna() me permite eliminar las filas que tienen algun valor missing\n",
        "  datos=datos.dropna()\n",
        "  Y=datos[lista[0]]\n",
        "  X=datos[lista[1:]]\n",
        "  X=sm.add_constant(X)\n",
        "  modelo=sm.OLS(Y,X)\n",
        "  resultados=modelo.fit()\n",
        "  print(resultados.summary())\n",
        "  return resultados"
      ],
      "execution_count": 12,
      "outputs": [
        {
          "output_type": "stream",
          "text": [
            "/usr/local/lib/python3.6/dist-packages/statsmodels/tools/_testing.py:19: FutureWarning: pandas.util.testing is deprecated. Use the functions in the public API at pandas.testing instead.\n",
            "  import pandas.util.testing as tm\n"
          ],
          "name": "stderr"
        }
      ]
    },
    {
      "cell_type": "code",
      "metadata": {
        "id": "oJDfi6Oaufi9",
        "colab": {
          "base_uri": "https://localhost:8080/"
        },
        "outputId": "2b154cc3-ca7d-411b-bcc6-4a3893ac1f6f"
      },
      "source": [
        "resultados=regress(['price', 'distanciaC'], data=data)"
      ],
      "execution_count": 19,
      "outputs": [
        {
          "output_type": "stream",
          "text": [
            "                            OLS Regression Results                            \n",
            "==============================================================================\n",
            "Dep. Variable:                  price   R-squared:                       0.015\n",
            "Model:                            OLS   Adj. R-squared:                  0.015\n",
            "Method:                 Least Squares   F-statistic:                     352.2\n",
            "Date:                Wed, 25 Nov 2020   Prob (F-statistic):           5.36e-78\n",
            "Time:                        22:27:25   Log-Likelihood:            -2.5820e+05\n",
            "No. Observations:               23135   AIC:                         5.164e+05\n",
            "Df Residuals:                   23133   BIC:                         5.164e+05\n",
            "Df Model:                           1                                         \n",
            "Covariance Type:            nonrobust                                         \n",
            "==============================================================================\n",
            "                 coef    std err          t      P>|t|      [0.025      0.975]\n",
            "------------------------------------------------------------------------------\n",
            "const       2.595e+04    160.807    161.348      0.000    2.56e+04    2.63e+04\n",
            "distanciaC    -0.1737      0.009    -18.767      0.000      -0.192      -0.156\n",
            "==============================================================================\n",
            "Omnibus:                    17796.430   Durbin-Watson:                   1.571\n",
            "Prob(Omnibus):                  0.000   Jarque-Bera (JB):           425415.714\n",
            "Skew:                           3.553   Prob(JB):                         0.00\n",
            "Kurtosis:                      22.769   Cond. No.                     2.50e+04\n",
            "==============================================================================\n",
            "\n",
            "Warnings:\n",
            "[1] Standard Errors assume that the covariance matrix of the errors is correctly specified.\n",
            "[2] The condition number is large, 2.5e+04. This might indicate that there are\n",
            "strong multicollinearity or other numerical problems.\n"
          ],
          "name": "stdout"
        }
      ]
    },
    {
      "cell_type": "markdown",
      "metadata": {
        "id": "Z0CxoLvItZCJ"
      },
      "source": [
        "$\\beta_0$ es la constante que representa un valor de base para los alquileres ($ 25.950). Es una proyeccion porque el valor exacto se corresponde con una distancia de 0 al obelisco.  \\\\\n",
        "\n",
        "$\\beta_1$ es el efecto de estar a distancia del centro, el cual impacta negativamente en el valor del alquiler en 17 centavos por metro o 173 pesos por kilómetro. \n"
      ]
    },
    {
      "cell_type": "markdown",
      "metadata": {
        "id": "OVJJqKtDe1gj"
      },
      "source": [
        "# Pregunta 2\n",
        "¿Qué dicen los tests estadísticos de los coeficientes individuales de $\\beta_0$ y $\\beta_1$? ¿Cómo se interpreta la significancia estadística en este caso?\n",
        "\n"
      ]
    },
    {
      "cell_type": "markdown",
      "metadata": {
        "id": "tflLebLlsoYT"
      },
      "source": [
        "Los tests estadísticos para los coeficientesde βo y  β1 arrojan ambos un Pvalor cercano a 0 (0.000). Por lo tanto, la probabilidad de  los valores encontrados es casi nula cuando se asume que los valores poblacionales son 0.  Por lo tanto rechazamos la hipotesis nula. Concluimos que ambos efectos son significativos en términos estadísticos."
      ]
    },
    {
      "cell_type": "markdown",
      "metadata": {
        "id": "T3y2b9WyfIVQ"
      },
      "source": [
        "# Pregunta 3"
      ]
    },
    {
      "cell_type": "markdown",
      "metadata": {
        "id": "T7kgXVHse4gM"
      },
      "source": [
        "¿Qué opina sobre la magnitud del coeficiente estimado para el efecto de la distancia, es económicamente importante?"
      ]
    },
    {
      "cell_type": "markdown",
      "metadata": {
        "id": "YLfbyNZqxznV"
      },
      "source": [
        "\n",
        "Esta pregunta puede no tener una respuesta única. \n",
        "\n",
        "Una forma de verlo es que el coeficiente estimado para el efecto de la distancia no es economicamente importante, ya que cada kilómetro de distancia del centro en promedio representaría $ 173, y esto parece insignificante ante un alquiler mediano de $19000.\n",
        "\n",
        "Una cuenta más acorde a los datos es considerar que el desvio estandar de la distancia es 12 kilometros. Con lo cual una desviacion promedio de distancia representa un efecto de $2076. Eso equivale a un 12% de un desvio estandar del valor del alquiler, lo cual es una magnitud baja pero no insignificante.\n",
        "\n"
      ]
    },
    {
      "cell_type": "code",
      "metadata": {
        "colab": {
          "base_uri": "https://localhost:8080/"
        },
        "id": "M8YWq-a3ggp_",
        "outputId": "dbd1bc74-f8bd-4bac-8963-1b4a157e3f68"
      },
      "source": [
        "(12*173)/17141"
      ],
      "execution_count": 17,
      "outputs": [
        {
          "output_type": "execute_result",
          "data": {
            "text/plain": [
              "0.12111312058806371"
            ]
          },
          "metadata": {
            "tags": []
          },
          "execution_count": 17
        }
      ]
    },
    {
      "cell_type": "code",
      "metadata": {
        "colab": {
          "base_uri": "https://localhost:8080/"
        },
        "id": "Dcgqr-yVfkbn",
        "outputId": "baa7cbd0-b6a1-4035-d356-9db8d1bd8a2d"
      },
      "source": [
        "data.distanciaC.describe()"
      ],
      "execution_count": 15,
      "outputs": [
        {
          "output_type": "execute_result",
          "data": {
            "text/plain": [
              "count    23135.000000\n",
              "mean     12482.748480\n",
              "std      12085.787125\n",
              "min         36.308455\n",
              "25%       3707.954303\n",
              "50%       7839.973435\n",
              "75%      17268.609815\n",
              "max      65739.264105\n",
              "Name: distanciaC, dtype: float64"
            ]
          },
          "metadata": {
            "tags": []
          },
          "execution_count": 15
        }
      ]
    },
    {
      "cell_type": "code",
      "metadata": {
        "colab": {
          "base_uri": "https://localhost:8080/"
        },
        "id": "xwMjLwv1facD",
        "outputId": "c700fb9c-5ef1-4544-9796-a7d92f2b5692"
      },
      "source": [
        "data.price.describe()"
      ],
      "execution_count": 14,
      "outputs": [
        {
          "output_type": "execute_result",
          "data": {
            "text/plain": [
              "count     23135.000000\n",
              "mean      23777.665485\n",
              "std       17141.968480\n",
              "min        6200.000000\n",
              "25%       14000.000000\n",
              "50%       19000.000000\n",
              "75%       27000.000000\n",
              "max      195000.000000\n",
              "Name: price, dtype: float64"
            ]
          },
          "metadata": {
            "tags": []
          },
          "execution_count": 14
        }
      ]
    },
    {
      "cell_type": "markdown",
      "metadata": {
        "id": "G5X5-8PufPpO"
      },
      "source": [
        "# Pregunta 4\n"
      ]
    },
    {
      "cell_type": "markdown",
      "metadata": {
        "id": "yZBbSImmLQ41"
      },
      "source": [
        "En base a los resultados de su estimación, realice una predicción del valor de alquiler de un departamento ubicado a 1km, a 5km y a 10km del Obelisco \n",
        "\n"
      ]
    },
    {
      "cell_type": "code",
      "metadata": {
        "id": "uh4KEjQx_0-U",
        "colab": {
          "base_uri": "https://localhost:8080/"
        },
        "outputId": "18a6d19d-184b-4ba3-af70-92c958b3e09f"
      },
      "source": [
        "resultados.params['const']+resultados.params['distanciaC']*1000"
      ],
      "execution_count": null,
      "outputs": [
        {
          "output_type": "execute_result",
          "data": {
            "text/plain": [
              "25772.12803627377"
            ]
          },
          "metadata": {
            "tags": []
          },
          "execution_count": 24
        }
      ]
    },
    {
      "cell_type": "code",
      "metadata": {
        "id": "1Bnj-umzAClZ",
        "colab": {
          "base_uri": "https://localhost:8080/"
        },
        "outputId": "fb9fc8b0-dd4c-49f2-ac5a-4ca16aec83db"
      },
      "source": [
        "resultados.params['const']+resultados.params['distanciaC']*5000"
      ],
      "execution_count": null,
      "outputs": [
        {
          "output_type": "execute_result",
          "data": {
            "text/plain": [
              "25077.35968719401"
            ]
          },
          "metadata": {
            "tags": []
          },
          "execution_count": 25
        }
      ]
    },
    {
      "cell_type": "code",
      "metadata": {
        "id": "VUHgKm_pAMMd",
        "colab": {
          "base_uri": "https://localhost:8080/"
        },
        "outputId": "14a8bec1-5a7f-45f3-98b5-a69519f6a315"
      },
      "source": [
        "resultados.params['const']+resultados.params['distanciaC']*10000"
      ],
      "execution_count": null,
      "outputs": [
        {
          "output_type": "execute_result",
          "data": {
            "text/plain": [
              "24208.899250844308"
            ]
          },
          "metadata": {
            "tags": []
          },
          "execution_count": 26
        }
      ]
    },
    {
      "cell_type": "markdown",
      "metadata": {
        "id": "NChEDX9XXERS"
      },
      "source": [
        "# Pregunta 5 \n",
        "\n",
        "Compute y analice gráficamente los residuos estimados para el modelo que ajustó en el\n",
        "punto anterior. Luego responda, explicando sus resultados:\n",
        "a. ¿Aparentan los errores del modelo seguir una distribución normal?\n",
        "b. ¿Tiene alguna implicancia el diagnostico de los errores en la interpretacion del modelo? ¿En qué parte?\n"
      ]
    },
    {
      "cell_type": "code",
      "metadata": {
        "id": "rrlOPnHqC1U0"
      },
      "source": [
        "residuos=resultados.resid"
      ],
      "execution_count": 23,
      "outputs": []
    },
    {
      "cell_type": "code",
      "metadata": {
        "colab": {
          "base_uri": "https://localhost:8080/",
          "height": 283
        },
        "id": "veLsMY-xhY5s",
        "outputId": "225e4a47-a194-4ce1-b083-e660ae917e31"
      },
      "source": [
        "residuos.hist()"
      ],
      "execution_count": 24,
      "outputs": [
        {
          "output_type": "execute_result",
          "data": {
            "text/plain": [
              "<matplotlib.axes._subplots.AxesSubplot at 0x7f8abf539f28>"
            ]
          },
          "metadata": {
            "tags": []
          },
          "execution_count": 24
        },
        {
          "output_type": "display_data",
          "data": {
            "image/png": "[encoded data removed]",
            "text/plain": [
              "<Figure size 432x288 with 1 Axes>"
            ]
          },
          "metadata": {
            "tags": [],
            "needs_background": "light"
          }
        }
      ]
    },
    {
      "cell_type": "markdown",
      "metadata": {
        "id": "efnuqW51JwVY"
      },
      "source": [
        "Los errores NO aparentan seguir una distribución normal.\n",
        "El diagnóstico de los residuos tiene implicancias en la interpretación del modelo. Si los errores siguen una distribución normal, estos tienden a corregirse conforme se aumente el tamaño de la muestra. Si el tamaño de la muestra de la que disponemos es suficientemente grande, nos sería indiferente que los errores siguieran una distribución normal. \n"
      ]
    },
    {
      "cell_type": "markdown",
      "metadata": {
        "id": "pDgsyak60xrA"
      },
      "source": [
        "# Pregunta 6\n",
        "\n",
        "¿Puede proponer alguna transformación al modelo que mejore el cumplimiento del supuesto de normalidad de los errores? Reestime el modelo.\n"
      ]
    },
    {
      "cell_type": "code",
      "metadata": {
        "id": "lhb7l0yxLV7e"
      },
      "source": [
        "import numpy as np\n",
        "data['logprice']=np.log(data['price'])"
      ],
      "execution_count": 26,
      "outputs": []
    },
    {
      "cell_type": "code",
      "metadata": {
        "id": "HCKpyQ5zLah9",
        "colab": {
          "base_uri": "https://localhost:8080/",
          "height": 283
        },
        "outputId": "3a5c020f-e859-49bd-d2f1-46540126bc64"
      },
      "source": [
        "data['logprice'].hist()"
      ],
      "execution_count": 27,
      "outputs": [
        {
          "output_type": "execute_result",
          "data": {
            "text/plain": [
              "<matplotlib.axes._subplots.AxesSubplot at 0x7f8abf4b7eb8>"
            ]
          },
          "metadata": {
            "tags": []
          },
          "execution_count": 27
        },
        {
          "output_type": "display_data",
          "data": {
            "image/png": "[encoded data removed]",
            "text/plain": [
              "<Figure size 432x288 with 1 Axes>"
            ]
          },
          "metadata": {
            "tags": [],
            "needs_background": "light"
          }
        }
      ]
    },
    {
      "cell_type": "code",
      "metadata": {
        "id": "jxuYSCRjLnhn",
        "colab": {
          "base_uri": "https://localhost:8080/"
        },
        "outputId": "c3726fa7-0f2a-47cb-bfa3-70a4b24fbc13"
      },
      "source": [
        "resultados=regress(['logprice', 'distanciaC'], data=data)"
      ],
      "execution_count": 28,
      "outputs": [
        {
          "output_type": "stream",
          "text": [
            "                            OLS Regression Results                            \n",
            "==============================================================================\n",
            "Dep. Variable:               logprice   R-squared:                       0.022\n",
            "Model:                            OLS   Adj. R-squared:                  0.022\n",
            "Method:                 Least Squares   F-statistic:                     520.2\n",
            "Date:                Wed, 25 Nov 2020   Prob (F-statistic):          7.07e-114\n",
            "Time:                        22:30:40   Log-Likelihood:                -17683.\n",
            "No. Observations:               23135   AIC:                         3.537e+04\n",
            "Df Residuals:                   23133   BIC:                         3.539e+04\n",
            "Df Model:                           1                                         \n",
            "Covariance Type:            nonrobust                                         \n",
            "==============================================================================\n",
            "                 coef    std err          t      P>|t|      [0.025      0.975]\n",
            "------------------------------------------------------------------------------\n",
            "const          9.9977      0.005   2035.402      0.000       9.988      10.007\n",
            "distanciaC -6.448e-06   2.83e-07    -22.807      0.000      -7e-06   -5.89e-06\n",
            "==============================================================================\n",
            "Omnibus:                     2118.262   Durbin-Watson:                   1.401\n",
            "Prob(Omnibus):                  0.000   Jarque-Bera (JB):             2857.705\n",
            "Skew:                           0.765   Prob(JB):                         0.00\n",
            "Kurtosis:                       3.789   Cond. No.                     2.50e+04\n",
            "==============================================================================\n",
            "\n",
            "Warnings:\n",
            "[1] Standard Errors assume that the covariance matrix of the errors is correctly specified.\n",
            "[2] The condition number is large, 2.5e+04. This might indicate that there are\n",
            "strong multicollinearity or other numerical problems.\n"
          ],
          "name": "stdout"
        }
      ]
    },
    {
      "cell_type": "code",
      "metadata": {
        "id": "2brkkABPNmYy",
        "colab": {
          "base_uri": "https://localhost:8080/",
          "height": 283
        },
        "outputId": "6130acdc-4cc4-4c2e-f0da-e21fe32b74d2"
      },
      "source": [
        "data['residuos2']=resultados.resid\n",
        "data['residuos2'].hist()"
      ],
      "execution_count": 35,
      "outputs": [
        {
          "output_type": "execute_result",
          "data": {
            "text/plain": [
              "<matplotlib.axes._subplots.AxesSubplot at 0x7f8abf42b470>"
            ]
          },
          "metadata": {
            "tags": []
          },
          "execution_count": 35
        },
        {
          "output_type": "display_data",
          "data": {
            "image/png": "[encoded data removed]",
            "text/plain": [
              "<Figure size 432x288 with 1 Axes>"
            ]
          },
          "metadata": {
            "tags": [],
            "needs_background": "light"
          }
        }
      ]
    },
    {
      "cell_type": "code",
      "metadata": {
        "id": "ku3zKUlaNp2t",
        "colab": {
          "base_uri": "https://localhost:8080/",
          "height": 283
        },
        "outputId": "d0e29e81-f8e9-4051-9146-3ba506b42cbf"
      },
      "source": [
        "import matplotlib.pyplot as plt\n",
        "plt.scatter(data.distanciaC,data.residuos2)"
      ],
      "execution_count": 36,
      "outputs": [
        {
          "output_type": "execute_result",
          "data": {
            "text/plain": [
              "<matplotlib.collections.PathCollection at 0x7f8abf40eac8>"
            ]
          },
          "metadata": {
            "tags": []
          },
          "execution_count": 36
        },
        {
          "output_type": "display_data",
          "data": {
            "image/png": "[encoded data removed]",
            "text/plain": [
              "<Figure size 432x288 with 1 Axes>"
            ]
          },
          "metadata": {
            "tags": [],
            "needs_background": "light"
          }
        }
      ]
    },
    {
      "cell_type": "markdown",
      "metadata": {
        "id": "2Ci5sd1LMZge"
      },
      "source": [
        "Por medio de la transformación logarítmica mejoramos el cumplimiento de normalidad de los errores. Reestimado el modelo, obtenemos nuevos valores para β1, el cual aqui se expresa de forma porcentual (0.064), es decir un 6.4 porciento negativo. Se observa también que el valor de R2 mejora levemente de 0.015 anteriormente a 0.022. Es decir mejoró levemente la explicación del valor del alquiler como resultado del factor distancia del centro (la explicación de la variabilidad mejoró levemente, aunque sigue siendo muy baja). Es decir, el modelo solo explica la variabilidad del valor de los alquileres en un 2.2 porciento."
      ]
    },
    {
      "cell_type": "markdown",
      "metadata": {
        "id": "4oHJFi5Bg-bb"
      },
      "source": [
        "# Pregunta 7\n",
        "\n",
        "\n",
        "La variable 'l2' en la base de datos presenta información sobre macro areas de pertenencia de las observaciones, separando en los siguientes grupos:\n",
        "\n",
        "'Capital Federal', 'Bs.As. G.B.A. Zona Norte',\n",
        "       'Bs.As. G.B.A. Zona Sur', 'Bs.As. G.B.A. Zona Oeste',\n",
        "       'Buenos Aires Interior'\n",
        "\n",
        "Expanda el modelo de regresión con la incorporación de esta información (manteniendo la variable distancia):\n",
        "\n",
        "Interprete los resultados de las nuevas variables incorporadas."
      ]
    },
    {
      "cell_type": "code",
      "metadata": {
        "id": "lrQpLiXYULFM"
      },
      "source": [
        "import pandas as pd"
      ],
      "execution_count": 37,
      "outputs": []
    },
    {
      "cell_type": "code",
      "metadata": {
        "id": "4mSjoMS8sS0P",
        "colab": {
          "base_uri": "https://localhost:8080/",
          "height": 417
        },
        "outputId": "7ab68026-517d-4bd9-926c-7150ecef4d25"
      },
      "source": [
        "dummiesmacrozona=pd.get_dummies(data.l2, prefix='dum')\n",
        "dummiesmacrozona"
      ],
      "execution_count": 38,
      "outputs": [
        {
          "output_type": "execute_result",
          "data": {
            "text/html": [
              "<div>\n",
              "<style scoped>\n",
              "    .dataframe tbody tr th:only-of-type {\n",
              "        vertical-align: middle;\n",
              "    }\n",
              "\n",
              "    .dataframe tbody tr th {\n",
              "        vertical-align: top;\n",
              "    }\n",
              "\n",
              "    .dataframe thead th {\n",
              "        text-align: right;\n",
              "    }\n",
              "</style>\n",
              "<table border=\"1\" class=\"dataframe\">\n",
              "  <thead>\n",
              "    <tr style=\"text-align: right;\">\n",
              "      <th></th>\n",
              "      <th>dum_Bs.As. G.B.A. Zona Norte</th>\n",
              "      <th>dum_Bs.As. G.B.A. Zona Oeste</th>\n",
              "      <th>dum_Bs.As. G.B.A. Zona Sur</th>\n",
              "      <th>dum_Buenos Aires Interior</th>\n",
              "      <th>dum_Capital Federal</th>\n",
              "    </tr>\n",
              "  </thead>\n",
              "  <tbody>\n",
              "    <tr>\n",
              "      <th>0</th>\n",
              "      <td>0</td>\n",
              "      <td>0</td>\n",
              "      <td>0</td>\n",
              "      <td>0</td>\n",
              "      <td>1</td>\n",
              "    </tr>\n",
              "    <tr>\n",
              "      <th>1</th>\n",
              "      <td>0</td>\n",
              "      <td>0</td>\n",
              "      <td>0</td>\n",
              "      <td>0</td>\n",
              "      <td>1</td>\n",
              "    </tr>\n",
              "    <tr>\n",
              "      <th>2</th>\n",
              "      <td>0</td>\n",
              "      <td>0</td>\n",
              "      <td>0</td>\n",
              "      <td>0</td>\n",
              "      <td>1</td>\n",
              "    </tr>\n",
              "    <tr>\n",
              "      <th>3</th>\n",
              "      <td>0</td>\n",
              "      <td>0</td>\n",
              "      <td>0</td>\n",
              "      <td>0</td>\n",
              "      <td>1</td>\n",
              "    </tr>\n",
              "    <tr>\n",
              "      <th>4</th>\n",
              "      <td>0</td>\n",
              "      <td>0</td>\n",
              "      <td>0</td>\n",
              "      <td>0</td>\n",
              "      <td>1</td>\n",
              "    </tr>\n",
              "    <tr>\n",
              "      <th>...</th>\n",
              "      <td>...</td>\n",
              "      <td>...</td>\n",
              "      <td>...</td>\n",
              "      <td>...</td>\n",
              "      <td>...</td>\n",
              "    </tr>\n",
              "    <tr>\n",
              "      <th>23130</th>\n",
              "      <td>0</td>\n",
              "      <td>0</td>\n",
              "      <td>0</td>\n",
              "      <td>0</td>\n",
              "      <td>1</td>\n",
              "    </tr>\n",
              "    <tr>\n",
              "      <th>23131</th>\n",
              "      <td>0</td>\n",
              "      <td>0</td>\n",
              "      <td>0</td>\n",
              "      <td>0</td>\n",
              "      <td>1</td>\n",
              "    </tr>\n",
              "    <tr>\n",
              "      <th>23132</th>\n",
              "      <td>0</td>\n",
              "      <td>0</td>\n",
              "      <td>0</td>\n",
              "      <td>0</td>\n",
              "      <td>1</td>\n",
              "    </tr>\n",
              "    <tr>\n",
              "      <th>23133</th>\n",
              "      <td>0</td>\n",
              "      <td>0</td>\n",
              "      <td>0</td>\n",
              "      <td>0</td>\n",
              "      <td>1</td>\n",
              "    </tr>\n",
              "    <tr>\n",
              "      <th>23134</th>\n",
              "      <td>0</td>\n",
              "      <td>0</td>\n",
              "      <td>0</td>\n",
              "      <td>0</td>\n",
              "      <td>1</td>\n",
              "    </tr>\n",
              "  </tbody>\n",
              "</table>\n",
              "<p>23135 rows × 5 columns</p>\n",
              "</div>"
            ],
            "text/plain": [
              "       dum_Bs.As. G.B.A. Zona Norte  ...  dum_Capital Federal\n",
              "0                                 0  ...                    1\n",
              "1                                 0  ...                    1\n",
              "2                                 0  ...                    1\n",
              "3                                 0  ...                    1\n",
              "4                                 0  ...                    1\n",
              "...                             ...  ...                  ...\n",
              "23130                             0  ...                    1\n",
              "23131                             0  ...                    1\n",
              "23132                             0  ...                    1\n",
              "23133                             0  ...                    1\n",
              "23134                             0  ...                    1\n",
              "\n",
              "[23135 rows x 5 columns]"
            ]
          },
          "metadata": {
            "tags": []
          },
          "execution_count": 38
        }
      ]
    },
    {
      "cell_type": "code",
      "metadata": {
        "id": "dC6bjPnUuLRC"
      },
      "source": [
        "data=pd.concat([data, dummiesmacrozona],axis=1)"
      ],
      "execution_count": 39,
      "outputs": []
    },
    {
      "cell_type": "code",
      "metadata": {
        "id": "A5agbZJkyXu5",
        "colab": {
          "base_uri": "https://localhost:8080/"
        },
        "outputId": "34e80400-b970-4660-b897-f30b24916381"
      },
      "source": [
        "regress(['price', 'dum_Buenos Aires Interior','dum_Bs.As. G.B.A. Zona Norte','dum_Bs.As. G.B.A. Zona Oeste','dum_Bs.As. G.B.A. Zona Sur','distanciaC'], data=data)"
      ],
      "execution_count": 42,
      "outputs": [
        {
          "output_type": "stream",
          "text": [
            "                            OLS Regression Results                            \n",
            "==============================================================================\n",
            "Dep. Variable:                  price   R-squared:                       0.058\n",
            "Model:                            OLS   Adj. R-squared:                  0.058\n",
            "Method:                 Least Squares   F-statistic:                     285.5\n",
            "Date:                Wed, 25 Nov 2020   Prob (F-statistic):          2.37e-297\n",
            "Time:                        22:36:12   Log-Likelihood:            -2.5768e+05\n",
            "No. Observations:               23135   AIC:                         5.154e+05\n",
            "Df Residuals:                   23129   BIC:                         5.154e+05\n",
            "Df Model:                           5                                         \n",
            "Covariance Type:            nonrobust                                         \n",
            "================================================================================================\n",
            "                                   coef    std err          t      P>|t|      [0.025      0.975]\n",
            "------------------------------------------------------------------------------------------------\n",
            "const                         2.679e+04    162.717    164.639      0.000    2.65e+04    2.71e+04\n",
            "dum_Buenos Aires Interior     5356.4409   5117.563      1.047      0.295   -4674.324    1.54e+04\n",
            "dum_Bs.As. G.B.A. Zona Norte  5309.9908    479.734     11.069      0.000    4369.680    6250.301\n",
            "dum_Bs.As. G.B.A. Zona Oeste -8934.0549    549.447    -16.260      0.000      -1e+04   -7857.101\n",
            "dum_Bs.As. G.B.A. Zona Sur   -7636.1965    557.041    -13.709      0.000   -8728.033   -6544.360\n",
            "distanciaC                      -0.2727      0.017    -15.932      0.000      -0.306      -0.239\n",
            "==============================================================================\n",
            "Omnibus:                    18268.714   Durbin-Watson:                   1.620\n",
            "Prob(Omnibus):                  0.000   Jarque-Bera (JB):           479304.490\n",
            "Skew:                           3.660   Prob(JB):                         0.00\n",
            "Kurtosis:                      24.063   Cond. No.                     8.13e+05\n",
            "==============================================================================\n",
            "\n",
            "Warnings:\n",
            "[1] Standard Errors assume that the covariance matrix of the errors is correctly specified.\n",
            "[2] The condition number is large, 8.13e+05. This might indicate that there are\n",
            "strong multicollinearity or other numerical problems.\n"
          ],
          "name": "stdout"
        },
        {
          "output_type": "execute_result",
          "data": {
            "text/plain": [
              "<statsmodels.regression.linear_model.RegressionResultsWrapper at 0x7f8abf3c1550>"
            ]
          },
          "metadata": {
            "tags": []
          },
          "execution_count": 42
        }
      ]
    },
    {
      "cell_type": "markdown",
      "metadata": {
        "id": "JyEM3sxI5owu"
      },
      "source": [
        "El valor \"base\" de los alquileres es de  26790 pesos. \n",
        "\n",
        "Si se tiene en cuenta el efecto de la distancia, el valor de los alquileres para la zona norte del Gran Buenos Aires es superior en 5.309 pesos respecto del valor de los alquileres de los departamentos ubicados en Capital Federal (ya que es la variable dummy que hemos dejado fuera del modelo y por lo tanto nuestra constante y valor de referencia). Sin embargo, no tiene sentido hacer una comparacion con la capital ya que estas areas por definicion estan mas alejadas. Las comparaciones que tienen más sentido son entre las areas que están a una misma distancia de capital."
      ]
    },
    {
      "cell_type": "markdown",
      "metadata": {
        "id": "_KQizHYrfnbJ"
      },
      "source": [
        "# Pregunta 8\n",
        "¿Cómo se ve afectada la variable distanciaCBD? ¿Cómo explica el resultado?\n"
      ]
    },
    {
      "cell_type": "markdown",
      "metadata": {
        "id": "LJcuvBjw9y7r"
      },
      "source": [
        "Al incorporar las dummy de macrozonas al modelo, el coeficiente distancia al CBD se modifica de - 0.1737 a -0.2727. Es razonable que el efecto se modifique ya que las dummies que se agregaron están muy relacionadas con la distancia. "
      ]
    },
    {
      "cell_type": "markdown",
      "metadata": {
        "id": "LyDA34u2fwiF"
      },
      "source": [
        "# Pregunta 9\n",
        "\n",
        "Plantee un modelo que le permita identificar la diferencia de valor que existe entre 'Bs. As GBA Zona Sur' y 'Bs. As GBA Zona Norte' teniendo en cuenta una misma distancia a la capital federal.\n"
      ]
    },
    {
      "cell_type": "code",
      "metadata": {
        "id": "9TZ73Z7gT4OM"
      },
      "source": [
        "Datanortesur = data[[\"price\",\"distanciaC\",\"dum_Bs.As. G.B.A. Zona Norte\",\"dum_Bs.As. G.B.A. Zona Sur\"]]\n"
      ],
      "execution_count": 43,
      "outputs": []
    },
    {
      "cell_type": "code",
      "metadata": {
        "id": "Ctl_XhteXANk"
      },
      "source": [
        "Datanortesur = Datanortesur.loc[(Datanortesur[\"dum_Bs.As. G.B.A. Zona Norte\"] == 1) | (Datanortesur[\"dum_Bs.As. G.B.A. Zona Sur\"]==1)] \n"
      ],
      "execution_count": 44,
      "outputs": []
    },
    {
      "cell_type": "code",
      "metadata": {
        "id": "FT44ZihjaZfP",
        "colab": {
          "base_uri": "https://localhost:8080/"
        },
        "outputId": "ef23c949-3e42-4bb6-d545-b32ae8878c6d"
      },
      "source": [
        "regress(['price', 'distanciaC', 'dum_Bs.As. G.B.A. Zona Norte'], data=Datanortesur)\n"
      ],
      "execution_count": 45,
      "outputs": [
        {
          "output_type": "stream",
          "text": [
            "                            OLS Regression Results                            \n",
            "==============================================================================\n",
            "Dep. Variable:                  price   R-squared:                       0.088\n",
            "Model:                            OLS   Adj. R-squared:                  0.088\n",
            "Method:                 Least Squares   F-statistic:                     323.0\n",
            "Date:                Wed, 25 Nov 2020   Prob (F-statistic):          1.26e-134\n",
            "Time:                        22:41:26   Log-Likelihood:                -72909.\n",
            "No. Observations:                6664   AIC:                         1.458e+05\n",
            "Df Residuals:                    6661   BIC:                         1.458e+05\n",
            "Df Model:                           2                                         \n",
            "Covariance Type:            nonrobust                                         \n",
            "================================================================================================\n",
            "                                   coef    std err          t      P>|t|      [0.025      0.975]\n",
            "------------------------------------------------------------------------------------------------\n",
            "const                          1.83e+04    497.009     36.827      0.000    1.73e+04    1.93e+04\n",
            "distanciaC                      -0.2224      0.016    -13.546      0.000      -0.255      -0.190\n",
            "dum_Bs.As. G.B.A. Zona Norte  1.235e+04    491.589     25.119      0.000    1.14e+04    1.33e+04\n",
            "==============================================================================\n",
            "Omnibus:                     4777.693   Durbin-Watson:                   1.738\n",
            "Prob(Omnibus):                  0.000   Jarque-Bera (JB):           134544.350\n",
            "Skew:                           3.100   Prob(JB):                         0.00\n",
            "Kurtosis:                      24.121   Cond. No.                     1.04e+05\n",
            "==============================================================================\n",
            "\n",
            "Warnings:\n",
            "[1] Standard Errors assume that the covariance matrix of the errors is correctly specified.\n",
            "[2] The condition number is large, 1.04e+05. This might indicate that there are\n",
            "strong multicollinearity or other numerical problems.\n"
          ],
          "name": "stdout"
        },
        {
          "output_type": "execute_result",
          "data": {
            "text/plain": [
              "<statsmodels.regression.linear_model.RegressionResultsWrapper at 0x7f8abf3be668>"
            ]
          },
          "metadata": {
            "tags": []
          },
          "execution_count": 45
        }
      ]
    },
    {
      "cell_type": "markdown",
      "metadata": {
        "id": "JZ0vHyEbc85K"
      },
      "source": [
        "Interpretamos los resultados dela siguiente manera: La constante del modelo representa el valor del alquiler de un departamento en la zona Sur del GBA (por haber excluido esa variable de la regresión). Ese valor es 18.300 pesos. Tenemos que el efecto de alejarse del centro CBD es de 22,24 centavos por cada metro, o bien 224 pesos cada 1.000 metros. Asimismo, tenemos que el valor del alquiler de un departamento en la zona Norete de GBA es de 12.350 pesos adicionales al valor base (en este caso, el valor de zona Sur de GBA de 18.300 pesos). Por lo tanto, el valor del alquiler de un departamento en zona Norte sería 30.650 pesos (18.300 + 12.350). Ahora bien: si suponemos una distancia del centro CBD de 10.000 metros, de acuerdo al \"efecto distancia\" de -0.224, esto supondría que habría que restarle 2.240 pesos a los valores de los alquileres en cada zona analizada. Consecuentemente, el valor del alquiler para un departamento en zona Norte GBA sería de 28.410 pesos (18.300+12.350-2.240), mientras quepara zona sur, el valor sería de 16.060 pesos (18.300-2.240). Ambos coeficientes son estadísticamente significativos."
      ]
    },
    {
      "cell_type": "markdown",
      "metadata": {
        "id": "rc7PsHw0h4-l"
      },
      "source": [
        "# Pregunta 10\n",
        "La base de datos presenta información sobre la presencia de amenities en el edificio del  departamento en cuestión.\n",
        "Tienen incidencia en el precio? De cuanto es la incidencia? Analice.\n",
        "\n",
        "\n"
      ]
    },
    {
      "cell_type": "code",
      "metadata": {
        "id": "QFxV_41DlXuv"
      },
      "source": [
        "# arreglando problema con la variable amenities que no la tomaba como float\n",
        "data.amenities=data.amenities.astype(float)"
      ],
      "execution_count": 53,
      "outputs": []
    },
    {
      "cell_type": "code",
      "metadata": {
        "id": "mf0t9IE6ZbvB",
        "colab": {
          "base_uri": "https://localhost:8080/"
        },
        "outputId": "b3f3c252-19a9-421a-dca0-64c612bc7e6e"
      },
      "source": [
        "regress(['price', 'distanciaC', 'amenities'], data=data)"
      ],
      "execution_count": 54,
      "outputs": [
        {
          "output_type": "stream",
          "text": [
            "                            OLS Regression Results                            \n",
            "==============================================================================\n",
            "Dep. Variable:                  price   R-squared:                       0.081\n",
            "Model:                            OLS   Adj. R-squared:                  0.081\n",
            "Method:                 Least Squares   F-statistic:                     1014.\n",
            "Date:                Wed, 25 Nov 2020   Prob (F-statistic):               0.00\n",
            "Time:                        22:46:02   Log-Likelihood:            -2.5740e+05\n",
            "No. Observations:               23135   AIC:                         5.148e+05\n",
            "Df Residuals:                   23132   BIC:                         5.148e+05\n",
            "Df Model:                           2                                         \n",
            "Covariance Type:            nonrobust                                         \n",
            "==============================================================================\n",
            "                 coef    std err          t      P>|t|      [0.025      0.975]\n",
            "------------------------------------------------------------------------------\n",
            "const       2.385e+04    163.715    145.668      0.000    2.35e+04    2.42e+04\n",
            "distanciaC    -0.2350      0.009    -25.917      0.000      -0.253      -0.217\n",
            "amenities   9789.3045    240.916     40.634      0.000    9317.092    1.03e+04\n",
            "==============================================================================\n",
            "Omnibus:                    17841.634   Durbin-Watson:                   1.618\n",
            "Prob(Omnibus):                  0.000   Jarque-Bera (JB):           441645.857\n",
            "Skew:                           3.552   Prob(JB):                         0.00\n",
            "Kurtosis:                      23.191   Cond. No.                     4.02e+04\n",
            "==============================================================================\n",
            "\n",
            "Warnings:\n",
            "[1] Standard Errors assume that the covariance matrix of the errors is correctly specified.\n",
            "[2] The condition number is large, 4.02e+04. This might indicate that there are\n",
            "strong multicollinearity or other numerical problems.\n"
          ],
          "name": "stdout"
        },
        {
          "output_type": "execute_result",
          "data": {
            "text/plain": [
              "<statsmodels.regression.linear_model.RegressionResultsWrapper at 0x7f8abf4a70f0>"
            ]
          },
          "metadata": {
            "tags": []
          },
          "execution_count": 54
        }
      ]
    },
    {
      "cell_type": "markdown",
      "metadata": {
        "id": "N0UD2-h5aEYT"
      },
      "source": [
        "El modelo arroja un valor base de alquiler de 23.850 pesos. El efecto de contar con amenities, le suma al alquiler 9789 pesos. Este efecto es muy significativo económicamente, ya que representa un 41 por ciento adicional respecto del alquiler de los departamentos sin amenities. Asimismo, el coeficiente de amenities es estadísticamente significativo, pues el pvalor es muy bajo (0.000). Finalmente, el modelo indica que el hecho de contar con amenities explica solo un 8 por ciento de la variabilidad del precio del alquiler."
      ]
    },
    {
      "cell_type": "markdown",
      "metadata": {
        "id": "W3mMM9gXgjre"
      },
      "source": [
        "# Pregunta 11"
      ]
    },
    {
      "cell_type": "markdown",
      "metadata": {
        "id": "c0sKy3AQ11-5"
      },
      "source": [
        "La base de datos también presenta información de la presencia de balcón y de terraza en el departamento. Incorpore ambas variables al modelo con el que viene trabajando desde el punto anterior.En qué magnitud aumentarán el valor de un alquiler por la presencia de balcón y de terraza respectivamente? Son estos efectos significativos? \\\n",
        "\n",
        "\n"
      ]
    },
    {
      "cell_type": "code",
      "metadata": {
        "id": "1-qTM-mqbwy8",
        "colab": {
          "base_uri": "https://localhost:8080/"
        },
        "outputId": "18a106a3-65ef-4e8a-e33b-81ae05b0e768"
      },
      "source": [
        "data.terraza=data.terraza.astype(float)\n",
        "data.balcon=data.balcon.astype(float)\n",
        "\n",
        "regress(['price', 'distanciaC', 'amenities','terraza','balcon'], data=data)"
      ],
      "execution_count": 56,
      "outputs": [
        {
          "output_type": "stream",
          "text": [
            "                            OLS Regression Results                            \n",
            "==============================================================================\n",
            "Dep. Variable:                  price   R-squared:                       0.098\n",
            "Model:                            OLS   Adj. R-squared:                  0.098\n",
            "Method:                 Least Squares   F-statistic:                     629.5\n",
            "Date:                Wed, 25 Nov 2020   Prob (F-statistic):               0.00\n",
            "Time:                        22:48:40   Log-Likelihood:            -2.5718e+05\n",
            "No. Observations:               23135   AIC:                         5.144e+05\n",
            "Df Residuals:                   23130   BIC:                         5.144e+05\n",
            "Df Model:                           4                                         \n",
            "Covariance Type:            nonrobust                                         \n",
            "==============================================================================\n",
            "                 coef    std err          t      P>|t|      [0.025      0.975]\n",
            "------------------------------------------------------------------------------\n",
            "const       2.192e+04    202.509    108.252      0.000    2.15e+04    2.23e+04\n",
            "distanciaC    -0.2445      0.009    -26.976      0.000      -0.262      -0.227\n",
            "amenities   8477.3793    246.606     34.376      0.000    7994.015    8960.743\n",
            "terraza     4224.7877    286.690     14.736      0.000    3662.857    4786.719\n",
            "balcon      2813.6326    222.716     12.633      0.000    2377.094    3250.172\n",
            "==============================================================================\n",
            "Omnibus:                    18007.979   Durbin-Watson:                   1.622\n",
            "Prob(Omnibus):                  0.000   Jarque-Bera (JB):           461563.341\n",
            "Skew:                           3.589   Prob(JB):                         0.00\n",
            "Kurtosis:                      23.671   Cond. No.                     4.90e+04\n",
            "==============================================================================\n",
            "\n",
            "Warnings:\n",
            "[1] Standard Errors assume that the covariance matrix of the errors is correctly specified.\n",
            "[2] The condition number is large, 4.9e+04. This might indicate that there are\n",
            "strong multicollinearity or other numerical problems.\n"
          ],
          "name": "stdout"
        },
        {
          "output_type": "execute_result",
          "data": {
            "text/plain": [
              "<statsmodels.regression.linear_model.RegressionResultsWrapper at 0x7f8abf3c6eb8>"
            ]
          },
          "metadata": {
            "tags": []
          },
          "execution_count": 56
        }
      ]
    },
    {
      "cell_type": "markdown",
      "metadata": {
        "id": "eP_Rq0txgqqr"
      },
      "source": [
        "# Pregunta 12\n",
        "\n",
        "Ante la incorporación de variables propuesta en el punto anterior: ¿Cambió el diagnóstico de la presencia de amenidades en el edificio? ¿Cómo lo explica?\n",
        "\n"
      ]
    },
    {
      "cell_type": "markdown",
      "metadata": {
        "id": "18eFuNsCeFMr"
      },
      "source": [
        "El efecto en el valor del alquiler por contar con amenidades en el edificio se modificó levemente ( de 9700 a 8400). La razon por la que se modifica el coeficiente es porque hay una correlacion entre los departamentos con amenidades y los que tienen balcon. "
      ]
    },
    {
      "cell_type": "markdown",
      "metadata": {
        "id": "mSR5wMm7IzDD"
      },
      "source": [
        "# Pregunta 13 ¿Cambió el covid la contribución al alquiler de un balcón, una terraza o la presencia de amenities en el edificio?\n",
        "\n",
        "Usted cuenta con dos variables que posibilitan hacer este análisis. Por un lado, la variable 'postcovid' identifica con un 1 si las observaciones pertenecen al período posterior al COVD (15 de marzo en adelante).\n",
        "\n",
        "Le propongo que reestime el modelo anterior, usando dos muestras de datos por separado. Los datos precovid y post covid. \n",
        "\n",
        "Reestime en cada muestra el modelo econométrico con el que viene trabajando hasta la pregunta 12.\n",
        "\n",
        "Para evitar problemas de inflación en sus resultados, utilice en vez de 'price', la variable \"adjustedprice\"\n",
        "\n"
      ]
    },
    {
      "cell_type": "code",
      "metadata": {
        "id": "qHOWdpKVllQ0",
        "colab": {
          "base_uri": "https://localhost:8080/"
        },
        "outputId": "694fb688-a0d8-49b8-9faf-8b910d3cf53d"
      },
      "source": [
        "data_postcovid=data.loc[(data.postcovid==1)]\n",
        "data_precovid = data.loc[(data.postcovid==0)]\n",
        "\n",
        "\n",
        "regress(['adjustedpr', 'distanciaC', 'amenities','terraza','balcon'], data=data_precovid)\n"
      ],
      "execution_count": 61,
      "outputs": [
        {
          "output_type": "stream",
          "text": [
            "                            OLS Regression Results                            \n",
            "==============================================================================\n",
            "Dep. Variable:             adjustedpr   R-squared:                       0.101\n",
            "Model:                            OLS   Adj. R-squared:                  0.101\n",
            "Method:                 Least Squares   F-statistic:                     599.9\n",
            "Date:                Wed, 25 Nov 2020   Prob (F-statistic):               0.00\n",
            "Time:                        22:55:07   Log-Likelihood:            -2.3168e+05\n",
            "No. Observations:               21263   AIC:                         4.634e+05\n",
            "Df Residuals:                   21258   BIC:                         4.634e+05\n",
            "Df Model:                           4                                         \n",
            "Covariance Type:            nonrobust                                         \n",
            "==============================================================================\n",
            "                 coef    std err          t      P>|t|      [0.025      0.975]\n",
            "------------------------------------------------------------------------------\n",
            "const       1.855e+04    169.163    109.685      0.000    1.82e+04    1.89e+04\n",
            "distanciaC    -0.1930      0.008    -25.316      0.000      -0.208      -0.178\n",
            "amenities   6893.3291    207.119     33.282      0.000    6487.361    7299.297\n",
            "terraza     3558.3977    241.184     14.754      0.000    3085.659    4031.137\n",
            "balcon      2473.2099    186.050     13.293      0.000    2108.538    2837.882\n",
            "==============================================================================\n",
            "Omnibus:                    15643.345   Durbin-Watson:                   1.662\n",
            "Prob(Omnibus):                  0.000   Jarque-Bera (JB):           335820.788\n",
            "Skew:                           3.362   Prob(JB):                         0.00\n",
            "Kurtosis:                      21.271   Cond. No.                     4.90e+04\n",
            "==============================================================================\n",
            "\n",
            "Warnings:\n",
            "[1] Standard Errors assume that the covariance matrix of the errors is correctly specified.\n",
            "[2] The condition number is large, 4.9e+04. This might indicate that there are\n",
            "strong multicollinearity or other numerical problems.\n"
          ],
          "name": "stdout"
        },
        {
          "output_type": "execute_result",
          "data": {
            "text/plain": [
              "<statsmodels.regression.linear_model.RegressionResultsWrapper at 0x7f8abf3d5c88>"
            ]
          },
          "metadata": {
            "tags": []
          },
          "execution_count": 61
        }
      ]
    },
    {
      "cell_type": "code",
      "metadata": {
        "colab": {
          "base_uri": "https://localhost:8080/"
        },
        "id": "VFoMAHG6nGQg",
        "outputId": "9c18fc77-0fcd-43c0-dd4d-13fa2b988dd2"
      },
      "source": [
        "regress(['adjustedpr', 'distanciaC', 'amenities','terraza','balcon'], data=data_postcovid)"
      ],
      "execution_count": 62,
      "outputs": [
        {
          "output_type": "stream",
          "text": [
            "                            OLS Regression Results                            \n",
            "==============================================================================\n",
            "Dep. Variable:             adjustedpr   R-squared:                       0.116\n",
            "Model:                            OLS   Adj. R-squared:                  0.114\n",
            "Method:                 Least Squares   F-statistic:                     61.19\n",
            "Date:                Wed, 25 Nov 2020   Prob (F-statistic):           1.24e-48\n",
            "Time:                        22:55:18   Log-Likelihood:                -20902.\n",
            "No. Observations:                1872   AIC:                         4.181e+04\n",
            "Df Residuals:                    1867   BIC:                         4.184e+04\n",
            "Df Model:                           4                                         \n",
            "Covariance Type:            nonrobust                                         \n",
            "==============================================================================\n",
            "                 coef    std err          t      P>|t|      [0.025      0.975]\n",
            "------------------------------------------------------------------------------\n",
            "const       2.222e+04    762.543     29.144      0.000    2.07e+04    2.37e+04\n",
            "distanciaC    -0.3136      0.032     -9.875      0.000      -0.376      -0.251\n",
            "amenities   9998.7566    879.169     11.373      0.000    8274.500    1.17e+04\n",
            "terraza     3434.0010   1001.059      3.430      0.001    1470.689    5397.313\n",
            "balcon      1994.6787    838.406      2.379      0.017     350.368    3638.990\n",
            "==============================================================================\n",
            "Omnibus:                     1173.582   Durbin-Watson:                   1.766\n",
            "Prob(Omnibus):                  0.000   Jarque-Bera (JB):            12533.659\n",
            "Skew:                           2.847   Prob(JB):                         0.00\n",
            "Kurtosis:                      14.325   Cond. No.                     4.98e+04\n",
            "==============================================================================\n",
            "\n",
            "Warnings:\n",
            "[1] Standard Errors assume that the covariance matrix of the errors is correctly specified.\n",
            "[2] The condition number is large, 4.98e+04. This might indicate that there are\n",
            "strong multicollinearity or other numerical problems.\n"
          ],
          "name": "stdout"
        },
        {
          "output_type": "execute_result",
          "data": {
            "text/plain": [
              "<statsmodels.regression.linear_model.RegressionResultsWrapper at 0x7f8abf3cc048>"
            ]
          },
          "metadata": {
            "tags": []
          },
          "execution_count": 62
        }
      ]
    },
    {
      "cell_type": "markdown",
      "metadata": {
        "id": "x43_Xg6DrfNT"
      },
      "source": [
        "Conclusión al comparar los dos modelos: \n",
        "Comparando los dos modelos precovid y postcovid, observamos que la incidencia de tener amenities aumentó a partir de la irrupción del covid. Esta pasó de 6893 a 9998. \n",
        "\n",
        "Los coeficientes de  balcon y  terraza cayeron, pero puede verse que las magnitudes de las caidas podrian deberse al error de medicion que sugieren los errores estandares. En el caso de las amenidades esta mas claro que la magnitud del aumento es significativa.\n",
        "\n",
        "Notemos que los errores estandares aumentan en el segundo modelo, y esto se debe a la menor cantidad de observaciones."
      ]
    }
  ]
}